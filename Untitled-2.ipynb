{
 "cells": [
  {
   "cell_type": "code",
   "execution_count": 10,
   "metadata": {},
   "outputs": [
    {
     "data": {
      "text/html": [
       "<pre style=\"white-space:pre;overflow-x:auto;line-height:normal;font-family:Menlo,'DejaVu Sans Mono',consolas,'Courier New',monospace\">Getting results from database\n",
       "\n",
       "</pre>\n"
      ],
      "text/plain": [
       "Getting results from database\n",
       "\n"
      ]
     },
     "metadata": {},
     "output_type": "display_data"
    },
    {
     "data": {
      "text/html": [
       "<pre style=\"white-space:pre;overflow-x:auto;line-height:normal;font-family:Menlo,'DejaVu Sans Mono',consolas,'Courier New',monospace\">\n",
       "                            Total execution time: <span style=\"color: #008080; text-decoration-color: #008080; font-weight: bold\">0</span>\n",
       "                            min <span style=\"color: #008080; text-decoration-color: #008080; font-weight: bold\">3.755</span> sec <span style=\"color: #008080; text-decoration-color: #008080; font-weight: bold\">3755</span> ms\n",
       "                            \n",
       "</pre>\n"
      ],
      "text/plain": [
       "\n",
       "                            Total execution time: \u001b[1;36m0\u001b[0m\n",
       "                            min \u001b[1;36m3.755\u001b[0m sec \u001b[1;36m3755\u001b[0m ms\n",
       "                            \n"
      ]
     },
     "metadata": {},
     "output_type": "display_data"
    },
    {
     "data": {
      "text/html": [
       "<pre style=\"white-space:pre;overflow-x:auto;line-height:normal;font-family:Menlo,'DejaVu Sans Mono',consolas,'Courier New',monospace\"></pre>\n"
      ],
      "text/plain": [
       "\u001b[?25l"
      ]
     },
     "metadata": {},
     "output_type": "display_data"
    },
    {
     "data": {
      "text/html": [
       "<pre style=\"white-space:pre;overflow-x:auto;line-height:normal;font-family:Menlo,'DejaVu Sans Mono',consolas,'Courier New',monospace\">\n",
       "</pre>\n"
      ],
      "text/plain": [
       "\n",
       "\u001b[?25h"
      ]
     },
     "metadata": {},
     "output_type": "display_data"
    },
    {
     "ename": "KeyboardInterrupt",
     "evalue": "",
     "output_type": "error",
     "traceback": [
      "\u001b[0;31m---------------------------------------------------------------------------\u001b[0m",
      "\u001b[0;31mKeyboardInterrupt\u001b[0m                         Traceback (most recent call last)",
      "Cell \u001b[0;32mIn[10], line 6\u001b[0m\n\u001b[1;32m      3\u001b[0m set_host_url(\u001b[39m\"\u001b[39m\u001b[39mhttp://35.192.60.10:8080\u001b[39m\u001b[39m\"\u001b[39m)\n\u001b[1;32m      4\u001b[0m set_table_version(\u001b[39m\"\u001b[39m\u001b[39mall_Subjects_v3_0_final\u001b[39m\u001b[39m\"\u001b[39m)\n\u001b[0;32m----> 6\u001b[0m a \u001b[39m=\u001b[39m Q(\u001b[39m'\u001b[39;49m\u001b[39msex = \u001b[39;49m\u001b[39m\"\u001b[39;49m\u001b[39m%\u001b[39;49m\u001b[39m\"\u001b[39;49m\u001b[39m AND researchsubject_identifier_system = \u001b[39;49m\u001b[39m\"\u001b[39;49m\u001b[39mIDC\u001b[39;49m\u001b[39m\"\u001b[39;49m\u001b[39m'\u001b[39;49m)\u001b[39m.\u001b[39;49mrun()\u001b[39m.\u001b[39;49mget_all()\n\u001b[1;32m      7\u001b[0m \u001b[39mprint\u001b[39m(a)\n",
      "File \u001b[0;32m~/Documents/python/working/cda-python/cdapython/results/result.py:206\u001b[0m, in \u001b[0;36mResult.get_all\u001b[0;34m(self, output, page_size, show_bar)\u001b[0m\n\u001b[1;32m    201\u001b[0m \u001b[39m# add this to cast to a subclass of CollectResult\u001b[39;00m\n\u001b[1;32m    202\u001b[0m collect_result: \u001b[39m\"\u001b[39m\u001b[39mCollectResult\u001b[39m\u001b[39m\"\u001b[39m \u001b[39m=\u001b[39m cast(\n\u001b[1;32m    203\u001b[0m     \u001b[39m\"\u001b[39m\u001b[39mCollectResult\u001b[39m\u001b[39m\"\u001b[39m, ResultFactory\u001b[39m.\u001b[39mcreate_entity(COLLECT_RESULT, \u001b[39mself\u001b[39m)\n\u001b[1;32m    204\u001b[0m )\n\u001b[0;32m--> 206\u001b[0m \u001b[39mfor\u001b[39;00m index, i \u001b[39min\u001b[39;00m \u001b[39menumerate\u001b[39m(iterator):\n\u001b[1;32m    207\u001b[0m     \u001b[39mif\u001b[39;00m index \u001b[39m==\u001b[39m \u001b[39m0\u001b[39m:\n\u001b[1;32m    208\u001b[0m         \u001b[39mcontinue\u001b[39;00m\n",
      "File \u001b[0;32m~/Documents/python/working/cda-python/cdapython/Paginator.py:156\u001b[0m, in \u001b[0;36mPaginator.__next__\u001b[0;34m(self)\u001b[0m\n\u001b[1;32m    154\u001b[0m     \u001b[39mfor\u001b[39;00m i \u001b[39min\u001b[39;00m \u001b[39mself\u001b[39m\u001b[39m.\u001b[39mprogress\u001b[39m.\u001b[39mtasks:\n\u001b[1;32m    155\u001b[0m         \u001b[39mself\u001b[39m\u001b[39m.\u001b[39mprogress\u001b[39m.\u001b[39mremove_task(i\u001b[39m.\u001b[39mid)\n\u001b[0;32m--> 156\u001b[0m \u001b[39mraise\u001b[39;00m e\n",
      "File \u001b[0;32m~/Documents/python/working/cda-python/cdapython/Paginator.py:142\u001b[0m, in \u001b[0;36mPaginator.__next__\u001b[0;34m(self)\u001b[0m\n\u001b[1;32m    139\u001b[0m         \u001b[39mraise\u001b[39;00m \u001b[39mStopIteration\u001b[39;00m\n\u001b[1;32m    140\u001b[0m     \u001b[39mself\u001b[39m\u001b[39m.\u001b[39mcount \u001b[39m+\u001b[39m\u001b[39m=\u001b[39m \u001b[39mself\u001b[39m\u001b[39m.\u001b[39mresult\u001b[39m.\u001b[39mcount\n\u001b[0;32m--> 142\u001b[0m     \u001b[39mreturn\u001b[39;00m \u001b[39mself\u001b[39;49m\u001b[39m.\u001b[39;49m_do_next()\n\u001b[1;32m    143\u001b[0m \u001b[39mexcept\u001b[39;00m \u001b[39mException\u001b[39;00m \u001b[39mas\u001b[39;00m e:\n\u001b[1;32m    144\u001b[0m     \u001b[39mif\u001b[39;00m \u001b[39mself\u001b[39m\u001b[39m.\u001b[39mshow_bar:\n",
      "File \u001b[0;32m~/Documents/python/working/cda-python/cdapython/Paginator.py:89\u001b[0m, in \u001b[0;36mPaginator._do_next\u001b[0;34m(self)\u001b[0m\n\u001b[1;32m     87\u001b[0m \u001b[39mif\u001b[39;00m \u001b[39mself\u001b[39m\u001b[39m.\u001b[39mresult\u001b[39m.\u001b[39mhas_next_page:\n\u001b[1;32m     88\u001b[0m     \u001b[39mtry\u001b[39;00m:\n\u001b[0;32m---> 89\u001b[0m         tmp_result \u001b[39m=\u001b[39m \u001b[39mself\u001b[39;49m\u001b[39m.\u001b[39;49mresult\u001b[39m.\u001b[39;49mnext_page(limit\u001b[39m=\u001b[39;49m\u001b[39mself\u001b[39;49m\u001b[39m.\u001b[39;49mlimit)\n\u001b[1;32m     90\u001b[0m         \u001b[39mif\u001b[39;00m tmp_result:\n\u001b[1;32m     91\u001b[0m             \u001b[39mself\u001b[39m\u001b[39m.\u001b[39mresult \u001b[39m=\u001b[39m tmp_result\n",
      "File \u001b[0;32m~/Documents/python/working/cda-python/cdapython/results/result.py:267\u001b[0m, in \u001b[0;36mResult.next_page\u001b[0;34m(self, limit, async_req, pre_stream)\u001b[0m\n\u001b[1;32m    265\u001b[0m _offset: \u001b[39mint\u001b[39m \u001b[39m=\u001b[39m \u001b[39mself\u001b[39m\u001b[39m.\u001b[39m_offset \u001b[39m+\u001b[39m \u001b[39mself\u001b[39m\u001b[39m.\u001b[39m_limit\n\u001b[1;32m    266\u001b[0m _limit: \u001b[39mint\u001b[39m \u001b[39m=\u001b[39m limit \u001b[39mor\u001b[39;00m \u001b[39mself\u001b[39m\u001b[39m.\u001b[39m_limit\n\u001b[0;32m--> 267\u001b[0m \u001b[39mreturn\u001b[39;00m \u001b[39mself\u001b[39;49m\u001b[39m.\u001b[39;49m_get_result(_offset, _limit, async_req, pre_stream)\n",
      "File \u001b[0;32m~/Documents/python/working/cda-python/cdapython/results/result.py:294\u001b[0m, in \u001b[0;36mResult._get_result\u001b[0;34m(self, _offset, _limit, async_req, pre_stream)\u001b[0m\n\u001b[1;32m    287\u001b[0m \u001b[39mdef\u001b[39;00m \u001b[39m_get_result\u001b[39m(\n\u001b[1;32m    288\u001b[0m     \u001b[39mself\u001b[39m,\n\u001b[1;32m    289\u001b[0m     _offset: \u001b[39mint\u001b[39m,\n\u001b[0;32m   (...)\u001b[0m\n\u001b[1;32m    292\u001b[0m     pre_stream: \u001b[39mbool\u001b[39m \u001b[39m=\u001b[39m \u001b[39mTrue\u001b[39;00m,\n\u001b[1;32m    293\u001b[0m ) \u001b[39m-\u001b[39m\u001b[39m>\u001b[39m Union[Result, StringResult, ColumnsResult, \u001b[39mNone\u001b[39;00m]:\n\u001b[0;32m--> 294\u001b[0m     \u001b[39mreturn\u001b[39;00m get_query_result(\n\u001b[1;32m    295\u001b[0m         \u001b[39mself\u001b[39;49m\u001b[39m.\u001b[39;49m\u001b[39m__class__\u001b[39;49m,\n\u001b[1;32m    296\u001b[0m         \u001b[39mself\u001b[39;49m\u001b[39m.\u001b[39;49m_api_instance,\n\u001b[1;32m    297\u001b[0m         \u001b[39mself\u001b[39;49m\u001b[39m.\u001b[39;49m_query_id,\n\u001b[1;32m    298\u001b[0m         _offset,\n\u001b[1;32m    299\u001b[0m         _limit,\n\u001b[1;32m    300\u001b[0m         async_req,\n\u001b[1;32m    301\u001b[0m         pre_stream,\n\u001b[1;32m    302\u001b[0m         format_type\u001b[39m=\u001b[39;49m\u001b[39mself\u001b[39;49m\u001b[39m.\u001b[39;49mformat_type,\n\u001b[1;32m    303\u001b[0m     )\n",
      "File \u001b[0;32m~/Documents/python/working/cda-python/cdapython/results/result.py:345\u001b[0m, in \u001b[0;36mget_query_result\u001b[0;34m(clz, api_instance, query_id, offset, limit, async_req, pre_stream, show_sql, show_count, format_type)\u001b[0m\n\u001b[1;32m    342\u001b[0m \u001b[39mif\u001b[39;00m \u001b[39misinstance\u001b[39m(response, ApplyResult):\n\u001b[1;32m    343\u001b[0m     response \u001b[39m=\u001b[39m response\u001b[39m.\u001b[39mget()\n\u001b[0;32m--> 345\u001b[0m sleep(\u001b[39m2.5\u001b[39;49m)\n\u001b[1;32m    346\u001b[0m \u001b[39mif\u001b[39;00m response\u001b[39m.\u001b[39mtotal_row_count \u001b[39mis\u001b[39;00m \u001b[39mnot\u001b[39;00m \u001b[39mNone\u001b[39;00m:\n\u001b[1;32m    347\u001b[0m     \u001b[39mreturn\u001b[39;00m clz(\n\u001b[1;32m    348\u001b[0m         response,\n\u001b[1;32m    349\u001b[0m         query_id,\n\u001b[0;32m   (...)\u001b[0m\n\u001b[1;32m    355\u001b[0m         format_type,\n\u001b[1;32m    356\u001b[0m     )\n",
      "\u001b[0;31mKeyboardInterrupt\u001b[0m: "
     ]
    }
   ],
   "source": [
    "from cdapython import Q,set_default_project_dataset,set_host_url,set_table_version\n",
    "set_default_project_dataset(\"gdc-bq-sample.dev\")\n",
    "set_host_url(\"http://35.192.60.10:8080\")\n",
    "set_table_version(\"all_Subjects_v3_0_final\")\n",
    "\n",
    "a = Q('sex = \"%\" AND researchsubject_identifier_system = \"IDC\"').run().get_all()\n",
    "print(a)"
   ]
  },
  {
   "cell_type": "code",
   "execution_count": 8,
   "metadata": {},
   "outputs": [
    {
     "data": {
      "text/html": [
       "\n",
       "        <iframe\n",
       "            width=\"100%\"\n",
       "            height=\"500\"\n",
       "            src=\"pivottablejs.html\"\n",
       "            frameborder=\"0\"\n",
       "            allowfullscreen\n",
       "            \n",
       "        ></iframe>\n",
       "        "
      ],
      "text/plain": [
       "<IPython.lib.display.IFrame at 0x106f55b80>"
      ]
     },
     "execution_count": 8,
     "metadata": {},
     "output_type": "execute_result"
    }
   ],
   "source": []
  }
 ],
 "metadata": {
  "kernelspec": {
   "display_name": "ven3",
   "language": "python",
   "name": "python3"
  },
  "language_info": {
   "codemirror_mode": {
    "name": "ipython",
    "version": 3
   },
   "file_extension": ".py",
   "mimetype": "text/x-python",
   "name": "python",
   "nbconvert_exporter": "python",
   "pygments_lexer": "ipython3",
   "version": "3.8.16"
  },
  "orig_nbformat": 4,
  "vscode": {
   "interpreter": {
    "hash": "eae9c1a3dd8e2f898c643d98dd719bbe12e700aeabe7bf687912cfc443f15d3e"
   }
  }
 },
 "nbformat": 4,
 "nbformat_minor": 2
}
