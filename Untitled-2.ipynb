{
 "cells": [
  {
   "cell_type": "code",
   "execution_count": 1,
   "metadata": {},
   "outputs": [
    {
     "data": {
      "text/html": [
       "<pre style=\"white-space:pre;overflow-x:auto;line-height:normal;font-family:Menlo,'DejaVu Sans Mono',consolas,'Courier New',monospace\">Getting results from database\n",
       "\n",
       "</pre>\n"
      ],
      "text/plain": [
       "Getting results from database\n",
       "\n"
      ]
     },
     "metadata": {},
     "output_type": "display_data"
    },
    {
     "data": {
      "text/html": [
       "<pre style=\"white-space:pre;overflow-x:auto;line-height:normal;font-family:Menlo,'DejaVu Sans Mono',consolas,'Courier New',monospace\">\n",
       "                HTTP ERROR\n",
       "                Http Status: <span style=\"color: #008080; text-decoration-color: #008080; font-weight: bold\">500</span>\n",
       "                Error Message: Syntax error: Unexpected keyword NULL at <span style=\"font-weight: bold\">[</span><span style=\"color: #00ff00; text-decoration-color: #00ff00; font-weight: bold\">1:622</span><span style=\"font-weight: bold\">]</span>\n",
       "            \n",
       "</pre>\n"
      ],
      "text/plain": [
       "\n",
       "                HTTP ERROR\n",
       "                Http Status: \u001b[1;36m500\u001b[0m\n",
       "                Error Message: Syntax error: Unexpected keyword NULL at \u001b[1m[\u001b[0m\u001b[1;92m1:622\u001b[0m\u001b[1m]\u001b[0m\n",
       "            \n"
      ]
     },
     "metadata": {},
     "output_type": "display_data"
    },
    {
     "ename": "AttributeError",
     "evalue": "'NoneType' object has no attribute 'get_all'",
     "output_type": "error",
     "traceback": [
      "\u001b[0;31m---------------------------------------------------------------------------\u001b[0m",
      "\u001b[0;31mAttributeError\u001b[0m                            Traceback (most recent call last)",
      "\u001b[0;32m/var/folders/fp/x4bpzb112_9dtthmy5_8d1kc0000gp/T/ipykernel_63881/4224408961.py\u001b[0m in \u001b[0;36m<module>\u001b[0;34m\u001b[0m\n\u001b[1;32m      4\u001b[0m \u001b[0mQ\u001b[0m\u001b[0;34m.\u001b[0m\u001b[0mset_table_version\u001b[0m\u001b[0;34m(\u001b[0m\u001b[0;34m\"all_Subjects_v3_0_final\"\u001b[0m\u001b[0;34m)\u001b[0m\u001b[0;34m\u001b[0m\u001b[0;34m\u001b[0m\u001b[0m\n\u001b[1;32m      5\u001b[0m \u001b[0;34m\u001b[0m\u001b[0m\n\u001b[0;32m----> 6\u001b[0;31m \u001b[0ma\u001b[0m \u001b[0;34m=\u001b[0m \u001b[0mQ\u001b[0m\u001b[0;34m(\u001b[0m\u001b[0;34m'sex = \"female\" AND researchsubject_identifier_system = \"IDC\" AND primary_diagnosis_site = \"Mesothelium\"'\u001b[0m\u001b[0;34m)\u001b[0m\u001b[0;34m.\u001b[0m\u001b[0mresearchsubject\u001b[0m\u001b[0;34m.\u001b[0m\u001b[0mfile\u001b[0m\u001b[0;34m.\u001b[0m\u001b[0mrun\u001b[0m\u001b[0;34m(\u001b[0m\u001b[0;34m)\u001b[0m\u001b[0;34m.\u001b[0m\u001b[0mget_all\u001b[0m\u001b[0;34m(\u001b[0m\u001b[0;34m)\u001b[0m\u001b[0;34m\u001b[0m\u001b[0;34m\u001b[0m\u001b[0m\n\u001b[0m\u001b[1;32m      7\u001b[0m \u001b[0mprint\u001b[0m\u001b[0;34m(\u001b[0m\u001b[0ma\u001b[0m\u001b[0;34m)\u001b[0m\u001b[0;34m\u001b[0m\u001b[0;34m\u001b[0m\u001b[0m\n",
      "\u001b[0;31mAttributeError\u001b[0m: 'NoneType' object has no attribute 'get_all'"
     ]
    }
   ],
   "source": [
    "from cdapython import Q\n",
    "Q.set_default_project_dataset(\"gdc-bq-sample.dev\")\n",
    "Q.set_host_url(\"http://35.192.60.10:8080\")\n",
    "Q.set_table_version(\"all_Subjects_v3_0_final\")\n",
    "\n",
    "a = Q('sex = \"female\" AND researchsubject_identifier_system = \"IDC\" AND primary_diagnosis_site = \"Mesothelium\"').run().get_all()\n",
    "print(a)"
   ]
  }
 ],
 "metadata": {
  "kernelspec": {
   "display_name": "ven3",
   "language": "python",
   "name": "python3"
  },
  "language_info": {
   "codemirror_mode": {
    "name": "ipython",
    "version": 3
   },
   "file_extension": ".py",
   "mimetype": "text/x-python",
   "name": "python",
   "nbconvert_exporter": "python",
   "pygments_lexer": "ipython3",
   "version": "3.7.16"
  },
  "orig_nbformat": 4,
  "vscode": {
   "interpreter": {
    "hash": "eae9c1a3dd8e2f898c643d98dd719bbe12e700aeabe7bf687912cfc443f15d3e"
   }
  }
 },
 "nbformat": 4,
 "nbformat_minor": 2
}
