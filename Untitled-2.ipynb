{
 "cells": [
  {
   "cell_type": "code",
   "execution_count": 1,
   "metadata": {},
   "outputs": [
    {
     "data": {
      "text/html": [
       "<pre style=\"white-space:pre;overflow-x:auto;line-height:normal;font-family:Menlo,'DejaVu Sans Mono',consolas,'Courier New',monospace\"><span style=\"font-weight: bold\">{</span>\n",
       "    <span style=\"color: #008000; text-decoration-color: #008000\">\"node_type\"</span>: <span style=\"color: #008000; text-decoration-color: #008000\">\"AND\"</span>,\n",
       "    <span style=\"color: #008000; text-decoration-color: #008000\">\"l\"</span>: <span style=\"font-weight: bold\">{</span>\n",
       "        <span style=\"color: #008000; text-decoration-color: #008000\">\"node_type\"</span>: <span style=\"color: #008000; text-decoration-color: #008000\">\"AND\"</span>,\n",
       "        <span style=\"color: #008000; text-decoration-color: #008000\">\"l\"</span>: <span style=\"font-weight: bold\">{</span>\n",
       "            <span style=\"color: #008000; text-decoration-color: #008000\">\"node_type\"</span>: <span style=\"color: #008000; text-decoration-color: #008000\">\"LIKE\"</span>,\n",
       "            <span style=\"color: #008000; text-decoration-color: #008000\">\"l\"</span>: <span style=\"font-weight: bold\">{</span>\n",
       "                <span style=\"color: #008000; text-decoration-color: #008000\">\"node_type\"</span>: <span style=\"color: #008000; text-decoration-color: #008000\">\"column\"</span>,\n",
       "                <span style=\"color: #008000; text-decoration-color: #008000\">\"value\"</span>: <span style=\"color: #008000; text-decoration-color: #008000\">\"sex\"</span>\n",
       "            <span style=\"font-weight: bold\">}</span>,\n",
       "            <span style=\"color: #008000; text-decoration-color: #008000\">\"r\"</span>: <span style=\"font-weight: bold\">{</span>\n",
       "                <span style=\"color: #008000; text-decoration-color: #008000\">\"node_type\"</span>: <span style=\"color: #008000; text-decoration-color: #008000\">\"quoted\"</span>,\n",
       "                <span style=\"color: #008000; text-decoration-color: #008000\">\"value\"</span>: <span style=\"color: #008000; text-decoration-color: #008000\">\"%\"</span>\n",
       "            <span style=\"font-weight: bold\">}</span>\n",
       "        <span style=\"font-weight: bold\">}</span>,\n",
       "        <span style=\"color: #008000; text-decoration-color: #008000\">\"r\"</span>: <span style=\"font-weight: bold\">{</span>\n",
       "            <span style=\"color: #008000; text-decoration-color: #008000\">\"node_type\"</span>: <span style=\"color: #008000; text-decoration-color: #008000\">\"LIKE\"</span>,\n",
       "            <span style=\"color: #008000; text-decoration-color: #008000\">\"l\"</span>: <span style=\"font-weight: bold\">{</span>\n",
       "                <span style=\"color: #008000; text-decoration-color: #008000\">\"node_type\"</span>: <span style=\"color: #008000; text-decoration-color: #008000\">\"column\"</span>,\n",
       "                <span style=\"color: #008000; text-decoration-color: #008000\">\"value\"</span>: <span style=\"color: #008000; text-decoration-color: #008000\">\"researchsubject_identifier_system\"</span>\n",
       "            <span style=\"font-weight: bold\">}</span>,\n",
       "            <span style=\"color: #008000; text-decoration-color: #008000\">\"r\"</span>: <span style=\"font-weight: bold\">{</span>\n",
       "                <span style=\"color: #008000; text-decoration-color: #008000\">\"node_type\"</span>: <span style=\"color: #008000; text-decoration-color: #008000\">\"quoted\"</span>,\n",
       "                <span style=\"color: #008000; text-decoration-color: #008000\">\"value\"</span>: <span style=\"color: #008000; text-decoration-color: #008000\">\"%\"</span>\n",
       "            <span style=\"font-weight: bold\">}</span>\n",
       "        <span style=\"font-weight: bold\">}</span>\n",
       "    <span style=\"font-weight: bold\">}</span>,\n",
       "    <span style=\"color: #008000; text-decoration-color: #008000\">\"r\"</span>: <span style=\"font-weight: bold\">{</span>\n",
       "        <span style=\"color: #008000; text-decoration-color: #008000\">\"node_type\"</span>: <span style=\"color: #008000; text-decoration-color: #008000\">\"LIKE\"</span>,\n",
       "        <span style=\"color: #008000; text-decoration-color: #008000\">\"l\"</span>: <span style=\"font-weight: bold\">{</span>\n",
       "            <span style=\"color: #008000; text-decoration-color: #008000\">\"node_type\"</span>: <span style=\"color: #008000; text-decoration-color: #008000\">\"column\"</span>,\n",
       "            <span style=\"color: #008000; text-decoration-color: #008000\">\"value\"</span>: <span style=\"color: #008000; text-decoration-color: #008000\">\"primary_diagnosis_site\"</span>\n",
       "        <span style=\"font-weight: bold\">}</span>,\n",
       "        <span style=\"color: #008000; text-decoration-color: #008000\">\"r\"</span>: <span style=\"font-weight: bold\">{</span>\n",
       "            <span style=\"color: #008000; text-decoration-color: #008000\">\"node_type\"</span>: <span style=\"color: #008000; text-decoration-color: #008000\">\"quoted\"</span>,\n",
       "            <span style=\"color: #008000; text-decoration-color: #008000\">\"value\"</span>: <span style=\"color: #008000; text-decoration-color: #008000\">\"M%\"</span>\n",
       "        <span style=\"font-weight: bold\">}</span>\n",
       "    <span style=\"font-weight: bold\">}</span>\n",
       "<span style=\"font-weight: bold\">}</span>\n",
       "</pre>\n"
      ],
      "text/plain": [
       "\u001b[1m{\u001b[0m\n",
       "    \u001b[32m\"node_type\"\u001b[0m: \u001b[32m\"AND\"\u001b[0m,\n",
       "    \u001b[32m\"l\"\u001b[0m: \u001b[1m{\u001b[0m\n",
       "        \u001b[32m\"node_type\"\u001b[0m: \u001b[32m\"AND\"\u001b[0m,\n",
       "        \u001b[32m\"l\"\u001b[0m: \u001b[1m{\u001b[0m\n",
       "            \u001b[32m\"node_type\"\u001b[0m: \u001b[32m\"LIKE\"\u001b[0m,\n",
       "            \u001b[32m\"l\"\u001b[0m: \u001b[1m{\u001b[0m\n",
       "                \u001b[32m\"node_type\"\u001b[0m: \u001b[32m\"column\"\u001b[0m,\n",
       "                \u001b[32m\"value\"\u001b[0m: \u001b[32m\"sex\"\u001b[0m\n",
       "            \u001b[1m}\u001b[0m,\n",
       "            \u001b[32m\"r\"\u001b[0m: \u001b[1m{\u001b[0m\n",
       "                \u001b[32m\"node_type\"\u001b[0m: \u001b[32m\"quoted\"\u001b[0m,\n",
       "                \u001b[32m\"value\"\u001b[0m: \u001b[32m\"%\"\u001b[0m\n",
       "            \u001b[1m}\u001b[0m\n",
       "        \u001b[1m}\u001b[0m,\n",
       "        \u001b[32m\"r\"\u001b[0m: \u001b[1m{\u001b[0m\n",
       "            \u001b[32m\"node_type\"\u001b[0m: \u001b[32m\"LIKE\"\u001b[0m,\n",
       "            \u001b[32m\"l\"\u001b[0m: \u001b[1m{\u001b[0m\n",
       "                \u001b[32m\"node_type\"\u001b[0m: \u001b[32m\"column\"\u001b[0m,\n",
       "                \u001b[32m\"value\"\u001b[0m: \u001b[32m\"researchsubject_identifier_system\"\u001b[0m\n",
       "            \u001b[1m}\u001b[0m,\n",
       "            \u001b[32m\"r\"\u001b[0m: \u001b[1m{\u001b[0m\n",
       "                \u001b[32m\"node_type\"\u001b[0m: \u001b[32m\"quoted\"\u001b[0m,\n",
       "                \u001b[32m\"value\"\u001b[0m: \u001b[32m\"%\"\u001b[0m\n",
       "            \u001b[1m}\u001b[0m\n",
       "        \u001b[1m}\u001b[0m\n",
       "    \u001b[1m}\u001b[0m,\n",
       "    \u001b[32m\"r\"\u001b[0m: \u001b[1m{\u001b[0m\n",
       "        \u001b[32m\"node_type\"\u001b[0m: \u001b[32m\"LIKE\"\u001b[0m,\n",
       "        \u001b[32m\"l\"\u001b[0m: \u001b[1m{\u001b[0m\n",
       "            \u001b[32m\"node_type\"\u001b[0m: \u001b[32m\"column\"\u001b[0m,\n",
       "            \u001b[32m\"value\"\u001b[0m: \u001b[32m\"primary_diagnosis_site\"\u001b[0m\n",
       "        \u001b[1m}\u001b[0m,\n",
       "        \u001b[32m\"r\"\u001b[0m: \u001b[1m{\u001b[0m\n",
       "            \u001b[32m\"node_type\"\u001b[0m: \u001b[32m\"quoted\"\u001b[0m,\n",
       "            \u001b[32m\"value\"\u001b[0m: \u001b[32m\"M%\"\u001b[0m\n",
       "        \u001b[1m}\u001b[0m\n",
       "    \u001b[1m}\u001b[0m\n",
       "\u001b[1m}\u001b[0m\n"
      ]
     },
     "metadata": {},
     "output_type": "display_data"
    }
   ],
   "source": [
    "from cdapython import Q\n",
    "\n",
    "a = Q('sex = \"%\" AND researchsubject_identifier_system = \"%\" AND primary_diagnosis_site = \"M%\"').to_json()\n",
    "print(a)"
   ]
  }
 ],
 "metadata": {
  "kernelspec": {
   "display_name": "ven3",
   "language": "python",
   "name": "python3"
  },
  "language_info": {
   "codemirror_mode": {
    "name": "ipython",
    "version": 3
   },
   "file_extension": ".py",
   "mimetype": "text/x-python",
   "name": "python",
   "nbconvert_exporter": "python",
   "pygments_lexer": "ipython3",
   "version": "3.9.16"
  },
  "orig_nbformat": 4,
  "vscode": {
   "interpreter": {
    "hash": "eae9c1a3dd8e2f898c643d98dd719bbe12e700aeabe7bf687912cfc443f15d3e"
   }
  }
 },
 "nbformat": 4,
 "nbformat_minor": 2
}
