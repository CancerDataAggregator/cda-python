{
 "cells": [
  {
   "attachments": {},
   "cell_type": "markdown",
   "id": "51e04dd6",
   "metadata": {},
   "source": [
    "# CDA Python: Features & Examples\n",
    "---"
   ]
  },
  {
   "cell_type": "code",
   "execution_count": 1,
   "id": "6c459428",
   "metadata": {},
   "outputs": [
    {
     "data": {
      "application/vnd.jupyter.widget-view+json": {
       "model_id": "b113462f9487430e9d87a8b89b452359",
       "version_major": 2,
       "version_minor": 0
      },
      "text/plain": [
       "Dropdown(description='Tester:', options=(True, False), value=True)"
      ]
     },
     "metadata": {},
     "output_type": "display_data"
    }
   ],
   "source": [
    "from ipywidgets import Dropdown\n",
    "from IPython.display import display\n",
    "tester_check = Dropdown(\n",
    "    options=[True,False],\n",
    "    description='Tester:',\n",
    "    value=True,\n",
    ")\n",
    "display(tester_check)"
   ]
  },
  {
   "attachments": {},
   "cell_type": "markdown",
   "id": "2255e2ad",
   "metadata": {},
   "source": [
    "The following examples illustrate some ```CDA Python``` features while providing insights into the underlying data structure (**Getting started**). To demonstrate those features, we provide a few relevant text queries along with step-by-step explanations on how to translate those into the ```CDA Python``` queries (**Example queries**). Finally, there are a few additional queries intended for the test users to play around with and send feedback to the CDA team (**Test queries**)."
   ]
  },
  {
   "cell_type": "code",
   "execution_count": 3,
   "id": "f078fc5f",
   "metadata": {},
   "outputs": [
    {
     "data": {
      "text/html": [
       "<pre style=\"white-space:pre;overflow-x:auto;line-height:normal;font-family:Menlo,'DejaVu Sans Mono',consolas,'Courier New',monospace\"><span style=\"color: #800080; text-decoration-color: #800080\">/opt/conda/lib/python3.11/site-packages/cdapython/</span><span style=\"color: #ff00ff; text-decoration-color: #ff00ff\">__init__.py</span>\n",
       "</pre>\n"
      ],
      "text/plain": [
       "\u001b[35m/opt/conda/lib/python3.11/site-packages/cdapython/\u001b[0m\u001b[95m__init__.py\u001b[0m\n"
      ]
     },
     "metadata": {},
     "output_type": "display_data"
    },
    {
     "data": {
      "text/html": [
       "<pre style=\"white-space:pre;overflow-x:auto;line-height:normal;font-family:Menlo,'DejaVu Sans Mono',consolas,'Courier New',monospace\"><span style=\"color: #008080; text-decoration-color: #008080; font-weight: bold\">2023.5</span>.<span style=\"color: #008080; text-decoration-color: #008080; font-weight: bold\">4</span>\n",
       "</pre>\n"
      ],
      "text/plain": [
       "\u001b[1;36m2023.5\u001b[0m.\u001b[1;36m4\u001b[0m\n"
      ]
     },
     "metadata": {},
     "output_type": "display_data"
    }
   ],
   "source": [
    "from cdapython import Q, columns, unique_terms\n",
    "import cdapython,pandas as pd\n",
    "print(cdapython.__file__)\n",
    "print(cdapython.__version__)"
   ]
  },
  {
   "cell_type": "code",
   "execution_count": 5,
   "id": "ecdad705",
   "metadata": {},
   "outputs": [
    {
     "data": {
      "text/html": [
       "<pre style=\"white-space:pre;overflow-x:auto;line-height:normal;font-family:Menlo,'DejaVu Sans Mono',consolas,'Courier New',monospace\">Getting results from database\n",
       "\n",
       "</pre>\n"
      ],
      "text/plain": [
       "Getting results from database\n",
       "\n"
      ]
     },
     "metadata": {},
     "output_type": "display_data"
    },
    {
     "data": {
      "text/html": [
       "<pre style=\"white-space:pre;overflow-x:auto;line-height:normal;font-family:Menlo,'DejaVu Sans Mono',consolas,'Courier New',monospace\">\n",
       "                            Total execution time: <span style=\"color: #008080; text-decoration-color: #008080; font-weight: bold\">0</span>\n",
       "                            min <span style=\"color: #008080; text-decoration-color: #008080; font-weight: bold\">8.817</span> sec <span style=\"color: #008080; text-decoration-color: #008080; font-weight: bold\">8817</span> ms\n",
       "                            \n",
       "</pre>\n"
      ],
      "text/plain": [
       "\n",
       "                            Total execution time: \u001b[1;36m0\u001b[0m\n",
       "                            min \u001b[1;36m8.817\u001b[0m sec \u001b[1;36m8817\u001b[0m ms\n",
       "                            \n"
      ]
     },
     "metadata": {},
     "output_type": "display_data"
    }
   ],
   "source": [
    "a = Q(\"sex = 'male'\").run()"
   ]
  },
  {
   "cell_type": "code",
   "execution_count": 6,
   "id": "01f58251",
   "metadata": {},
   "outputs": [
    {
     "data": {
      "text/html": [
       "<div>\n",
       "<style scoped>\n",
       "    .dataframe tbody tr th:only-of-type {\n",
       "        vertical-align: middle;\n",
       "    }\n",
       "\n",
       "    .dataframe tbody tr th {\n",
       "        vertical-align: top;\n",
       "    }\n",
       "\n",
       "    .dataframe thead th {\n",
       "        text-align: right;\n",
       "    }\n",
       "</style>\n",
       "<table border=\"1\" class=\"dataframe\">\n",
       "  <thead>\n",
       "    <tr style=\"text-align: right;\">\n",
       "      <th></th>\n",
       "      <th>subject_id</th>\n",
       "      <th>subject_identifier</th>\n",
       "      <th>species</th>\n",
       "      <th>sex</th>\n",
       "      <th>race</th>\n",
       "      <th>ethnicity</th>\n",
       "      <th>days_to_birth</th>\n",
       "      <th>subject_associated_project</th>\n",
       "      <th>vital_status</th>\n",
       "      <th>days_to_death</th>\n",
       "      <th>cause_of_death</th>\n",
       "    </tr>\n",
       "  </thead>\n",
       "  <tbody>\n",
       "    <tr>\n",
       "      <th>0</th>\n",
       "      <td>BEATAML1.0.1039</td>\n",
       "      <td>[{'system': 'GDC', 'field_name': 'case.submitt...</td>\n",
       "      <td>Homo sapiens</td>\n",
       "      <td>male</td>\n",
       "      <td>not reported</td>\n",
       "      <td>not reported</td>\n",
       "      <td>NaN</td>\n",
       "      <td>[BEATAML1.0-CRENOLANIB]</td>\n",
       "      <td>Dead</td>\n",
       "      <td>NaN</td>\n",
       "      <td>None</td>\n",
       "    </tr>\n",
       "    <tr>\n",
       "      <th>1</th>\n",
       "      <td>BEATAML1.0.2050</td>\n",
       "      <td>[{'system': 'GDC', 'field_name': 'case.submitt...</td>\n",
       "      <td>Homo sapiens</td>\n",
       "      <td>male</td>\n",
       "      <td>asian</td>\n",
       "      <td>not hispanic or latino</td>\n",
       "      <td>NaN</td>\n",
       "      <td>[BEATAML1.0-COHORT]</td>\n",
       "      <td>Unknown</td>\n",
       "      <td>NaN</td>\n",
       "      <td>None</td>\n",
       "    </tr>\n",
       "    <tr>\n",
       "      <th>2</th>\n",
       "      <td>BEATAML1.0.2116</td>\n",
       "      <td>[{'system': 'GDC', 'field_name': 'case.submitt...</td>\n",
       "      <td>Homo sapiens</td>\n",
       "      <td>male</td>\n",
       "      <td>Unknown</td>\n",
       "      <td>not hispanic or latino</td>\n",
       "      <td>NaN</td>\n",
       "      <td>[BEATAML1.0-COHORT]</td>\n",
       "      <td>Dead</td>\n",
       "      <td>NaN</td>\n",
       "      <td>None</td>\n",
       "    </tr>\n",
       "    <tr>\n",
       "      <th>3</th>\n",
       "      <td>BEATAML1.0.2285</td>\n",
       "      <td>[{'system': 'GDC', 'field_name': 'case.submitt...</td>\n",
       "      <td>Homo sapiens</td>\n",
       "      <td>male</td>\n",
       "      <td>Unknown</td>\n",
       "      <td>Unknown</td>\n",
       "      <td>NaN</td>\n",
       "      <td>[BEATAML1.0-COHORT]</td>\n",
       "      <td>Alive</td>\n",
       "      <td>NaN</td>\n",
       "      <td>None</td>\n",
       "    </tr>\n",
       "    <tr>\n",
       "      <th>4</th>\n",
       "      <td>BEATAML1.0.2295</td>\n",
       "      <td>[{'system': 'GDC', 'field_name': 'case.submitt...</td>\n",
       "      <td>Homo sapiens</td>\n",
       "      <td>male</td>\n",
       "      <td>white</td>\n",
       "      <td>not hispanic or latino</td>\n",
       "      <td>NaN</td>\n",
       "      <td>[BEATAML1.0-COHORT]</td>\n",
       "      <td>Dead</td>\n",
       "      <td>NaN</td>\n",
       "      <td>None</td>\n",
       "    </tr>\n",
       "    <tr>\n",
       "      <th>...</th>\n",
       "      <td>...</td>\n",
       "      <td>...</td>\n",
       "      <td>...</td>\n",
       "      <td>...</td>\n",
       "      <td>...</td>\n",
       "      <td>...</td>\n",
       "      <td>...</td>\n",
       "      <td>...</td>\n",
       "      <td>...</td>\n",
       "      <td>...</td>\n",
       "      <td>...</td>\n",
       "    </tr>\n",
       "    <tr>\n",
       "      <th>95</th>\n",
       "      <td>FM.AD9848</td>\n",
       "      <td>[{'system': 'GDC', 'field_name': 'case.submitt...</td>\n",
       "      <td>Homo sapiens</td>\n",
       "      <td>male</td>\n",
       "      <td>not reported</td>\n",
       "      <td>not reported</td>\n",
       "      <td>NaN</td>\n",
       "      <td>[FM-AD]</td>\n",
       "      <td>Not Reported</td>\n",
       "      <td>NaN</td>\n",
       "      <td>None</td>\n",
       "    </tr>\n",
       "    <tr>\n",
       "      <th>96</th>\n",
       "      <td>GENIE.GENIE-DFCI-000475</td>\n",
       "      <td>[{'system': 'GDC', 'field_name': 'case.submitt...</td>\n",
       "      <td>Homo sapiens</td>\n",
       "      <td>male</td>\n",
       "      <td>white</td>\n",
       "      <td>not hispanic or latino</td>\n",
       "      <td>-21549.0</td>\n",
       "      <td>[GENIE-DFCI]</td>\n",
       "      <td>Not Reported</td>\n",
       "      <td>NaN</td>\n",
       "      <td>None</td>\n",
       "    </tr>\n",
       "    <tr>\n",
       "      <th>97</th>\n",
       "      <td>GENIE.GENIE-DFCI-001317</td>\n",
       "      <td>[{'system': 'GDC', 'field_name': 'case.submitt...</td>\n",
       "      <td>Homo sapiens</td>\n",
       "      <td>male</td>\n",
       "      <td>white</td>\n",
       "      <td>not hispanic or latino</td>\n",
       "      <td>-26298.0</td>\n",
       "      <td>[GENIE-DFCI]</td>\n",
       "      <td>Not Reported</td>\n",
       "      <td>NaN</td>\n",
       "      <td>None</td>\n",
       "    </tr>\n",
       "    <tr>\n",
       "      <th>98</th>\n",
       "      <td>GENIE.GENIE-DFCI-001483</td>\n",
       "      <td>[{'system': 'GDC', 'field_name': 'case.submitt...</td>\n",
       "      <td>Homo sapiens</td>\n",
       "      <td>male</td>\n",
       "      <td>white</td>\n",
       "      <td>not hispanic or latino</td>\n",
       "      <td>-22280.0</td>\n",
       "      <td>[GENIE-DFCI]</td>\n",
       "      <td>Not Reported</td>\n",
       "      <td>NaN</td>\n",
       "      <td>None</td>\n",
       "    </tr>\n",
       "    <tr>\n",
       "      <th>99</th>\n",
       "      <td>GENIE.GENIE-DFCI-001844</td>\n",
       "      <td>[{'system': 'GDC', 'field_name': 'case.submitt...</td>\n",
       "      <td>Homo sapiens</td>\n",
       "      <td>male</td>\n",
       "      <td>white</td>\n",
       "      <td>not hispanic or latino</td>\n",
       "      <td>-21915.0</td>\n",
       "      <td>[GENIE-DFCI]</td>\n",
       "      <td>Not Reported</td>\n",
       "      <td>NaN</td>\n",
       "      <td>None</td>\n",
       "    </tr>\n",
       "  </tbody>\n",
       "</table>\n",
       "<p>100 rows × 11 columns</p>\n",
       "</div>"
      ],
      "text/plain": [
       "                 subject_id  \\\n",
       "0           BEATAML1.0.1039   \n",
       "1           BEATAML1.0.2050   \n",
       "2           BEATAML1.0.2116   \n",
       "3           BEATAML1.0.2285   \n",
       "4           BEATAML1.0.2295   \n",
       "..                      ...   \n",
       "95                FM.AD9848   \n",
       "96  GENIE.GENIE-DFCI-000475   \n",
       "97  GENIE.GENIE-DFCI-001317   \n",
       "98  GENIE.GENIE-DFCI-001483   \n",
       "99  GENIE.GENIE-DFCI-001844   \n",
       "\n",
       "                                   subject_identifier       species   sex  \\\n",
       "0   [{'system': 'GDC', 'field_name': 'case.submitt...  Homo sapiens  male   \n",
       "1   [{'system': 'GDC', 'field_name': 'case.submitt...  Homo sapiens  male   \n",
       "2   [{'system': 'GDC', 'field_name': 'case.submitt...  Homo sapiens  male   \n",
       "3   [{'system': 'GDC', 'field_name': 'case.submitt...  Homo sapiens  male   \n",
       "4   [{'system': 'GDC', 'field_name': 'case.submitt...  Homo sapiens  male   \n",
       "..                                                ...           ...   ...   \n",
       "95  [{'system': 'GDC', 'field_name': 'case.submitt...  Homo sapiens  male   \n",
       "96  [{'system': 'GDC', 'field_name': 'case.submitt...  Homo sapiens  male   \n",
       "97  [{'system': 'GDC', 'field_name': 'case.submitt...  Homo sapiens  male   \n",
       "98  [{'system': 'GDC', 'field_name': 'case.submitt...  Homo sapiens  male   \n",
       "99  [{'system': 'GDC', 'field_name': 'case.submitt...  Homo sapiens  male   \n",
       "\n",
       "            race               ethnicity  days_to_birth  \\\n",
       "0   not reported            not reported            NaN   \n",
       "1          asian  not hispanic or latino            NaN   \n",
       "2        Unknown  not hispanic or latino            NaN   \n",
       "3        Unknown                 Unknown            NaN   \n",
       "4          white  not hispanic or latino            NaN   \n",
       "..           ...                     ...            ...   \n",
       "95  not reported            not reported            NaN   \n",
       "96         white  not hispanic or latino       -21549.0   \n",
       "97         white  not hispanic or latino       -26298.0   \n",
       "98         white  not hispanic or latino       -22280.0   \n",
       "99         white  not hispanic or latino       -21915.0   \n",
       "\n",
       "   subject_associated_project  vital_status  days_to_death cause_of_death  \n",
       "0     [BEATAML1.0-CRENOLANIB]          Dead            NaN           None  \n",
       "1         [BEATAML1.0-COHORT]       Unknown            NaN           None  \n",
       "2         [BEATAML1.0-COHORT]          Dead            NaN           None  \n",
       "3         [BEATAML1.0-COHORT]         Alive            NaN           None  \n",
       "4         [BEATAML1.0-COHORT]          Dead            NaN           None  \n",
       "..                        ...           ...            ...            ...  \n",
       "95                    [FM-AD]  Not Reported            NaN           None  \n",
       "96               [GENIE-DFCI]  Not Reported            NaN           None  \n",
       "97               [GENIE-DFCI]  Not Reported            NaN           None  \n",
       "98               [GENIE-DFCI]  Not Reported            NaN           None  \n",
       "99               [GENIE-DFCI]  Not Reported            NaN           None  \n",
       "\n",
       "[100 rows x 11 columns]"
      ]
     },
     "execution_count": 6,
     "metadata": {},
     "output_type": "execute_result"
    }
   ],
   "source": [
    "a.to_dataframe()"
   ]
  },
  {
   "attachments": {},
   "cell_type": "markdown",
   "id": "f759a7bb",
   "metadata": {},
   "source": [
    "## Getting started"
   ]
  },
  {
   "attachments": {},
   "cell_type": "markdown",
   "id": "040aa164",
   "metadata": {},
   "source": [
    "Print out the list of available fields with ```columns()```:"
   ]
  },
  {
   "cell_type": "code",
   "execution_count": null,
   "id": "1a1b8cbd",
   "metadata": {},
   "outputs": [],
   "source": [
    "columns()"
   ]
  },
  {
   "attachments": {},
   "cell_type": "markdown",
   "id": "11a24e81",
   "metadata": {},
   "source": [
    "All of the above fields are what describes the highest entity in the data structure hierarchy – ```Patient``` entity. The first five fields represent ```Patient``` demographic information, while the ```ResearchSubject``` entity contains details that we are used to seeing within the nodes' ```Case``` record.\n",
    "\n",
    "One of the contributions of the CDA is aggregated ```ResearchSubject``` information. This means that all ```ResearchSubject``` records coming from the same subject are now gathered under the Patient entity. As we know, certain specimens are studied in multiple projects (being part of a single data node or multiple nodes) as different ```ResearchSubject``` entries. Those ```ResearchSubject``` entries are collected as a list under the ```ResearchSubject``` entity. One example of this is the patient record with ```id = TCGA-E2-A10A``` which contains two ```ResearchSubject``` entries, one from GDC and the other from PDC.\n",
    "\n",
    "Note that the ```ResearchSubject``` entity is a list of records, as many other entities above are. **There are certain considerations that should be made when creating the queries by using the fields that come from lists, but more about that will follow in examples below**.\n",
    "\n",
    "The names in the list may look familiar to you, but they may have been renamed or restructured in the CDA. The field name mappings are described in the _CDA Schema Field Mapping_ document that is linked in the _Testing Guide_. A more direct way to explore and understand the fields is to use the ```unique_terms()``` function:"
   ]
  },
  {
   "cell_type": "code",
   "execution_count": null,
   "id": "6f1b8ae8",
   "metadata": {},
   "outputs": [],
   "source": [
    "unique_terms(\"ResearchSubject.Specimen.source_material_type\",limit=10)"
   ]
  },
  {
   "attachments": {},
   "cell_type": "markdown",
   "id": "06c24c59",
   "metadata": {},
   "source": [
    "Additionally, you can specify a particular data node by using the ```system``` argument:"
   ]
  },
  {
   "cell_type": "code",
   "execution_count": null,
   "id": "2010208d",
   "metadata": {},
   "outputs": [],
   "source": [
    "unique_terms(\"ResearchSubject.Specimen.source_material_type\", system=\"PDC\")"
   ]
  },
  {
   "attachments": {},
   "cell_type": "markdown",
   "id": "b99dff03",
   "metadata": {},
   "source": [
    "Now, let's dive into the querying!\n",
    "\n",
    "We can start by getting the record for ```id = TCGA-E2-A10A``` that we mentioned earlier:"
   ]
  },
  {
   "cell_type": "code",
   "execution_count": null,
   "id": "33e967c1",
   "metadata": {},
   "outputs": [],
   "source": [
    "q = Q('id = \"TCGA-E2-A10A\"') # note the double quotes for the string value\n",
    "\n",
    "r = q.counts(host=\"http://35.192.60.10:8080/\")\n",
    "\n",
    "\n",
    "print(r)\n",
    "\n",
    "\n"
   ]
  },
  {
   "cell_type": "code",
   "execution_count": null,
   "id": "5c8cedfd",
   "metadata": {},
   "outputs": [],
   "source": []
  },
  {
   "attachments": {},
   "cell_type": "markdown",
   "id": "61e51afd",
   "metadata": {},
   "source": [
    "We see that we've got a single patient record as a result, which is what we expect.\n",
    "\n",
    "Let's see how the result looks like:"
   ]
  },
  {
   "cell_type": "code",
   "execution_count": null,
   "id": "b57f607a",
   "metadata": {
    "scrolled": true
   },
   "outputs": [],
   "source": [
    "r[0]"
   ]
  },
  {
   "attachments": {},
   "cell_type": "markdown",
   "id": "7ab4a726",
   "metadata": {},
   "source": [
    "The record is pretty large, so we'll print out ```identifier``` values for each ```ResearchSubject``` to confirm that we have one ```ResearchSubject``` that comes from GDC, and one that comes from PDC:"
   ]
  },
  {
   "cell_type": "code",
   "execution_count": null,
   "id": "016d24bf",
   "metadata": {},
   "outputs": [],
   "source": [
    "for research_subject in r[0]['ResearchSubject']:\n",
    "    print(research_subject['identifier'])"
   ]
  },
  {
   "attachments": {},
   "cell_type": "markdown",
   "id": "5a80105b",
   "metadata": {},
   "source": [
    "The values represent ```ResearchSubject``` IDs and are equivalent to ```case_id``` values in data nodes."
   ]
  },
  {
   "attachments": {},
   "cell_type": "markdown",
   "id": "438717f3",
   "metadata": {},
   "source": [
    "## Example queries"
   ]
  },
  {
   "attachments": {},
   "cell_type": "markdown",
   "id": "052970b9",
   "metadata": {},
   "source": [
    "Now that we can create a query with ```Q()``` function, let's see how we can combine multiple conditions.\n",
    "\n",
    "There are three operators available:\n",
    "* ```And()```\n",
    "* ```Or()```\n",
    "* ```From()```\n",
    "\n",
    "The following examples show how those operators work in practice."
   ]
  },
  {
   "attachments": {},
   "cell_type": "markdown",
   "id": "2ebb5e06",
   "metadata": {},
   "source": [
    "### Query 1\n",
    "\n",
    "**Find data for subjects who were diagnosed after the age of 50 and who were investigated as part of the TCGA-OV project.**"
   ]
  },
  {
   "cell_type": "code",
   "execution_count": null,
   "id": "43d709a5",
   "metadata": {},
   "outputs": [],
   "source": [
    "q1 = Q('ResearchSubject.Diagnosis.age_at_diagnosis > 50*365')\n",
    "q2 = Q('ResearchSubject.associated_project = \"TCGA-OV\"')\n",
    "\n",
    "q = q1.AND(q2)\n",
    "r = q.run()\n",
    "\n",
    "print(r)"
   ]
  },
  {
   "attachments": {},
   "cell_type": "markdown",
   "id": "c1dd55f6",
   "metadata": {},
   "source": [
    "### Query 2\n",
    "\n",
    "**Find data for donors with melanoma (Nevi and Melanomas) diagnosis and who were diagnosed before the age of 30.**"
   ]
  },
  {
   "cell_type": "code",
   "execution_count": null,
   "id": "521d0088",
   "metadata": {},
   "outputs": [],
   "source": [
    "q1 = Q('ResearchSubject.Specimen.primary_disease_type = \"Nevi and Melanomas\"')\n",
    "q2 = Q('ResearchSubject.Diagnosis.age_at_diagnosis < 30*365')\n",
    "\n",
    "q = q1.AND(q2)\n",
    "r = q.run()\n",
    "\n",
    "print(r)"
   ]
  },
  {
   "attachments": {},
   "cell_type": "markdown",
   "id": "d126823c",
   "metadata": {},
   "source": [
    "In addition, we can check how many records come from particular systems by adding one more condition to the query:"
   ]
  },
  {
   "cell_type": "code",
   "execution_count": null,
   "id": "25d9258a",
   "metadata": {},
   "outputs": [],
   "source": [
    "q1 = Q('ResearchSubject.Specimen.primary_disease_type = \"Nevi and Melanomas\"')\n",
    "q2 = Q('ResearchSubject.Diagnosis.age_at_diagnosis < 30*365')\n",
    "q3 = Q('ResearchSubject.Specimen.identifier.system = \"GDC\"')\n",
    "\n",
    "q = q1.AND(q2.AND(q3))\n",
    "r = q.run()\n",
    "\n",
    "print(r)"
   ]
  },
  {
   "attachments": {},
   "cell_type": "markdown",
   "id": "c06e9a8d",
   "metadata": {},
   "source": [
    "By comparing the ```Count``` value of the two results we can see that all the patients returned in the initial query are coming from the GDC.\n",
    "\n",
    "To explore the results further, we can fetch the patient JSON objects by iterating through the results:"
   ]
  },
  {
   "cell_type": "code",
   "execution_count": null,
   "id": "4cb20150",
   "metadata": {},
   "outputs": [],
   "source": [
    "projects = set()\n",
    "\n",
    "for patient in r:\n",
    "    research_subjects = patient['ResearchSubject']\n",
    "    for rs in research_subjects:\n",
    "        projects.add(rs['associated_project'])\n",
    "\n",
    "print(projects)"
   ]
  },
  {
   "attachments": {},
   "cell_type": "markdown",
   "id": "6d8f8cc3",
   "metadata": {},
   "source": [
    "The output shows the projects where _Nevi and Melanomas_ cases appear."
   ]
  },
  {
   "attachments": {},
   "cell_type": "markdown",
   "id": "12c650a3",
   "metadata": {},
   "source": [
    "### Query 3\n",
    "\n",
    "**Identify all samples that meet the following conditions:**\n",
    "\n",
    "* **Sample is from primary tumor**\n",
    "* **Disease is ovarian or breast cancer**\n",
    "* **Subjects are females under the age of 60 years**"
   ]
  },
  {
   "cell_type": "code",
   "execution_count": null,
   "id": "95920a42",
   "metadata": {},
   "outputs": [],
   "source": [
    "tumor_type = Q('ResearchSubject.Specimen.source_material_type = \"Primary Tumor\"')\n",
    "disease1 = Q('ResearchSubject.primary_disease_site = \"Ovary\"')\n",
    "disease2 = Q('ResearchSubject.primary_disease_site = \"Breast\"')\n",
    "demographics1 = Q('sex = \"female\"')\n",
    "demographics2 = Q('days_to_birth > -60*365') # note that days_to_birth is a negative value\n",
    "\n",
    "q1 = tumor_type.AND(demographics1.AND(demographics2))\n",
    "q2 = disease1.OR(disease2)\n",
    "q = q1.AND(q2)\n",
    "\n",
    "r = q.run()\n",
    "print(r)"
   ]
  },
  {
   "attachments": {},
   "cell_type": "markdown",
   "id": "713ac984",
   "metadata": {},
   "source": [
    "In this case, we have a result that contains more than 1000 records which is the default page size. To load the next 1000 records, we can use the ```next_page()``` method:"
   ]
  },
  {
   "cell_type": "code",
   "execution_count": null,
   "id": "efdadbb9",
   "metadata": {},
   "outputs": [],
   "source": [
    "r2 = r.next_page()"
   ]
  },
  {
   "cell_type": "code",
   "execution_count": null,
   "id": "d1419fc7",
   "metadata": {},
   "outputs": [],
   "source": [
    "print(r2)"
   ]
  },
  {
   "attachments": {},
   "cell_type": "markdown",
   "id": "a960e07d",
   "metadata": {},
   "source": [
    "Alternatively, we can use the ```offset``` argument to specify the record to start from:\n",
    "\n",
    "```\n",
    "...\n",
    "r = q.run(offset=1000)\n",
    "print(r)\n",
    "```"
   ]
  },
  {
   "attachments": {},
   "cell_type": "markdown",
   "id": "41db78e2",
   "metadata": {},
   "source": [
    "### Query 4\n",
    "\n",
    "**Find data for donors with \"Ovarian Serous Cystadenocarcinoma\" with proteomic and genomic data.**"
   ]
  },
  {
   "attachments": {},
   "cell_type": "markdown",
   "id": "b9171d93",
   "metadata": {},
   "source": [
    "**Note that disease type value denoting the same disease groups can be completely different within different systems. This is where CDA features come into play.** We first start by exploring the values available for this particular field in both systems."
   ]
  },
  {
   "cell_type": "code",
   "execution_count": null,
   "id": "33d8294f",
   "metadata": {},
   "outputs": [],
   "source": [
    "unique_terms('ResearchSubject.primary_disease_type', system=\"GDC\",limit=10)"
   ]
  },
  {
   "attachments": {},
   "cell_type": "markdown",
   "id": "7495d1e4",
   "metadata": {},
   "source": [
    "Since “Ovarian Serous Cystadenocarcinoma” doesn’t appear in GDC values we decide to look into the PDC:"
   ]
  },
  {
   "cell_type": "code",
   "execution_count": null,
   "id": "aac21adf",
   "metadata": {},
   "outputs": [],
   "source": [
    "unique_terms('ResearchSubject.primary_disease_type', system=\"PDC\")"
   ]
  },
  {
   "attachments": {},
   "cell_type": "markdown",
   "id": "a2ec177f",
   "metadata": {},
   "source": [
    "After examining the output, we see that it does come from the PDC. Hence, if we could first identify the data that has research subjects found within the PDC that have this particular disease type, and then further narrow down the results to include only the portion of the data that is present in GDC, we could get the records that we are looking for."
   ]
  },
  {
   "cell_type": "code",
   "execution_count": 4,
   "id": "19a05c04",
   "metadata": {},
   "outputs": [
    {
     "data": {
      "text/html": [
       "<pre style=\"white-space:pre;overflow-x:auto;line-height:normal;font-family:Menlo,'DejaVu Sans Mono',consolas,'Courier New',monospace\">Getting results from database\n",
       "\n",
       "</pre>\n"
      ],
      "text/plain": [
       "Getting results from database\n",
       "\n"
      ]
     },
     "metadata": {},
     "output_type": "display_data"
    },
    {
     "data": {
      "text/html": [
       "<pre style=\"white-space:pre;overflow-x:auto;line-height:normal;font-family:Menlo,'DejaVu Sans Mono',consolas,'Courier New',monospace\">\n",
       "                        Total execution time: <span style=\"color: #008080; text-decoration-color: #008080; font-weight: bold\">0</span>\n",
       "                        min <span style=\"color: #008080; text-decoration-color: #008080; font-weight: bold\">3.927</span> sec <span style=\"color: #008080; text-decoration-color: #008080; font-weight: bold\">3927</span> ms\n",
       "                        \n",
       "</pre>\n"
      ],
      "text/plain": [
       "\n",
       "                        Total execution time: \u001b[1;36m0\u001b[0m\n",
       "                        min \u001b[1;36m3.927\u001b[0m sec \u001b[1;36m3927\u001b[0m ms\n",
       "                        \n"
      ]
     },
     "metadata": {},
     "output_type": "display_data"
    },
    {
     "data": {
      "text/plain": [
       "\n",
       "            Query:SELECT results.* EXCEPT(rn) FROM (SELECT ROW_NUMBER() OVER (PARTITION BY Subject.id) as rn, Subject.id AS subject_id, Subject.identifier AS subject_identifier, Subject.species AS species, Subject.sex AS sex, Subject.race AS race, Subject.ethnicity AS ethnicity, Subject.days_to_birth AS days_to_birth, Subject.subject_associated_project AS subject_associated_project, Subject.vital_status AS vital_status, Subject.days_to_death AS days_to_death, Subject.cause_of_death AS cause_of_death FROM gdc-bq-sample.dev.all_Subjects_v3_0_final AS Subject LEFT JOIN UNNEST(Subject.identifier) AS _subject_identifier WHERE (IFNULL(UPPER(_subject_identifier.system), '') = UPPER('GDC'))) as results WHERE rn = 1\n",
       "            Offset: 0\n",
       "            Count: 100\n",
       "            Total Row Count: 85464\n",
       "            More pages: True\n",
       "            "
      ]
     },
     "execution_count": 4,
     "metadata": {},
     "output_type": "execute_result"
    }
   ],
   "source": [
    "# q1 = Q('ResearchSubject.primary_disease_type = \"Ovarian Serous Cystadenocarcinoma\"')\n",
    "# q2 = Q('ResearchSubject.identifier.system = \"PDC\"')\n",
    "# q3 = Q('ResearchSubject.identifier.system = \"GDC\"')\n",
    "\n",
    "# q = q3.FROM(q1.AND(q2))\n",
    "# r = q.run()\n",
    "\n",
    "# print(r)\n",
    "\n",
    "\n",
    "from cdapython import Q\n",
    "\n",
    "\n",
    "integration_host = \"http://35.192.60.10:8080/\"\n",
    "integration_table = \"gdc-bq-sample.dev\"\n",
    "Q('subject_identifier_system = \"GDC\" FROM subject_identifier_system = \"PDC\" FROM subject_identifier_system = \"IDC\"').run(host=integration_host,table=integration_table,show_sql=True)"
   ]
  },
  {
   "attachments": {},
   "cell_type": "markdown",
   "id": "b1d3d6a0",
   "metadata": {},
   "source": [
    "As you can see, this is achieved by utilizing ```From``` operator. The ```From``` operator allows us to create queries from results of other queries. This is particularly useful when working with conditions that involve a single field which can take multiple different values for different items in a list that is being part of, e.g. we need ```ResearchSubject.identifier.system``` to be both “PDC” and “GDC” for a single patient. In such cases, ```And``` operator can’t help because it will return those entries where the field takes both values, which is zero entries."
   ]
  },
  {
   "cell_type": "code",
   "execution_count": null,
   "id": "c5ec883f",
   "metadata": {},
   "outputs": [],
   "source": [
    "for i in Q.sql(\"SELECT * FROM `gdc-bq-sample.cda_mvp.INFORMATION_SCHEMA.COLUMN_FIELD_PATHS` WHERE table_name = 'v3' Limit 5\"):\n",
    "    print(i)"
   ]
  },
  {
   "cell_type": "code",
   "execution_count": null,
   "id": "fc992d2a",
   "metadata": {},
   "outputs": [],
   "source": [
    "q1 = Q('ResearchSubject.identifier.system = \"GDC\" FROM ResearchSubject.primary_disease_type = \"Ovarian Serous Cystadenocarcinoma\" AND ResearchSubject.identifier.system = \"PDC\"')\n",
    "result = q1.run(async_call=True)\n",
    "print(result)\n"
   ]
  },
  {
   "attachments": {},
   "cell_type": "markdown",
   "id": "89b96ee0",
   "metadata": {},
   "source": [
    "## Test queries"
   ]
  },
  {
   "attachments": {},
   "cell_type": "markdown",
   "id": "3cdcf002",
   "metadata": {},
   "source": [
    "Now that we've successfully run and analyzed a few queries, here are a few additional ones you can try out on your own.\n",
    "\n",
    "Solutions can be shared with the CDA team as indicated in the _Testing Guide_ document."
   ]
  },
  {
   "attachments": {},
   "cell_type": "markdown",
   "id": "f5fee345",
   "metadata": {},
   "source": [
    "### Test Query 1\n",
    "\n",
    "**Find data from TCGA-BRCA project, with donors over the age of 50 with Stage IIIC cancer.**"
   ]
  },
  {
   "cell_type": "code",
   "execution_count": null,
   "id": "92ccb890",
   "metadata": {},
   "outputs": [],
   "source": [
    "# Solution\n",
    "\n",
    "# ...\n",
    "\n",
    "# print(r)"
   ]
  },
  {
   "attachments": {},
   "cell_type": "markdown",
   "id": "4fc36929",
   "metadata": {},
   "source": [
    "### Test Query 2\n",
    "\n",
    "**Find data from all patients who have been treated with \"Radiation Therapy, NOS\" and have both genomic and proteomic data.**"
   ]
  },
  {
   "cell_type": "code",
   "execution_count": null,
   "id": "6a987983",
   "metadata": {},
   "outputs": [],
   "source": [
    "# Solution\n",
    "\n",
    "# ...\n",
    "\n",
    "# print(r)"
   ]
  },
  {
   "attachments": {},
   "cell_type": "markdown",
   "id": "e11f76f7",
   "metadata": {},
   "source": [
    "### Test Query 3\n",
    "\n",
    "**Find data from all subjects with lung adenocarcinomas that have both primary and recurrent tumors.**"
   ]
  },
  {
   "cell_type": "code",
   "execution_count": null,
   "id": "a2cbcd5e",
   "metadata": {},
   "outputs": [],
   "source": [
    "# Solution\n",
    "\n",
    "# ...\n",
    "\n",
    "# print(r)"
   ]
  },
  {
   "cell_type": "code",
   "execution_count": null,
   "id": "a9045266-ecda-4692-b732-d4b8c660801a",
   "metadata": {},
   "outputs": [],
   "source": [
    "q = Q('id = \"TCGA-13-1409\"')\n",
    "r = q.run(limit = 20, host=\"http://localhost:8080\")\n",
    "# r.to_dataframe(\n",
    "#     record_path =['ResearchSubject','File'],\n",
    "#     meta=['id','species','sex','race','ethnicity'],\n",
    "#     meta_prefix= 'subject_', \n",
    "#     max_level = 0,\n",
    "#     errors='ignore'\n",
    "#     )"
   ]
  },
  {
   "cell_type": "code",
   "execution_count": null,
   "id": "8a346016-6ab6-4e02-94ad-22bd8163bbb9",
   "metadata": {},
   "outputs": [],
   "source": [
    "r.to_dataframe(record_path=['ResearchSubject'],meta=['id','species','sex','race','ethnicity'],meta_prefix= 'subject_',)"
   ]
  },
  {
   "cell_type": "code",
   "execution_count": null,
   "id": "5475f4cd-6ce2-4ce7-b3f7-a292e31c6e76",
   "metadata": {},
   "outputs": [],
   "source": [
    "q1 = Q('ResearchSubject.Specimen.primary_disease_type = \"Nevi and Melanomas\"')\n",
    "q2 = Q('ResearchSubject.Diagnosis.age_at_diagnosis < 30*365')\n",
    "q = q1.AND(q2)\n",
    "print(q)\n",
    "r = q.run(host=\"http://localhost:8080\")\n",
    "print(r)"
   ]
  }
 ],
 "metadata": {
  "interpreter": {
   "hash": "4578c8680ee810f847df558484335f5ffb0f004d38a87276387030f59580c508"
  },
  "kernelspec": {
   "display_name": "Python 3 (ipykernel)",
   "language": "python",
   "name": "python3"
  },
  "language_info": {
   "codemirror_mode": {
    "name": "ipython",
    "version": 3
   },
   "file_extension": ".py",
   "mimetype": "text/x-python",
   "name": "python",
   "nbconvert_exporter": "python",
   "pygments_lexer": "ipython3",
   "version": "3.9.16"
  },
  "metadata": {
   "interpreter": {
    "hash": "5c867d1980d5b66d2bfc8a5903dcee074b4b68f3917a4f27f8a310cab24e9f1b"
   }
  }
 },
 "nbformat": 4,
 "nbformat_minor": 5
}
