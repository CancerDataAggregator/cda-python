{
 "cells": [
  {
   "cell_type": "markdown",
   "metadata": {},
   "source": [
    "# CDA Python: Features & Examples\n",
    "---"
   ]
  },
  {
   "cell_type": "code",
   "execution_count": null,
   "metadata": {},
   "outputs": [],
   "source": [
    "from ipywidgets import Dropdown\n",
    "from IPython.display import display\n",
    "tester_check = Dropdown(\n",
    "    options=[True,False],\n",
    "    description='Tester:',\n",
    "    value=True,\n",
    ")\n",
    "display(tester_check)"
   ]
  },
  {
   "cell_type": "markdown",
   "metadata": {},
   "source": [
    "The following examples illustrate some ```CDA Python``` features while providing insights into the underlying data structure (**Getting started**). To demonstrate those features, we provide a few relevant text queries along with step-by-step explanations on how to translate those into the ```CDA Python``` queries (**Example queries**). Finally, there are a few additional queries intended for the test users to play around with and send feedback to the CDA team (**Test queries**)."
   ]
  },
  {
   "cell_type": "code",
   "execution_count": null,
   "metadata": {},
   "outputs": [],
   "source": [
    "from cdapython import Q, columns, unique_terms,query\n",
    "import cdapython\n",
    "print(cdapython.__file__)\n",
    "print(cdapython.__version__)"
   ]
  },
  {
   "cell_type": "code",
   "execution_count": null,
   "metadata": {},
   "outputs": [],
   "source": [
    "\n",
    "if(tester_check.value):\n",
    "    Q.set_host_url(\"http://34.71.0.127:8080\")\n",
    "else:\n",
    "    Q.set_host_url(\"https://cda.cda-dev.broadinstitute.org\")\n",
    "\n",
    "print(Q.get_host_url())"
   ]
  },
  {
   "cell_type": "markdown",
   "metadata": {},
   "source": [
    "## Getting started"
   ]
  },
  {
   "cell_type": "markdown",
   "metadata": {},
   "source": [
    "Print out the list of available fields with ```columns()```:"
   ]
  },
  {
   "cell_type": "code",
   "execution_count": null,
   "metadata": {
    "scrolled": false
   },
   "outputs": [],
   "source": [
    "columns()"
   ]
  },
  {
   "cell_type": "markdown",
   "metadata": {},
   "source": [
    "All of the above fields are what describes the highest entity in the data structure hierarchy – ```Patient``` entity. The first five fields represent ```Patient``` demographic information, while the ```ResearchSubject``` entity contains details that we are used to seeing within the nodes' ```Case``` record.\n",
    "\n",
    "One of the contributions of the CDA is aggregated ```ResearchSubject``` information. This means that all ```ResearchSubject``` records coming from the same subject are now gathered under the Patient entity. As we know, certain specimens are studied in multiple projects (being part of a single data node or multiple nodes) as different ```ResearchSubject``` entries. Those ```ResearchSubject``` entries are collected as a list under the ```ResearchSubject``` entity. One example of this is the patient record with ```id = TCGA-E2-A10A``` which contains two ```ResearchSubject``` entries, one from GDC and the other from PDC.\n",
    "\n",
    "Note that the ```ResearchSubject``` entity is a list of records, as many other entities above are. **There are certain considerations that should be made when creating the queries by using the fields that come from lists, but more about that will follow in examples below**.\n",
    "\n",
    "The names in the list may look familiar to you, but they may have been renamed or restructured in the CDA. The field name mappings are described in the _CDA Schema Field Mapping_ document that is linked in the _Testing Guide_. A more direct way to explore and understand the fields is to use the ```unique_terms()``` function:"
   ]
  },
  {
   "cell_type": "code",
   "execution_count": null,
   "metadata": {
    "scrolled": false
   },
   "outputs": [],
   "source": [
    "unique_terms(\"ResearchSubject.Specimen.source_material_type\",limit=10)"
   ]
  },
  {
   "cell_type": "markdown",
   "metadata": {},
   "source": [
    "Additionally, you can specify a particular data node by using the ```system``` argument:"
   ]
  },
  {
   "cell_type": "code",
   "execution_count": null,
   "metadata": {},
   "outputs": [],
   "source": [
    "unique_terms(\"ResearchSubject.Specimen.source_material_type\", system=\"PDC\")"
   ]
  },
  {
   "cell_type": "markdown",
   "metadata": {},
   "source": [
    "Now, let's dive into the querying!\n",
    "\n",
    "We can start by getting the record for ```id = TCGA-E2-A10A``` that we mentioned earlier:"
   ]
  },
  {
   "cell_type": "code",
   "execution_count": null,
   "metadata": {},
   "outputs": [],
   "source": [
    "q = Q('id = \"TCGA-E2-A10A\"') # note the double quotes for the string value\n",
    "\n",
    "r = q.run()\n",
    "\n",
    "\n",
    "\n"
   ]
  },
  {
   "cell_type": "code",
   "execution_count": null,
   "metadata": {},
   "outputs": [],
   "source": []
  },
  {
   "cell_type": "markdown",
   "metadata": {},
   "source": [
    "We see that we've got a single patient record as a result, which is what we expect.\n",
    "\n",
    "Let's see how the result looks like:"
   ]
  },
  {
   "cell_type": "code",
   "execution_count": null,
   "metadata": {
    "scrolled": true
   },
   "outputs": [],
   "source": [
    "r[0]"
   ]
  },
  {
   "cell_type": "markdown",
   "metadata": {},
   "source": [
    "The record is pretty large, so we'll print out ```identifier``` values for each ```ResearchSubject``` to confirm that we have one ```ResearchSubject``` that comes from GDC, and one that comes from PDC:"
   ]
  },
  {
   "cell_type": "code",
   "execution_count": null,
   "metadata": {},
   "outputs": [],
   "source": [
    "for research_subject in r[0]['ResearchSubject']:\n",
    "    print(research_subject['identifier'])"
   ]
  },
  {
   "cell_type": "markdown",
   "metadata": {},
   "source": [
    "The values represent ```ResearchSubject``` IDs and are equivalent to ```case_id``` values in data nodes."
   ]
  },
  {
   "cell_type": "markdown",
   "metadata": {},
   "source": [
    "## Example queries"
   ]
  },
  {
   "cell_type": "markdown",
   "metadata": {},
   "source": [
    "Now that we can create a query with ```Q()``` function, let's see how we can combine multiple conditions.\n",
    "\n",
    "There are three operators available:\n",
    "* ```And()```\n",
    "* ```Or()```\n",
    "* ```From()```\n",
    "\n",
    "The following examples show how those operators work in practice."
   ]
  },
  {
   "cell_type": "markdown",
   "metadata": {},
   "source": [
    "### Query 1\n",
    "\n",
    "**Find data for subjects who were diagnosed after the age of 50 and who were investigated as part of the TCGA-OV project.**"
   ]
  },
  {
   "cell_type": "code",
   "execution_count": null,
   "metadata": {},
   "outputs": [],
   "source": [
    "q1 = Q('ResearchSubject.Diagnosis.age_at_diagnosis > 50*365')\n",
    "q2 = Q('ResearchSubject.associated_project = \"TCGA-OV\"')\n",
    "\n",
    "q = q1.And(q2)\n",
    "r = q.run()\n",
    "\n",
    "print(r)"
   ]
  },
  {
   "cell_type": "markdown",
   "metadata": {},
   "source": [
    "### Query 2\n",
    "\n",
    "**Find data for donors with melanoma (Nevi and Melanomas) diagnosis and who were diagnosed before the age of 30.**"
   ]
  },
  {
   "cell_type": "code",
   "execution_count": null,
   "metadata": {},
   "outputs": [],
   "source": [
    "q1 = Q('ResearchSubject.Specimen.primary_disease_type = \"Nevi and Melanomas\"')\n",
    "q2 = Q('ResearchSubject.Diagnosis.age_at_diagnosis < 30*365')\n",
    "\n",
    "q = q1.And(q2)\n",
    "r = q.run()\n",
    "\n",
    "print(r)"
   ]
  },
  {
   "cell_type": "markdown",
   "metadata": {},
   "source": [
    "In addition, we can check how many records come from particular systems by adding one more condition to the query:"
   ]
  },
  {
   "cell_type": "code",
   "execution_count": null,
   "metadata": {},
   "outputs": [],
   "source": [
    "q1 = Q('ResearchSubject.Specimen.primary_disease_type = \"Nevi and Melanomas\"')\n",
    "q2 = Q('ResearchSubject.Diagnosis.age_at_diagnosis < 30*365')\n",
    "q3 = Q('ResearchSubject.Specimen.identifier.system = \"GDC\"')\n",
    "\n",
    "q = q1.And(q2.And(q3))\n",
    "r = q.run()\n",
    "\n",
    "print(r)"
   ]
  },
  {
   "cell_type": "markdown",
   "metadata": {},
   "source": [
    "By comparing the ```Count``` value of the two results we can see that all the patients returned in the initial query are coming from the GDC.\n",
    "\n",
    "To explore the results further, we can fetch the patient JSON objects by iterating through the results:"
   ]
  },
  {
   "cell_type": "code",
   "execution_count": null,
   "metadata": {},
   "outputs": [],
   "source": [
    "projects = set()\n",
    "\n",
    "for patient in r:\n",
    "    research_subjects = patient['ResearchSubject']\n",
    "    for rs in research_subjects:\n",
    "        projects.add(rs['associated_project'])\n",
    "\n",
    "print(projects)"
   ]
  },
  {
   "cell_type": "markdown",
   "metadata": {},
   "source": [
    "The output shows the projects where _Nevi and Melanomas_ cases appear."
   ]
  },
  {
   "cell_type": "markdown",
   "metadata": {},
   "source": [
    "### Query 3\n",
    "\n",
    "**Identify all samples that meet the following conditions:**\n",
    "\n",
    "* **Sample is from primary tumor**\n",
    "* **Disease is ovarian or breast cancer**\n",
    "* **Subjects are females under the age of 60 years**"
   ]
  },
  {
   "cell_type": "code",
   "execution_count": null,
   "metadata": {},
   "outputs": [],
   "source": [
    "tumor_type = Q('ResearchSubject.Specimen.source_material_type = \"Primary Tumor\"')\n",
    "disease1 = Q('ResearchSubject.primary_disease_site = \"Ovary\"')\n",
    "disease2 = Q('ResearchSubject.primary_disease_site = \"Breast\"')\n",
    "demographics1 = Q('sex = \"female\"')\n",
    "demographics2 = Q('days_to_birth > -60*365') # note that days_to_birth is a negative value\n",
    "\n",
    "q1 = tumor_type.And(demographics1.And(demographics2))\n",
    "q2 = disease1.Or(disease2)\n",
    "q = q1.And(q2)\n",
    "\n",
    "r = q.run()\n",
    "print(r)"
   ]
  },
  {
   "cell_type": "markdown",
   "metadata": {},
   "source": [
    "In this case, we have a result that contains more than 1000 records which is the default page size. To load the next 1000 records, we can use the ```next_page()``` method:"
   ]
  },
  {
   "cell_type": "code",
   "execution_count": null,
   "metadata": {},
   "outputs": [],
   "source": [
    "r2 = r.next_page()"
   ]
  },
  {
   "cell_type": "code",
   "execution_count": null,
   "metadata": {},
   "outputs": [],
   "source": [
    "print(r2)"
   ]
  },
  {
   "cell_type": "markdown",
   "metadata": {},
   "source": [
    "Alternatively, we can use the ```offset``` argument to specify the record to start from:\n",
    "\n",
    "```\n",
    "...\n",
    "r = q.run(offset=1000)\n",
    "print(r)\n",
    "```"
   ]
  },
  {
   "cell_type": "markdown",
   "metadata": {},
   "source": [
    "### Query 4\n",
    "\n",
    "**Find data for donors with \"Ovarian Serous Cystadenocarcinoma\" with proteomic and genomic data.**"
   ]
  },
  {
   "cell_type": "markdown",
   "metadata": {},
   "source": [
    "**Note that disease type value denoting the same disease groups can be completely different within different systems. This is where CDA features come into play.** We first start by exploring the values available for this particular field in both systems."
   ]
  },
  {
   "cell_type": "code",
   "execution_count": null,
   "metadata": {},
   "outputs": [],
   "source": [
    "unique_terms('ResearchSubject.primary_disease_type', system=\"GDC\",limit=10)"
   ]
  },
  {
   "cell_type": "markdown",
   "metadata": {},
   "source": [
    "Since “Ovarian Serous Cystadenocarcinoma” doesn’t appear in GDC values we decide to look into the PDC:"
   ]
  },
  {
   "cell_type": "code",
   "execution_count": null,
   "metadata": {},
   "outputs": [],
   "source": [
    "unique_terms('ResearchSubject.primary_disease_type', system=\"PDC\")"
   ]
  },
  {
   "cell_type": "markdown",
   "metadata": {},
   "source": [
    "After examining the output, we see that it does come from the PDC. Hence, if we could first identify the data that has research subjects found within the PDC that have this particular disease type, and then further narrow down the results to include only the portion of the data that is present in GDC, we could get the records that we are looking for."
   ]
  },
  {
   "cell_type": "code",
   "execution_count": null,
   "metadata": {},
   "outputs": [],
   "source": [
    "q1 = Q('ResearchSubject.primary_disease_type = \"Ovarian Serous Cystadenocarcinoma\"')\n",
    "q2 = Q('ResearchSubject.identifier.system = \"PDC\"')\n",
    "q3 = Q('ResearchSubject.identifier.system = \"GDC\"')\n",
    "\n",
    "q = q3.From(q1.And(q2))\n",
    "r = q.run()\n",
    "\n",
    "print(r)"
   ]
  },
  {
   "cell_type": "markdown",
   "metadata": {},
   "source": [
    "As you can see, this is achieved by utilizing ```From``` operator. The ```From``` operator allows us to create queries from results of other queries. This is particularly useful when working with conditions that involve a single field which can take multiple different values for different items in a list that is being part of, e.g. we need ```ResearchSubject.identifier.system``` to be both “PDC” and “GDC” for a single patient. In such cases, ```And``` operator can’t help because it will return those entries where the field takes both values, which is zero entries."
   ]
  },
  {
   "cell_type": "code",
   "execution_count": null,
   "metadata": {},
   "outputs": [],
   "source": [
    "for i in Q.sql(\"SELECT * FROM `gdc-bq-sample.cda_mvp.INFORMATION_SCHEMA.COLUMN_FIELD_PATHS` WHERE table_name = 'v3' Limit 5\"):\n",
    "    print(i)"
   ]
  },
  {
   "cell_type": "code",
   "execution_count": null,
   "metadata": {},
   "outputs": [],
   "source": [
    "q1 = query('ResearchSubject.identifier.system = \"GDC\" FROM ResearchSubject.primary_disease_type = \"Ovarian Serous Cystadenocarcinoma\" AND ResearchSubject.identifier.system = \"PDC\"')\n",
    "result = q1.run(async_call=True)\n",
    "print(result)\n"
   ]
  },
  {
   "cell_type": "markdown",
   "metadata": {},
   "source": [
    "## Test queries"
   ]
  },
  {
   "cell_type": "markdown",
   "metadata": {},
   "source": [
    "Now that we've successfully run and analyzed a few queries, here are a few additional ones you can try out on your own.\n",
    "\n",
    "Solutions can be shared with the CDA team as indicated in the _Testing Guide_ document."
   ]
  },
  {
   "cell_type": "markdown",
   "metadata": {},
   "source": [
    "### Test Query 1\n",
    "\n",
    "**Find data from TCGA-BRCA project, with donors over the age of 50 with Stage IIIC cancer.**"
   ]
  },
  {
   "cell_type": "code",
   "execution_count": null,
   "metadata": {},
   "outputs": [],
   "source": [
    "# Solution\n",
    "\n",
    "# ...\n",
    "\n",
    "# print(r)"
   ]
  },
  {
   "cell_type": "markdown",
   "metadata": {},
   "source": [
    "### Test Query 2\n",
    "\n",
    "**Find data from all patients who have been treated with \"Radiation Therapy, NOS\" and have both genomic and proteomic data.**"
   ]
  },
  {
   "cell_type": "code",
   "execution_count": null,
   "metadata": {},
   "outputs": [],
   "source": [
    "# Solution\n",
    "\n",
    "# ...\n",
    "\n",
    "# print(r)"
   ]
  },
  {
   "cell_type": "markdown",
   "metadata": {},
   "source": [
    "### Test Query 3\n",
    "\n",
    "**Find data from all subjects with lung adenocarcinomas that have both primary and recurrent tumors.**"
   ]
  },
  {
   "cell_type": "code",
   "execution_count": null,
   "metadata": {},
   "outputs": [],
   "source": [
    "# Solution\n",
    "\n",
    "# ...\n",
    "\n",
    "# print(r)"
   ]
  },
  {
   "cell_type": "code",
   "execution_count": null,
   "metadata": {},
   "outputs": [],
   "source": [
    "\n",
    "Q('ResearchSubject.id = \"c5421e34-e5c7-4ba5-aed9-146a5575fd8d\"').run().pretty_print(-1) "
   ]
  }
 ],
 "metadata": {
  "interpreter": {
   "hash": "4578c8680ee810f847df558484335f5ffb0f004d38a87276387030f59580c508"
  },
  "kernelspec": {
   "display_name": "Python 3.7.9 64-bit ('venv': venv)",
   "name": "python3"
  },
  "language_info": {
   "codemirror_mode": {
    "name": "ipython",
    "version": 3
   },
   "file_extension": ".py",
   "mimetype": "text/x-python",
   "name": "python",
   "nbconvert_exporter": "python",
   "pygments_lexer": "ipython3",
   "version": "3.7.9"
  },
  "metadata": {
   "interpreter": {
    "hash": "5c867d1980d5b66d2bfc8a5903dcee074b4b68f3917a4f27f8a310cab24e9f1b"
   }
  }
 },
 "nbformat": 4,
 "nbformat_minor": 5
}
