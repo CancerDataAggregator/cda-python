{
 "cells": [
  {
   "cell_type": "code",
   "execution_count": 2,
   "metadata": {},
   "outputs": [
    {
     "data": {
      "text/html": [
       "<div>\n",
       "<style scoped>\n",
       "    .dataframe tbody tr th:only-of-type {\n",
       "        vertical-align: middle;\n",
       "    }\n",
       "\n",
       "    .dataframe tbody tr th {\n",
       "        vertical-align: top;\n",
       "    }\n",
       "\n",
       "    .dataframe thead th {\n",
       "        text-align: right;\n",
       "    }\n",
       "</style>\n",
       "<table border=\"1\" class=\"dataframe\">\n",
       "  <thead>\n",
       "    <tr style=\"text-align: right;\">\n",
       "      <th></th>\n",
       "      <th>total</th>\n",
       "      <th>files</th>\n",
       "      <th>system</th>\n",
       "      <th>sex</th>\n",
       "      <th>race</th>\n",
       "      <th>ethnicity</th>\n",
       "      <th>cause_of_death</th>\n",
       "    </tr>\n",
       "  </thead>\n",
       "  <tbody>\n",
       "    <tr>\n",
       "      <th>0</th>\n",
       "      <td>{0: 65}</td>\n",
       "      <td>{0: 45342}</td>\n",
       "      <td>{0: [{'system': 'GDC', 'count': 65}, {'system'...</td>\n",
       "      <td>{0: [{'sex': 'male', 'count': 47}, {'sex': 'fe...</td>\n",
       "      <td>{0: [{'race': 'white', 'count': 38}, {'race': ...</td>\n",
       "      <td>{0: [{'ethnicity': 'not hispanic or latino', '...</td>\n",
       "      <td>{0: [{'cause_of_death': 'Not Reported', 'count...</td>\n",
       "    </tr>\n",
       "  </tbody>\n",
       "</table>\n",
       "</div>"
      ],
      "text/plain": [
       "     total       files                                             system  \\\n",
       "0  {0: 65}  {0: 45342}  {0: [{'system': 'GDC', 'count': 65}, {'system'...   \n",
       "\n",
       "                                                 sex  \\\n",
       "0  {0: [{'sex': 'male', 'count': 47}, {'sex': 'fe...   \n",
       "\n",
       "                                                race  \\\n",
       "0  {0: [{'race': 'white', 'count': 38}, {'race': ...   \n",
       "\n",
       "                                           ethnicity  \\\n",
       "0  {0: [{'ethnicity': 'not hispanic or latino', '...   \n",
       "\n",
       "                                      cause_of_death  \n",
       "0  {0: [{'cause_of_death': 'Not Reported', 'count...  "
      ]
     },
     "execution_count": 2,
     "metadata": {},
     "output_type": "execute_result"
    }
   ],
   "source": [
    "import pandas as pd \n",
    "d = pd.DataFrame(\n",
    "    [\n",
    "     {'total': {0: 65},\n",
    " 'files': {0: 45342},\n",
    " 'system': {0: [{'system': 'GDC', 'count': 65},\n",
    "   {'system': 'IDC', 'count': 65},\n",
    "   {'system': 'PDC', 'count': 65}]},\n",
    " 'sex': {0: [{'sex': 'male', 'count': 47}, {'sex': 'female', 'count': 18}]},\n",
    " 'race': {0: [{'race': 'white', 'count': 38},\n",
    "   {'race': 'not reported', 'count': 26},\n",
    "   {'race': 'asian', 'count': 1}]},\n",
    " 'ethnicity': {0: [{'ethnicity': 'not hispanic or latino', 'count': 26},\n",
    "   {'ethnicity': 'not reported', 'count': 35},\n",
    "   {'ethnicity': 'hispanic or latino', 'count': 4}]},\n",
    " 'cause_of_death': {0: [{'cause_of_death': 'Not Reported', 'count': 63},\n",
    "   {'cause_of_death': 'Cancer Related', 'count': 2}]}}\n",
    "    \n",
    "    \n",
    "    \n",
    "    ]\n",
    "\n",
    ")\n",
    "\n",
    "\n",
    "d\n"
   ]
  }
 ],
 "metadata": {
  "kernelspec": {
   "display_name": "Python 3 (ipykernel)",
   "language": "python",
   "name": "python3"
  },
  "language_info": {
   "codemirror_mode": {
    "name": "ipython",
    "version": 3
   },
   "file_extension": ".py",
   "mimetype": "text/x-python",
   "name": "python",
   "nbconvert_exporter": "python",
   "pygments_lexer": "ipython3",
   "version": "3.10.4"
  },
  "vscode": {
   "interpreter": {
    "hash": "4578c8680ee810f847df558484335f5ffb0f004d38a87276387030f59580c508"
   }
  }
 },
 "nbformat": 4,
 "nbformat_minor": 4
}
