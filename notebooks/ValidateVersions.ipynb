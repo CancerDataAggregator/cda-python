{
 "cells": [
  {
   "cell_type": "code",
   "execution_count": null,
   "id": "a24348a9",
   "metadata": {},
   "outputs": [],
   "source": [
    "from cdapython import Q,unique_terms,columns\n",
    "import requests, json\n",
    "from deepdiff import DeepDiff"
   ]
  },
  {
   "cell_type": "code",
   "execution_count": null,
   "id": "05626725",
   "metadata": {},
   "outputs": [],
   "source": [
    "# postgres_url=\"http://localhost:8083/api/v1/boolean-query\"\n",
    "postgres_url=\"https://cancerdata.ah-cda6.bee.envs-terra.bio/api/v1/boolean-query\"\n",
    "postgres_params={'dryRun':'false','includeCount':'false','offset':0,'limit':100}\n",
    "headers={'accept':'application/json','Content-Type': 'application/json'}"
   ]
  },
  {
   "cell_type": "code",
   "execution_count": null,
   "id": "30bfb3d1",
   "metadata": {},
   "outputs": [],
   "source": [
    "def get_postgres_results(json_query):\n",
    "    return requests.post(postgres_url, params=postgres_params, headers=headers, json=json_query)\n"
   ]
  },
  {
   "cell_type": "code",
   "execution_count": null,
   "id": "41f42788",
   "metadata": {},
   "outputs": [],
   "source": [
    "myquery = Q('primary_diagnosis_site = \"brain\"').SELECT(\"subject_id,ethnicity\").ORDER_BY(\"subject_id\")"
   ]
  },
  {
   "cell_type": "code",
   "execution_count": null,
   "id": "8a0630c7",
   "metadata": {},
   "outputs": [],
   "source": [
    "print(myquery.to_dict())"
   ]
  },
  {
   "cell_type": "code",
   "execution_count": null,
   "id": "bdb67e68",
   "metadata": {},
   "outputs": [],
   "source": [
    "bq_results_json = myquery.run()._api_response.result"
   ]
  },
  {
   "cell_type": "code",
   "execution_count": null,
   "id": "7c79fa69",
   "metadata": {},
   "outputs": [],
   "source": [
    "pg_results = get_postgres_results(myquery.to_dict())"
   ]
  },
  {
   "cell_type": "code",
   "execution_count": null,
   "id": "e60075d4",
   "metadata": {},
   "outputs": [],
   "source": [
    "pg_results_json = pg_results.json()['result']"
   ]
  },
  {
   "cell_type": "code",
   "execution_count": null,
   "id": "ad66fa23",
   "metadata": {},
   "outputs": [],
   "source": [
    "diffs = DeepDiff(bq_results_json, pg_results_json)"
   ]
  },
  {
   "cell_type": "code",
   "execution_count": null,
   "id": "7f88b4d8",
   "metadata": {},
   "outputs": [],
   "source": [
    "print(diffs)"
   ]
  },
  {
   "cell_type": "code",
   "execution_count": null,
   "id": "3a86a4b0",
   "metadata": {},
   "outputs": [],
   "source": [
    "print(bq_results_json)"
   ]
  },
  {
   "cell_type": "code",
   "execution_count": null,
   "id": "ee2c8b4b",
   "metadata": {},
   "outputs": [],
   "source": [
    "print(pg_results_json)"
   ]
  }
 ],
 "metadata": {
  "kernelspec": {
   "display_name": "Python 3 (ipykernel)",
   "language": "python",
   "name": "python3"
  },
  "language_info": {
   "codemirror_mode": {
    "name": "ipython",
    "version": 3
   },
   "file_extension": ".py",
   "mimetype": "text/x-python",
   "name": "python",
   "nbconvert_exporter": "python",
   "pygments_lexer": "ipython3",
   "version": "3.9.15"
  }
 },
 "nbformat": 4,
 "nbformat_minor": 5
}
