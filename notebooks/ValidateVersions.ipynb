{
 "cells": [
  {
   "cell_type": "code",
   "execution_count": 15,
   "id": "a24348a9",
   "metadata": {},
   "outputs": [],
   "source": [
    "from cdapython import Q,unique_terms,columns\n",
    "import requests, json\n",
    "from deepdiff import DeepDiff"
   ]
  },
  {
   "cell_type": "code",
   "execution_count": 16,
   "id": "05626725",
   "metadata": {},
   "outputs": [],
   "source": [
    "postgres_url=\"https://cancerdata.ah-cda6.bee.envs-terra.bio/api/v1/boolean-query\"\n",
    "postgres_params={'dryRun':'false','includeCount':'false','offset':0,'limit':100}\n",
    "headers={'accept':'application/json','Content-Type': 'application/json'}"
   ]
  },
  {
   "cell_type": "code",
   "execution_count": 17,
   "id": "30bfb3d1",
   "metadata": {},
   "outputs": [],
   "source": [
    "def get_postgres_results(json_query):\n",
    "    return requests.post(postgres_url, params=postgres_params, headers=headers, json=json_query)"
   ]
  },
  {
   "cell_type": "code",
   "execution_count": 25,
   "id": "42e8b91f",
   "metadata": {},
   "outputs": [],
   "source": [
    "myquery = Q('(stage = \"IIA\" OR stage = \"IIB\") AND primary_diagnosis_site = \"Lung\"').ORDER_BY(\"subject_id\")"
   ]
  },
  {
   "cell_type": "code",
   "execution_count": 26,
   "id": "8a0630c7",
   "metadata": {},
   "outputs": [
    {
     "data": {
      "text/html": [
       "<pre style=\"white-space:pre;overflow-x:auto;line-height:normal;font-family:Menlo,'DejaVu Sans Mono',consolas,'Courier New',monospace\"><span style=\"font-weight: bold\">{</span>\n",
       "    <span style=\"color: #008000; text-decoration-color: #008000\">\"node_type\"</span>: <span style=\"color: #008000; text-decoration-color: #008000\">\"ORDERBY\"</span>,\n",
       "    <span style=\"color: #008000; text-decoration-color: #008000\">\"l\"</span>: <span style=\"font-weight: bold\">{</span>\n",
       "        <span style=\"color: #008000; text-decoration-color: #008000\">\"node_type\"</span>: <span style=\"color: #008000; text-decoration-color: #008000\">\"ORDERBYVALUES\"</span>,\n",
       "        <span style=\"color: #008000; text-decoration-color: #008000\">\"value\"</span>: <span style=\"color: #008000; text-decoration-color: #008000\">\"subject_id\"</span>\n",
       "    <span style=\"font-weight: bold\">}</span>,\n",
       "    <span style=\"color: #008000; text-decoration-color: #008000\">\"r\"</span>: <span style=\"font-weight: bold\">{</span>\n",
       "        <span style=\"color: #008000; text-decoration-color: #008000\">\"node_type\"</span>: <span style=\"color: #008000; text-decoration-color: #008000\">\"AND\"</span>,\n",
       "        <span style=\"color: #008000; text-decoration-color: #008000\">\"l\"</span>: <span style=\"font-weight: bold\">{</span>\n",
       "            <span style=\"color: #008000; text-decoration-color: #008000\">\"node_type\"</span>: <span style=\"color: #008000; text-decoration-color: #008000\">\"OR\"</span>,\n",
       "            <span style=\"color: #008000; text-decoration-color: #008000\">\"l\"</span>: <span style=\"font-weight: bold\">{</span>\n",
       "                <span style=\"color: #008000; text-decoration-color: #008000\">\"node_type\"</span>: <span style=\"color: #008000; text-decoration-color: #008000\">\"=\"</span>,\n",
       "                <span style=\"color: #008000; text-decoration-color: #008000\">\"l\"</span>: <span style=\"font-weight: bold\">{</span>\n",
       "                    <span style=\"color: #008000; text-decoration-color: #008000\">\"node_type\"</span>: <span style=\"color: #008000; text-decoration-color: #008000\">\"column\"</span>,\n",
       "                    <span style=\"color: #008000; text-decoration-color: #008000\">\"value\"</span>: <span style=\"color: #008000; text-decoration-color: #008000\">\"stage\"</span>\n",
       "                <span style=\"font-weight: bold\">}</span>,\n",
       "                <span style=\"color: #008000; text-decoration-color: #008000\">\"r\"</span>: <span style=\"font-weight: bold\">{</span>\n",
       "                    <span style=\"color: #008000; text-decoration-color: #008000\">\"node_type\"</span>: <span style=\"color: #008000; text-decoration-color: #008000\">\"quoted\"</span>,\n",
       "                    <span style=\"color: #008000; text-decoration-color: #008000\">\"value\"</span>: <span style=\"color: #008000; text-decoration-color: #008000\">\"IIA\"</span>\n",
       "                <span style=\"font-weight: bold\">}</span>\n",
       "            <span style=\"font-weight: bold\">}</span>,\n",
       "            <span style=\"color: #008000; text-decoration-color: #008000\">\"r\"</span>: <span style=\"font-weight: bold\">{</span>\n",
       "                <span style=\"color: #008000; text-decoration-color: #008000\">\"node_type\"</span>: <span style=\"color: #008000; text-decoration-color: #008000\">\"=\"</span>,\n",
       "                <span style=\"color: #008000; text-decoration-color: #008000\">\"l\"</span>: <span style=\"font-weight: bold\">{</span>\n",
       "                    <span style=\"color: #008000; text-decoration-color: #008000\">\"node_type\"</span>: <span style=\"color: #008000; text-decoration-color: #008000\">\"column\"</span>,\n",
       "                    <span style=\"color: #008000; text-decoration-color: #008000\">\"value\"</span>: <span style=\"color: #008000; text-decoration-color: #008000\">\"stage\"</span>\n",
       "                <span style=\"font-weight: bold\">}</span>,\n",
       "                <span style=\"color: #008000; text-decoration-color: #008000\">\"r\"</span>: <span style=\"font-weight: bold\">{</span>\n",
       "                    <span style=\"color: #008000; text-decoration-color: #008000\">\"node_type\"</span>: <span style=\"color: #008000; text-decoration-color: #008000\">\"quoted\"</span>,\n",
       "                    <span style=\"color: #008000; text-decoration-color: #008000\">\"value\"</span>: <span style=\"color: #008000; text-decoration-color: #008000\">\"IIB\"</span>\n",
       "                <span style=\"font-weight: bold\">}</span>\n",
       "            <span style=\"font-weight: bold\">}</span>\n",
       "        <span style=\"font-weight: bold\">}</span>,\n",
       "        <span style=\"color: #008000; text-decoration-color: #008000\">\"r\"</span>: <span style=\"font-weight: bold\">{</span>\n",
       "            <span style=\"color: #008000; text-decoration-color: #008000\">\"node_type\"</span>: <span style=\"color: #008000; text-decoration-color: #008000\">\"=\"</span>,\n",
       "            <span style=\"color: #008000; text-decoration-color: #008000\">\"l\"</span>: <span style=\"font-weight: bold\">{</span>\n",
       "                <span style=\"color: #008000; text-decoration-color: #008000\">\"node_type\"</span>: <span style=\"color: #008000; text-decoration-color: #008000\">\"column\"</span>,\n",
       "                <span style=\"color: #008000; text-decoration-color: #008000\">\"value\"</span>: <span style=\"color: #008000; text-decoration-color: #008000\">\"primary_diagnosis_site\"</span>\n",
       "            <span style=\"font-weight: bold\">}</span>,\n",
       "            <span style=\"color: #008000; text-decoration-color: #008000\">\"r\"</span>: <span style=\"font-weight: bold\">{</span>\n",
       "                <span style=\"color: #008000; text-decoration-color: #008000\">\"node_type\"</span>: <span style=\"color: #008000; text-decoration-color: #008000\">\"quoted\"</span>,\n",
       "                <span style=\"color: #008000; text-decoration-color: #008000\">\"value\"</span>: <span style=\"color: #008000; text-decoration-color: #008000\">\"Lung\"</span>\n",
       "            <span style=\"font-weight: bold\">}</span>\n",
       "        <span style=\"font-weight: bold\">}</span>\n",
       "    <span style=\"font-weight: bold\">}</span>\n",
       "<span style=\"font-weight: bold\">}</span>\n",
       "</pre>\n"
      ],
      "text/plain": [
       "\u001b[1m{\u001b[0m\n",
       "    \u001b[32m\"node_type\"\u001b[0m: \u001b[32m\"ORDERBY\"\u001b[0m,\n",
       "    \u001b[32m\"l\"\u001b[0m: \u001b[1m{\u001b[0m\n",
       "        \u001b[32m\"node_type\"\u001b[0m: \u001b[32m\"ORDERBYVALUES\"\u001b[0m,\n",
       "        \u001b[32m\"value\"\u001b[0m: \u001b[32m\"subject_id\"\u001b[0m\n",
       "    \u001b[1m}\u001b[0m,\n",
       "    \u001b[32m\"r\"\u001b[0m: \u001b[1m{\u001b[0m\n",
       "        \u001b[32m\"node_type\"\u001b[0m: \u001b[32m\"AND\"\u001b[0m,\n",
       "        \u001b[32m\"l\"\u001b[0m: \u001b[1m{\u001b[0m\n",
       "            \u001b[32m\"node_type\"\u001b[0m: \u001b[32m\"OR\"\u001b[0m,\n",
       "            \u001b[32m\"l\"\u001b[0m: \u001b[1m{\u001b[0m\n",
       "                \u001b[32m\"node_type\"\u001b[0m: \u001b[32m\"=\"\u001b[0m,\n",
       "                \u001b[32m\"l\"\u001b[0m: \u001b[1m{\u001b[0m\n",
       "                    \u001b[32m\"node_type\"\u001b[0m: \u001b[32m\"column\"\u001b[0m,\n",
       "                    \u001b[32m\"value\"\u001b[0m: \u001b[32m\"stage\"\u001b[0m\n",
       "                \u001b[1m}\u001b[0m,\n",
       "                \u001b[32m\"r\"\u001b[0m: \u001b[1m{\u001b[0m\n",
       "                    \u001b[32m\"node_type\"\u001b[0m: \u001b[32m\"quoted\"\u001b[0m,\n",
       "                    \u001b[32m\"value\"\u001b[0m: \u001b[32m\"IIA\"\u001b[0m\n",
       "                \u001b[1m}\u001b[0m\n",
       "            \u001b[1m}\u001b[0m,\n",
       "            \u001b[32m\"r\"\u001b[0m: \u001b[1m{\u001b[0m\n",
       "                \u001b[32m\"node_type\"\u001b[0m: \u001b[32m\"=\"\u001b[0m,\n",
       "                \u001b[32m\"l\"\u001b[0m: \u001b[1m{\u001b[0m\n",
       "                    \u001b[32m\"node_type\"\u001b[0m: \u001b[32m\"column\"\u001b[0m,\n",
       "                    \u001b[32m\"value\"\u001b[0m: \u001b[32m\"stage\"\u001b[0m\n",
       "                \u001b[1m}\u001b[0m,\n",
       "                \u001b[32m\"r\"\u001b[0m: \u001b[1m{\u001b[0m\n",
       "                    \u001b[32m\"node_type\"\u001b[0m: \u001b[32m\"quoted\"\u001b[0m,\n",
       "                    \u001b[32m\"value\"\u001b[0m: \u001b[32m\"IIB\"\u001b[0m\n",
       "                \u001b[1m}\u001b[0m\n",
       "            \u001b[1m}\u001b[0m\n",
       "        \u001b[1m}\u001b[0m,\n",
       "        \u001b[32m\"r\"\u001b[0m: \u001b[1m{\u001b[0m\n",
       "            \u001b[32m\"node_type\"\u001b[0m: \u001b[32m\"=\"\u001b[0m,\n",
       "            \u001b[32m\"l\"\u001b[0m: \u001b[1m{\u001b[0m\n",
       "                \u001b[32m\"node_type\"\u001b[0m: \u001b[32m\"column\"\u001b[0m,\n",
       "                \u001b[32m\"value\"\u001b[0m: \u001b[32m\"primary_diagnosis_site\"\u001b[0m\n",
       "            \u001b[1m}\u001b[0m,\n",
       "            \u001b[32m\"r\"\u001b[0m: \u001b[1m{\u001b[0m\n",
       "                \u001b[32m\"node_type\"\u001b[0m: \u001b[32m\"quoted\"\u001b[0m,\n",
       "                \u001b[32m\"value\"\u001b[0m: \u001b[32m\"Lung\"\u001b[0m\n",
       "            \u001b[1m}\u001b[0m\n",
       "        \u001b[1m}\u001b[0m\n",
       "    \u001b[1m}\u001b[0m\n",
       "\u001b[1m}\u001b[0m\n"
      ]
     },
     "metadata": {},
     "output_type": "display_data"
    }
   ],
   "source": [
    "print(myquery.to_json())"
   ]
  },
  {
   "cell_type": "code",
   "execution_count": 27,
   "id": "bdb67e68",
   "metadata": {},
   "outputs": [
    {
     "data": {
      "text/html": [
       "<pre style=\"white-space:pre;overflow-x:auto;line-height:normal;font-family:Menlo,'DejaVu Sans Mono',consolas,'Courier New',monospace\">\n",
       "                            Total execution time: <span style=\"color: #008080; text-decoration-color: #008080; font-weight: bold\">0</span>\n",
       "                            min <span style=\"color: #008080; text-decoration-color: #008080; font-weight: bold\">4.289</span> sec <span style=\"color: #008080; text-decoration-color: #008080; font-weight: bold\">4289</span> ms\n",
       "                            \n",
       "</pre>\n"
      ],
      "text/plain": [
       "\n",
       "                            Total execution time: \u001b[1;36m0\u001b[0m\n",
       "                            min \u001b[1;36m4.289\u001b[0m sec \u001b[1;36m4289\u001b[0m ms\n",
       "                            \n"
      ]
     },
     "metadata": {},
     "output_type": "display_data"
    }
   ],
   "source": [
    "bq_response = myquery.subject.run(verbose=False)._api_response\n",
    "bq_sql = bq_response.query_sql\n",
    "bq_results_json = bq_response.result"
   ]
  },
  {
   "cell_type": "code",
   "execution_count": 28,
   "id": "7c79fa69",
   "metadata": {},
   "outputs": [
    {
     "data": {
      "text/html": [
       "<pre style=\"white-space:pre;overflow-x:auto;line-height:normal;font-family:Menlo,'DejaVu Sans Mono',consolas,'Courier New',monospace\">\n",
       "                            Total execution time: <span style=\"color: #008080; text-decoration-color: #008080; font-weight: bold\">0</span>\n",
       "                            min <span style=\"color: #008080; text-decoration-color: #008080; font-weight: bold\">1.483</span> sec <span style=\"color: #008080; text-decoration-color: #008080; font-weight: bold\">1483</span> ms\n",
       "                            \n",
       "</pre>\n"
      ],
      "text/plain": [
       "\n",
       "                            Total execution time: \u001b[1;36m0\u001b[0m\n",
       "                            min \u001b[1;36m1.483\u001b[0m sec \u001b[1;36m1483\u001b[0m ms\n",
       "                            \n"
      ]
     },
     "metadata": {},
     "output_type": "display_data"
    }
   ],
   "source": [
    "pg_response = get_postgres_results(myquery.to_dict())\n",
    "pg_sql = pg_response.json()['query_sql']\n",
    "pg_results_json = pg_response.json()['result']"
   ]
  },
  {
   "cell_type": "code",
   "execution_count": 29,
   "id": "ad66fa23",
   "metadata": {},
   "outputs": [],
   "source": [
    "diffs = DeepDiff(bq_results_json, pg_results_json,  ignore_order=True)"
   ]
  },
  {
   "cell_type": "code",
   "execution_count": 30,
   "id": "7f88b4d8",
   "metadata": {},
   "outputs": [],
   "source": [
    "if (len(diffs) > 0):\n",
    "    print(diffs)\n",
    "    print(bq_sql)\n",
    "    print(pg_sql)"
   ]
  }
 ],
 "metadata": {
  "kernelspec": {
   "display_name": "Python 3 (ipykernel)",
   "language": "python",
   "name": "python3"
  },
  "language_info": {
   "codemirror_mode": {
    "name": "ipython",
    "version": 3
   },
   "file_extension": ".py",
   "mimetype": "text/x-python",
   "name": "python",
   "nbconvert_exporter": "python",
   "pygments_lexer": "ipython3",
   "version": "3.9.15"
  }
 },
 "nbformat": 4,
 "nbformat_minor": 5
}
