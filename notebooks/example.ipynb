{
 "cells": [
  {
   "cell_type": "markdown",
   "id": "sustained-launch",
   "metadata": {},
   "source": [
    "# CDA Python: Features & Examples\n",
    "---"
   ]
  },
  {
   "cell_type": "markdown",
   "id": "legitimate-indication",
   "metadata": {},
   "source": [
    "The following examples illustrate some ```CDA Python``` features while providing insights into the underlying data structure (**Getting started**). To demonstrate those features, we provide a few relevant text queries along with step-by-step explanations on how to translate those into the ```CDA Python``` queries (**Example queries**). Finally, there are a few additional queries intended for the test users to play around with and send feedback to the CDA team (**Test queries**)."
   ]
  },
  {
   "cell_type": "code",
   "execution_count": 1,
   "id": "vertical-medium",
   "metadata": {},
   "outputs": [],
   "source": [
    "from cdapython import Q, columns, unique_terms"
   ]
  },
  {
   "cell_type": "markdown",
   "id": "found-lingerie",
   "metadata": {},
   "source": [
    "## Getting started"
   ]
  },
  {
   "cell_type": "markdown",
   "id": "destroyed-behalf",
   "metadata": {},
   "source": [
    "Print out the list of available fields with ```columns()```:"
   ]
  },
  {
   "cell_type": "code",
   "execution_count": 5,
   "id": "wooden-windsor",
   "metadata": {
    "scrolled": false
   },
   "outputs": [
    {
     "name": "stderr",
     "output_type": "stream",
     "text": [
      "SELECT field_path FROM `gdc-bq-sample.integration.INFORMATION_SCHEMA.COLUMN_FIELD_PATHS` WHERE table_name = 'all_v1'\n"
     ]
    },
    {
     "data": {
      "text/plain": [
       "['days_to_birth',\n",
       " 'race',\n",
       " 'sex',\n",
       " 'ethnicity',\n",
       " 'id',\n",
       " 'ResearchSubject',\n",
       " 'ResearchSubject.Diagnosis',\n",
       " 'ResearchSubject.Diagnosis.morphology',\n",
       " 'ResearchSubject.Diagnosis.tumor_stage',\n",
       " 'ResearchSubject.Diagnosis.tumor_grade',\n",
       " 'ResearchSubject.Diagnosis.Treatment',\n",
       " 'ResearchSubject.Diagnosis.Treatment.type',\n",
       " 'ResearchSubject.Diagnosis.Treatment.outcome',\n",
       " 'ResearchSubject.Diagnosis.id',\n",
       " 'ResearchSubject.Diagnosis.primary_diagnosis',\n",
       " 'ResearchSubject.Diagnosis.age_at_diagnosis',\n",
       " 'ResearchSubject.Specimen',\n",
       " 'ResearchSubject.Specimen.File',\n",
       " 'ResearchSubject.Specimen.File.label',\n",
       " 'ResearchSubject.Specimen.File.associated_project',\n",
       " 'ResearchSubject.Specimen.File.drs_uri',\n",
       " 'ResearchSubject.Specimen.File.identifier',\n",
       " 'ResearchSubject.Specimen.File.identifier.system',\n",
       " 'ResearchSubject.Specimen.File.identifier.value',\n",
       " 'ResearchSubject.Specimen.File.data_category',\n",
       " 'ResearchSubject.Specimen.File.byte_size',\n",
       " 'ResearchSubject.Specimen.File.type',\n",
       " 'ResearchSubject.Specimen.File.file_format',\n",
       " 'ResearchSubject.Specimen.File.checksum',\n",
       " 'ResearchSubject.Specimen.File.id',\n",
       " 'ResearchSubject.Specimen.File.data_type',\n",
       " 'ResearchSubject.Specimen.derived_from_specimen',\n",
       " 'ResearchSubject.Specimen.associated_project',\n",
       " 'ResearchSubject.Specimen.age_at_collection',\n",
       " 'ResearchSubject.Specimen.anatomical_site',\n",
       " 'ResearchSubject.Specimen.source_material_type',\n",
       " 'ResearchSubject.Specimen.derived_from_subject',\n",
       " 'ResearchSubject.Specimen.specimen_type',\n",
       " 'ResearchSubject.Specimen.id',\n",
       " 'ResearchSubject.Specimen.primary_disease_type',\n",
       " 'ResearchSubject.Specimen.identifier',\n",
       " 'ResearchSubject.Specimen.identifier.system',\n",
       " 'ResearchSubject.Specimen.identifier.value',\n",
       " 'ResearchSubject.associated_project',\n",
       " 'ResearchSubject.id',\n",
       " 'ResearchSubject.primary_disease_type',\n",
       " 'ResearchSubject.identifier',\n",
       " 'ResearchSubject.identifier.system',\n",
       " 'ResearchSubject.identifier.value',\n",
       " 'ResearchSubject.primary_disease_site']"
      ]
     },
     "execution_count": 5,
     "metadata": {},
     "output_type": "execute_result"
    }
   ],
   "source": [
    "columns()"
   ]
  },
  {
   "cell_type": "markdown",
   "id": "simplified-inquiry",
   "metadata": {},
   "source": [
    "All of the above fields are what describes the highest entity in the data structure hierarchy – ```Patient``` entity. The first five fields represent ```Patient``` demographic information, while the ```ResearchSubject``` entity contains details that we are used to seeing within the nodes' ```Case``` record.\n",
    "\n",
    "One of the contributions of the CDA is aggregated ```ResearchSubject``` information. This means that all ```ResearchSubject``` records coming from the same subject are now gathered under the Patient entity. As we know, certain specimens are studied in multiple projects (being part of a single data node or multiple nodes) as different ```ResearchSubject``` entries. Those ```ResearchSubject``` entries are collected as a list under the ```ResearchSubject``` entity. One example of this is the patient record with ```id = TCGA-E2-A10A``` which contains two ```ResearchSubject``` entries, one from GDC and the other from PDC.\n",
    "\n",
    "Note that the ```ResearchSubject``` entity is a list of records, as many other entities above are. **There are certain considerations that should be made when creating the queries by using the fields that come from lists, but more about that will follow in examples below**.\n",
    "\n",
    "The names in the list may look familiar to you, but they may have been renamed or restructured in the CDA. The field name mappings are described in the _CDA Schema Field Mapping_ document that is linked in the _Testing Guide_. A more direct way to explore and understand the fields is to use the ```unique_terms()``` function:"
   ]
  },
  {
   "cell_type": "code",
   "execution_count": 3,
   "id": "primary-norman",
   "metadata": {
    "scrolled": false
   },
   "outputs": [
    {
     "name": "stderr",
     "output_type": "stream",
     "text": [
      "SELECT DISTINCT(_Specimen.source_material_type) FROM `gdc-bq-sample.integration.all_v1`, UNNEST(ResearchSubject) AS _ResearchSubject,UNNEST(_ResearchSubject.Specimen) AS _Specimen ORDER BY _Specimen.source_material_type\n"
     ]
    },
    {
     "data": {
      "text/plain": [
       "['Additional - New Primary',\n",
       " 'Additional Metastatic',\n",
       " 'Blood Derived Cancer - Bone Marrow',\n",
       " 'Blood Derived Cancer - Bone Marrow, Post-treatment',\n",
       " 'Blood Derived Cancer - Peripheral Blood',\n",
       " 'Blood Derived Cancer - Peripheral Blood, Post-treatment',\n",
       " 'Blood Derived Normal',\n",
       " 'Bone Marrow Normal',\n",
       " 'Buccal Cell Normal',\n",
       " 'Cell Lines',\n",
       " 'Control Analyte',\n",
       " 'DNA',\n",
       " 'Expanded Next Generation Cancer Model',\n",
       " 'FFPE Scrolls',\n",
       " 'Fibroblasts from Bone Marrow Normal',\n",
       " 'Granulocytes',\n",
       " 'Lymphoid Normal',\n",
       " 'Metastatic',\n",
       " 'Mononuclear Cells from Bone Marrow Normal',\n",
       " 'Neoplasms of Uncertain and Unknown Behavior',\n",
       " 'Next Generation Cancer Model',\n",
       " 'Normal',\n",
       " 'Normal Adjacent Tissue',\n",
       " 'Not Reported',\n",
       " 'Post neo-adjuvant therapy',\n",
       " 'Primary Blood Derived Cancer - Bone Marrow',\n",
       " 'Primary Blood Derived Cancer - Peripheral Blood',\n",
       " 'Primary Tumor',\n",
       " 'Primary Xenograft Tissue',\n",
       " 'Recurrent Blood Derived Cancer - Bone Marrow',\n",
       " 'Recurrent Blood Derived Cancer - Peripheral Blood',\n",
       " 'Recurrent Tumor',\n",
       " 'Slides',\n",
       " 'Solid Tissue Normal',\n",
       " 'Tumor',\n",
       " 'Unknown',\n",
       " 'Xenograft',\n",
       " 'Xenograft Tissue']"
      ]
     },
     "execution_count": 3,
     "metadata": {},
     "output_type": "execute_result"
    }
   ],
   "source": [
    "unique_terms(\"ResearchSubject.Specimen.source_material_type\")"
   ]
  },
  {
   "cell_type": "markdown",
   "id": "lyric-design",
   "metadata": {},
   "source": [
    "Additionally, you can specify a particular data node by using the ```system``` argument:"
   ]
  },
  {
   "cell_type": "code",
   "execution_count": 4,
   "id": "funded-colon",
   "metadata": {},
   "outputs": [
    {
     "name": "stderr",
     "output_type": "stream",
     "text": [
      "SELECT DISTINCT(_Specimen.source_material_type) FROM `gdc-bq-sample.integration.all_v1`, UNNEST(ResearchSubject) AS _ResearchSubject,UNNEST(_ResearchSubject.Specimen) AS _Specimen,UNNEST(_ResearchSubject.identifier) AS _identifier WHERE _identifier.system=\"PDC\" ORDER BY _Specimen.source_material_type\n"
     ]
    },
    {
     "data": {
      "text/plain": [
       "['Cell Lines',\n",
       " 'Normal',\n",
       " 'Normal Adjacent Tissue',\n",
       " 'Not Reported',\n",
       " 'Primary Tumor',\n",
       " 'Solid Tissue Normal',\n",
       " 'Tumor',\n",
       " 'Xenograft',\n",
       " 'Xenograft Tissue']"
      ]
     },
     "execution_count": 4,
     "metadata": {},
     "output_type": "execute_result"
    }
   ],
   "source": [
    "unique_terms(\"ResearchSubject.Specimen.source_material_type\", system=\"PDC\")"
   ]
  },
  {
   "cell_type": "markdown",
   "id": "floppy-subscriber",
   "metadata": {},
   "source": [
    "Now, let's dive into the querying!\n",
    "\n",
    "We can start by getting the record for ```id = TCGA-E2-A10A``` that we mentioned earlier:"
   ]
  },
  {
   "cell_type": "code",
   "execution_count": 2,
   "id": "distant-sheet",
   "metadata": {},
   "outputs": [
    {
     "name": "stdout",
     "output_type": "stream",
     "text": [
      "\n",
      "Query: SELECT all_v1.* FROM gdc-bq-sample.integration.all_v1 AS all_v1 WHERE (all_v1.id = 'TCGA-E2-A10A')\n",
      "Offset: 0\n",
      "Count: 1\n",
      "Total Row Count: 1\n",
      "More pages: False\n",
      "\n"
     ]
    }
   ],
   "source": [
    "q = Q('id = \"TCGA-E2-A10A\"') # note the double quotes for the string value\n",
    "\n",
    "r = q.run()\n",
    "\n",
    "print(r)"
   ]
  },
  {
   "cell_type": "markdown",
   "id": "extended-operator",
   "metadata": {},
   "source": [
    "We see that we've got a single patient record as a result, which is what we expect.\n",
    "\n",
    "Let's see how the result looks like:"
   ]
  },
  {
   "cell_type": "code",
   "execution_count": null,
   "id": "increasing-philadelphia",
   "metadata": {
    "scrolled": true
   },
   "outputs": [],
   "source": [
    "r[0]"
   ]
  },
  {
   "cell_type": "markdown",
   "id": "pleasant-rendering",
   "metadata": {},
   "source": [
    "The record is pretty large, so we'll print out ```identifier``` values for each ```ResearchSubject``` to confirm that we have one ```ResearchSubject``` that comes from GDC, and one that comes from PDC:"
   ]
  },
  {
   "cell_type": "code",
   "execution_count": 7,
   "id": "metric-toyota",
   "metadata": {},
   "outputs": [
    {
     "name": "stdout",
     "output_type": "stream",
     "text": [
      "[{'system': 'GDC', 'value': '4da7abaf-ac7a-41c0-8033-5780a398545c'}]\n",
      "[{'system': 'PDC', 'value': '010df72d-63d9-11e8-bcf1-0a2705229b82'}]\n"
     ]
    }
   ],
   "source": [
    "for research_subject in r[0]['ResearchSubject']:\n",
    "    print(research_subject['identifier'])"
   ]
  },
  {
   "cell_type": "markdown",
   "id": "marked-museum",
   "metadata": {},
   "source": [
    "The values represent ```ResearchSubject``` IDs and are equivalent to ```case_id``` values in data nodes."
   ]
  },
  {
   "cell_type": "markdown",
   "id": "6c6012e9",
   "metadata": {},
   "source": [
    "A researcher may want to reach back to a previous version of a table or data modeler may want to query a research or development table that has been created for a specific purpose. Q's run method takes several optional parameters which allows your to customize the endpoint you are querying against. (development/integration/local) or the table and version that may suit one's particular need."
   ]
  },
  {
   "cell_type": "code",
   "execution_count": null,
   "id": "bb358276",
   "metadata": {},
   "outputs": [],
   "source": [
    "q = Q('id = \"TCGA-E2-A10A\"') # note the double quotes for the string value\n",
    "\n",
    "r = q.run(host:\"http://localhost:8080\", table=\"gdc-bq-sample.R2_practice_kit\", version=\"all_v1\")\n",
    "\n",
    "print(r)"
   ]
  },
  {
   "cell_type": "markdown",
   "id": "provincial-sender",
   "metadata": {},
   "source": [
    "## Example queries"
   ]
  },
  {
   "cell_type": "markdown",
   "id": "moderate-handy",
   "metadata": {},
   "source": [
    "Now that we can create a query with ```Q()``` function, let's see how we can combine multiple conditions.\n",
    "\n",
    "There are three operators available:\n",
    "* ```And()```\n",
    "* ```Or()```\n",
    "* ```From()```\n",
    "\n",
    "The following examples show how those operators work in practice."
   ]
  },
  {
   "cell_type": "markdown",
   "id": "classified-metro",
   "metadata": {},
   "source": [
    "### Query 1\n",
    "\n",
    "**Find data for subjects who were diagnosed after the age of 50 and who were investigated as part of the TCGA-OV project.**"
   ]
  },
  {
   "cell_type": "code",
   "execution_count": 8,
   "id": "passive-dominican",
   "metadata": {},
   "outputs": [
    {
     "name": "stdout",
     "output_type": "stream",
     "text": [
      "\n",
      "Query: SELECT all_v1.* FROM gdc-bq-sample.integration.all_v1 AS all_v1, UNNEST(ResearchSubject) AS _ResearchSubject, UNNEST(_ResearchSubject.Diagnosis) AS _Diagnosis WHERE ((_Diagnosis.age_at_diagnosis > 50*365) AND (_ResearchSubject.associated_project = 'TCGA-OV'))\n",
      "Offset: 0\n",
      "Count: 461\n",
      "Total Row Count: 461\n",
      "More pages: False\n",
      "\n"
     ]
    }
   ],
   "source": [
    "q1 = Q('ResearchSubject.Diagnosis.age_at_diagnosis > 50*365')\n",
    "q2 = Q('ResearchSubject.associated_project = \"TCGA-OV\"')\n",
    "\n",
    "q = q1.And(q2)\n",
    "r = q.run()\n",
    "\n",
    "print(r)"
   ]
  },
  {
   "cell_type": "markdown",
   "id": "valid-telescope",
   "metadata": {},
   "source": [
    "### Query 2\n",
    "\n",
    "**Find data for donors with melanoma (Nevi and Melanomas) diagnosis and who were diagnosed before the age of 30.**"
   ]
  },
  {
   "cell_type": "code",
   "execution_count": 9,
   "id": "vanilla-proof",
   "metadata": {},
   "outputs": [
    {
     "name": "stdout",
     "output_type": "stream",
     "text": [
      "\n",
      "Query: SELECT all_v1.* FROM gdc-bq-sample.integration.all_v1 AS all_v1, UNNEST(ResearchSubject) AS _ResearchSubject, UNNEST(_ResearchSubject.Specimen) AS _Specimen, UNNEST(_ResearchSubject.Diagnosis) AS _Diagnosis WHERE ((_Specimen.primary_disease_type = 'Nevi and Melanomas') AND (_Diagnosis.age_at_diagnosis < 30*365))\n",
      "Offset: 0\n",
      "Count: 647\n",
      "Total Row Count: 647\n",
      "More pages: False\n",
      "\n"
     ]
    }
   ],
   "source": [
    "q1 = Q('ResearchSubject.Specimen.primary_disease_type = \"Nevi and Melanomas\"')\n",
    "q2 = Q('ResearchSubject.Diagnosis.age_at_diagnosis < 30*365')\n",
    "\n",
    "q = q1.And(q2)\n",
    "r = q.run()\n",
    "\n",
    "print(r)"
   ]
  },
  {
   "cell_type": "markdown",
   "id": "insured-electric",
   "metadata": {},
   "source": [
    "In addition, we can check how many records come from particular systems by adding one more condition to the query:"
   ]
  },
  {
   "cell_type": "code",
   "execution_count": 10,
   "id": "thermal-incentive",
   "metadata": {},
   "outputs": [
    {
     "name": "stdout",
     "output_type": "stream",
     "text": [
      "\n",
      "Query: SELECT all_v1.* FROM gdc-bq-sample.integration.all_v1 AS all_v1, UNNEST(ResearchSubject) AS _ResearchSubject, UNNEST(_ResearchSubject.Specimen) AS _Specimen, UNNEST(_ResearchSubject.Diagnosis) AS _Diagnosis, UNNEST(_Specimen.identifier) AS _identifier WHERE ((_Specimen.primary_disease_type = 'Nevi and Melanomas') AND ((_Diagnosis.age_at_diagnosis < 30*365) AND (_identifier.system = 'GDC')))\n",
      "Offset: 0\n",
      "Count: 647\n",
      "Total Row Count: 647\n",
      "More pages: False\n",
      "\n"
     ]
    }
   ],
   "source": [
    "q1 = Q('ResearchSubject.Specimen.primary_disease_type = \"Nevi and Melanomas\"')\n",
    "q2 = Q('ResearchSubject.Diagnosis.age_at_diagnosis < 30*365')\n",
    "q3 = Q('ResearchSubject.Specimen.identifier.system = \"GDC\"')\n",
    "\n",
    "q = q1.And(q2.And(q3))\n",
    "r = q.run()\n",
    "\n",
    "print(r)"
   ]
  },
  {
   "cell_type": "markdown",
   "id": "sudden-exhibit",
   "metadata": {},
   "source": [
    "By comparing the ```Count``` value of the two results we can see that all the patients returned in the initial query are coming from the GDC.\n",
    "\n",
    "To explore the results further, we can fetch the patient JSON objects by iterating through the results:"
   ]
  },
  {
   "cell_type": "code",
   "execution_count": 11,
   "id": "biological-actress",
   "metadata": {},
   "outputs": [
    {
     "name": "stdout",
     "output_type": "stream",
     "text": [
      "{'TCGA-UVM', 'TCGA-SKCM', 'FM-AD'}\n"
     ]
    }
   ],
   "source": [
    "projects = set()\n",
    "\n",
    "for patient in r:\n",
    "    research_subjects = patient['ResearchSubject']\n",
    "    for rs in research_subjects:\n",
    "        projects.add(rs['associated_project'])\n",
    "\n",
    "print(projects)"
   ]
  },
  {
   "cell_type": "markdown",
   "id": "collected-cisco",
   "metadata": {},
   "source": [
    "The output shows the projects where _Nevi and Melanomas_ cases appear."
   ]
  },
  {
   "cell_type": "markdown",
   "id": "removable-split",
   "metadata": {},
   "source": [
    "### Query 3\n",
    "\n",
    "**Identify all samples that meet the following conditions:**\n",
    "\n",
    "* **Sample is from primary tumor**\n",
    "* **Disease is ovarian or breast cancer**\n",
    "* **Subjects are females under the age of 60 years**"
   ]
  },
  {
   "cell_type": "code",
   "execution_count": 12,
   "id": "progressive-drove",
   "metadata": {},
   "outputs": [
    {
     "name": "stdout",
     "output_type": "stream",
     "text": [
      "\n",
      "Query: SELECT all_v1.* FROM gdc-bq-sample.integration.all_v1 AS all_v1, UNNEST(ResearchSubject) AS _ResearchSubject, UNNEST(_ResearchSubject.Specimen) AS _Specimen WHERE (((_Specimen.source_material_type = 'Primary Tumor') AND ((all_v1.sex = 'female') AND (all_v1.days_to_birth > -60*365))) AND ((_ResearchSubject.primary_disease_site = 'Ovary') OR (_ResearchSubject.primary_disease_site = 'Breast')))\n",
      "Offset: 0\n",
      "Count: 1000\n",
      "Total Row Count: 27284\n",
      "More pages: True\n",
      "\n"
     ]
    }
   ],
   "source": [
    "tumor_type = Q('ResearchSubject.Specimen.source_material_type = \"Primary Tumor\"')\n",
    "disease1 = Q('ResearchSubject.primary_disease_site = \"Ovary\"')\n",
    "disease2 = Q('ResearchSubject.primary_disease_site = \"Breast\"')\n",
    "demographics1 = Q('sex = \"female\"')\n",
    "demographics2 = Q('days_to_birth > -60*365') # note that days_to_birth is a negative value\n",
    "\n",
    "q1 = tumor_type.And(demographics1.And(demographics2))\n",
    "q2 = disease1.Or(disease2)\n",
    "q = q1.And(q2)\n",
    "\n",
    "r = q.run()\n",
    "print(r)"
   ]
  },
  {
   "cell_type": "markdown",
   "id": "marine-failing",
   "metadata": {},
   "source": [
    "In this case, we have a result that contains more than 1000 records which is the default page size. To load the next 1000 records, we can use the ```next_page()``` method:"
   ]
  },
  {
   "cell_type": "code",
   "execution_count": 13,
   "id": "informative-oxygen",
   "metadata": {},
   "outputs": [],
   "source": [
    "r2 = r.next_page()"
   ]
  },
  {
   "cell_type": "code",
   "execution_count": 14,
   "id": "social-average",
   "metadata": {},
   "outputs": [
    {
     "name": "stdout",
     "output_type": "stream",
     "text": [
      "\n",
      "Query: SELECT all_v1.* FROM gdc-bq-sample.integration.all_v1 AS all_v1, UNNEST(ResearchSubject) AS _ResearchSubject, UNNEST(_ResearchSubject.Specimen) AS _Specimen WHERE (((_Specimen.source_material_type = 'Primary Tumor') AND ((all_v1.sex = 'female') AND (all_v1.days_to_birth > -60*365))) AND ((_ResearchSubject.primary_disease_site = 'Ovary') OR (_ResearchSubject.primary_disease_site = 'Breast')))\n",
      "Offset: 1000\n",
      "Count: 1000\n",
      "Total Row Count: 27284\n",
      "More pages: True\n",
      "\n"
     ]
    }
   ],
   "source": [
    "print(r2)"
   ]
  },
  {
   "cell_type": "markdown",
   "id": "narrow-softball",
   "metadata": {},
   "source": [
    "Alternatively, we can use the ```offset``` argument to specify the record to start from:\n",
    "\n",
    "```\n",
    "...\n",
    "r = q.run(offset=1000)\n",
    "print(r)\n",
    "```"
   ]
  },
  {
   "cell_type": "markdown",
   "id": "further-chester",
   "metadata": {},
   "source": [
    "### Query 4\n",
    "\n",
    "**Find data for donors with \"Ovarian Serous Cystadenocarcinoma\" with proteomic and genomic data.**"
   ]
  },
  {
   "cell_type": "markdown",
   "id": "incident-sudan",
   "metadata": {},
   "source": [
    "**Note that disease type value denoting the same disease groups can be completely different within different systems. This is where CDA features come into play.** We first start by exploring the values available for this particular field in both systems."
   ]
  },
  {
   "cell_type": "code",
   "execution_count": 15,
   "id": "outstanding-hungary",
   "metadata": {},
   "outputs": [
    {
     "name": "stderr",
     "output_type": "stream",
     "text": [
      "SELECT DISTINCT(_ResearchSubject.primary_disease_type) FROM `gdc-bq-sample.integration.all_v1`, UNNEST(ResearchSubject) AS _ResearchSubject,UNNEST(_ResearchSubject.identifier) AS _identifier WHERE _identifier.system=\"GDC\" ORDER BY _ResearchSubject.primary_disease_type\n"
     ]
    },
    {
     "data": {
      "text/plain": [
       "[None,\n",
       " 'Acinar Cell Neoplasms',\n",
       " 'Adenomas and Adenocarcinomas',\n",
       " 'Adnexal and Skin Appendage Neoplasms',\n",
       " 'Basal Cell Neoplasms',\n",
       " 'Blood Vessel Tumors',\n",
       " 'Chronic Myeloproliferative Disorders',\n",
       " 'Complex Epithelial Neoplasms',\n",
       " 'Complex Mixed and Stromal Neoplasms',\n",
       " 'Cystic, Mucinous and Serous Neoplasms',\n",
       " 'Ductal and Lobular Neoplasms',\n",
       " 'Epithelial Neoplasms, NOS',\n",
       " 'Fibroepithelial Neoplasms',\n",
       " 'Fibromatous Neoplasms',\n",
       " 'Germ Cell Neoplasms',\n",
       " 'Giant Cell Tumors',\n",
       " 'Gliomas',\n",
       " 'Granular Cell Tumors and Alveolar Soft Part Sarcomas',\n",
       " 'Hodgkin Lymphoma',\n",
       " 'Immunoproliferative Diseases',\n",
       " 'Leukemias, NOS',\n",
       " 'Lipomatous Neoplasms',\n",
       " 'Lymphatic Vessel Tumors',\n",
       " 'Lymphoid Leukemias',\n",
       " 'Malignant Lymphomas, NOS or Diffuse',\n",
       " 'Mast Cell Tumors',\n",
       " 'Mature B-Cell Lymphomas',\n",
       " 'Mature T- and NK-Cell Lymphomas',\n",
       " 'Meningiomas',\n",
       " 'Mesonephromas',\n",
       " 'Mesothelial Neoplasms',\n",
       " 'Miscellaneous Bone Tumors',\n",
       " 'Miscellaneous Tumors',\n",
       " 'Mucoepidermoid Neoplasms',\n",
       " 'Myelodysplastic Syndromes',\n",
       " 'Myeloid Leukemias',\n",
       " 'Myomatous Neoplasms',\n",
       " 'Myxomatous Neoplasms',\n",
       " 'Neoplasms of Histiocytes and Accessory Lymphoid Cells',\n",
       " 'Neoplasms, NOS',\n",
       " 'Nerve Sheath Tumors',\n",
       " 'Neuroepitheliomatous Neoplasms',\n",
       " 'Nevi and Melanomas',\n",
       " 'Not Applicable',\n",
       " 'Not Reported',\n",
       " 'Odontogenic Tumors',\n",
       " 'Osseous and Chondromatous Neoplasms',\n",
       " 'Other Leukemias',\n",
       " 'Paragangliomas and Glomus Tumors',\n",
       " 'Plasma Cell Tumors',\n",
       " 'Precursor Cell Lymphoblastic Lymphoma',\n",
       " 'Soft Tissue Tumors and Sarcomas, NOS',\n",
       " 'Specialized Gonadal Neoplasms',\n",
       " 'Squamous Cell Neoplasms',\n",
       " 'Synovial-like Neoplasms',\n",
       " 'Thymic Epithelial Neoplasms',\n",
       " 'Transitional Cell Papillomas and Carcinomas',\n",
       " 'Trophoblastic neoplasms',\n",
       " 'Unknown']"
      ]
     },
     "execution_count": 15,
     "metadata": {},
     "output_type": "execute_result"
    }
   ],
   "source": [
    "unique_terms('ResearchSubject.primary_disease_type', system=\"GDC\")"
   ]
  },
  {
   "cell_type": "markdown",
   "id": "international-colleague",
   "metadata": {},
   "source": [
    "Since “Ovarian Serous Cystadenocarcinoma” doesn’t appear in GDC values we decide to look into the PDC:"
   ]
  },
  {
   "cell_type": "code",
   "execution_count": 16,
   "id": "million-cardiff",
   "metadata": {},
   "outputs": [
    {
     "name": "stderr",
     "output_type": "stream",
     "text": [
      "SELECT DISTINCT(_ResearchSubject.primary_disease_type) FROM `gdc-bq-sample.integration.all_v1`, UNNEST(ResearchSubject) AS _ResearchSubject,UNNEST(_ResearchSubject.identifier) AS _identifier WHERE _identifier.system=\"PDC\" ORDER BY _ResearchSubject.primary_disease_type\n"
     ]
    },
    {
     "data": {
      "text/plain": [
       "['Breast Invasive Carcinoma',\n",
       " 'Chromophobe Renal Cell Carcinoma',\n",
       " 'Clear Cell Renal Cell Carcinoma',\n",
       " 'Colon Adenocarcinoma',\n",
       " 'Early Onset Gastric Cancer',\n",
       " 'Glioblastoma',\n",
       " 'Head and Neck Squamous Cell Carcinoma',\n",
       " 'Hepatocellular Carcinoma ',\n",
       " 'Lung Adenocarcinoma',\n",
       " 'Lung Squamous Cell Carcinoma',\n",
       " 'Oral Squamous Cell Carcinoma',\n",
       " 'Other',\n",
       " 'Ovarian Serous Cystadenocarcinoma',\n",
       " 'Pancreatic Ductal Adenocarcinoma',\n",
       " 'Papillary Renal Cell Carcinoma',\n",
       " 'Pediatric/AYA Brain Tumors',\n",
       " 'Rectum Adenocarcinoma',\n",
       " 'Uterine Corpus Endometrial Carcinoma']"
      ]
     },
     "execution_count": 16,
     "metadata": {},
     "output_type": "execute_result"
    }
   ],
   "source": [
    "unique_terms('ResearchSubject.primary_disease_type', system=\"PDC\")"
   ]
  },
  {
   "cell_type": "markdown",
   "id": "explicit-value",
   "metadata": {},
   "source": [
    "After examining the output, we see that it does come from the PDC. Hence, if we could first identify the data that has research subjects found within the PDC that have this particular disease type, and then further narrow down the results to include only the portion of the data that is present in GDC, we could get the records that we are looking for."
   ]
  },
  {
   "cell_type": "code",
   "execution_count": 17,
   "id": "blessed-humidity",
   "metadata": {},
   "outputs": [
    {
     "name": "stdout",
     "output_type": "stream",
     "text": [
      "\n",
      "Query: SELECT all_v1.* FROM (SELECT all_v1.* FROM gdc-bq-sample.integration.all_v1 AS all_v1, UNNEST(ResearchSubject) AS _ResearchSubject, UNNEST(_ResearchSubject.identifier) AS _identifier WHERE ((_ResearchSubject.primary_disease_type = 'Ovarian Serous Cystadenocarcinoma') AND (_identifier.system = 'PDC'))) AS all_v1, UNNEST(ResearchSubject) AS _ResearchSubject, UNNEST(_ResearchSubject.identifier) AS _identifier WHERE (_identifier.system = 'GDC')\n",
      "Offset: 0\n",
      "Count: 275\n",
      "Total Row Count: 275\n",
      "More pages: False\n",
      "\n"
     ]
    }
   ],
   "source": [
    "q1 = Q('ResearchSubject.primary_disease_type = \"Ovarian Serous Cystadenocarcinoma\"')\n",
    "q2 = Q('ResearchSubject.identifier.system = \"PDC\"')\n",
    "q3 = Q('ResearchSubject.identifier.system = \"GDC\"')\n",
    "\n",
    "q = q3.From(q1.And(q2))\n",
    "r = q.run()\n",
    "\n",
    "print(r)"
   ]
  },
  {
   "cell_type": "markdown",
   "id": "valid-montreal",
   "metadata": {},
   "source": [
    "As you can see, this is achieved by utilizing ```From``` operator. The ```From``` operator allows us to create queries from results of other queries. This is particularly useful when working with conditions that involve a single field which can take multiple different values for different items in a list that is being part of, e.g. we need ```ResearchSubject.identifier.system``` to be both “PDC” and “GDC” for a single patient. In such cases, ```And``` operator can’t help because it will return those entries where the field takes both values, which is zero entries."
   ]
  },
  {
   "cell_type": "code",
   "execution_count": 2,
   "id": "5999e93b",
   "metadata": {},
   "outputs": [
    {
     "name": "stdout",
     "output_type": "stream",
     "text": [
      "{ 'column_name': 'days_to_birth',\n",
      "  'data_type': 'INT64',\n",
      "  'description': None,\n",
      "  'field_path': 'days_to_birth',\n",
      "  'table_catalog': 'gdc-bq-sample',\n",
      "  'table_name': 'all_v1',\n",
      "  'table_schema': 'cda_mvp'}\n",
      "None\n"
     ]
    }
   ],
   "source": [
    "for i in Q.sql(\"SELECT * FROM `gdc-bq-sample.integration.INFORMATION_SCHEMA.COLUMN_FIELD_PATHS` WHERE table_name = 'all_v1' Limit 5\"):\n",
    "    print(i)"
   ]
  },
  {
   "cell_type": "markdown",
   "id": "entire-audience",
   "metadata": {},
   "source": [
    "## Test queries"
   ]
  },
  {
   "cell_type": "markdown",
   "id": "enabling-promise",
   "metadata": {},
   "source": [
    "Now that we've successfully run and analyzed a few queries, here are a few additional ones you can try out on your own.\n",
    "\n",
    "Solutions can be shared with the CDA team as indicated in the _Testing Guide_ document."
   ]
  },
  {
   "cell_type": "markdown",
   "id": "beautiful-backing",
   "metadata": {},
   "source": [
    "### Test Query 1\n",
    "\n",
    "**Find data from TCGA-BRCA project, with donors over the age of 50 with Stage IIIC cancer.**"
   ]
  },
  {
   "cell_type": "code",
   "execution_count": 18,
   "id": "front-prayer",
   "metadata": {},
   "outputs": [],
   "source": [
    "# Solution\n",
    "\n",
    "# ...\n",
    "\n",
    "# print(r)"
   ]
  },
  {
   "cell_type": "markdown",
   "id": "sublime-feelings",
   "metadata": {},
   "source": [
    "### Test Query 2\n",
    "\n",
    "**Find data from all patients who have been treated with \"Radiation Therapy, NOS\" and have both genomic and proteomic data.**"
   ]
  },
  {
   "cell_type": "code",
   "execution_count": 19,
   "id": "removable-factor",
   "metadata": {},
   "outputs": [],
   "source": [
    "# Solution\n",
    "\n",
    "# ...\n",
    "\n",
    "# print(r)"
   ]
  },
  {
   "cell_type": "markdown",
   "id": "jewish-slovenia",
   "metadata": {},
   "source": [
    "### Test Query 3\n",
    "\n",
    "**Find data from all subjects with lung adenocarcinomas that have both primary and recurrent tumors.**"
   ]
  },
  {
   "cell_type": "code",
   "execution_count": 20,
   "id": "acute-verification",
   "metadata": {},
   "outputs": [],
   "source": [
    "# Solution\n",
    "\n",
    "# ...\n",
    "\n",
    "# print(r)"
   ]
  }
 ],
 "metadata": {
  "interpreter": {
   "hash": "5c867d1980d5b66d2bfc8a5903dcee074b4b68f3917a4f27f8a310cab24e9f1b"
  },
  "kernelspec": {
   "display_name": "venv",
   "language": "python",
   "name": "venv"
  },
  "language_info": {
   "codemirror_mode": {
    "name": "ipython",
    "version": 3
   },
   "file_extension": ".py",
   "mimetype": "text/x-python",
   "name": "python",
   "nbconvert_exporter": "python",
   "pygments_lexer": "ipython3",
   "version": "3.9.5"
  }
 },
 "nbformat": 4,
 "nbformat_minor": 5
}
