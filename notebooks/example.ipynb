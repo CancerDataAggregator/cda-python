{
 "cells": [
  {
   "cell_type": "markdown",
   "id": "sustained-launch",
   "metadata": {},
   "source": [
    "# CDA Python: Features & Examples\n",
    "---"
   ]
  },
  {
   "cell_type": "markdown",
   "id": "legitimate-indication",
   "metadata": {},
   "source": [
    "The following examples illustrate some ```CDA Python``` features while providing insights into the underlying data structure (**Getting started**). To demonstrate those features, we provide a few relevant text queries along with step-by-step explanations on how to translate those into the ```CDA Python``` queries (**Example queries**). Finally, there are a few additional queries intended for the test users to play around with and send feedback to the CDA team (**Test queries**)."
   ]
  },
  {
   "cell_type": "code",
   "execution_count": 1,
   "id": "vertical-medium",
   "metadata": {},
   "outputs": [],
   "source": [
    "from cdapython import Q, columns, unique_terms"
   ]
  },
  {
   "cell_type": "markdown",
   "id": "found-lingerie",
   "metadata": {},
   "source": [
    "## Getting started"
   ]
  },
  {
   "cell_type": "markdown",
   "id": "destroyed-behalf",
   "metadata": {},
   "source": [
    "Print out the list of available fields with ```columns()```:"
   ]
  },
  {
   "cell_type": "code",
   "execution_count": 5,
   "id": "wooden-windsor",
   "metadata": {
    "scrolled": false
   },
   "outputs": [
    {
     "name": "stderr",
     "output_type": "stream",
     "text": [
      "SELECT field_path FROM `gdc-bq-sample.cda_mvp.INFORMATION_SCHEMA.COLUMN_FIELD_PATHS` WHERE table_name = 'v3'\n"
     ]
    },
    {
     "data": {
      "text/plain": [
       "['days_to_birth',\n",
       " 'race',\n",
       " 'sex',\n",
       " 'ethnicity',\n",
       " 'id',\n",
       " 'ResearchSubject',\n",
       " 'ResearchSubject.Diagnosis',\n",
       " 'ResearchSubject.Diagnosis.morphology',\n",
       " 'ResearchSubject.Diagnosis.tumor_stage',\n",
       " 'ResearchSubject.Diagnosis.tumor_grade',\n",
       " 'ResearchSubject.Diagnosis.Treatment',\n",
       " 'ResearchSubject.Diagnosis.Treatment.type',\n",
       " 'ResearchSubject.Diagnosis.Treatment.outcome',\n",
       " 'ResearchSubject.Diagnosis.id',\n",
       " 'ResearchSubject.Diagnosis.primary_diagnosis',\n",
       " 'ResearchSubject.Diagnosis.age_at_diagnosis',\n",
       " 'ResearchSubject.Specimen',\n",
       " 'ResearchSubject.Specimen.File',\n",
       " 'ResearchSubject.Specimen.File.label',\n",
       " 'ResearchSubject.Specimen.File.associated_project',\n",
       " 'ResearchSubject.Specimen.File.drs_uri',\n",
       " 'ResearchSubject.Specimen.File.identifier',\n",
       " 'ResearchSubject.Specimen.File.identifier.system',\n",
       " 'ResearchSubject.Specimen.File.identifier.value',\n",
       " 'ResearchSubject.Specimen.File.data_category',\n",
       " 'ResearchSubject.Specimen.File.byte_size',\n",
       " 'ResearchSubject.Specimen.File.type',\n",
       " 'ResearchSubject.Specimen.File.file_format',\n",
       " 'ResearchSubject.Specimen.File.checksum',\n",
       " 'ResearchSubject.Specimen.File.id',\n",
       " 'ResearchSubject.Specimen.File.data_type',\n",
       " 'ResearchSubject.Specimen.derived_from_specimen',\n",
       " 'ResearchSubject.Specimen.associated_project',\n",
       " 'ResearchSubject.Specimen.age_at_collection',\n",
       " 'ResearchSubject.Specimen.anatomical_site',\n",
       " 'ResearchSubject.Specimen.source_material_type',\n",
       " 'ResearchSubject.Specimen.derived_from_subject',\n",
       " 'ResearchSubject.Specimen.specimen_type',\n",
       " 'ResearchSubject.Specimen.id',\n",
       " 'ResearchSubject.Specimen.primary_disease_type',\n",
       " 'ResearchSubject.Specimen.identifier',\n",
       " 'ResearchSubject.Specimen.identifier.system',\n",
       " 'ResearchSubject.Specimen.identifier.value',\n",
       " 'ResearchSubject.associated_project',\n",
       " 'ResearchSubject.id',\n",
       " 'ResearchSubject.primary_disease_type',\n",
       " 'ResearchSubject.identifier',\n",
       " 'ResearchSubject.identifier.system',\n",
       " 'ResearchSubject.identifier.value',\n",
       " 'ResearchSubject.primary_disease_site']"
      ]
     },
     "execution_count": 5,
     "metadata": {},
     "output_type": "execute_result"
    }
   ],
   "source": [
    "columns()"
   ]
  },
  {
   "cell_type": "markdown",
   "id": "simplified-inquiry",
   "metadata": {},
   "source": [
    "All of the above fields are what describes the highest entity in the data structure hierarchy – ```Patient``` entity. The first five fields represent ```Patient``` demographic information, while the ```ResearchSubject``` entity contains details that we are used to seeing within the nodes' ```Case``` record.\n",
    "\n",
    "One of the contributions of the CDA is aggregated ```ResearchSubject``` information. This means that all ```ResearchSubject``` records coming from the same subject are now gathered under the Patient entity. As we know, certain specimens are studied in multiple projects (being part of a single data node or multiple nodes) as different ```ResearchSubject``` entries. Those ```ResearchSubject``` entries are collected as a list under the ```ResearchSubject``` entity. One example of this is the patient record with ```id = TCGA-E2-A10A``` which contains two ```ResearchSubject``` entries, one from GDC and the other from PDC.\n",
    "\n",
    "Note that the ```ResearchSubject``` entity is a list of records, as many other entities above are. **There are certain considerations that should be made when creating the queries by using the fields that come from lists, but more about that will follow in examples below**.\n",
    "\n",
    "The names in the list may look familiar to you, but they may have been renamed or restructured in the CDA. The field name mappings are described in the _CDA Schema Field Mapping_ document that is linked in the _Testing Guide_. A more direct way to explore and understand the fields is to use the ```unique_terms()``` function:"
   ]
  },
  {
   "cell_type": "code",
   "execution_count": 3,
   "id": "primary-norman",
   "metadata": {
    "scrolled": false
   },
   "outputs": [
    {
     "name": "stderr",
     "output_type": "stream",
     "text": [
      "SELECT DISTINCT(_Specimen.source_material_type) FROM `gdc-bq-sample.cda_mvp.v3`, UNNEST(ResearchSubject) AS _ResearchSubject,UNNEST(_ResearchSubject.Specimen) AS _Specimen ORDER BY _Specimen.source_material_type\n"
     ]
    },
    {
     "data": {
      "text/plain": [
       "['Additional - New Primary',\n",
       " 'Additional Metastatic',\n",
       " 'Blood Derived Cancer - Bone Marrow',\n",
       " 'Blood Derived Cancer - Bone Marrow, Post-treatment',\n",
       " 'Blood Derived Cancer - Peripheral Blood',\n",
       " 'Blood Derived Cancer - Peripheral Blood, Post-treatment',\n",
       " 'Blood Derived Normal',\n",
       " 'Bone Marrow Normal',\n",
       " 'Buccal Cell Normal',\n",
       " 'Cell Lines',\n",
       " 'Control Analyte',\n",
       " 'DNA',\n",
       " 'Expanded Next Generation Cancer Model',\n",
       " 'FFPE Scrolls',\n",
       " 'Fibroblasts from Bone Marrow Normal',\n",
       " 'Granulocytes',\n",
       " 'Lymphoid Normal',\n",
       " 'Metastatic',\n",
       " 'Mononuclear Cells from Bone Marrow Normal',\n",
       " 'Neoplasms of Uncertain and Unknown Behavior',\n",
       " 'Next Generation Cancer Model',\n",
       " 'Normal',\n",
       " 'Normal Adjacent Tissue',\n",
       " 'Not Reported',\n",
       " 'Post neo-adjuvant therapy',\n",
       " 'Primary Blood Derived Cancer - Bone Marrow',\n",
       " 'Primary Blood Derived Cancer - Peripheral Blood',\n",
       " 'Primary Tumor',\n",
       " 'Primary Xenograft Tissue',\n",
       " 'Recurrent Blood Derived Cancer - Bone Marrow',\n",
       " 'Recurrent Blood Derived Cancer - Peripheral Blood',\n",
       " 'Recurrent Tumor',\n",
       " 'Slides',\n",
       " 'Solid Tissue Normal',\n",
       " 'Tumor',\n",
       " 'Unknown',\n",
       " 'Xenograft',\n",
       " 'Xenograft Tissue']"
      ]
     },
     "execution_count": 3,
     "metadata": {},
     "output_type": "execute_result"
    }
   ],
   "source": [
    "unique_terms(\"ResearchSubject.Specimen.source_material_type\")"
   ]
  },
  {
   "cell_type": "markdown",
   "id": "lyric-design",
   "metadata": {},
   "source": [
    "Additionally, you can specify a particular data node by using the ```system``` argument:"
   ]
  },
  {
   "cell_type": "code",
   "execution_count": 4,
   "id": "funded-colon",
   "metadata": {},
   "outputs": [
    {
     "name": "stderr",
     "output_type": "stream",
     "text": [
      "SELECT DISTINCT(_Specimen.source_material_type) FROM `gdc-bq-sample.cda_mvp.v3`, UNNEST(ResearchSubject) AS _ResearchSubject,UNNEST(_ResearchSubject.Specimen) AS _Specimen,UNNEST(_ResearchSubject.identifier) AS _identifier WHERE _identifier.system=\"PDC\" ORDER BY _Specimen.source_material_type\n"
     ]
    },
    {
     "data": {
      "text/plain": [
       "['Cell Lines',\n",
       " 'Normal',\n",
       " 'Normal Adjacent Tissue',\n",
       " 'Not Reported',\n",
       " 'Primary Tumor',\n",
       " 'Solid Tissue Normal',\n",
       " 'Tumor',\n",
       " 'Xenograft',\n",
       " 'Xenograft Tissue']"
      ]
     },
     "execution_count": 4,
     "metadata": {},
     "output_type": "execute_result"
    }
   ],
   "source": [
    "unique_terms(\"ResearchSubject.Specimen.source_material_type\", system=\"PDC\")"
   ]
  },
  {
   "cell_type": "markdown",
   "id": "floppy-subscriber",
   "metadata": {},
   "source": [
    "Now, let's dive into the querying!\n",
    "\n",
    "We can start by getting the record for ```id = TCGA-E2-A10A``` that we mentioned earlier:"
   ]
  },
  {
   "cell_type": "code",
   "execution_count": 8,
   "id": "distant-sheet",
   "metadata": {},
   "outputs": [
    {
     "name": "stdout",
     "output_type": "stream",
     "text": [
      "\n",
      "Query: SELECT v3.* FROM gdc-bq-sample.cda_mvp.v3 AS v3 WHERE (v3.id = 'TCGA-E2-A10A')\n",
      "Offset: 0\n",
      "Count: 1\n",
      "Total Row Count: 1\n",
      "More pages: False\n",
      "\n"
     ]
    }
   ],
   "source": [
    "q = Q('id = \"TCGA-E2-A10A\"') # note the double quotes for the string value\n",
    "\n",
    "r = q.run()\n",
    "\n",
    "print(r)"
   ]
  },
  {
   "cell_type": "markdown",
   "id": "extended-operator",
   "metadata": {},
   "source": [
    "We see that we've got a single patient record as a result, which is what we expect.\n",
    "\n",
    "Let's see how the result looks like:"
   ]
  },
  {
   "cell_type": "code",
   "execution_count": null,
   "id": "increasing-philadelphia",
   "metadata": {
    "scrolled": true
   },
   "outputs": [],
   "source": [
    "r[0]"
   ]
  },
  {
   "cell_type": "markdown",
   "id": "pleasant-rendering",
   "metadata": {},
   "source": [
    "The record is pretty large, so we'll print out ```identifier``` values for each ```ResearchSubject``` to confirm that we have one ```ResearchSubject``` that comes from GDC, and one that comes from PDC:"
   ]
  },
  {
   "cell_type": "code",
   "execution_count": 7,
   "id": "metric-toyota",
   "metadata": {},
   "outputs": [
    {
     "name": "stdout",
     "output_type": "stream",
     "text": [
      "[{'system': 'GDC', 'value': '4da7abaf-ac7a-41c0-8033-5780a398545c'}]\n",
      "[{'system': 'PDC', 'value': '010df72d-63d9-11e8-bcf1-0a2705229b82'}]\n"
     ]
    }
   ],
   "source": [
    "for research_subject in r[0]['ResearchSubject']:\n",
    "    print(research_subject['identifier'])"
   ]
  },
  {
   "cell_type": "markdown",
   "id": "marked-museum",
   "metadata": {},
   "source": [
    "The values represent ```ResearchSubject``` IDs and are equivalent to ```case_id``` values in data nodes."
   ]
  },
  {
   "cell_type": "markdown",
   "id": "provincial-sender",
   "metadata": {},
   "source": [
    "## Example queries"
   ]
  },
  {
   "cell_type": "markdown",
   "id": "moderate-handy",
   "metadata": {},
   "source": [
    "Now that we can create a query with ```Q()``` function, let's see how we can combine multiple conditions.\n",
    "\n",
    "There are three operators available:\n",
    "* ```And()```\n",
    "* ```Or()```\n",
    "* ```From()```\n",
    "\n",
    "The following examples show how those operators work in practice."
   ]
  },
  {
   "cell_type": "markdown",
   "id": "classified-metro",
   "metadata": {},
   "source": [
    "### Query 1\n",
    "\n",
    "**Find data for subjects who were diagnosed after the age of 50 and who were investigated as part of the TCGA-OV project.**"
   ]
  },
  {
   "cell_type": "code",
   "execution_count": 8,
   "id": "passive-dominican",
   "metadata": {},
   "outputs": [
    {
     "name": "stdout",
     "output_type": "stream",
     "text": [
      "\n",
      "Query: SELECT v3.* FROM gdc-bq-sample.cda_mvp.v3 AS v3, UNNEST(ResearchSubject) AS _ResearchSubject, UNNEST(_ResearchSubject.Diagnosis) AS _Diagnosis WHERE ((_Diagnosis.age_at_diagnosis > 50*365) AND (_ResearchSubject.associated_project = 'TCGA-OV'))\n",
      "Offset: 0\n",
      "Count: 461\n",
      "Total Row Count: 461\n",
      "More pages: False\n",
      "\n"
     ]
    }
   ],
   "source": [
    "q1 = Q('ResearchSubject.Diagnosis.age_at_diagnosis > 50*365')\n",
    "q2 = Q('ResearchSubject.associated_project = \"TCGA-OV\"')\n",
    "\n",
    "q = q1.And(q2)\n",
    "r = q.run()\n",
    "\n",
    "print(r)"
   ]
  },
  {
   "cell_type": "markdown",
   "id": "valid-telescope",
   "metadata": {},
   "source": [
    "### Query 2\n",
    "\n",
    "**Find data for donors with melanoma (Nevi and Melanomas) diagnosis and who were diagnosed before the age of 30.**"
   ]
  },
  {
   "cell_type": "code",
   "execution_count": 9,
   "id": "vanilla-proof",
   "metadata": {},
   "outputs": [
    {
     "name": "stdout",
     "output_type": "stream",
     "text": [
      "\n",
      "Query: SELECT v3.* FROM gdc-bq-sample.cda_mvp.v3 AS v3, UNNEST(ResearchSubject) AS _ResearchSubject, UNNEST(_ResearchSubject.Specimen) AS _Specimen, UNNEST(_ResearchSubject.Diagnosis) AS _Diagnosis WHERE ((_Specimen.primary_disease_type = 'Nevi and Melanomas') AND (_Diagnosis.age_at_diagnosis < 30*365))\n",
      "Offset: 0\n",
      "Count: 647\n",
      "Total Row Count: 647\n",
      "More pages: False\n",
      "\n"
     ]
    }
   ],
   "source": [
    "q1 = Q('ResearchSubject.Specimen.primary_disease_type = \"Nevi and Melanomas\"')\n",
    "q2 = Q('ResearchSubject.Diagnosis.age_at_diagnosis < 30*365')\n",
    "\n",
    "q = q1.And(q2)\n",
    "r = q.run()\n",
    "\n",
    "print(r)"
   ]
  },
  {
   "cell_type": "markdown",
   "id": "insured-electric",
   "metadata": {},
   "source": [
    "In addition, we can check how many records come from particular systems by adding one more condition to the query:"
   ]
  },
  {
   "cell_type": "code",
   "execution_count": 10,
   "id": "thermal-incentive",
   "metadata": {},
   "outputs": [
    {
     "name": "stdout",
     "output_type": "stream",
     "text": [
      "\n",
      "Query: SELECT v3.* FROM gdc-bq-sample.cda_mvp.v3 AS v3, UNNEST(ResearchSubject) AS _ResearchSubject, UNNEST(_ResearchSubject.Specimen) AS _Specimen, UNNEST(_ResearchSubject.Diagnosis) AS _Diagnosis, UNNEST(_Specimen.identifier) AS _identifier WHERE ((_Specimen.primary_disease_type = 'Nevi and Melanomas') AND ((_Diagnosis.age_at_diagnosis < 30*365) AND (_identifier.system = 'GDC')))\n",
      "Offset: 0\n",
      "Count: 647\n",
      "Total Row Count: 647\n",
      "More pages: False\n",
      "\n"
     ]
    }
   ],
   "source": [
    "q1 = Q('ResearchSubject.Specimen.primary_disease_type = \"Nevi and Melanomas\"')\n",
    "q2 = Q('ResearchSubject.Diagnosis.age_at_diagnosis < 30*365')\n",
    "q3 = Q('ResearchSubject.Specimen.identifier.system = \"GDC\"')\n",
    "\n",
    "q = q1.And(q2.And(q3))\n",
    "r = q.run()\n",
    "\n",
    "print(r)"
   ]
  },
  {
   "cell_type": "markdown",
   "id": "sudden-exhibit",
   "metadata": {},
   "source": [
    "By comparing the ```Count``` value of the two results we can see that all the patients returned in the initial query are coming from the GDC.\n",
    "\n",
    "To explore the results further, we can fetch the patient JSON objects by iterating through the results:"
   ]
  },
  {
   "cell_type": "code",
   "execution_count": 11,
   "id": "biological-actress",
   "metadata": {},
   "outputs": [
    {
     "name": "stdout",
     "output_type": "stream",
     "text": [
      "{'TCGA-UVM', 'TCGA-SKCM', 'FM-AD'}\n"
     ]
    }
   ],
   "source": [
    "projects = set()\n",
    "\n",
    "for patient in r:\n",
    "    research_subjects = patient['ResearchSubject']\n",
    "    for rs in research_subjects:\n",
    "        projects.add(rs['associated_project'])\n",
    "\n",
    "print(projects)"
   ]
  },
  {
   "cell_type": "markdown",
   "id": "collected-cisco",
   "metadata": {},
   "source": [
    "The output shows the projects where _Nevi and Melanomas_ cases appear."
   ]
  },
  {
   "cell_type": "markdown",
   "id": "removable-split",
   "metadata": {},
   "source": [
    "### Query 3\n",
    "\n",
    "**Identify all samples that meet the following conditions:**\n",
    "\n",
    "* **Sample is from primary tumor**\n",
    "* **Disease is ovarian or breast cancer**\n",
    "* **Subjects are females under the age of 60 years**"
   ]
  },
  {
   "cell_type": "code",
   "execution_count": 12,
   "id": "progressive-drove",
   "metadata": {},
   "outputs": [
    {
     "name": "stdout",
     "output_type": "stream",
     "text": [
      "\n",
      "Query: SELECT v3.* FROM gdc-bq-sample.cda_mvp.v3 AS v3, UNNEST(ResearchSubject) AS _ResearchSubject, UNNEST(_ResearchSubject.Specimen) AS _Specimen WHERE (((_Specimen.source_material_type = 'Primary Tumor') AND ((v3.sex = 'female') AND (v3.days_to_birth > -60*365))) AND ((_ResearchSubject.primary_disease_site = 'Ovary') OR (_ResearchSubject.primary_disease_site = 'Breast')))\n",
      "Offset: 0\n",
      "Count: 1000\n",
      "Total Row Count: 27284\n",
      "More pages: True\n",
      "\n"
     ]
    }
   ],
   "source": [
    "tumor_type = Q('ResearchSubject.Specimen.source_material_type = \"Primary Tumor\"')\n",
    "disease1 = Q('ResearchSubject.primary_disease_site = \"Ovary\"')\n",
    "disease2 = Q('ResearchSubject.primary_disease_site = \"Breast\"')\n",
    "demographics1 = Q('sex = \"female\"')\n",
    "demographics2 = Q('days_to_birth > -60*365') # note that days_to_birth is a negative value\n",
    "\n",
    "q1 = tumor_type.And(demographics1.And(demographics2))\n",
    "q2 = disease1.Or(disease2)\n",
    "q = q1.And(q2)\n",
    "\n",
    "r = q.run()\n",
    "print(r)"
   ]
  },
  {
   "cell_type": "markdown",
   "id": "marine-failing",
   "metadata": {},
   "source": [
    "In this case, we have a result that contains more than 1000 records which is the default page size. To load the next 1000 records, we can use the ```next_page()``` method:"
   ]
  },
  {
   "cell_type": "code",
   "execution_count": 13,
   "id": "informative-oxygen",
   "metadata": {},
   "outputs": [],
   "source": [
    "r2 = r.next_page()"
   ]
  },
  {
   "cell_type": "code",
   "execution_count": 14,
   "id": "social-average",
   "metadata": {},
   "outputs": [
    {
     "name": "stdout",
     "output_type": "stream",
     "text": [
      "\n",
      "Query: SELECT v3.* FROM gdc-bq-sample.cda_mvp.v3 AS v3, UNNEST(ResearchSubject) AS _ResearchSubject, UNNEST(_ResearchSubject.Specimen) AS _Specimen WHERE (((_Specimen.source_material_type = 'Primary Tumor') AND ((v3.sex = 'female') AND (v3.days_to_birth > -60*365))) AND ((_ResearchSubject.primary_disease_site = 'Ovary') OR (_ResearchSubject.primary_disease_site = 'Breast')))\n",
      "Offset: 1000\n",
      "Count: 1000\n",
      "Total Row Count: 27284\n",
      "More pages: True\n",
      "\n"
     ]
    }
   ],
   "source": [
    "print(r2)"
   ]
  },
  {
   "cell_type": "markdown",
   "id": "narrow-softball",
   "metadata": {},
   "source": [
    "Alternatively, we can use the ```offset``` argument to specify the record to start from:\n",
    "\n",
    "```\n",
    "...\n",
    "r = q.run(offset=1000)\n",
    "print(r)\n",
    "```"
   ]
  },
  {
   "cell_type": "markdown",
   "id": "further-chester",
   "metadata": {},
   "source": [
    "### Query 4\n",
    "\n",
    "**Find data for donors with \"Ovarian Serous Cystadenocarcinoma\" with proteomic and genomic data.**"
   ]
  },
  {
   "cell_type": "markdown",
   "id": "incident-sudan",
   "metadata": {},
   "source": [
    "**Note that disease type value denoting the same disease groups can be completely different within different systems. This is where CDA features come into play.** We first start by exploring the values available for this particular field in both systems."
   ]
  },
  {
   "cell_type": "code",
   "execution_count": 15,
   "id": "outstanding-hungary",
   "metadata": {},
   "outputs": [
    {
     "name": "stderr",
     "output_type": "stream",
     "text": [
      "SELECT DISTINCT(_ResearchSubject.primary_disease_type) FROM `gdc-bq-sample.cda_mvp.v3`, UNNEST(ResearchSubject) AS _ResearchSubject,UNNEST(_ResearchSubject.identifier) AS _identifier WHERE _identifier.system=\"GDC\" ORDER BY _ResearchSubject.primary_disease_type\n"
     ]
    },
    {
     "data": {
      "text/plain": [
       "[None,\n",
       " 'Acinar Cell Neoplasms',\n",
       " 'Adenomas and Adenocarcinomas',\n",
       " 'Adnexal and Skin Appendage Neoplasms',\n",
       " 'Basal Cell Neoplasms',\n",
       " 'Blood Vessel Tumors',\n",
       " 'Chronic Myeloproliferative Disorders',\n",
       " 'Complex Epithelial Neoplasms',\n",
       " 'Complex Mixed and Stromal Neoplasms',\n",
       " 'Cystic, Mucinous and Serous Neoplasms',\n",
       " 'Ductal and Lobular Neoplasms',\n",
       " 'Epithelial Neoplasms, NOS',\n",
       " 'Fibroepithelial Neoplasms',\n",
       " 'Fibromatous Neoplasms',\n",
       " 'Germ Cell Neoplasms',\n",
       " 'Giant Cell Tumors',\n",
       " 'Gliomas',\n",
       " 'Granular Cell Tumors and Alveolar Soft Part Sarcomas',\n",
       " 'Hodgkin Lymphoma',\n",
       " 'Immunoproliferative Diseases',\n",
       " 'Leukemias, NOS',\n",
       " 'Lipomatous Neoplasms',\n",
       " 'Lymphatic Vessel Tumors',\n",
       " 'Lymphoid Leukemias',\n",
       " 'Malignant Lymphomas, NOS or Diffuse',\n",
       " 'Mast Cell Tumors',\n",
       " 'Mature B-Cell Lymphomas',\n",
       " 'Mature T- and NK-Cell Lymphomas',\n",
       " 'Meningiomas',\n",
       " 'Mesonephromas',\n",
       " 'Mesothelial Neoplasms',\n",
       " 'Miscellaneous Bone Tumors',\n",
       " 'Miscellaneous Tumors',\n",
       " 'Mucoepidermoid Neoplasms',\n",
       " 'Myelodysplastic Syndromes',\n",
       " 'Myeloid Leukemias',\n",
       " 'Myomatous Neoplasms',\n",
       " 'Myxomatous Neoplasms',\n",
       " 'Neoplasms of Histiocytes and Accessory Lymphoid Cells',\n",
       " 'Neoplasms, NOS',\n",
       " 'Nerve Sheath Tumors',\n",
       " 'Neuroepitheliomatous Neoplasms',\n",
       " 'Nevi and Melanomas',\n",
       " 'Not Applicable',\n",
       " 'Not Reported',\n",
       " 'Odontogenic Tumors',\n",
       " 'Osseous and Chondromatous Neoplasms',\n",
       " 'Other Leukemias',\n",
       " 'Paragangliomas and Glomus Tumors',\n",
       " 'Plasma Cell Tumors',\n",
       " 'Precursor Cell Lymphoblastic Lymphoma',\n",
       " 'Soft Tissue Tumors and Sarcomas, NOS',\n",
       " 'Specialized Gonadal Neoplasms',\n",
       " 'Squamous Cell Neoplasms',\n",
       " 'Synovial-like Neoplasms',\n",
       " 'Thymic Epithelial Neoplasms',\n",
       " 'Transitional Cell Papillomas and Carcinomas',\n",
       " 'Trophoblastic neoplasms',\n",
       " 'Unknown']"
      ]
     },
     "execution_count": 15,
     "metadata": {},
     "output_type": "execute_result"
    }
   ],
   "source": [
    "unique_terms('ResearchSubject.primary_disease_type', system=\"GDC\")"
   ]
  },
  {
   "cell_type": "markdown",
   "id": "international-colleague",
   "metadata": {},
   "source": [
    "Since “Ovarian Serous Cystadenocarcinoma” doesn’t appear in GDC values we decide to look into the PDC:"
   ]
  },
  {
   "cell_type": "code",
   "execution_count": 16,
   "id": "million-cardiff",
   "metadata": {},
   "outputs": [
    {
     "name": "stderr",
     "output_type": "stream",
     "text": [
      "SELECT DISTINCT(_ResearchSubject.primary_disease_type) FROM `gdc-bq-sample.cda_mvp.v3`, UNNEST(ResearchSubject) AS _ResearchSubject,UNNEST(_ResearchSubject.identifier) AS _identifier WHERE _identifier.system=\"PDC\" ORDER BY _ResearchSubject.primary_disease_type\n"
     ]
    },
    {
     "data": {
      "text/plain": [
       "['Breast Invasive Carcinoma',\n",
       " 'Chromophobe Renal Cell Carcinoma',\n",
       " 'Clear Cell Renal Cell Carcinoma',\n",
       " 'Colon Adenocarcinoma',\n",
       " 'Early Onset Gastric Cancer',\n",
       " 'Glioblastoma',\n",
       " 'Head and Neck Squamous Cell Carcinoma',\n",
       " 'Hepatocellular Carcinoma ',\n",
       " 'Lung Adenocarcinoma',\n",
       " 'Lung Squamous Cell Carcinoma',\n",
       " 'Oral Squamous Cell Carcinoma',\n",
       " 'Other',\n",
       " 'Ovarian Serous Cystadenocarcinoma',\n",
       " 'Pancreatic Ductal Adenocarcinoma',\n",
       " 'Papillary Renal Cell Carcinoma',\n",
       " 'Pediatric/AYA Brain Tumors',\n",
       " 'Rectum Adenocarcinoma',\n",
       " 'Uterine Corpus Endometrial Carcinoma']"
      ]
     },
     "execution_count": 16,
     "metadata": {},
     "output_type": "execute_result"
    }
   ],
   "source": [
    "unique_terms('ResearchSubject.primary_disease_type', system=\"PDC\")"
   ]
  },
  {
   "cell_type": "markdown",
   "id": "explicit-value",
   "metadata": {},
   "source": [
    "After examining the output, we see that it does come from the PDC. Hence, if we could first identify the data that has research subjects found within the PDC that have this particular disease type, and then further narrow down the results to include only the portion of the data that is present in GDC, we could get the records that we are looking for."
   ]
  },
  {
   "cell_type": "code",
   "execution_count": 17,
   "id": "blessed-humidity",
   "metadata": {},
   "outputs": [
    {
     "name": "stdout",
     "output_type": "stream",
     "text": [
      "\n",
      "Query: SELECT v3.* FROM (SELECT v3.* FROM gdc-bq-sample.cda_mvp.v3 AS v3, UNNEST(ResearchSubject) AS _ResearchSubject, UNNEST(_ResearchSubject.identifier) AS _identifier WHERE ((_ResearchSubject.primary_disease_type = 'Ovarian Serous Cystadenocarcinoma') AND (_identifier.system = 'PDC'))) AS v3, UNNEST(ResearchSubject) AS _ResearchSubject, UNNEST(_ResearchSubject.identifier) AS _identifier WHERE (_identifier.system = 'GDC')\n",
      "Offset: 0\n",
      "Count: 275\n",
      "Total Row Count: 275\n",
      "More pages: False\n",
      "\n"
     ]
    }
   ],
   "source": [
    "q1 = Q('ResearchSubject.primary_disease_type = \"Ovarian Serous Cystadenocarcinoma\"')\n",
    "q2 = Q('ResearchSubject.identifier.system = \"PDC\"')\n",
    "q3 = Q('ResearchSubject.identifier.system = \"GDC\"')\n",
    "\n",
    "q = q3.From(q1.And(q2))\n",
    "r = q.run()\n",
    "\n",
    "print(r)"
   ]
  },
  {
   "cell_type": "markdown",
   "id": "valid-montreal",
   "metadata": {},
   "source": [
    "As you can see, this is achieved by utilizing ```From``` operator. The ```From``` operator allows us to create queries from results of other queries. This is particularly useful when working with conditions that involve a single field which can take multiple different values for different items in a list that is being part of, e.g. we need ```ResearchSubject.identifier.system``` to be both “PDC” and “GDC” for a single patient. In such cases, ```And``` operator can’t help because it will return those entries where the field takes both values, which is zero entries."
   ]
  },
  {
   "source": [
    "## Return all files associated with tumor specimens for a given patient\n",
    "This is a Example for the static method **sql** this will let your write sql"
   ],
   "cell_type": "markdown",
   "metadata": {}
  },
  {
   "source": [
    "for i in Q.sql('''\n",
    "SELECT  SF.label, SF.drs_uri, SF.byte_size\n",
    "FROM `gdc-bq-sample.cda_mvp.v3` AS gp,\n",
    "UNNEST(gp.ResearchSubject) AS RS,\n",
    "UNNEST(RS.Specimen) AS S,\n",
    "UNNEST(S.File) AS SF\n",
    "WHERE\n",
    "    gp.id = \"TCGA-E2-A10A\"\n",
    "    AND S.source_material_type = \"Primary Tumor\"\n",
    "GROUP BY SF.id, SF.label, SF.drs_uri, SF.byte_size\n",
    "LIMIT 100\n",
    "'''):\n",
    "    print(f'''\n",
    "    label: {i[\"label\"]}\\n \n",
    "    drs_uri: {i[\"drs_uri\"]}\\n\n",
    "    byte_size: {i[\"byte_size\"]}\\n\n",
    "    ''')"
   ],
   "cell_type": "code",
   "metadata": {
    "tags": []
   },
   "execution_count": 26,
   "outputs": [
    {
     "output_type": "stream",
     "name": "stdout",
     "text": [
      "\n    label: TCGA-E2-A10A-01Z-00-DX1.98B19EF1-0DAE-4DC6-8B0E-963CFABC6724.svs\n \n    drs_uri: drs://dg.4DFC:99a00a9f-c4bf-49ca-9c3d-435f0a207644\n\n    byte_size: 1341476123\n\n    \n\n    label: 0012f466-075a-4d47-b1d7-e8e63e8b9c99.vep.vcf.gz\n \n    drs_uri: drs://dg.4DFC:0012f466-075a-4d47-b1d7-e8e63e8b9c99\n\n    byte_size: 927367\n\n    \n\n    label: TCGA.BRCA.mutect.053f01ed-3154-4aea-9e7f-932c435034b3.DR-10.0.protected.maf.gz\n \n    drs_uri: drs://dg.4DFC:053f01ed-3154-4aea-9e7f-932c435034b3\n\n    byte_size: 1882061658\n\n    \n\n    label: 8a540cec-e283-4a26-868e-a07c64fe3efb.mirbase21.isoforms.quantification.txt\n \n    drs_uri: drs://dg.4DFC:0b4727f6-8ed4-4ad6-a3fe-81a58dd7d033\n\n    byte_size: 392954\n\n    \n\n    label: GHOUL_p_TCGASNP_b85and51R_N_GenomeWideSNP_6_C11_735316.nocnv_grch38.seg.v2.txt\n \n    drs_uri: drs://dg.4DFC:15a9ba9e-95fa-4823-947f-f99b50456a40\n\n    byte_size: 26302\n\n    \n\n    label: jhu-usc.edu_BRCA.HumanMethylation27.3.lvl-3.TCGA-E2-A10A-01A-21D-A112-05.gdc_hg38.txt\n \n    drs_uri: drs://dg.4DFC:192a100b-cc8a-48e6-8d43-d5863e3fb115\n\n    byte_size: 9952473\n\n    \n\n    label: 266ad2d3-86ea-4cb5-ba22-ea208a161dfc.vcf.gz\n \n    drs_uri: drs://dg.4DFC:266ad2d3-86ea-4cb5-ba22-ea208a161dfc\n\n    byte_size: 41634\n\n    \n\n    label: 2c2dae43-1770-4129-b33c-00a1d1b70bf0.vcf\n \n    drs_uri: drs://dg.4DFC:2c2dae43-1770-4129-b33c-00a1d1b70bf0\n\n    byte_size: 154695\n\n    \n\n    label: GHOUL_p_TCGASNP_b85and51R_N_GenomeWideSNP_6_C11_735316.grch38.seg.v2.txt\n \n    drs_uri: drs://dg.4DFC:58de425a-75de-4e38-8614-373d2cd93b30\n\n    byte_size: 46577\n\n    \n\n    label: TCGA.BRCA.varscan.5a6c3396-8c49-4c25-8a86-7ae63a887c43.DR-10.0.protected.maf.gz\n \n    drs_uri: drs://dg.4DFC:5a6c3396-8c49-4c25-8a86-7ae63a887c43\n\n    byte_size: 342281557\n\n    \n\n    label: TCGA.BRCA.varscan.6c93f518-1956-4435-9806-37185266d248.DR-10.0.somatic.maf.gz\n \n    drs_uri: drs://dg.4DFC:6c93f518-1956-4435-9806-37185266d248\n\n    byte_size: 2416-11-25\n\n    \n\n    label: 6fdbbe35-6392-4100-8f96-0e0d02257b73.htseq.counts.gz\n \n    drs_uri: drs://dg.4DFC:73df749a-1614-40f0-abae-4915744ced3c\n\n    byte_size: 254841\n\n    \n\n    label: TCGA-BRCA.d01c9656-e545-4261-aceb-135ef42825ce.ascat2.allelic_specific.seg.txt\n \n    drs_uri: drs://dg.4DFC:7b72de05-84bc-4938-8089-d627aee8266a\n\n    byte_size: 24048\n\n    \n\n    label: TCGA.BRCA.somaticsniper.7dd592e3-5950-4438-96d5-3c718aca3f13.DR-10.0.somatic.maf.gz\n \n    drs_uri: drs://dg.4DFC:7dd592e3-5950-4438-96d5-3c718aca3f13\n\n    byte_size: 16910889\n\n    \n\n    label: 6fdbbe35-6392-4100-8f96-0e0d02257b73.FPKM.txt.gz\n \n    drs_uri: drs://dg.4DFC:910f3ef6-b7f7-484f-9939-b569d5f8f3d8\n\n    byte_size: 518599\n\n    \n\n    label: TCGA-BRCA.d01c9656-e545-4261-aceb-135ef42825ce.gene_level_copy_number.tsv\n \n    drs_uri: drs://dg.4DFC:91649525-6597-4ce4-a478-d80023ba115f\n\n    byte_size: 3483246\n\n    \n\n    label: TCGA.BRCA.mutect.995c0111-d90b-4140-bee7-3845436c3b42.DR-10.0.somatic.maf.gz\n \n    drs_uri: drs://dg.4DFC:995c0111-d90b-4140-bee7-3845436c3b42\n\n    byte_size: 31058116\n\n    \n\n    label: BRCA.focal_score_by_genes.txt\n \n    drs_uri: drs://dg.4DFC:9afe6c9d-ed2f-402a-b043-77f042c4e7fc\n\n    byte_size: 45161979\n\n    \n\n    label: b672eb07-1b54-455c-a99e-b9f61792ae25.vep.vcf.gz\n \n    drs_uri: drs://dg.4DFC:b672eb07-1b54-455c-a99e-b9f61792ae25\n\n    byte_size: 219424\n\n    \n\n    label: TCGA.BRCA.muse.b8ca5856-9819-459c-87c5-94e91aca4032.DR-10.0.somatic.maf.gz\n \n    drs_uri: drs://dg.4DFC:b8ca5856-9819-459c-87c5-94e91aca4032\n\n    byte_size: 23039649\n\n    \n\n    label: b9fb3867-2529-4f6a-b03c-1b6f061fec09.vcf\n \n    drs_uri: drs://dg.4DFC:b9fb3867-2529-4f6a-b03c-1b6f061fec09\n\n    byte_size: 855254\n\n    \n\n    label: TCGA-E2-A10A-01A-02-TSB.36e0494e-10c5-4b95-a77c-d8dbe2532135.svs\n \n    drs_uri: drs://dg.4DFC:ba9e5093-05c9-4d1e-af60-29c49cd26aae\n\n    byte_size: 174115723\n\n    \n\n    label: TCGA-E2-A10A-01A-21D-A10Y-09_IlluminaGA-DNASeq_exome_gdc_realn.bam\n \n    drs_uri: drs://dg.4DFC:c294de24-1b42-4064-b7ab-9f2840f3e257\n\n    byte_size: 16759547635\n\n    \n\n    label: TCGA.BRCA.muse.cd0d1636-ae95-4141-94b3-8218eb3b8b25.DR-10.0.protected.maf.gz\n \n    drs_uri: drs://dg.4DFC:cd0d1636-ae95-4141-94b3-8218eb3b8b25\n\n    byte_size: 148613852\n\n    \n\n    label: TCGA-E2-A10A-01A-02-BSB.79389df7-59f1-427f-80d4-3a959407407e.svs\n \n    drs_uri: drs://dg.4DFC:cdcdde8a-007b-4e85-802e-bd02f70977c2\n\n    byte_size: 146616199\n\n    \n\n    label: 65c0245a-3785-4a7a-96a8-d20b4786c56d_gdc_realn_rehead.bam\n \n    drs_uri: drs://dg.4DFC:d220ef40-7c9a-4a9f-a1d1-fc5371e5522c\n\n    byte_size: 7711078179\n\n    \n\n    label: 8a540cec-e283-4a26-868e-a07c64fe3efb.mirbase21.mirnas.quantification.txt\n \n    drs_uri: drs://dg.4DFC:d44ffd83-1b69-4fd3-9b67-51e16228820f\n\n    byte_size: 50169\n\n    \n\n    label: d9a1739e-915a-4ae0-86b0-0f1ffc5a4550.vep.vcf.gz\n \n    drs_uri: drs://dg.4DFC:d9a1739e-915a-4ae0-86b0-0f1ffc5a4550\n\n    byte_size: 543623\n\n    \n\n    label: 6fdbbe35-6392-4100-8f96-0e0d02257b73.FPKM-UQ.txt.gz\n \n    drs_uri: drs://dg.4DFC:df6bdc45-be3c-4f9f-9fa0-6cad62b15ccd\n\n    byte_size: 520784\n\n    \n\n    label: ede13ff7-8fc2-40d3-a211-63e1ec7fed69.vcf.gz\n \n    drs_uri: drs://dg.4DFC:ede13ff7-8fc2-40d3-a211-63e1ec7fed69\n\n    byte_size: 331980\n\n    \n\n    label: TCGA-E2-A10A-01A-21R-A114-13_mirna_gdc_realn.bam\n \n    drs_uri: drs://dg.4DFC:edf33849-c333-45a6-8823-52cd48a70bd1\n\n    byte_size: 93031897\n\n    \n\n    label: f0661667-f69f-4ff0-a93a-07307917804b.vep.vcf.gz\n \n    drs_uri: drs://dg.4DFC:f0661667-f69f-4ff0-a93a-07307917804b\n\n    byte_size: 52253\n\n    \n\n    label: TCGA.BRCA.somaticsniper.f9ff49e9-31ce-4051-9157-4bf4b0c5859a.DR-10.0.protected.maf.gz\n \n    drs_uri: drs://dg.4DFC:f9ff49e9-31ce-4051-9157-4bf4b0c5859a\n\n    byte_size: 621054920\n\n    \n\n    label: TCGA_E2-A10A_BH-A18Q_C8-A130_117C_W_BI_20130222_H-PM_f02.mzML.gz\n \n    drs_uri: drs://dg.4DFC:00974c40-6abd-11e9-884a-005056921935\n\n    byte_size: 162469862\n\n    \n\n    label: TCGA_E2-A10A_BH-A18Q_C8-A130_117C_W_BI_20130222_H-PM_f03.mzML.gz\n \n    drs_uri: drs://dg.4DFC:01fc9b08-6abd-11e9-884a-005056921935\n\n    byte_size: 166687764\n\n    \n\n    label: TCGA_E2-A10A_BH-A18Q_C8-A130_117C_W_BI_20130222_H-PM_f04.mzML.gz\n \n    drs_uri: drs://dg.4DFC:0520e2c6-6abd-11e9-884a-005056921935\n\n    byte_size: 161885426\n\n    \n\n    label: TCGA_E2-A10A_BH-A18Q_C8-A130_117C_P_BI_20130228_H-PM_f10.raw\n \n    drs_uri: drs://dg.4DFC:0531ef00-5d2d-11e9-8f80-005056921935\n\n    byte_size: 1514225050\n\n    \n\n    label: TCGA_E2-A10A_BH-A18Q_C8-A130_117C_W_BI_20130222_H-PM_f05.mzML.gz\n \n    drs_uri: drs://dg.4DFC:074b0810-6abd-11e9-884a-005056921935\n\n    byte_size: 168062562\n\n    \n\n    label: TCGA_E2-A10A_BH-A18Q_C8-A130_117C_W_BI_20130222_H-PM_f22.raw\n \n    drs_uri: drs://dg.4DFC:07f3e39c-5cd3-11e9-849f-005056921935\n\n    byte_size: 1306858086\n\n    \n\n    label: TCGA_E2-A10A_BH-A18Q_C8-A130_117C_W_BI_20130222_H-PM_f06.mzML.gz\n \n    drs_uri: drs://dg.4DFC:09093fd2-6abd-11e9-884a-005056921935\n\n    byte_size: 164824685\n\n    \n\n    label: TCGA_E2-A10A_BH-A18Q_C8-A130_117C_W_BI_20130222_H-PM_f07.mzML.gz\n \n    drs_uri: drs://dg.4DFC:0a93bc42-6abd-11e9-884a-005056921935\n\n    byte_size: 172661820\n\n    \n\n    label: TCGA_E2-A10A_BH-A18Q_C8-A130_117C_W_BI_20130222_H-PM_f23.raw\n \n    drs_uri: drs://dg.4DFC:11b23fdc-5cd3-11e9-849f-005056921935\n\n    byte_size: 1332917657\n\n    \n\n    label: TCGA_E2-A10A_BH-A18Q_C8-A130_117C_P_BI_20130228_H-PM_f11.raw\n \n    drs_uri: drs://dg.4DFC:11abfc3a-5d2d-11e9-8f80-005056921935\n\n    byte_size: 1531937208\n\n    \n\n    label: TCGA_E2-A10A_BH-A18Q_C8-A130_117C_W_BI_20130222_H-PM_f24.raw\n \n    drs_uri: drs://dg.4DFC:1ac1d07e-5cd3-11e9-849f-005056921935\n\n    byte_size: 1294102409\n\n    \n\n    label: TCGA_E2-A10A_BH-A18Q_C8-A130_117C_W_BI_20130222_H-PM_f08.mzML.gz\n \n    drs_uri: drs://dg.4DFC:1b70ce24-6abd-11e9-884a-005056921935\n\n    byte_size: 178104559\n\n    \n\n    label: TCGA_E2-A10A_BH-A18Q_C8-A130_117C_P_BI_20130228_H-PM_f12.raw\n \n    drs_uri: drs://dg.4DFC:1d1a8f46-5d2d-11e9-8f80-005056921935\n\n    byte_size: 1544171925\n\n    \n\n    label: TCGA_E2-A10A_BH-A18Q_C8-A130_117C_W_BI_20130222_H-PM_f09.mzML.gz\n \n    drs_uri: drs://dg.4DFC:1eb47c48-6abd-11e9-884a-005056921935\n\n    byte_size: 179180300\n\n    \n\n    label: TCGA_E2-A10A_BH-A18Q_C8-A130_117C_W_BI_20130222_H-PM_f10.mzML.gz\n \n    drs_uri: drs://dg.4DFC:205cb01a-6abd-11e9-884a-005056921935\n\n    byte_size: 174998282\n\n    \n\n    label: TCGA_E2-A10A_BH-A18Q_C8-A130_117C_W_BI_20130222_H-PM_f11.mzML.gz\n \n    drs_uri: drs://dg.4DFC:21b4ba34-6abd-11e9-884a-005056921935\n\n    byte_size: 179307143\n\n    \n\n    label: TCGA_E2-A10A_BH-A18Q_C8-A130_117C_W_BI_20130222_H-PM_fA.raw\n \n    drs_uri: drs://dg.4DFC:22015c88-5cd3-11e9-849f-005056921935\n\n    byte_size: 900110575\n\n    \n\n    label: TCGA_E2-A10A_BH-A18Q_C8-A130_117C_W_BI_20130222_H-PM_f12.mzML.gz\n \n    drs_uri: drs://dg.4DFC:243e3c80-6abd-11e9-884a-005056921935\n\n    byte_size: 175615928\n\n    \n\n    label: TCGA_E2-A10A_BH-A18Q_C8-A130_117C_W_BI_20130222_H-PM_f13.mzML.gz\n \n    drs_uri: drs://dg.4DFC:25bfc718-6abd-11e9-884a-005056921935\n\n    byte_size: 178952326\n\n    \n\n    label: TCGA_E2-A10A_BH-A18Q_C8-A130_117C_P_BI_20130228_H-PM_fA.raw\n \n    drs_uri: drs://dg.4DFC:26b9f884-5d2d-11e9-8f80-005056921935\n\n    byte_size: 1312764359\n\n    \n\n    label: TCGA_E2-A10A_BH-A18Q_C8-A130_117C_W_BI_20130222_H-PM_f14.mzML.gz\n \n    drs_uri: drs://dg.4DFC:28fa97c8-6abd-11e9-884a-005056921935\n\n    byte_size: 181722735\n\n    \n\n    label: TCGA_E2-A10A_BH-A18Q_C8-A130_117C_W_BI_20130222_H-PM_f15.mzML.gz\n \n    drs_uri: drs://dg.4DFC:2bd10176-6abd-11e9-884a-005056921935\n\n    byte_size: 179837609\n\n    \n\n    label: TCGA_E2-A10A_BH-A18Q_C8-A130_117C_W_BI_20130222_H-PM_f01.raw\n \n    drs_uri: drs://dg.4DFC:2d5f1b02-5cd2-11e9-849f-005056921935\n\n    byte_size: 1272204983\n\n    \n\n    label: TCGA_E2-A10A_BH-A18Q_C8-A130_117C_W_BI_20130222_H-PM_f16.mzML.gz\n \n    drs_uri: drs://dg.4DFC:2df78812-6abd-11e9-884a-005056921935\n\n    byte_size: 171710450\n\n    \n\n    label: TCGA_E2-A10A_BH-A18Q_C8-A130_117C_W_BI_20130222_H-PM_f17.mzML.gz\n \n    drs_uri: drs://dg.4DFC:2f66e3c8-6abd-11e9-884a-005056921935\n\n    byte_size: 172144847\n\n    \n\n    label: TCGA_E2-A10A_BH-A18Q_C8-A130_117C_W_BI_20130222_H-PM_f18.mzML.gz\n \n    drs_uri: drs://dg.4DFC:30b68418-6abd-11e9-884a-005056921935\n\n    byte_size: 175287053\n\n    \n\n    label: TCGA_E2-A10A_BH-A18Q_C8-A130_117C_W_BI_20130222_H-PM_f19.mzML.gz\n \n    drs_uri: drs://dg.4DFC:3207e032-6abd-11e9-884a-005056921935\n\n    byte_size: 169343192\n\n    \n\n    label: TCGA_E2-A10A_BH-A18Q_C8-A130_117C_W_BI_20130222_H-PM_f20.mzML.gz\n \n    drs_uri: drs://dg.4DFC:34794a68-6abd-11e9-884a-005056921935\n\n    byte_size: 166384294\n\n    \n\n    label: TCGA_E2-A10A_BH-A18Q_C8-A130_117C_W_BI_20130222_H-PM_f02.raw\n \n    drs_uri: drs://dg.4DFC:35a81386-5cd2-11e9-849f-005056921935\n\n    byte_size: 1262612873\n\n    \n\n    label: TCGA_E2-A10A_BH-A18Q_C8-A130_117C_W_BI_20130222_H-PM_f21.mzML.gz\n \n    drs_uri: drs://dg.4DFC:35de273e-6abd-11e9-884a-005056921935\n\n    byte_size: 160656682\n\n    \n\n    label: TCGA_E2-A10A_BH-A18Q_C8-A130_117C_W_BI_20130222_H-PM_f22.mzML.gz\n \n    drs_uri: drs://dg.4DFC:3842596e-6abd-11e9-884a-005056921935\n\n    byte_size: 167282331\n\n    \n\n    label: TCGA_E2-A10A_BH-A18Q_C8-A130_117C_W_BI_20130222_H-PM_f23.mzML.gz\n \n    drs_uri: drs://dg.4DFC:3aead574-6abd-11e9-884a-005056921935\n\n    byte_size: 170806116\n\n    \n\n    label: TCGA_E2-A10A_BH-A18Q_C8-A130_117C_W_BI_20130222_H-PM_f24.mzML.gz\n \n    drs_uri: drs://dg.4DFC:3d2cdc38-6abd-11e9-884a-005056921935\n\n    byte_size: 166067244\n\n    \n\n    label: TCGA_E2-A10A_BH-A18Q_C8-A130_117C_W_BI_20130222_H-PM_fA.mzML.gz\n \n    drs_uri: drs://dg.4DFC:3e5a9532-6abd-11e9-884a-005056921935\n\n    byte_size: 118403535\n\n    \n\n    label: TCGA_E2-A10A_BH-A18Q_C8-A130_117C_W_BI_20130222_H-PM_f03.raw\n \n    drs_uri: drs://dg.4DFC:3ff747d0-5cd2-11e9-849f-005056921935\n\n    byte_size: 1295113697\n\n    \n\n    label: TCGA_E2-A10A_BH-A18Q_C8-A130_117C_W_BI_20130222_H-PM_f04.raw\n \n    drs_uri: drs://dg.4DFC:48b3f06c-5cd2-11e9-849f-005056921935\n\n    byte_size: 1257834525\n\n    \n\n    label: TCGA_E2-A10A_BH-A18Q_C8-A130_117C_P_BI_20130228_H-PM_f04.raw.cap.psm\n \n    drs_uri: drs://dg.4DFC:4aa74cee-6b5e-11e9-9244-005056921935\n\n    byte_size: 3871045\n\n    \n\n    label: TCGA_E2-A10A_BH-A18Q_C8-A130_117C_P_BI_20130228_H-PM_f12.raw.cap.psm\n \n    drs_uri: drs://dg.4DFC:4adca628-6b5e-11e9-9244-005056921935\n\n    byte_size: 3776441\n\n    \n\n    label: TCGA_E2-A10A_BH-A18Q_C8-A130_117C_P_BI_20130228_H-PM_f07.raw.cap.psm\n \n    drs_uri: drs://dg.4DFC:4b07761e-6b5e-11e9-9244-005056921935\n\n    byte_size: 3213111\n\n    \n\n    label: TCGA_E2-A10A_BH-A18Q_C8-A130_117C_P_BI_20130228_H-PM_f10.raw.cap.psm\n \n    drs_uri: drs://dg.4DFC:4b3502fa-6b5e-11e9-9244-005056921935\n\n    byte_size: 3717881\n\n    \n\n    label: TCGA_E2-A10A_BH-A18Q_C8-A130_117C_P_BI_20130228_H-PM_f02.raw.cap.psm\n \n    drs_uri: drs://dg.4DFC:4b5ef31c-6b5e-11e9-9244-005056921935\n\n    byte_size: 3543693\n\n    \n\n    label: TCGA_E2-A10A_BH-A18Q_C8-A130_117C_P_BI_20130228_H-PM_fA.raw.cap.psm\n \n    drs_uri: drs://dg.4DFC:4b7cf5a6-6b5e-11e9-9244-005056921935\n\n    byte_size: 1253517\n\n    \n\n    label: TCGA_E2-A10A_BH-A18Q_C8-A130_117C_P_BI_20130228_H-PM_f09.raw.cap.psm\n \n    drs_uri: drs://dg.4DFC:4bb58380-6b5e-11e9-9244-005056921935\n\n    byte_size: 4107066\n\n    \n\n    label: TCGA_E2-A10A_BH-A18Q_C8-A130_117C_P_BI_20130228_H-PM_f01.raw.cap.psm\n \n    drs_uri: drs://dg.4DFC:4bdf906c-6b5e-11e9-9244-005056921935\n\n    byte_size: 3751538\n\n    \n\n    label: TCGA_E2-A10A_BH-A18Q_C8-A130_117C_P_BI_20130228_H-PM_f05.raw.cap.psm\n \n    drs_uri: drs://dg.4DFC:4c7a1fd8-6b5e-11e9-9244-005056921935\n\n    byte_size: 3991259\n\n    \n\n    label: TCGA_E2-A10A_BH-A18Q_C8-A130_117C_P_BI_20130228_H-PM_f11.raw.cap.psm\n \n    drs_uri: drs://dg.4DFC:4ccf4288-6b5e-11e9-9244-005056921935\n\n    byte_size: 4011580\n\n    \n\n    label: TCGA_E2-A10A_BH-A18Q_C8-A130_117C_P_BI_20130228_H-PM_f03.raw.cap.psm\n \n    drs_uri: drs://dg.4DFC:4d0b76b8-6b5e-11e9-9244-005056921935\n\n    byte_size: 3449691\n\n    \n\n    label: TCGA_E2-A10A_BH-A18Q_C8-A130_117C_P_BI_20130228_H-PM_f08.raw.cap.psm\n \n    drs_uri: drs://dg.4DFC:4d52decc-6b5e-11e9-9244-005056921935\n\n    byte_size: 4175810\n\n    \n\n    label: TCGA_E2-A10A_BH-A18Q_C8-A130_117C_P_BI_20130228_H-PM_f06.raw.cap.psm\n \n    drs_uri: drs://dg.4DFC:4da14076-6b5e-11e9-9244-005056921935\n\n    byte_size: 4018346\n\n    \n\n    label: TCGA_E2-A10A_BH-A18Q_C8-A130_117C_P_BI_20130228_H-PM_f06.mzid.gz\n \n    drs_uri: drs://dg.4DFC:4dfaad82-6b5e-11e9-9244-005056921935\n\n    byte_size: 5704471\n\n    \n\n    label: TCGA_E2-A10A_BH-A18Q_C8-A130_117C_P_BI_20130228_H-PM_f01.mzid.gz\n \n    drs_uri: drs://dg.4DFC:4e3f5068-6b5e-11e9-9244-005056921935\n\n    byte_size: 5299987\n\n    \n\n    label: TCGA_E2-A10A_BH-A18Q_C8-A130_117C_P_BI_20130228_H-PM_f10.mzid.gz\n \n    drs_uri: drs://dg.4DFC:4e8aaeb4-6b5e-11e9-9244-005056921935\n\n    byte_size: 5451969\n\n    \n\n    label: TCGA_E2-A10A_BH-A18Q_C8-A130_117C_P_BI_20130228_H-PM_f11.mzid.gz\n \n    drs_uri: drs://dg.4DFC:4ee07a60-6b5e-11e9-9244-005056921935\n\n    byte_size: 5637958\n\n    \n\n    label: TCGA_E2-A10A_BH-A18Q_C8-A130_117C_P_BI_20130228_H-PM_f04.mzid.gz\n \n    drs_uri: drs://dg.4DFC:4f319260-6b5e-11e9-9244-005056921935\n\n    byte_size: 5514135\n\n    \n\n    label: TCGA_E2-A10A_BH-A18Q_C8-A130_117C_P_BI_20130228_H-PM_f03.mzid.gz\n \n    drs_uri: drs://dg.4DFC:4faaa038-6b5e-11e9-9244-005056921935\n\n    byte_size: 4930932\n\n    \n\n    label: TCGA_E2-A10A_BH-A18Q_C8-A130_117C_P_BI_20130228_H-PM_f02.mzid.gz\n \n    drs_uri: drs://dg.4DFC:4ff94efe-6b5e-11e9-9244-005056921935\n\n    byte_size: 4949776\n\n    \n\n    label: TCGA_E2-A10A_BH-A18Q_C8-A130_117C_P_BI_20130228_H-PM_f08.mzid.gz\n \n    drs_uri: drs://dg.4DFC:5073190a-6b5e-11e9-9244-005056921935\n\n    byte_size: 5955432\n\n    \n\n    label: TCGA_E2-A10A_BH-A18Q_C8-A130_117C_P_BI_20130228_H-PM_f12.mzid.gz\n \n    drs_uri: drs://dg.4DFC:510107ba-6b5e-11e9-9244-005056921935\n\n    byte_size: 5189966\n\n    \n\n    label: TCGA_E2-A10A_BH-A18Q_C8-A130_117C_W_BI_20130222_H-PM_f05.raw\n \n    drs_uri: drs://dg.4DFC:526bfee2-5cd2-11e9-849f-005056921935\n\n    byte_size: 1305560173\n\n    \n\n    label: TCGA_E2-A10A_BH-A18Q_C8-A130_117C_P_BI_20130228_H-PM_f09.mzid.gz\n \n    drs_uri: drs://dg.4DFC:515c58ea-6b5e-11e9-9244-005056921935\n\n    byte_size: 5806522\n\n    \n\n    label: TCGA_E2-A10A_BH-A18Q_C8-A130_117C_P_BI_20130228_H-PM_f07.mzid.gz\n \n    drs_uri: drs://dg.4DFC:51b5d24e-6b5e-11e9-9244-005056921935\n\n    byte_size: 4640215\n\n    \n\n    label: TCGA_E2-A10A_BH-A18Q_C8-A130_117C_P_BI_20130228_H-PM_fA.mzid.gz\n \n    drs_uri: drs://dg.4DFC:51e70058-6b5e-11e9-9244-005056921935\n\n    byte_size: 1674176\n\n    \n\n    label: TCGA_E2-A10A_BH-A18Q_C8-A130_117C_P_BI_20130228_H-PM_f05.mzid.gz\n \n    drs_uri: drs://dg.4DFC:52457d2c-6b5e-11e9-9244-005056921935\n\n    byte_size: 5685188\n\n    \n\n    label: TCGA_E2-A10A_BH-A18Q_C8-A130_117C_W_BI_20130222_H-PM_f06.raw\n \n    drs_uri: drs://dg.4DFC:5b0c55c4-5cd2-11e9-849f-005056921935\n\n    byte_size: 1280644725\n\n    \n\n    label: TCGA_E2-A10A_BH-A18Q_C8-A130_117C_W_BI_20130222_H-PM_f07.raw\n \n    drs_uri: drs://dg.4DFC:634a6b40-5cd2-11e9-849f-005056921935\n\n    byte_size: 1341011263\n\n    \n\n    label: TCGA_E2-A10A_BH-A18Q_C8-A130_117C_W_BI_20130222_H-PM_f01.raw.cap.psm\n \n    drs_uri: drs://dg.4DFC:6bc4589c-6b5c-11e9-ab5c-005056921935\n\n    byte_size: 6923743\n\n    \n\n    label: TCGA_E2-A10A_BH-A18Q_C8-A130_117C_W_BI_20130222_H-PM_f02.raw.cap.psm\n \n    drs_uri: drs://dg.4DFC:6bf22560-6b5c-11e9-ab5c-005056921935\n\n    byte_size: 6847471\n\n    \n"
     ]
    }
   ]
  },
  {
   "cell_type": "code",
   "execution_count": 1,
   "metadata": {},
   "outputs": [
    {
     "output_type": "error",
     "ename": "NameError",
     "evalue": "name 'Q' is not defined",
     "traceback": [
      "\u001b[0;31m---------------------------------------------------------------------------\u001b[0m",
      "\u001b[0;31mNameError\u001b[0m                                 Traceback (most recent call last)",
      "\u001b[0;32m/var/folders/c4/clcd99g14qb5l22ybclzch4h0000gn/T/ipykernel_92621/2032905659.py\u001b[0m in \u001b[0;36m<module>\u001b[0;34m\u001b[0m\n\u001b[0;32m----> 1\u001b[0;31m \u001b[0mQ\u001b[0m\u001b[0;34m.\u001b[0m\u001b[0mstatusbigquery\u001b[0m\u001b[0;34m(\u001b[0m\u001b[0;34m)\u001b[0m\u001b[0;34m\u001b[0m\u001b[0;34m\u001b[0m\u001b[0m\n\u001b[0m",
      "\u001b[0;31mNameError\u001b[0m: name 'Q' is not defined"
     ]
    }
   ],
   "source": [
    "Q.statusbigquery()"
   ]
  },
  {
   "cell_type": "markdown",
   "id": "entire-audience",
   "metadata": {},
   "source": [
    "## Test queries"
   ]
  },
  {
   "cell_type": "markdown",
   "id": "enabling-promise",
   "metadata": {},
   "source": [
    "Now that we've successfully run and analyzed a few queries, here are a few additional ones you can try out on your own.\n",
    "\n",
    "Solutions can be shared with the CDA team as indicated in the _Testing Guide_ document."
   ]
  },
  {
   "cell_type": "markdown",
   "id": "beautiful-backing",
   "metadata": {},
   "source": [
    "### Test Query 1\n",
    "\n",
    "**Find data from TCGA-BRCA project, with donors over the age of 50 with Stage IIIC cancer.**"
   ]
  },
  {
   "cell_type": "code",
   "execution_count": 18,
   "id": "front-prayer",
   "metadata": {},
   "outputs": [],
   "source": [
    "# Solution\n",
    "\n",
    "# ...\n",
    "\n",
    "# print(r)"
   ]
  },
  {
   "cell_type": "markdown",
   "id": "sublime-feelings",
   "metadata": {},
   "source": [
    "### Test Query 2\n",
    "\n",
    "**Find data from all patients who have been treated with \"Radiation Therapy, NOS\" and have both genomic and proteomic data.**"
   ]
  },
  {
   "cell_type": "code",
   "execution_count": 19,
   "id": "removable-factor",
   "metadata": {},
   "outputs": [],
   "source": [
    "# Solution\n",
    "\n",
    "# ...\n",
    "\n",
    "# print(r)"
   ]
  },
  {
   "cell_type": "markdown",
   "id": "jewish-slovenia",
   "metadata": {},
   "source": [
    "### Test Query 3\n",
    "\n",
    "**Find data from all subjects with lung adenocarcinomas that have both primary and recurrent tumors.**"
   ]
  },
  {
   "cell_type": "code",
   "execution_count": 20,
   "id": "acute-verification",
   "metadata": {},
   "outputs": [],
   "source": [
    "# Solution\n",
    "\n",
    "# ...\n",
    "\n",
    "# print(r)"
   ]
  }
 ],
 "metadata": {
  "kernelspec": {
   "name": "python3",
   "display_name": "Python 3.9.5 64-bit ('venv': venv)"
  },
  "language_info": {
   "codemirror_mode": {
    "name": "ipython",
    "version": 3
   },
   "file_extension": ".py",
   "mimetype": "text/x-python",
   "name": "python",
   "nbconvert_exporter": "python",
   "pygments_lexer": "ipython3",
   "version": "3.9.5"
  },
  "interpreter": {
   "hash": "5c867d1980d5b66d2bfc8a5903dcee074b4b68f3917a4f27f8a310cab24e9f1b"
  }
 },
 "nbformat": 4,
 "nbformat_minor": 5
}