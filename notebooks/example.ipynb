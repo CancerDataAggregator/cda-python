{
 "cells": [
  {
   "cell_type": "markdown",
   "id": "sustained-launch",
   "metadata": {},
   "source": [
    "# CDA Python: Features & Examples\n",
    "---"
   ]
  },
  {
   "cell_type": "markdown",
   "id": "legitimate-indication",
   "metadata": {},
   "source": [
    "The following examples illustrate some ```CDA Python``` features while providing insights into the underlying data structure (**Getting started**). To demonstrate those features, we provide a few relevant text queries along with step-by-step explanations on how to translate those into the ```CDA Python``` queries (**Example queries**). Finally, there are a few additional queries intended for the test users to play around with and send feedback to the CDA team (**Test queries**)."
   ]
  },
  {
   "cell_type": "code",
   "execution_count": 1,
   "id": "vertical-medium",
   "metadata": {},
   "outputs": [
    {
     "output_type": "stream",
     "name": "stdout",
     "text": [
      "/Users/dboles/Documents/python/working/cda-python/cdapython/__init__.py\n2021.7.6\n"
     ]
    }
   ],
   "source": [
    "from cdapython import Q, columns, unique_terms\n",
    "import cdapython\n",
    "print(cdapython.__file__)\n",
    "print(cdapython.__version__)"
   ]
  },
  {
   "cell_type": "markdown",
   "id": "found-lingerie",
   "metadata": {},
   "source": [
    "## Getting started\n"
   ]
  },
  {
   "cell_type": "code",
   "execution_count": 13,
   "metadata": {},
   "outputs": [
    {
     "output_type": "stream",
     "name": "stdout",
     "text": [
      "{'column_name': 'days_to_birth',\n 'data_type': 'INT64',\n 'description': None,\n 'field_path': 'days_to_birth',\n 'table_catalog': 'gdc-bq-sample',\n 'table_name': 'v3',\n 'table_schema': 'cda_mvp'}\nNone\n"
     ]
    }
   ],
   "source": [
    "print(Q.sql(\"SELECT * FROM `gdc-bq-sample.cda_mvp.INFORMATION_SCHEMA.COLUMN_FIELD_PATHS` WHERE table_name = 'v3' Limit 5\").pretty_print(0))"
   ]
  },
  {
   "cell_type": "code",
   "execution_count": 3,
   "metadata": {},
   "outputs": [
    {
     "output_type": "stream",
     "name": "stdout",
     "text": [
      "[None, 'not reported', 'male', 'female', 'unknown', 'unspecified']\n"
     ]
    }
   ],
   "source": [
    "print(cdapython.unique_terms('sex', system=\"GDC\"))"
   ]
  },
  {
   "cell_type": "markdown",
   "id": "destroyed-behalf",
   "metadata": {},
   "source": [
    "Print out the list of available fields with ```columns()```:"
   ]
  },
  {
   "cell_type": "code",
   "execution_count": 5,
   "id": "wooden-windsor",
   "metadata": {
    "scrolled": false
   },
   "outputs": [
    {
     "output_type": "stream",
     "name": "stderr",
     "text": [
      "SELECT field_path FROM `gdc-bq-sample.cda_mvp.INFORMATION_SCHEMA.COLUMN_FIELD_PATHS` WHERE table_name = 'v3'\n"
     ]
    },
    {
     "output_type": "execute_result",
     "data": {
      "text/plain": [
       "['days_to_birth',\n",
       " 'race',\n",
       " 'sex',\n",
       " 'ethnicity',\n",
       " 'id',\n",
       " 'ResearchSubject',\n",
       " 'ResearchSubject.Diagnosis',\n",
       " 'ResearchSubject.Diagnosis.morphology',\n",
       " 'ResearchSubject.Diagnosis.tumor_stage',\n",
       " 'ResearchSubject.Diagnosis.tumor_grade',\n",
       " 'ResearchSubject.Diagnosis.Treatment',\n",
       " 'ResearchSubject.Diagnosis.Treatment.type',\n",
       " 'ResearchSubject.Diagnosis.Treatment.outcome',\n",
       " 'ResearchSubject.Diagnosis.id',\n",
       " 'ResearchSubject.Diagnosis.primary_diagnosis',\n",
       " 'ResearchSubject.Diagnosis.age_at_diagnosis',\n",
       " 'ResearchSubject.Specimen',\n",
       " 'ResearchSubject.Specimen.File',\n",
       " 'ResearchSubject.Specimen.File.label',\n",
       " 'ResearchSubject.Specimen.File.associated_project',\n",
       " 'ResearchSubject.Specimen.File.drs_uri',\n",
       " 'ResearchSubject.Specimen.File.identifier',\n",
       " 'ResearchSubject.Specimen.File.identifier.system',\n",
       " 'ResearchSubject.Specimen.File.identifier.value',\n",
       " 'ResearchSubject.Specimen.File.data_category',\n",
       " 'ResearchSubject.Specimen.File.byte_size',\n",
       " 'ResearchSubject.Specimen.File.type',\n",
       " 'ResearchSubject.Specimen.File.file_format',\n",
       " 'ResearchSubject.Specimen.File.checksum',\n",
       " 'ResearchSubject.Specimen.File.id',\n",
       " 'ResearchSubject.Specimen.File.data_type',\n",
       " 'ResearchSubject.Specimen.derived_from_specimen',\n",
       " 'ResearchSubject.Specimen.associated_project',\n",
       " 'ResearchSubject.Specimen.age_at_collection',\n",
       " 'ResearchSubject.Specimen.anatomical_site',\n",
       " 'ResearchSubject.Specimen.source_material_type',\n",
       " 'ResearchSubject.Specimen.derived_from_subject',\n",
       " 'ResearchSubject.Specimen.specimen_type',\n",
       " 'ResearchSubject.Specimen.id',\n",
       " 'ResearchSubject.Specimen.primary_disease_type',\n",
       " 'ResearchSubject.Specimen.identifier',\n",
       " 'ResearchSubject.Specimen.identifier.system',\n",
       " 'ResearchSubject.Specimen.identifier.value',\n",
       " 'ResearchSubject.associated_project',\n",
       " 'ResearchSubject.id',\n",
       " 'ResearchSubject.primary_disease_type',\n",
       " 'ResearchSubject.identifier',\n",
       " 'ResearchSubject.identifier.system',\n",
       " 'ResearchSubject.identifier.value',\n",
       " 'ResearchSubject.primary_disease_site']"
      ]
     },
     "metadata": {},
     "execution_count": 5
    }
   ],
   "source": [
    "columns()"
   ]
  },
  {
   "cell_type": "markdown",
   "id": "simplified-inquiry",
   "metadata": {},
   "source": [
    "All of the above fields are what describes the highest entity in the data structure hierarchy – ```Patient``` entity. The first five fields represent ```Patient``` demographic information, while the ```ResearchSubject``` entity contains details that we are used to seeing within the nodes' ```Case``` record.\n",
    "\n",
    "One of the contributions of the CDA is aggregated ```ResearchSubject``` information. This means that all ```ResearchSubject``` records coming from the same subject are now gathered under the Patient entity. As we know, certain specimens are studied in multiple projects (being part of a single data node or multiple nodes) as different ```ResearchSubject``` entries. Those ```ResearchSubject``` entries are collected as a list under the ```ResearchSubject``` entity. One example of this is the patient record with ```id = TCGA-E2-A10A``` which contains two ```ResearchSubject``` entries, one from GDC and the other from PDC.\n",
    "\n",
    "Note that the ```ResearchSubject``` entity is a list of records, as many other entities above are. **There are certain considerations that should be made when creating the queries by using the fields that come from lists, but more about that will follow in examples below**.\n",
    "\n",
    "The names in the list may look familiar to you, but they may have been renamed or restructured in the CDA. The field name mappings are described in the _CDA Schema Field Mapping_ document that is linked in the _Testing Guide_. A more direct way to explore and understand the fields is to use the ```unique_terms()``` function:"
   ]
  },
  {
   "cell_type": "code",
   "execution_count": 6,
   "id": "primary-norman",
   "metadata": {
    "scrolled": false
   },
   "outputs": [
    {
     "output_type": "execute_result",
     "data": {
      "text/plain": [
       "['Primary Tumor',\n",
       " 'Primary Blood Derived Cancer - Bone Marrow',\n",
       " 'Solid Tissue Normal',\n",
       " 'Primary Blood Derived Cancer - Peripheral Blood',\n",
       " 'Bone Marrow Normal',\n",
       " 'Blood Derived Normal',\n",
       " 'Lymphoid Normal',\n",
       " 'Cell Lines',\n",
       " 'Metastatic',\n",
       " 'Not Reported',\n",
       " 'Tumor',\n",
       " 'Next Generation Cancer Model',\n",
       " 'FFPE Scrolls',\n",
       " 'Expanded Next Generation Cancer Model',\n",
       " 'Recurrent Tumor',\n",
       " 'Buccal Cell Normal',\n",
       " 'Additional - New Primary',\n",
       " 'Post neo-adjuvant therapy',\n",
       " 'Recurrent Blood Derived Cancer - Bone Marrow',\n",
       " 'Granulocytes',\n",
       " 'Slides',\n",
       " 'Mononuclear Cells from Bone Marrow Normal',\n",
       " 'Recurrent Blood Derived Cancer - Peripheral Blood',\n",
       " 'Fibroblasts from Bone Marrow Normal',\n",
       " 'Primary Xenograft Tissue',\n",
       " 'Blood Derived Cancer - Bone Marrow, Post-treatment',\n",
       " 'Blood Derived Cancer - Peripheral Blood, Post-treatment',\n",
       " 'Blood Derived Cancer - Peripheral Blood',\n",
       " 'Blood Derived Cancer - Bone Marrow',\n",
       " 'Unknown',\n",
       " 'DNA',\n",
       " 'Normal',\n",
       " 'Xenograft Tissue',\n",
       " 'Normal Adjacent Tissue',\n",
       " 'Xenograft',\n",
       " 'Neoplasms of Uncertain and Unknown Behavior',\n",
       " 'Additional Metastatic',\n",
       " 'Control Analyte']"
      ]
     },
     "metadata": {},
     "execution_count": 6
    }
   ],
   "source": [
    "unique_terms(\"ResearchSubject.Specimen.source_material_type\")"
   ]
  },
  {
   "cell_type": "markdown",
   "id": "lyric-design",
   "metadata": {},
   "source": [
    "Additionally, you can specify a particular data node by using the ```system``` argument:"
   ]
  },
  {
   "cell_type": "code",
   "execution_count": 7,
   "id": "funded-colon",
   "metadata": {},
   "outputs": [
    {
     "output_type": "execute_result",
     "data": {
      "text/plain": [
       "['Solid Tissue Normal',\n",
       " 'Primary Tumor',\n",
       " 'Tumor',\n",
       " 'Not Reported',\n",
       " 'Normal',\n",
       " 'Xenograft Tissue',\n",
       " 'Cell Lines',\n",
       " 'Normal Adjacent Tissue',\n",
       " 'Xenograft']"
      ]
     },
     "metadata": {},
     "execution_count": 7
    }
   ],
   "source": [
    "unique_terms(\"ResearchSubject.Specimen.source_material_type\", system=\"PDC\")"
   ]
  },
  {
   "cell_type": "markdown",
   "id": "floppy-subscriber",
   "metadata": {},
   "source": [
    "Now, let's dive into the querying!\n",
    "\n",
    "We can start by getting the record for ```id = TCGA-E2-A10A``` that we mentioned earlier:"
   ]
  },
  {
   "cell_type": "code",
   "execution_count": 15,
   "id": "distant-sheet",
   "metadata": {
    "tags": [
     "outputPrepend"
    ]
   },
   "outputs": [
    {
     "output_type": "stream",
     "name": "stdout",
     "text": [
      "4.mzid.gz', 'associated_project': ['CPTAC-TCGA'], 'drs_uri': 'drs://dg.4DFC:83a4b2ae-6b5c-11e9-ab5c-005056921935', 'identifier': [{'system': 'PDC', 'value': '83a4b2ae-6b5c-11e9-ab5c-005056921935'}], 'data_category': 'Peptide Spectral Matches', 'byte_size': '11109976', 'type': None, 'file_format': 'mzIdentML', 'checksum': '46b3da951c5959912f4a9d19597e3283', 'id': '83a4b2ae-6b5c-11e9-ab5c-005056921935', 'data_type': 'Open Standard'}, {'label': 'TCGA_E2-A10A_BH-A18Q_C8-A130_117C_W_BI_20130222_H-PM_fA.mzid.gz', 'associated_project': ['CPTAC-TCGA'], 'drs_uri': 'drs://dg.4DFC:83bf924a-6b5c-11e9-ab5c-005056921935', 'identifier': [{'system': 'PDC', 'value': '83bf924a-6b5c-11e9-ab5c-005056921935'}], 'data_category': 'Peptide Spectral Matches', 'byte_size': '2737111', 'type': None, 'file_format': 'mzIdentML', 'checksum': 'a1c49506559b11af262ed54c1c8b662a', 'id': '83bf924a-6b5c-11e9-ab5c-005056921935', 'data_type': 'Open Standard'}, {'label': 'TCGA_E2-A10A_BH-A18Q_C8-A130_117C_W_BI_20130222_H-PM_f24.mzid.gz', 'associated_project': ['CPTAC-TCGA'], 'drs_uri': 'drs://dg.4DFC:8408cb86-6b5c-11e9-ab5c-005056921935', 'identifier': [{'system': 'PDC', 'value': '8408cb86-6b5c-11e9-ab5c-005056921935'}], 'data_category': 'Peptide Spectral Matches', 'byte_size': '9583053', 'type': None, 'file_format': 'mzIdentML', 'checksum': 'b301bb9afc0bb55e7ea20c9a7204adef', 'id': '8408cb86-6b5c-11e9-ab5c-005056921935', 'data_type': 'Open Standard'}, {'label': 'TCGA_E2-A10A_BH-A18Q_C8-A130_117C_W_BI_20130222_H-PM_f22.mzid.gz', 'associated_project': ['CPTAC-TCGA'], 'drs_uri': 'drs://dg.4DFC:84460780-6b5c-11e9-ab5c-005056921935', 'identifier': [{'system': 'PDC', 'value': '84460780-6b5c-11e9-ab5c-005056921935'}], 'data_category': 'Peptide Spectral Matches', 'byte_size': '9913706', 'type': None, 'file_format': 'mzIdentML', 'checksum': 'c861f6d1a4178f83aa66c5088a3fd467', 'id': '84460780-6b5c-11e9-ab5c-005056921935', 'data_type': 'Open Standard'}, {'label': 'TCGA_E2-A10A_BH-A18Q_C8-A130_117C_W_BI_20130222_H-PM_f18.mzid.gz', 'associated_project': ['CPTAC-TCGA'], 'drs_uri': 'drs://dg.4DFC:84960618-6b5c-11e9-ab5c-005056921935', 'identifier': [{'system': 'PDC', 'value': '84960618-6b5c-11e9-ab5c-005056921935'}], 'data_category': 'Peptide Spectral Matches', 'byte_size': '10850108', 'type': None, 'file_format': 'mzIdentML', 'checksum': '449ac57a0322d23e3a90de9501bcbdb2', 'id': '84960618-6b5c-11e9-ab5c-005056921935', 'data_type': 'Open Standard'}, {'label': 'TCGA_E2-A10A_BH-A18Q_C8-A130_117C_W_BI_20130222_H-PM_f01.mzid.gz', 'associated_project': ['CPTAC-TCGA'], 'drs_uri': 'drs://dg.4DFC:84df00f2-6b5c-11e9-ab5c-005056921935', 'identifier': [{'system': 'PDC', 'value': '84df00f2-6b5c-11e9-ab5c-005056921935'}], 'data_category': 'Peptide Spectral Matches', 'byte_size': '9577499', 'type': None, 'file_format': 'mzIdentML', 'checksum': '76ed4974d764b9f4d85568dada12cfc0', 'id': '84df00f2-6b5c-11e9-ab5c-005056921935', 'data_type': 'Open Standard'}, {'label': 'TCGA_E2-A10A_BH-A18Q_C8-A130_117C_W_BI_20130222_H-PM_f20.mzid.gz', 'associated_project': ['CPTAC-TCGA'], 'drs_uri': 'drs://dg.4DFC:855368d4-6b5c-11e9-ab5c-005056921935', 'identifier': [{'system': 'PDC', 'value': '855368d4-6b5c-11e9-ab5c-005056921935'}], 'data_category': 'Peptide Spectral Matches', 'byte_size': '10110285', 'type': None, 'file_format': 'mzIdentML', 'checksum': 'c4284448c5a37a00a09c72110a2c7d47', 'id': '855368d4-6b5c-11e9-ab5c-005056921935', 'data_type': 'Open Standard'}, {'label': 'TCGA_E2-A10A_BH-A18Q_C8-A130_117C_W_BI_20130222_H-PM_f11.raw', 'associated_project': ['CPTAC-TCGA'], 'drs_uri': 'drs://dg.4DFC:893c96a2-5cd2-11e9-849f-005056921935', 'identifier': [{'system': 'PDC', 'value': '893c96a2-5cd2-11e9-849f-005056921935'}], 'data_category': 'Raw Mass Spectra', 'byte_size': '1391472731', 'type': None, 'file_format': 'vendor-specific', 'checksum': 'c221e0d359781f07b67309601e698336', 'id': '893c96a2-5cd2-11e9-849f-005056921935', 'data_type': 'Proprietary'}, {'label': 'TCGA_E2-A10A_BH-A18Q_C8-A130_117C_P_BI_20130228_H-PM_f01.raw', 'associated_project': ['CPTAC-TCGA'], 'drs_uri': 'drs://dg.4DFC:8bf85c64-5d2c-11e9-8f80-005056921935', 'identifier': [{'system': 'PDC', 'value': '8bf85c64-5d2c-11e9-8f80-005056921935'}], 'data_category': 'Raw Mass Spectra', 'byte_size': '1542826373', 'type': None, 'file_format': 'vendor-specific', 'checksum': '1c21899d2e5b6101c144a9301ecba6af', 'id': '8bf85c64-5d2c-11e9-8f80-005056921935', 'data_type': 'Proprietary'}, {'label': 'TCGA_E2-A10A_BH-A18Q_C8-A130_117C_W_BI_20130222_H-PM_f12.raw', 'associated_project': ['CPTAC-TCGA'], 'drs_uri': 'drs://dg.4DFC:9341485a-5cd2-11e9-849f-005056921935', 'identifier': [{'system': 'PDC', 'value': '9341485a-5cd2-11e9-849f-005056921935'}], 'data_category': 'Raw Mass Spectra', 'byte_size': '1361817935', 'type': None, 'file_format': 'vendor-specific', 'checksum': '5a2e942142299f4a2759b7a200bda1a7', 'id': '9341485a-5cd2-11e9-849f-005056921935', 'data_type': 'Proprietary'}, {'label': 'TCGA_E2-A10A_BH-A18Q_C8-A130_117C_P_BI_20130228_H-PM_f02.raw', 'associated_project': ['CPTAC-TCGA'], 'drs_uri': 'drs://dg.4DFC:9641a874-5d2c-11e9-8f80-005056921935', 'identifier': [{'system': 'PDC', 'value': '9641a874-5d2c-11e9-8f80-005056921935'}], 'data_category': 'Raw Mass Spectra', 'byte_size': '1573731970', 'type': None, 'file_format': 'vendor-specific', 'checksum': '0bf32cafa4b037a1ba0d30794f1b4ea5', 'id': '9641a874-5d2c-11e9-8f80-005056921935', 'data_type': 'Proprietary'}, {'label': 'TCGA_E2-A10A_BH-A18Q_C8-A130_117C_W_BI_20130222_H-PM_f13.raw', 'associated_project': ['CPTAC-TCGA'], 'drs_uri': 'drs://dg.4DFC:9d547966-5cd2-11e9-849f-005056921935', 'identifier': [{'system': 'PDC', 'value': '9d547966-5cd2-11e9-849f-005056921935'}], 'data_category': 'Raw Mass Spectra', 'byte_size': '1389440800', 'type': None, 'file_format': 'vendor-specific', 'checksum': '5a964cb9bae7d7bd011ebf2cc5a0af95', 'id': '9d547966-5cd2-11e9-849f-005056921935', 'data_type': 'Proprietary'}, {'label': 'TCGA_E2-A10A_BH-A18Q_C8-A130_117C_P_BI_20130228_H-PM_f03.raw', 'associated_project': ['CPTAC-TCGA'], 'drs_uri': 'drs://dg.4DFC:a16571fe-5d2c-11e9-8f80-005056921935', 'identifier': [{'system': 'PDC', 'value': 'a16571fe-5d2c-11e9-8f80-005056921935'}], 'data_category': 'Raw Mass Spectra', 'byte_size': '1551539736', 'type': None, 'file_format': 'vendor-specific', 'checksum': '63fcdb533ca84b4d832d5690637df96c', 'id': 'a16571fe-5d2c-11e9-8f80-005056921935', 'data_type': 'Proprietary'}, {'label': 'TCGA_E2-A10A_BH-A18Q_C8-A130_117C_W_BI_20130222_H-PM_f14.raw', 'associated_project': ['CPTAC-TCGA'], 'drs_uri': 'drs://dg.4DFC:a638e4fe-5cd2-11e9-849f-005056921935', 'identifier': [{'system': 'PDC', 'value': 'a638e4fe-5cd2-11e9-849f-005056921935'}], 'data_category': 'Raw Mass Spectra', 'byte_size': '1409387002', 'type': None, 'file_format': 'vendor-specific', 'checksum': '478243658993adb429e178392606d311', 'id': 'a638e4fe-5cd2-11e9-849f-005056921935', 'data_type': 'Proprietary'}, {'label': 'TCGA_E2-A10A_BH-A18Q_C8-A130_117C_P_BI_20130228_H-PM_f04.raw', 'associated_project': ['CPTAC-TCGA'], 'drs_uri': 'drs://dg.4DFC:ae83fbda-5d2c-11e9-8f80-005056921935', 'identifier': [{'system': 'PDC', 'value': 'ae83fbda-5d2c-11e9-8f80-005056921935'}], 'data_category': 'Raw Mass Spectra', 'byte_size': '1628337719', 'type': None, 'file_format': 'vendor-specific', 'checksum': '6958d87ff5dbe137f0fa34a11d9137ee', 'id': 'ae83fbda-5d2c-11e9-8f80-005056921935', 'data_type': 'Proprietary'}, {'label': 'TCGA_E2-A10A_BH-A18Q_C8-A130_117C_W_BI_20130222_H-PM_f15.raw', 'associated_project': ['CPTAC-TCGA'], 'drs_uri': 'drs://dg.4DFC:b0241286-5cd2-11e9-849f-005056921935', 'identifier': [{'system': 'PDC', 'value': 'b0241286-5cd2-11e9-849f-005056921935'}], 'data_category': 'Raw Mass Spectra', 'byte_size': '1395286902', 'type': None, 'file_format': 'vendor-specific', 'checksum': '261f318e40d61aa8e6e89ed71ecd8520', 'id': 'b0241286-5cd2-11e9-849f-005056921935', 'data_type': 'Proprietary'}, {'label': 'TCGA_E2-A10A_BH-A18Q_C8-A130_117C_P_BI_20130228_H-PM_f01.mzML.gz', 'associated_project': ['CPTAC-TCGA'], 'drs_uri': 'drs://dg.4DFC:bc02bd00-6ac4-11e9-8991-005056921935', 'identifier': [{'system': 'PDC', 'value': 'bc02bd00-6ac4-11e9-8991-005056921935'}], 'data_category': 'Processed Mass Spectra', 'byte_size': '200627722', 'type': None, 'file_format': 'mzML', 'checksum': '52ee7d0fd062c57494efe1897a5bb2ef', 'id': 'bc02bd00-6ac4-11e9-8991-005056921935', 'data_type': 'Open Standard'}, {'label': 'TCGA_E2-A10A_BH-A18Q_C8-A130_117C_P_BI_20130228_H-PM_f05.raw', 'associated_project': ['CPTAC-TCGA'], 'drs_uri': 'drs://dg.4DFC:bc4d5cd4-5d2c-11e9-8f80-005056921935', 'identifier': [{'system': 'PDC', 'value': 'bc4d5cd4-5d2c-11e9-8f80-005056921935'}], 'data_category': 'Raw Mass Spectra', 'byte_size': '1638198253', 'type': None, 'file_format': 'vendor-specific', 'checksum': 'b6b89cb1111080d664aa5247ac2305cf', 'id': 'bc4d5cd4-5d2c-11e9-8f80-005056921935', 'data_type': 'Proprietary'}, {'label': 'TCGA_E2-A10A_BH-A18Q_C8-A130_117C_W_BI_20130222_H-PM_f16.raw', 'associated_project': ['CPTAC-TCGA'], 'drs_uri': 'drs://dg.4DFC:bfac51be-5cd2-11e9-849f-005056921935', 'identifier': [{'system': 'PDC', 'value': 'bfac51be-5cd2-11e9-849f-005056921935'}], 'data_category': 'Raw Mass Spectra', 'byte_size': '1333639716', 'type': None, 'file_format': 'vendor-specific', 'checksum': 'c2e507029a299e5befa79280c812ba05', 'id': 'bfac51be-5cd2-11e9-849f-005056921935', 'data_type': 'Proprietary'}, {'label': 'TCGA_E2-A10A_BH-A18Q_C8-A130_117C_P_BI_20130228_H-PM_f02.mzML.gz', 'associated_project': ['CPTAC-TCGA'], 'drs_uri': 'drs://dg.4DFC:c2b140c2-6ac4-11e9-8991-005056921935', 'identifier': [{'system': 'PDC', 'value': 'c2b140c2-6ac4-11e9-8991-005056921935'}], 'data_category': 'Processed Mass Spectra', 'byte_size': '204896934', 'type': None, 'file_format': 'mzML', 'checksum': 'f34b851896260098b4cbf047d157a2b2', 'id': 'c2b140c2-6ac4-11e9-8991-005056921935', 'data_type': 'Open Standard'}, {'label': 'TCGA_E2-A10A_BH-A18Q_C8-A130_117C_P_BI_20130228_H-PM_f03.mzML.gz', 'associated_project': ['CPTAC-TCGA'], 'drs_uri': 'drs://dg.4DFC:c4b82eb2-6ac4-11e9-8991-005056921935', 'identifier': [{'system': 'PDC', 'value': 'c4b82eb2-6ac4-11e9-8991-005056921935'}], 'data_category': 'Processed Mass Spectra', 'byte_size': '202454246', 'type': None, 'file_format': 'mzML', 'checksum': '3f88e70e009f03ddd491ec4a2eaa2dc8', 'id': 'c4b82eb2-6ac4-11e9-8991-005056921935', 'data_type': 'Open Standard'}, {'label': 'TCGA_E2-A10A_BH-A18Q_C8-A130_117C_P_BI_20130228_H-PM_f04.mzML.gz', 'associated_project': ['CPTAC-TCGA'], 'drs_uri': 'drs://dg.4DFC:c79914e8-6ac4-11e9-8991-005056921935', 'identifier': [{'system': 'PDC', 'value': 'c79914e8-6ac4-11e9-8991-005056921935'}], 'data_category': 'Processed Mass Spectra', 'byte_size': '212139992', 'type': None, 'file_format': 'mzML', 'checksum': 'af5179f10f51cafe7a43de8a091a510e', 'id': 'c79914e8-6ac4-11e9-8991-005056921935', 'data_type': 'Open Standard'}, {'label': 'TCGA_E2-A10A_BH-A18Q_C8-A130_117C_W_BI_20130222_H-PM_f17.raw', 'associated_project': ['CPTAC-TCGA'], 'drs_uri': 'drs://dg.4DFC:c8ef7364-5cd2-11e9-849f-005056921935', 'identifier': [{'system': 'PDC', 'value': 'c8ef7364-5cd2-11e9-849f-005056921935'}], 'data_category': 'Raw Mass Spectra', 'byte_size': '1337750937', 'type': None, 'file_format': 'vendor-specific', 'checksum': '17b7bc70bbc8ca3ab111185c39e39388', 'id': 'c8ef7364-5cd2-11e9-849f-005056921935', 'data_type': 'Proprietary'}, {'label': 'TCGA_E2-A10A_BH-A18Q_C8-A130_117C_P_BI_20130228_H-PM_f06.raw', 'associated_project': ['CPTAC-TCGA'], 'drs_uri': 'drs://dg.4DFC:c9afa166-5d2c-11e9-8f80-005056921935', 'identifier': [{'system': 'PDC', 'value': 'c9afa166-5d2c-11e9-8f80-005056921935'}], 'data_category': 'Raw Mass Spectra', 'byte_size': '1610455552', 'type': None, 'file_format': 'vendor-specific', 'checksum': '7ec8cac3739745771098a44a899fbdec', 'id': 'c9afa166-5d2c-11e9-8f80-005056921935', 'data_type': 'Proprietary'}, {'label': 'TCGA_E2-A10A_BH-A18Q_C8-A130_117C_P_BI_20130228_H-PM_f05.mzML.gz', 'associated_project': ['CPTAC-TCGA'], 'drs_uri': 'drs://dg.4DFC:ca08a2c0-6ac4-11e9-8991-005056921935', 'identifier': [{'system': 'PDC', 'value': 'ca08a2c0-6ac4-11e9-8991-005056921935'}], 'data_category': 'Processed Mass Spectra', 'byte_size': '213747023', 'type': None, 'file_format': 'mzML', 'checksum': '8740d10a7778fe43574834688c24d850', 'id': 'ca08a2c0-6ac4-11e9-8991-005056921935', 'data_type': 'Open Standard'}, {'label': 'TCGA_E2-A10A_BH-A18Q_C8-A130_117C_P_BI_20130228_H-PM_f06.mzML.gz', 'associated_project': ['CPTAC-TCGA'], 'drs_uri': 'drs://dg.4DFC:cc6f1bca-6ac4-11e9-8991-005056921935', 'identifier': [{'system': 'PDC', 'value': 'cc6f1bca-6ac4-11e9-8991-005056921935'}], 'data_category': 'Processed Mass Spectra', 'byte_size': '209802257', 'type': None, 'file_format': 'mzML', 'checksum': 'e9f2418337d42657f0c9128a2e8fd048', 'id': 'cc6f1bca-6ac4-11e9-8991-005056921935', 'data_type': 'Open Standard'}, {'label': 'TCGA_E2-A10A_BH-A18Q_C8-A130_117C_P_BI_20130228_H-PM_f07.mzML.gz', 'associated_project': ['CPTAC-TCGA'], 'drs_uri': 'drs://dg.4DFC:d0124cde-6ac4-11e9-8991-005056921935', 'identifier': [{'system': 'PDC', 'value': 'd0124cde-6ac4-11e9-8991-005056921935'}], 'data_category': 'Processed Mass Spectra', 'byte_size': '214551650', 'type': None, 'file_format': 'mzML', 'checksum': 'b7333f3f85f9a59a93742b92802cf51a', 'id': 'd0124cde-6ac4-11e9-8991-005056921935', 'data_type': 'Open Standard'}, {'label': 'TCGA_E2-A10A_BH-A18Q_C8-A130_117C_P_BI_20130228_H-PM_f08.mzML.gz', 'associated_project': ['CPTAC-TCGA'], 'drs_uri': 'drs://dg.4DFC:d2d99062-6ac4-11e9-8991-005056921935', 'identifier': [{'system': 'PDC', 'value': 'd2d99062-6ac4-11e9-8991-005056921935'}], 'data_category': 'Processed Mass Spectra', 'byte_size': '206173182', 'type': None, 'file_format': 'mzML', 'checksum': 'd7be0c54fd5da467c8fe627612efc264', 'id': 'd2d99062-6ac4-11e9-8991-005056921935', 'data_type': 'Open Standard'}, {'label': 'TCGA_E2-A10A_BH-A18Q_C8-A130_117C_P_BI_20130228_H-PM_f09.mzML.gz', 'associated_project': ['CPTAC-TCGA'], 'drs_uri': 'drs://dg.4DFC:d68822d2-6ac4-11e9-8991-005056921935', 'identifier': [{'system': 'PDC', 'value': 'd68822d2-6ac4-11e9-8991-005056921935'}], 'data_category': 'Processed Mass Spectra', 'byte_size': '198311489', 'type': None, 'file_format': 'mzML', 'checksum': '997a3866be6b388e68fee3a94eb3096d', 'id': 'd68822d2-6ac4-11e9-8991-005056921935', 'data_type': 'Open Standard'}, {'label': 'TCGA_E2-A10A_BH-A18Q_C8-A130_117C_P_BI_20130228_H-PM_f10.mzML.gz', 'associated_project': ['CPTAC-TCGA'], 'drs_uri': 'drs://dg.4DFC:d87edfe0-6ac4-11e9-8991-005056921935', 'identifier': [{'system': 'PDC', 'value': 'd87edfe0-6ac4-11e9-8991-005056921935'}], 'data_category': 'Processed Mass Spectra', 'byte_size': '198274311', 'type': None, 'file_format': 'mzML', 'checksum': 'c089a750b53a84d0a3aabb381ce13e3b', 'id': 'd87edfe0-6ac4-11e9-8991-005056921935', 'data_type': 'Open Standard'}, {'label': 'TCGA_E2-A10A_BH-A18Q_C8-A130_117C_P_BI_20130228_H-PM_f11.mzML.gz', 'associated_project': ['CPTAC-TCGA'], 'drs_uri': 'drs://dg.4DFC:da0c3ce0-6ac4-11e9-8991-005056921935', 'identifier': [{'system': 'PDC', 'value': 'da0c3ce0-6ac4-11e9-8991-005056921935'}], 'data_category': 'Processed Mass Spectra', 'byte_size': '199821878', 'type': None, 'file_format': 'mzML', 'checksum': '909402484c66263a28170566564c07df', 'id': 'da0c3ce0-6ac4-11e9-8991-005056921935', 'data_type': 'Open Standard'}, {'label': 'TCGA_E2-A10A_BH-A18Q_C8-A130_117C_W_BI_20130222_H-PM_f18.raw', 'associated_project': ['CPTAC-TCGA'], 'drs_uri': 'drs://dg.4DFC:dccf4850-5cd2-11e9-849f-005056921935', 'identifier': [{'system': 'PDC', 'value': 'dccf4850-5cd2-11e9-849f-005056921935'}], 'data_category': 'Raw Mass Spectra', 'byte_size': '1361989309', 'type': None, 'file_format': 'vendor-specific', 'checksum': 'e84cebd9471eb98f204c56f3d1fc88f4', 'id': 'dccf4850-5cd2-11e9-849f-005056921935', 'data_type': 'Proprietary'}, {'label': 'TCGA_E2-A10A_BH-A18Q_C8-A130_117C_P_BI_20130228_H-PM_f12.mzML.gz', 'associated_project': ['CPTAC-TCGA'], 'drs_uri': 'drs://dg.4DFC:db93df14-6ac4-11e9-8991-005056921935', 'identifier': [{'system': 'PDC', 'value': 'db93df14-6ac4-11e9-8991-005056921935'}], 'data_category': 'Processed Mass Spectra', 'byte_size': '201473857', 'type': None, 'file_format': 'mzML', 'checksum': '10696eb530d356852f1cd21957a417c2', 'id': 'db93df14-6ac4-11e9-8991-005056921935', 'data_type': 'Open Standard'}, {'label': 'TCGA_E2-A10A_BH-A18Q_C8-A130_117C_P_BI_20130228_H-PM_fA.mzML.gz', 'associated_project': ['CPTAC-TCGA'], 'drs_uri': 'drs://dg.4DFC:dcdf8a3a-6ac4-11e9-8991-005056921935', 'identifier': [{'system': 'PDC', 'value': 'dcdf8a3a-6ac4-11e9-8991-005056921935'}], 'data_category': 'Processed Mass Spectra', 'byte_size': '169772819', 'type': None, 'file_format': 'mzML', 'checksum': 'ab7d05382c4abaf0ea49e43b4d88c027', 'id': 'dcdf8a3a-6ac4-11e9-8991-005056921935', 'data_type': 'Open Standard'}, {'label': 'TCGA_E2-A10A_BH-A18Q_C8-A130_117C_P_BI_20130228_H-PM_f07.raw', 'associated_project': ['CPTAC-TCGA'], 'drs_uri': 'drs://dg.4DFC:de7daf3e-5d2c-11e9-8f80-005056921935', 'identifier': [{'system': 'PDC', 'value': 'de7daf3e-5d2c-11e9-8f80-005056921935'}], 'data_category': 'Raw Mass Spectra', 'byte_size': '1647171396', 'type': None, 'file_format': 'vendor-specific', 'checksum': 'fadbb00e7dcf6c8f7d8a0054690c02fb', 'id': 'de7daf3e-5d2c-11e9-8f80-005056921935', 'data_type': 'Proprietary'}, {'label': 'TCGA_E2-A10A_BH-A18Q_C8-A130_117C_W_BI_20130222_H-PM_f19.raw', 'associated_project': ['CPTAC-TCGA'], 'drs_uri': 'drs://dg.4DFC:e78a3dfe-5cd2-11e9-849f-005056921935', 'identifier': [{'system': 'PDC', 'value': 'e78a3dfe-5cd2-11e9-849f-005056921935'}], 'data_category': 'Raw Mass Spectra', 'byte_size': '1319014017', 'type': None, 'file_format': 'vendor-specific', 'checksum': '1a4a498992040f9418d23a4b30c1d576', 'id': 'e78a3dfe-5cd2-11e9-849f-005056921935', 'data_type': 'Proprietary'}, {'label': 'TCGA_E2-A10A_BH-A18Q_C8-A130_117C_P_BI_20130228_H-PM_f08.raw', 'associated_project': ['CPTAC-TCGA'], 'drs_uri': 'drs://dg.4DFC:eb77bc8e-5d2c-11e9-8f80-005056921935', 'identifier': [{'system': 'PDC', 'value': 'eb77bc8e-5d2c-11e9-8f80-005056921935'}], 'data_category': 'Raw Mass Spectra', 'byte_size': '1578805917', 'type': None, 'file_format': 'vendor-specific', 'checksum': '395993339c44cda237daae3a90d5302e', 'id': 'eb77bc8e-5d2c-11e9-8f80-005056921935', 'data_type': 'Proprietary'}, {'label': 'TCGA_E2-A10A_BH-A18Q_C8-A130_117C_W_BI_20130222_H-PM_f20.raw', 'associated_project': ['CPTAC-TCGA'], 'drs_uri': 'drs://dg.4DFC:efd4b16a-5cd2-11e9-849f-005056921935', 'identifier': [{'system': 'PDC', 'value': 'efd4b16a-5cd2-11e9-849f-005056921935'}], 'data_category': 'Raw Mass Spectra', 'byte_size': '1297493804', 'type': None, 'file_format': 'vendor-specific', 'checksum': '0bacfacd79bc35cb8aa18b6aa0c95e83', 'id': 'efd4b16a-5cd2-11e9-849f-005056921935', 'data_type': 'Proprietary'}, {'label': 'TCGA_E2-A10A_BH-A18Q_C8-A130_117C_P_BI_20130228_H-PM_f09.raw', 'associated_project': ['CPTAC-TCGA'], 'drs_uri': 'drs://dg.4DFC:f7c556e0-5d2c-11e9-8f80-005056921935', 'identifier': [{'system': 'PDC', 'value': 'f7c556e0-5d2c-11e9-8f80-005056921935'}], 'data_category': 'Raw Mass Spectra', 'byte_size': '1519592772', 'type': None, 'file_format': 'vendor-specific', 'checksum': '4d4872ffa0443451b87b1db794bdb4ef', 'id': 'f7c556e0-5d2c-11e9-8f80-005056921935', 'data_type': 'Proprietary'}], 'derived_from_specimen': 'Initial specimen', 'associated_project': 'CPTAC-TCGA', 'age_at_collection': '-15085', 'anatomical_site': 'Not Reported', 'source_material_type': 'Primary Tumor', 'derived_from_subject': None, 'specimen_type': 'sample', 'id': '9532a8b4-6420-11e8-bcf1-0a2705229b82', 'primary_disease_type': 'Breast Invasive Carcinoma', 'identifier': [{'system': 'PDC', 'value': '9532a8b4-6420-11e8-bcf1-0a2705229b82'}]}], 'associated_project': 'CPTAC-TCGA', 'id': '010df72d-63d9-11e8-bcf1-0a2705229b82', 'primary_disease_type': 'Breast Invasive Carcinoma', 'identifier': [{'system': 'PDC', 'value': '010df72d-63d9-11e8-bcf1-0a2705229b82'}], 'primary_disease_site': 'Breast'}]}\n"
     ]
    }
   ],
   "source": [
    "q = Q('id = \"TCGA-E2-A10A\"') # note the double quotes for the string value\n",
    "\n",
    "r = q.run()\n",
    "\n",
    "for i in r:\n",
    "    print(i)"
   ]
  },
  {
   "cell_type": "markdown",
   "id": "extended-operator",
   "metadata": {},
   "source": [
    "We see that we've got a single patient record as a result, which is what we expect.\n",
    "\n",
    "Let's see how the result looks like:"
   ]
  },
  {
   "cell_type": "code",
   "execution_count": 9,
   "id": "increasing-philadelphia",
   "metadata": {
    "scrolled": true
   },
   "outputs": [
    {
     "output_type": "execute_result",
     "data": {
      "text/plain": [
       "9-ab5c-005056921935',\n",
       "       'data_type': 'Open Standard'},\n",
       "      {'label': 'TCGA_E2-A10A_BH-A18Q_C8-A130_117C_W_BI_20130222_H-PM_f20.mzid.gz',\n",
       "       'associated_project': ['CPTAC-TCGA'],\n",
       "       'drs_uri': 'drs://dg.4DFC:855368d4-6b5c-11e9-ab5c-005056921935',\n",
       "       'identifier': [{'system': 'PDC',\n",
       "         'value': '855368d4-6b5c-11e9-ab5c-005056921935'}],\n",
       "       'data_category': 'Peptide Spectral Matches',\n",
       "       'byte_size': '10110285',\n",
       "       'type': None,\n",
       "       'file_format': 'mzIdentML',\n",
       "       'checksum': 'c4284448c5a37a00a09c72110a2c7d47',\n",
       "       'id': '855368d4-6b5c-11e9-ab5c-005056921935',\n",
       "       'data_type': 'Open Standard'},\n",
       "      {'label': 'TCGA_E2-A10A_BH-A18Q_C8-A130_117C_W_BI_20130222_H-PM_f11.raw',\n",
       "       'associated_project': ['CPTAC-TCGA'],\n",
       "       'drs_uri': 'drs://dg.4DFC:893c96a2-5cd2-11e9-849f-005056921935',\n",
       "       'identifier': [{'system': 'PDC',\n",
       "         'value': '893c96a2-5cd2-11e9-849f-005056921935'}],\n",
       "       'data_category': 'Raw Mass Spectra',\n",
       "       'byte_size': '1391472731',\n",
       "       'type': None,\n",
       "       'file_format': 'vendor-specific',\n",
       "       'checksum': 'c221e0d359781f07b67309601e698336',\n",
       "       'id': '893c96a2-5cd2-11e9-849f-005056921935',\n",
       "       'data_type': 'Proprietary'},\n",
       "      {'label': 'TCGA_E2-A10A_BH-A18Q_C8-A130_117C_P_BI_20130228_H-PM_f01.raw',\n",
       "       'associated_project': ['CPTAC-TCGA'],\n",
       "       'drs_uri': 'drs://dg.4DFC:8bf85c64-5d2c-11e9-8f80-005056921935',\n",
       "       'identifier': [{'system': 'PDC',\n",
       "         'value': '8bf85c64-5d2c-11e9-8f80-005056921935'}],\n",
       "       'data_category': 'Raw Mass Spectra',\n",
       "       'byte_size': '1542826373',\n",
       "       'type': None,\n",
       "       'file_format': 'vendor-specific',\n",
       "       'checksum': '1c21899d2e5b6101c144a9301ecba6af',\n",
       "       'id': '8bf85c64-5d2c-11e9-8f80-005056921935',\n",
       "       'data_type': 'Proprietary'},\n",
       "      {'label': 'TCGA_E2-A10A_BH-A18Q_C8-A130_117C_W_BI_20130222_H-PM_f12.raw',\n",
       "       'associated_project': ['CPTAC-TCGA'],\n",
       "       'drs_uri': 'drs://dg.4DFC:9341485a-5cd2-11e9-849f-005056921935',\n",
       "       'identifier': [{'system': 'PDC',\n",
       "         'value': '9341485a-5cd2-11e9-849f-005056921935'}],\n",
       "       'data_category': 'Raw Mass Spectra',\n",
       "       'byte_size': '1361817935',\n",
       "       'type': None,\n",
       "       'file_format': 'vendor-specific',\n",
       "       'checksum': '5a2e942142299f4a2759b7a200bda1a7',\n",
       "       'id': '9341485a-5cd2-11e9-849f-005056921935',\n",
       "       'data_type': 'Proprietary'},\n",
       "      {'label': 'TCGA_E2-A10A_BH-A18Q_C8-A130_117C_P_BI_20130228_H-PM_f02.raw',\n",
       "       'associated_project': ['CPTAC-TCGA'],\n",
       "       'drs_uri': 'drs://dg.4DFC:9641a874-5d2c-11e9-8f80-005056921935',\n",
       "       'identifier': [{'system': 'PDC',\n",
       "         'value': '9641a874-5d2c-11e9-8f80-005056921935'}],\n",
       "       'data_category': 'Raw Mass Spectra',\n",
       "       'byte_size': '1573731970',\n",
       "       'type': None,\n",
       "       'file_format': 'vendor-specific',\n",
       "       'checksum': '0bf32cafa4b037a1ba0d30794f1b4ea5',\n",
       "       'id': '9641a874-5d2c-11e9-8f80-005056921935',\n",
       "       'data_type': 'Proprietary'},\n",
       "      {'label': 'TCGA_E2-A10A_BH-A18Q_C8-A130_117C_W_BI_20130222_H-PM_f13.raw',\n",
       "       'associated_project': ['CPTAC-TCGA'],\n",
       "       'drs_uri': 'drs://dg.4DFC:9d547966-5cd2-11e9-849f-005056921935',\n",
       "       'identifier': [{'system': 'PDC',\n",
       "         'value': '9d547966-5cd2-11e9-849f-005056921935'}],\n",
       "       'data_category': 'Raw Mass Spectra',\n",
       "       'byte_size': '1389440800',\n",
       "       'type': None,\n",
       "       'file_format': 'vendor-specific',\n",
       "       'checksum': '5a964cb9bae7d7bd011ebf2cc5a0af95',\n",
       "       'id': '9d547966-5cd2-11e9-849f-005056921935',\n",
       "       'data_type': 'Proprietary'},\n",
       "      {'label': 'TCGA_E2-A10A_BH-A18Q_C8-A130_117C_P_BI_20130228_H-PM_f03.raw',\n",
       "       'associated_project': ['CPTAC-TCGA'],\n",
       "       'drs_uri': 'drs://dg.4DFC:a16571fe-5d2c-11e9-8f80-005056921935',\n",
       "       'identifier': [{'system': 'PDC',\n",
       "         'value': 'a16571fe-5d2c-11e9-8f80-005056921935'}],\n",
       "       'data_category': 'Raw Mass Spectra',\n",
       "       'byte_size': '1551539736',\n",
       "       'type': None,\n",
       "       'file_format': 'vendor-specific',\n",
       "       'checksum': '63fcdb533ca84b4d832d5690637df96c',\n",
       "       'id': 'a16571fe-5d2c-11e9-8f80-005056921935',\n",
       "       'data_type': 'Proprietary'},\n",
       "      {'label': 'TCGA_E2-A10A_BH-A18Q_C8-A130_117C_W_BI_20130222_H-PM_f14.raw',\n",
       "       'associated_project': ['CPTAC-TCGA'],\n",
       "       'drs_uri': 'drs://dg.4DFC:a638e4fe-5cd2-11e9-849f-005056921935',\n",
       "       'identifier': [{'system': 'PDC',\n",
       "         'value': 'a638e4fe-5cd2-11e9-849f-005056921935'}],\n",
       "       'data_category': 'Raw Mass Spectra',\n",
       "       'byte_size': '1409387002',\n",
       "       'type': None,\n",
       "       'file_format': 'vendor-specific',\n",
       "       'checksum': '478243658993adb429e178392606d311',\n",
       "       'id': 'a638e4fe-5cd2-11e9-849f-005056921935',\n",
       "       'data_type': 'Proprietary'},\n",
       "      {'label': 'TCGA_E2-A10A_BH-A18Q_C8-A130_117C_P_BI_20130228_H-PM_f04.raw',\n",
       "       'associated_project': ['CPTAC-TCGA'],\n",
       "       'drs_uri': 'drs://dg.4DFC:ae83fbda-5d2c-11e9-8f80-005056921935',\n",
       "       'identifier': [{'system': 'PDC',\n",
       "         'value': 'ae83fbda-5d2c-11e9-8f80-005056921935'}],\n",
       "       'data_category': 'Raw Mass Spectra',\n",
       "       'byte_size': '1628337719',\n",
       "       'type': None,\n",
       "       'file_format': 'vendor-specific',\n",
       "       'checksum': '6958d87ff5dbe137f0fa34a11d9137ee',\n",
       "       'id': 'ae83fbda-5d2c-11e9-8f80-005056921935',\n",
       "       'data_type': 'Proprietary'},\n",
       "      {'label': 'TCGA_E2-A10A_BH-A18Q_C8-A130_117C_W_BI_20130222_H-PM_f15.raw',\n",
       "       'associated_project': ['CPTAC-TCGA'],\n",
       "       'drs_uri': 'drs://dg.4DFC:b0241286-5cd2-11e9-849f-005056921935',\n",
       "       'identifier': [{'system': 'PDC',\n",
       "         'value': 'b0241286-5cd2-11e9-849f-005056921935'}],\n",
       "       'data_category': 'Raw Mass Spectra',\n",
       "       'byte_size': '1395286902',\n",
       "       'type': None,\n",
       "       'file_format': 'vendor-specific',\n",
       "       'checksum': '261f318e40d61aa8e6e89ed71ecd8520',\n",
       "       'id': 'b0241286-5cd2-11e9-849f-005056921935',\n",
       "       'data_type': 'Proprietary'},\n",
       "      {'label': 'TCGA_E2-A10A_BH-A18Q_C8-A130_117C_P_BI_20130228_H-PM_f01.mzML.gz',\n",
       "       'associated_project': ['CPTAC-TCGA'],\n",
       "       'drs_uri': 'drs://dg.4DFC:bc02bd00-6ac4-11e9-8991-005056921935',\n",
       "       'identifier': [{'system': 'PDC',\n",
       "         'value': 'bc02bd00-6ac4-11e9-8991-005056921935'}],\n",
       "       'data_category': 'Processed Mass Spectra',\n",
       "       'byte_size': '200627722',\n",
       "       'type': None,\n",
       "       'file_format': 'mzML',\n",
       "       'checksum': '52ee7d0fd062c57494efe1897a5bb2ef',\n",
       "       'id': 'bc02bd00-6ac4-11e9-8991-005056921935',\n",
       "       'data_type': 'Open Standard'},\n",
       "      {'label': 'TCGA_E2-A10A_BH-A18Q_C8-A130_117C_P_BI_20130228_H-PM_f05.raw',\n",
       "       'associated_project': ['CPTAC-TCGA'],\n",
       "       'drs_uri': 'drs://dg.4DFC:bc4d5cd4-5d2c-11e9-8f80-005056921935',\n",
       "       'identifier': [{'system': 'PDC',\n",
       "         'value': 'bc4d5cd4-5d2c-11e9-8f80-005056921935'}],\n",
       "       'data_category': 'Raw Mass Spectra',\n",
       "       'byte_size': '1638198253',\n",
       "       'type': None,\n",
       "       'file_format': 'vendor-specific',\n",
       "       'checksum': 'b6b89cb1111080d664aa5247ac2305cf',\n",
       "       'id': 'bc4d5cd4-5d2c-11e9-8f80-005056921935',\n",
       "       'data_type': 'Proprietary'},\n",
       "      {'label': 'TCGA_E2-A10A_BH-A18Q_C8-A130_117C_W_BI_20130222_H-PM_f16.raw',\n",
       "       'associated_project': ['CPTAC-TCGA'],\n",
       "       'drs_uri': 'drs://dg.4DFC:bfac51be-5cd2-11e9-849f-005056921935',\n",
       "       'identifier': [{'system': 'PDC',\n",
       "         'value': 'bfac51be-5cd2-11e9-849f-005056921935'}],\n",
       "       'data_category': 'Raw Mass Spectra',\n",
       "       'byte_size': '1333639716',\n",
       "       'type': None,\n",
       "       'file_format': 'vendor-specific',\n",
       "       'checksum': 'c2e507029a299e5befa79280c812ba05',\n",
       "       'id': 'bfac51be-5cd2-11e9-849f-005056921935',\n",
       "       'data_type': 'Proprietary'},\n",
       "      {'label': 'TCGA_E2-A10A_BH-A18Q_C8-A130_117C_P_BI_20130228_H-PM_f02.mzML.gz',\n",
       "       'associated_project': ['CPTAC-TCGA'],\n",
       "       'drs_uri': 'drs://dg.4DFC:c2b140c2-6ac4-11e9-8991-005056921935',\n",
       "       'identifier': [{'system': 'PDC',\n",
       "         'value': 'c2b140c2-6ac4-11e9-8991-005056921935'}],\n",
       "       'data_category': 'Processed Mass Spectra',\n",
       "       'byte_size': '204896934',\n",
       "       'type': None,\n",
       "       'file_format': 'mzML',\n",
       "       'checksum': 'f34b851896260098b4cbf047d157a2b2',\n",
       "       'id': 'c2b140c2-6ac4-11e9-8991-005056921935',\n",
       "       'data_type': 'Open Standard'},\n",
       "      {'label': 'TCGA_E2-A10A_BH-A18Q_C8-A130_117C_P_BI_20130228_H-PM_f03.mzML.gz',\n",
       "       'associated_project': ['CPTAC-TCGA'],\n",
       "       'drs_uri': 'drs://dg.4DFC:c4b82eb2-6ac4-11e9-8991-005056921935',\n",
       "       'identifier': [{'system': 'PDC',\n",
       "         'value': 'c4b82eb2-6ac4-11e9-8991-005056921935'}],\n",
       "       'data_category': 'Processed Mass Spectra',\n",
       "       'byte_size': '202454246',\n",
       "       'type': None,\n",
       "       'file_format': 'mzML',\n",
       "       'checksum': '3f88e70e009f03ddd491ec4a2eaa2dc8',\n",
       "       'id': 'c4b82eb2-6ac4-11e9-8991-005056921935',\n",
       "       'data_type': 'Open Standard'},\n",
       "      {'label': 'TCGA_E2-A10A_BH-A18Q_C8-A130_117C_P_BI_20130228_H-PM_f04.mzML.gz',\n",
       "       'associated_project': ['CPTAC-TCGA'],\n",
       "       'drs_uri': 'drs://dg.4DFC:c79914e8-6ac4-11e9-8991-005056921935',\n",
       "       'identifier': [{'system': 'PDC',\n",
       "         'value': 'c79914e8-6ac4-11e9-8991-005056921935'}],\n",
       "       'data_category': 'Processed Mass Spectra',\n",
       "       'byte_size': '212139992',\n",
       "       'type': None,\n",
       "       'file_format': 'mzML',\n",
       "       'checksum': 'af5179f10f51cafe7a43de8a091a510e',\n",
       "       'id': 'c79914e8-6ac4-11e9-8991-005056921935',\n",
       "       'data_type': 'Open Standard'},\n",
       "      {'label': 'TCGA_E2-A10A_BH-A18Q_C8-A130_117C_W_BI_20130222_H-PM_f17.raw',\n",
       "       'associated_project': ['CPTAC-TCGA'],\n",
       "       'drs_uri': 'drs://dg.4DFC:c8ef7364-5cd2-11e9-849f-005056921935',\n",
       "       'identifier': [{'system': 'PDC',\n",
       "         'value': 'c8ef7364-5cd2-11e9-849f-005056921935'}],\n",
       "       'data_category': 'Raw Mass Spectra',\n",
       "       'byte_size': '1337750937',\n",
       "       'type': None,\n",
       "       'file_format': 'vendor-specific',\n",
       "       'checksum': '17b7bc70bbc8ca3ab111185c39e39388',\n",
       "       'id': 'c8ef7364-5cd2-11e9-849f-005056921935',\n",
       "       'data_type': 'Proprietary'},\n",
       "      {'label': 'TCGA_E2-A10A_BH-A18Q_C8-A130_117C_P_BI_20130228_H-PM_f06.raw',\n",
       "       'associated_project': ['CPTAC-TCGA'],\n",
       "       'drs_uri': 'drs://dg.4DFC:c9afa166-5d2c-11e9-8f80-005056921935',\n",
       "       'identifier': [{'system': 'PDC',\n",
       "         'value': 'c9afa166-5d2c-11e9-8f80-005056921935'}],\n",
       "       'data_category': 'Raw Mass Spectra',\n",
       "       'byte_size': '1610455552',\n",
       "       'type': None,\n",
       "       'file_format': 'vendor-specific',\n",
       "       'checksum': '7ec8cac3739745771098a44a899fbdec',\n",
       "       'id': 'c9afa166-5d2c-11e9-8f80-005056921935',\n",
       "       'data_type': 'Proprietary'},\n",
       "      {'label': 'TCGA_E2-A10A_BH-A18Q_C8-A130_117C_P_BI_20130228_H-PM_f05.mzML.gz',\n",
       "       'associated_project': ['CPTAC-TCGA'],\n",
       "       'drs_uri': 'drs://dg.4DFC:ca08a2c0-6ac4-11e9-8991-005056921935',\n",
       "       'identifier': [{'system': 'PDC',\n",
       "         'value': 'ca08a2c0-6ac4-11e9-8991-005056921935'}],\n",
       "       'data_category': 'Processed Mass Spectra',\n",
       "       'byte_size': '213747023',\n",
       "       'type': None,\n",
       "       'file_format': 'mzML',\n",
       "       'checksum': '8740d10a7778fe43574834688c24d850',\n",
       "       'id': 'ca08a2c0-6ac4-11e9-8991-005056921935',\n",
       "       'data_type': 'Open Standard'},\n",
       "      {'label': 'TCGA_E2-A10A_BH-A18Q_C8-A130_117C_P_BI_20130228_H-PM_f06.mzML.gz',\n",
       "       'associated_project': ['CPTAC-TCGA'],\n",
       "       'drs_uri': 'drs://dg.4DFC:cc6f1bca-6ac4-11e9-8991-005056921935',\n",
       "       'identifier': [{'system': 'PDC',\n",
       "         'value': 'cc6f1bca-6ac4-11e9-8991-005056921935'}],\n",
       "       'data_category': 'Processed Mass Spectra',\n",
       "       'byte_size': '209802257',\n",
       "       'type': None,\n",
       "       'file_format': 'mzML',\n",
       "       'checksum': 'e9f2418337d42657f0c9128a2e8fd048',\n",
       "       'id': 'cc6f1bca-6ac4-11e9-8991-005056921935',\n",
       "       'data_type': 'Open Standard'},\n",
       "      {'label': 'TCGA_E2-A10A_BH-A18Q_C8-A130_117C_P_BI_20130228_H-PM_f07.mzML.gz',\n",
       "       'associated_project': ['CPTAC-TCGA'],\n",
       "       'drs_uri': 'drs://dg.4DFC:d0124cde-6ac4-11e9-8991-005056921935',\n",
       "       'identifier': [{'system': 'PDC',\n",
       "         'value': 'd0124cde-6ac4-11e9-8991-005056921935'}],\n",
       "       'data_category': 'Processed Mass Spectra',\n",
       "       'byte_size': '214551650',\n",
       "       'type': None,\n",
       "       'file_format': 'mzML',\n",
       "       'checksum': 'b7333f3f85f9a59a93742b92802cf51a',\n",
       "       'id': 'd0124cde-6ac4-11e9-8991-005056921935',\n",
       "       'data_type': 'Open Standard'},\n",
       "      {'label': 'TCGA_E2-A10A_BH-A18Q_C8-A130_117C_P_BI_20130228_H-PM_f08.mzML.gz',\n",
       "       'associated_project': ['CPTAC-TCGA'],\n",
       "       'drs_uri': 'drs://dg.4DFC:d2d99062-6ac4-11e9-8991-005056921935',\n",
       "       'identifier': [{'system': 'PDC',\n",
       "         'value': 'd2d99062-6ac4-11e9-8991-005056921935'}],\n",
       "       'data_category': 'Processed Mass Spectra',\n",
       "       'byte_size': '206173182',\n",
       "       'type': None,\n",
       "       'file_format': 'mzML',\n",
       "       'checksum': 'd7be0c54fd5da467c8fe627612efc264',\n",
       "       'id': 'd2d99062-6ac4-11e9-8991-005056921935',\n",
       "       'data_type': 'Open Standard'},\n",
       "      {'label': 'TCGA_E2-A10A_BH-A18Q_C8-A130_117C_P_BI_20130228_H-PM_f09.mzML.gz',\n",
       "       'associated_project': ['CPTAC-TCGA'],\n",
       "       'drs_uri': 'drs://dg.4DFC:d68822d2-6ac4-11e9-8991-005056921935',\n",
       "       'identifier': [{'system': 'PDC',\n",
       "         'value': 'd68822d2-6ac4-11e9-8991-005056921935'}],\n",
       "       'data_category': 'Processed Mass Spectra',\n",
       "       'byte_size': '198311489',\n",
       "       'type': None,\n",
       "       'file_format': 'mzML',\n",
       "       'checksum': '997a3866be6b388e68fee3a94eb3096d',\n",
       "       'id': 'd68822d2-6ac4-11e9-8991-005056921935',\n",
       "       'data_type': 'Open Standard'},\n",
       "      {'label': 'TCGA_E2-A10A_BH-A18Q_C8-A130_117C_P_BI_20130228_H-PM_f10.mzML.gz',\n",
       "       'associated_project': ['CPTAC-TCGA'],\n",
       "       'drs_uri': 'drs://dg.4DFC:d87edfe0-6ac4-11e9-8991-005056921935',\n",
       "       'identifier': [{'system': 'PDC',\n",
       "         'value': 'd87edfe0-6ac4-11e9-8991-005056921935'}],\n",
       "       'data_category': 'Processed Mass Spectra',\n",
       "       'byte_size': '198274311',\n",
       "       'type': None,\n",
       "       'file_format': 'mzML',\n",
       "       'checksum': 'c089a750b53a84d0a3aabb381ce13e3b',\n",
       "       'id': 'd87edfe0-6ac4-11e9-8991-005056921935',\n",
       "       'data_type': 'Open Standard'},\n",
       "      {'label': 'TCGA_E2-A10A_BH-A18Q_C8-A130_117C_P_BI_20130228_H-PM_f11.mzML.gz',\n",
       "       'associated_project': ['CPTAC-TCGA'],\n",
       "       'drs_uri': 'drs://dg.4DFC:da0c3ce0-6ac4-11e9-8991-005056921935',\n",
       "       'identifier': [{'system': 'PDC',\n",
       "         'value': 'da0c3ce0-6ac4-11e9-8991-005056921935'}],\n",
       "       'data_category': 'Processed Mass Spectra',\n",
       "       'byte_size': '199821878',\n",
       "       'type': None,\n",
       "       'file_format': 'mzML',\n",
       "       'checksum': '909402484c66263a28170566564c07df',\n",
       "       'id': 'da0c3ce0-6ac4-11e9-8991-005056921935',\n",
       "       'data_type': 'Open Standard'},\n",
       "      {'label': 'TCGA_E2-A10A_BH-A18Q_C8-A130_117C_W_BI_20130222_H-PM_f18.raw',\n",
       "       'associated_project': ['CPTAC-TCGA'],\n",
       "       'drs_uri': 'drs://dg.4DFC:dccf4850-5cd2-11e9-849f-005056921935',\n",
       "       'identifier': [{'system': 'PDC',\n",
       "         'value': 'dccf4850-5cd2-11e9-849f-005056921935'}],\n",
       "       'data_category': 'Raw Mass Spectra',\n",
       "       'byte_size': '1361989309',\n",
       "       'type': None,\n",
       "       'file_format': 'vendor-specific',\n",
       "       'checksum': 'e84cebd9471eb98f204c56f3d1fc88f4',\n",
       "       'id': 'dccf4850-5cd2-11e9-849f-005056921935',\n",
       "       'data_type': 'Proprietary'},\n",
       "      {'label': 'TCGA_E2-A10A_BH-A18Q_C8-A130_117C_P_BI_20130228_H-PM_f12.mzML.gz',\n",
       "       'associated_project': ['CPTAC-TCGA'],\n",
       "       'drs_uri': 'drs://dg.4DFC:db93df14-6ac4-11e9-8991-005056921935',\n",
       "       'identifier': [{'system': 'PDC',\n",
       "         'value': 'db93df14-6ac4-11e9-8991-005056921935'}],\n",
       "       'data_category': 'Processed Mass Spectra',\n",
       "       'byte_size': '201473857',\n",
       "       'type': None,\n",
       "       'file_format': 'mzML',\n",
       "       'checksum': '10696eb530d356852f1cd21957a417c2',\n",
       "       'id': 'db93df14-6ac4-11e9-8991-005056921935',\n",
       "       'data_type': 'Open Standard'},\n",
       "      {'label': 'TCGA_E2-A10A_BH-A18Q_C8-A130_117C_P_BI_20130228_H-PM_fA.mzML.gz',\n",
       "       'associated_project': ['CPTAC-TCGA'],\n",
       "       'drs_uri': 'drs://dg.4DFC:dcdf8a3a-6ac4-11e9-8991-005056921935',\n",
       "       'identifier': [{'system': 'PDC',\n",
       "         'value': 'dcdf8a3a-6ac4-11e9-8991-005056921935'}],\n",
       "       'data_category': 'Processed Mass Spectra',\n",
       "       'byte_size': '169772819',\n",
       "       'type': None,\n",
       "       'file_format': 'mzML',\n",
       "       'checksum': 'ab7d05382c4abaf0ea49e43b4d88c027',\n",
       "       'id': 'dcdf8a3a-6ac4-11e9-8991-005056921935',\n",
       "       'data_type': 'Open Standard'},\n",
       "      {'label': 'TCGA_E2-A10A_BH-A18Q_C8-A130_117C_P_BI_20130228_H-PM_f07.raw',\n",
       "       'associated_project': ['CPTAC-TCGA'],\n",
       "       'drs_uri': 'drs://dg.4DFC:de7daf3e-5d2c-11e9-8f80-005056921935',\n",
       "       'identifier': [{'system': 'PDC',\n",
       "         'value': 'de7daf3e-5d2c-11e9-8f80-005056921935'}],\n",
       "       'data_category': 'Raw Mass Spectra',\n",
       "       'byte_size': '1647171396',\n",
       "       'type': None,\n",
       "       'file_format': 'vendor-specific',\n",
       "       'checksum': 'fadbb00e7dcf6c8f7d8a0054690c02fb',\n",
       "       'id': 'de7daf3e-5d2c-11e9-8f80-005056921935',\n",
       "       'data_type': 'Proprietary'},\n",
       "      {'label': 'TCGA_E2-A10A_BH-A18Q_C8-A130_117C_W_BI_20130222_H-PM_f19.raw',\n",
       "       'associated_project': ['CPTAC-TCGA'],\n",
       "       'drs_uri': 'drs://dg.4DFC:e78a3dfe-5cd2-11e9-849f-005056921935',\n",
       "       'identifier': [{'system': 'PDC',\n",
       "         'value': 'e78a3dfe-5cd2-11e9-849f-005056921935'}],\n",
       "       'data_category': 'Raw Mass Spectra',\n",
       "       'byte_size': '1319014017',\n",
       "       'type': None,\n",
       "       'file_format': 'vendor-specific',\n",
       "       'checksum': '1a4a498992040f9418d23a4b30c1d576',\n",
       "       'id': 'e78a3dfe-5cd2-11e9-849f-005056921935',\n",
       "       'data_type': 'Proprietary'},\n",
       "      {'label': 'TCGA_E2-A10A_BH-A18Q_C8-A130_117C_P_BI_20130228_H-PM_f08.raw',\n",
       "       'associated_project': ['CPTAC-TCGA'],\n",
       "       'drs_uri': 'drs://dg.4DFC:eb77bc8e-5d2c-11e9-8f80-005056921935',\n",
       "       'identifier': [{'system': 'PDC',\n",
       "         'value': 'eb77bc8e-5d2c-11e9-8f80-005056921935'}],\n",
       "       'data_category': 'Raw Mass Spectra',\n",
       "       'byte_size': '1578805917',\n",
       "       'type': None,\n",
       "       'file_format': 'vendor-specific',\n",
       "       'checksum': '395993339c44cda237daae3a90d5302e',\n",
       "       'id': 'eb77bc8e-5d2c-11e9-8f80-005056921935',\n",
       "       'data_type': 'Proprietary'},\n",
       "      {'label': 'TCGA_E2-A10A_BH-A18Q_C8-A130_117C_W_BI_20130222_H-PM_f20.raw',\n",
       "       'associated_project': ['CPTAC-TCGA'],\n",
       "       'drs_uri': 'drs://dg.4DFC:efd4b16a-5cd2-11e9-849f-005056921935',\n",
       "       'identifier': [{'system': 'PDC',\n",
       "         'value': 'efd4b16a-5cd2-11e9-849f-005056921935'}],\n",
       "       'data_category': 'Raw Mass Spectra',\n",
       "       'byte_size': '1297493804',\n",
       "       'type': None,\n",
       "       'file_format': 'vendor-specific',\n",
       "       'checksum': '0bacfacd79bc35cb8aa18b6aa0c95e83',\n",
       "       'id': 'efd4b16a-5cd2-11e9-849f-005056921935',\n",
       "       'data_type': 'Proprietary'},\n",
       "      {'label': 'TCGA_E2-A10A_BH-A18Q_C8-A130_117C_P_BI_20130228_H-PM_f09.raw',\n",
       "       'associated_project': ['CPTAC-TCGA'],\n",
       "       'drs_uri': 'drs://dg.4DFC:f7c556e0-5d2c-11e9-8f80-005056921935',\n",
       "       'identifier': [{'system': 'PDC',\n",
       "         'value': 'f7c556e0-5d2c-11e9-8f80-005056921935'}],\n",
       "       'data_category': 'Raw Mass Spectra',\n",
       "       'byte_size': '1519592772',\n",
       "       'type': None,\n",
       "       'file_format': 'vendor-specific',\n",
       "       'checksum': '4d4872ffa0443451b87b1db794bdb4ef',\n",
       "       'id': 'f7c556e0-5d2c-11e9-8f80-005056921935',\n",
       "       'data_type': 'Proprietary'}],\n",
       "     'derived_from_specimen': 'Initial specimen',\n",
       "     'associated_project': 'CPTAC-TCGA',\n",
       "     'age_at_collection': '-15085',\n",
       "     'anatomical_site': 'Not Reported',\n",
       "     'source_material_type': 'Primary Tumor',\n",
       "     'derived_from_subject': None,\n",
       "     'specimen_type': 'sample',\n",
       "     'id': '9532a8b4-6420-11e8-bcf1-0a2705229b82',\n",
       "     'primary_disease_type': 'Breast Invasive Carcinoma',\n",
       "     'identifier': [{'system': 'PDC',\n",
       "       'value': '9532a8b4-6420-11e8-bcf1-0a2705229b82'}]}],\n",
       "   'associated_project': 'CPTAC-TCGA',\n",
       "   'id': '010df72d-63d9-11e8-bcf1-0a2705229b82',\n",
       "   'primary_disease_type': 'Breast Invasive Carcinoma',\n",
       "   'identifier': [{'system': 'PDC',\n",
       "     'value': '010df72d-63d9-11e8-bcf1-0a2705229b82'}],\n",
       "   'primary_disease_site': 'Breast'}]}"
      ]
     },
     "metadata": {},
     "execution_count": 9
    }
   ],
   "source": [
    "r[0]"
   ]
  },
  {
   "cell_type": "markdown",
   "id": "pleasant-rendering",
   "metadata": {},
   "source": [
    "The record is pretty large, so we'll print out ```identifier``` values for each ```ResearchSubject``` to confirm that we have one ```ResearchSubject``` that comes from GDC, and one that comes from PDC:"
   ]
  },
  {
   "cell_type": "code",
   "execution_count": 10,
   "id": "metric-toyota",
   "metadata": {},
   "outputs": [
    {
     "output_type": "stream",
     "name": "stdout",
     "text": [
      "[{'system': 'GDC', 'value': '4da7abaf-ac7a-41c0-8033-5780a398545c'}]\n[{'system': 'PDC', 'value': '010df72d-63d9-11e8-bcf1-0a2705229b82'}]\n"
     ]
    }
   ],
   "source": [
    "for research_subject in r[0]['ResearchSubject']:\n",
    "    print(research_subject['identifier'])"
   ]
  },
  {
   "cell_type": "markdown",
   "id": "marked-museum",
   "metadata": {},
   "source": [
    "The values represent ```ResearchSubject``` IDs and are equivalent to ```case_id``` values in data nodes."
   ]
  },
  {
   "cell_type": "markdown",
   "id": "provincial-sender",
   "metadata": {},
   "source": [
    "## Example queries"
   ]
  },
  {
   "cell_type": "markdown",
   "id": "moderate-handy",
   "metadata": {},
   "source": [
    "Now that we can create a query with ```Q()``` function, let's see how we can combine multiple conditions.\n",
    "\n",
    "There are three operators available:\n",
    "* ```And()```\n",
    "* ```Or()```\n",
    "* ```From()```\n",
    "\n",
    "The following examples show how those operators work in practice."
   ]
  },
  {
   "cell_type": "markdown",
   "id": "classified-metro",
   "metadata": {},
   "source": [
    "### Query 1\n",
    "\n",
    "**Find data for subjects who were diagnosed after the age of 50 and who were investigated as part of the TCGA-OV project.**"
   ]
  },
  {
   "cell_type": "code",
   "execution_count": 11,
   "id": "passive-dominican",
   "metadata": {},
   "outputs": [
    {
     "output_type": "stream",
     "name": "stdout",
     "text": [
      "\nQuery: SELECT v3.* FROM gdc-bq-sample.cda_mvp.v3 AS v3, UNNEST(ResearchSubject) AS _ResearchSubject, UNNEST(_ResearchSubject.Diagnosis) AS _Diagnosis WHERE ((_Diagnosis.age_at_diagnosis > 50*365) AND (_ResearchSubject.associated_project = 'TCGA-OV'))\nOffset: 0\nCount: 461\nTotal Row Count: 461\nMore pages: False\n\n"
     ]
    }
   ],
   "source": [
    "q1 = Q('ResearchSubject.Diagnosis.age_at_diagnosis > 50*365')\n",
    "q2 = Q('ResearchSubject.associated_project = \"TCGA-OV\"')\n",
    "\n",
    "q = q1.And(q2)\n",
    "r = q.run()\n",
    "\n",
    "print(r)"
   ]
  },
  {
   "cell_type": "markdown",
   "id": "valid-telescope",
   "metadata": {},
   "source": [
    "### Query 2\n",
    "\n",
    "**Find data for donors with melanoma (Nevi and Melanomas) diagnosis and who were diagnosed before the age of 30.**"
   ]
  },
  {
   "cell_type": "code",
   "execution_count": null,
   "id": "vanilla-proof",
   "metadata": {},
   "outputs": [],
   "source": [
    "q1 = Q('ResearchSubject.Specimen.primary_disease_type = \"Nevi and Melanomas\"')\n",
    "q2 = Q('ResearchSubject.Diagnosis.age_at_diagnosis < 30*365')\n",
    "\n",
    "q = q1.And(q2)\n",
    "r = q.run()\n",
    "\n",
    "print(r)"
   ]
  },
  {
   "cell_type": "markdown",
   "id": "insured-electric",
   "metadata": {},
   "source": [
    "In addition, we can check how many records come from particular systems by adding one more condition to the query:"
   ]
  },
  {
   "cell_type": "code",
   "execution_count": null,
   "id": "thermal-incentive",
   "metadata": {},
   "outputs": [],
   "source": [
    "q1 = Q('ResearchSubject.Specimen.primary_disease_type = \"Nevi and Melanomas\"')\n",
    "q2 = Q('ResearchSubject.Diagnosis.age_at_diagnosis < 30*365')\n",
    "q3 = Q('ResearchSubject.Specimen.identifier.system = \"GDC\"')\n",
    "\n",
    "q = q1.And(q2.And(q3))\n",
    "r = q.run()\n",
    "\n",
    "print(r)"
   ]
  },
  {
   "cell_type": "markdown",
   "id": "sudden-exhibit",
   "metadata": {},
   "source": [
    "By comparing the ```Count``` value of the two results we can see that all the patients returned in the initial query are coming from the GDC.\n",
    "\n",
    "To explore the results further, we can fetch the patient JSON objects by iterating through the results:"
   ]
  },
  {
   "cell_type": "code",
   "execution_count": null,
   "id": "biological-actress",
   "metadata": {},
   "outputs": [],
   "source": [
    "projects = set()\n",
    "\n",
    "for patient in r:\n",
    "    research_subjects = patient['ResearchSubject']\n",
    "    for rs in research_subjects:\n",
    "        projects.add(rs['associated_project'])\n",
    "\n",
    "print(projects)"
   ]
  },
  {
   "cell_type": "markdown",
   "id": "collected-cisco",
   "metadata": {},
   "source": [
    "The output shows the projects where _Nevi and Melanomas_ cases appear."
   ]
  },
  {
   "cell_type": "markdown",
   "id": "removable-split",
   "metadata": {},
   "source": [
    "### Query 3\n",
    "\n",
    "**Identify all samples that meet the following conditions:**\n",
    "\n",
    "* **Sample is from primary tumor**\n",
    "* **Disease is ovarian or breast cancer**\n",
    "* **Subjects are females under the age of 60 years**"
   ]
  },
  {
   "cell_type": "code",
   "execution_count": 12,
   "id": "progressive-drove",
   "metadata": {},
   "outputs": [
    {
     "output_type": "stream",
     "name": "stdout",
     "text": [
      "\nQuery: SELECT v3.* FROM gdc-bq-sample.cda_mvp.v3 AS v3, UNNEST(ResearchSubject) AS _ResearchSubject, UNNEST(_ResearchSubject.Specimen) AS _Specimen WHERE (((_Specimen.source_material_type = 'Primary Tumor') AND ((v3.sex = 'female') AND (v3.days_to_birth > -60*365))) AND ((_ResearchSubject.primary_disease_site = 'Ovary') OR (_ResearchSubject.primary_disease_site = 'Breast')))\nOffset: 0\nCount: 1000\nTotal Row Count: 27284\nMore pages: True\n\n"
     ]
    }
   ],
   "source": [
    "tumor_type = Q('ResearchSubject.Specimen.source_material_type = \"Primary Tumor\"')\n",
    "disease1 = Q('ResearchSubject.primary_disease_site = \"Ovary\"')\n",
    "disease2 = Q('ResearchSubject.primary_disease_site = \"Breast\"')\n",
    "demographics1 = Q('sex = \"female\"')\n",
    "demographics2 = Q('days_to_birth > -60*365') # note that days_to_birth is a negative value\n",
    "\n",
    "q1 = tumor_type.And(demographics1.And(demographics2))\n",
    "q2 = disease1.Or(disease2)\n",
    "q = q1.And(q2)\n",
    "\n",
    "r = q.run()\n",
    "print(r)"
   ]
  },
  {
   "cell_type": "markdown",
   "id": "marine-failing",
   "metadata": {},
   "source": [
    "In this case, we have a result that contains more than 1000 records which is the default page size. To load the next 1000 records, we can use the ```next_page()``` method:"
   ]
  },
  {
   "cell_type": "code",
   "execution_count": null,
   "id": "informative-oxygen",
   "metadata": {},
   "outputs": [],
   "source": [
    "r2 = r.next_page()"
   ]
  },
  {
   "cell_type": "code",
   "execution_count": null,
   "id": "social-average",
   "metadata": {},
   "outputs": [],
   "source": [
    "print(r2)"
   ]
  },
  {
   "cell_type": "markdown",
   "id": "narrow-softball",
   "metadata": {},
   "source": [
    "Alternatively, we can use the ```offset``` argument to specify the record to start from:\n",
    "\n",
    "```\n",
    "...\n",
    "r = q.run(offset=1000)\n",
    "print(r)\n",
    "```"
   ]
  },
  {
   "cell_type": "markdown",
   "id": "further-chester",
   "metadata": {},
   "source": [
    "### Query 4\n",
    "\n",
    "**Find data for donors with \"Ovarian Serous Cystadenocarcinoma\" with proteomic and genomic data.**"
   ]
  },
  {
   "cell_type": "markdown",
   "id": "incident-sudan",
   "metadata": {},
   "source": [
    "**Note that disease type value denoting the same disease groups can be completely different within different systems. This is where CDA features come into play.** We first start by exploring the values available for this particular field in both systems."
   ]
  },
  {
   "cell_type": "code",
   "execution_count": 13,
   "id": "outstanding-hungary",
   "metadata": {},
   "outputs": [
    {
     "output_type": "execute_result",
     "data": {
      "text/plain": [
       "['Adenomas and Adenocarcinomas',\n",
       " 'Osseous and Chondromatous Neoplasms',\n",
       " 'Lymphoid Leukemias',\n",
       " 'Not Applicable',\n",
       " 'Not Reported',\n",
       " 'Cystic, Mucinous and Serous Neoplasms',\n",
       " 'Gliomas',\n",
       " 'Germ Cell Neoplasms',\n",
       " 'Myeloid Leukemias',\n",
       " 'Neoplasms, NOS',\n",
       " 'Epithelial Neoplasms, NOS',\n",
       " 'Squamous Cell Neoplasms',\n",
       " 'Basal Cell Neoplasms',\n",
       " 'Transitional Cell Papillomas and Carcinomas',\n",
       " 'Adnexal and Skin Appendage Neoplasms',\n",
       " 'Mucoepidermoid Neoplasms',\n",
       " 'Ductal and Lobular Neoplasms',\n",
       " 'Acinar Cell Neoplasms',\n",
       " 'Complex Epithelial Neoplasms',\n",
       " 'Thymic Epithelial Neoplasms',\n",
       " 'Specialized Gonadal Neoplasms',\n",
       " 'Paragangliomas and Glomus Tumors',\n",
       " 'Nevi and Melanomas',\n",
       " 'Soft Tissue Tumors and Sarcomas, NOS',\n",
       " 'Fibromatous Neoplasms',\n",
       " 'Myxomatous Neoplasms',\n",
       " 'Lipomatous Neoplasms',\n",
       " 'Myomatous Neoplasms',\n",
       " 'Complex Mixed and Stromal Neoplasms',\n",
       " 'Fibroepithelial Neoplasms',\n",
       " 'Synovial-like Neoplasms',\n",
       " 'Mesothelial Neoplasms',\n",
       " 'Trophoblastic neoplasms',\n",
       " 'Mesonephromas',\n",
       " 'Blood Vessel Tumors',\n",
       " 'Lymphatic Vessel Tumors',\n",
       " 'Giant Cell Tumors',\n",
       " 'Miscellaneous Bone Tumors',\n",
       " 'Odontogenic Tumors',\n",
       " 'Miscellaneous Tumors',\n",
       " 'Neuroepitheliomatous Neoplasms',\n",
       " 'Meningiomas',\n",
       " 'Nerve Sheath Tumors',\n",
       " 'Granular Cell Tumors and Alveolar Soft Part Sarcomas',\n",
       " 'Malignant Lymphomas, NOS or Diffuse',\n",
       " 'Hodgkin Lymphoma',\n",
       " 'Mature B-Cell Lymphomas',\n",
       " 'Mature T- and NK-Cell Lymphomas',\n",
       " 'Precursor Cell Lymphoblastic Lymphoma',\n",
       " 'Plasma Cell Tumors',\n",
       " 'Mast Cell Tumors',\n",
       " 'Neoplasms of Histiocytes and Accessory Lymphoid Cells',\n",
       " 'Immunoproliferative Diseases',\n",
       " 'Leukemias, NOS',\n",
       " None,\n",
       " 'Chronic Myeloproliferative Disorders',\n",
       " 'Myelodysplastic Syndromes',\n",
       " 'Other Leukemias',\n",
       " 'Unknown']"
      ]
     },
     "metadata": {},
     "execution_count": 13
    }
   ],
   "source": [
    "unique_terms('ResearchSubject.primary_disease_type', system=\"GDC\")"
   ]
  },
  {
   "cell_type": "markdown",
   "id": "international-colleague",
   "metadata": {},
   "source": [
    "Since “Ovarian Serous Cystadenocarcinoma” doesn’t appear in GDC values we decide to look into the PDC:"
   ]
  },
  {
   "cell_type": "code",
   "execution_count": null,
   "id": "million-cardiff",
   "metadata": {},
   "outputs": [],
   "source": [
    "unique_terms('ResearchSubject.primary_disease_type', system=\"PDC\")"
   ]
  },
  {
   "cell_type": "markdown",
   "id": "explicit-value",
   "metadata": {},
   "source": [
    "After examining the output, we see that it does come from the PDC. Hence, if we could first identify the data that has research subjects found within the PDC that have this particular disease type, and then further narrow down the results to include only the portion of the data that is present in GDC, we could get the records that we are looking for."
   ]
  },
  {
   "cell_type": "code",
   "execution_count": null,
   "id": "blessed-humidity",
   "metadata": {},
   "outputs": [],
   "source": [
    "q1 = Q('ResearchSubject.primary_disease_type = \"Ovarian Serous Cystadenocarcinoma\"')\n",
    "q2 = Q('ResearchSubject.identifier.system = \"PDC\"')\n",
    "q3 = Q('ResearchSubject.identifier.system = \"GDC\"')\n",
    "\n",
    "q = q3.From(q1.And(q2))\n",
    "r = q.run()\n",
    "\n",
    "print(r)"
   ]
  },
  {
   "cell_type": "markdown",
   "id": "valid-montreal",
   "metadata": {},
   "source": [
    "As you can see, this is achieved by utilizing ```From``` operator. The ```From``` operator allows us to create queries from results of other queries. This is particularly useful when working with conditions that involve a single field which can take multiple different values for different items in a list that is being part of, e.g. we need ```ResearchSubject.identifier.system``` to be both “PDC” and “GDC” for a single patient. In such cases, ```And``` operator can’t help because it will return those entries where the field takes both values, which is zero entries."
   ]
  },
  {
   "cell_type": "markdown",
   "id": "entire-audience",
   "metadata": {},
   "source": [
    "## Test queries"
   ]
  },
  {
   "cell_type": "markdown",
   "id": "enabling-promise",
   "metadata": {},
   "source": [
    "Now that we've successfully run and analyzed a few queries, here are a few additional ones you can try out on your own.\n",
    "\n",
    "Solutions can be shared with the CDA team as indicated in the _Testing Guide_ document."
   ]
  },
  {
   "cell_type": "markdown",
   "id": "beautiful-backing",
   "metadata": {},
   "source": [
    "### Test Query 1\n",
    "\n",
    "**Find data from TCGA-BRCA project, with donors over the age of 50 with Stage IIIC cancer.**"
   ]
  },
  {
   "cell_type": "code",
   "execution_count": null,
   "id": "front-prayer",
   "metadata": {},
   "outputs": [],
   "source": [
    "# Solution\n",
    "\n",
    "# ...\n",
    "\n",
    "# print(r)"
   ]
  },
  {
   "cell_type": "markdown",
   "id": "sublime-feelings",
   "metadata": {},
   "source": [
    "### Test Query 2\n",
    "\n",
    "**Find data from all patients who have been treated with \"Radiation Therapy, NOS\" and have both genomic and proteomic data.**"
   ]
  },
  {
   "cell_type": "code",
   "execution_count": null,
   "id": "removable-factor",
   "metadata": {},
   "outputs": [],
   "source": [
    "# Solution\n",
    "\n",
    "# ...\n",
    "\n",
    "# print(r)"
   ]
  },
  {
   "cell_type": "markdown",
   "id": "jewish-slovenia",
   "metadata": {},
   "source": [
    "### Test Query 3\n",
    "\n",
    "**Find data from all subjects with lung adenocarcinomas that have both primary and recurrent tumors.**"
   ]
  },
  {
   "cell_type": "code",
   "execution_count": null,
   "id": "acute-verification",
   "metadata": {},
   "outputs": [],
   "source": [
    "# Solution\n",
    "\n",
    "# ...\n",
    "\n",
    "# print(r)"
   ]
  }
 ],
 "metadata": {
  "kernelspec": {
   "name": "python3",
   "display_name": "Python 3.9.5 64-bit ('venv': venv)"
  },
  "language_info": {
   "codemirror_mode": {
    "name": "ipython",
    "version": 3
   },
   "file_extension": ".py",
   "mimetype": "text/x-python",
   "name": "python",
   "nbconvert_exporter": "python",
   "pygments_lexer": "ipython3",
   "version": "3.9.5"
  },
  "interpreter": {
   "hash": "5c867d1980d5b66d2bfc8a5903dcee074b4b68f3917a4f27f8a310cab24e9f1b"
  }
 },
 "nbformat": 4,
 "nbformat_minor": 5
}