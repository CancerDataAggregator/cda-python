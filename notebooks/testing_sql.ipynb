{
 "cells": [
  {
   "cell_type": "code",
   "execution_count": 1,
   "id": "33d30b80-163c-4b18-a745-6faecdb2d98c",
   "metadata": {},
   "outputs": [
    {
     "name": "stdout",
     "output_type": "stream",
     "text": [
      "2022.6.28\n",
      "everything is fine\n"
     ]
    }
   ],
   "source": [
    "from matplotlib import pyplot\n",
    "from cdapython import Q \n",
    "print(Q.get_version())\n",
    "print(Q.bigquery_status())\n"
   ]
  },
  {
   "cell_type": "code",
   "execution_count": 5,
   "id": "013b417f-674f-47de-a235-66d84c9f4897",
   "metadata": {},
   "outputs": [
    {
     "data": {
      "text/html": [
       "<pre style=\"white-space:pre;overflow-x:auto;line-height:normal;font-family:Menlo,'DejaVu Sans Mono',consolas,'Courier New',monospace\">Getting results from database\n",
       "\n",
       "</pre>\n"
      ],
      "text/plain": [
       "Getting results from database\n",
       "\n"
      ]
     },
     "metadata": {},
     "output_type": "display_data"
    },
    {
     "name": "stdout",
     "output_type": "stream",
     "text": [
      "Total execution time: 3628 ms\n"
     ]
    },
    {
     "data": {
      "text/plain": [
       "{'total': {0: 65},\n",
       " 'files': {0: 45342},\n",
       " 'system': {0: [{'system': 'GDC', 'count': 65},\n",
       "   {'system': 'IDC', 'count': 65},\n",
       "   {'system': 'PDC', 'count': 65}]},\n",
       " 'sex': {0: [{'sex': 'male', 'count': 47}, {'sex': 'female', 'count': 18}]},\n",
       " 'race': {0: [{'race': 'white', 'count': 38},\n",
       "   {'race': 'not reported', 'count': 26},\n",
       "   {'race': 'asian', 'count': 1}]},\n",
       " 'ethnicity': {0: [{'ethnicity': 'not hispanic or latino', 'count': 26},\n",
       "   {'ethnicity': 'not reported', 'count': 35},\n",
       "   {'ethnicity': 'hispanic or latino', 'count': 4}]},\n",
       " 'cause_of_death': {0: [{'cause_of_death': 'Not Reported', 'count': 63},\n",
       "   {'cause_of_death': 'Cancer Related', 'count': 2}]}}"
      ]
     },
     "execution_count": 5,
     "metadata": {},
     "output_type": "execute_result"
    }
   ],
   "source": [
    "from pandas import json_normalize\n",
    "q1 = Q('ResearchSubject.Diagnosis.stage = \"Stage I\"')\n",
    "q2 = Q('ResearchSubject.Diagnosis.stage = \"Stage II\"')\n",
    "q3 = Q(\"ResearchSubject.primary_diagnosis_site = 'Kidney'\")\n",
    "q_diag = q1.OR(q2)\n",
    "q = q_diag.AND(q3)\n",
    "# print(q.counts.run())\n",
    "qsub = q.subject.count.run(show_sql=True)\n",
    "%matplotlib inline\n",
    "qsub.to_dataframe().to_dict()\n"
   ]
  },
  {
   "cell_type": "code",
   "execution_count": null,
   "id": "b4f5cd0f-b990-4096-a91f-c84997019d39",
   "metadata": {},
   "outputs": [],
   "source": [
    "\n"
   ]
  }
 ],
 "metadata": {
  "interpreter": {
   "hash": "4578c8680ee810f847df558484335f5ffb0f004d38a87276387030f59580c508"
  },
  "kernelspec": {
   "display_name": "Python 3 (ipykernel)",
   "language": "python",
   "name": "python3"
  },
  "language_info": {
   "codemirror_mode": {
    "name": "ipython",
    "version": 3
   },
   "file_extension": ".py",
   "mimetype": "text/x-python",
   "name": "python",
   "nbconvert_exporter": "python",
   "pygments_lexer": "ipython3",
   "version": "3.10.4"
  }
 },
 "nbformat": 4,
 "nbformat_minor": 5
}
