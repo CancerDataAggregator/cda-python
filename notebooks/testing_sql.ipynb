{
 "cells": [
  {
   "cell_type": "code",
   "execution_count": 2,
   "id": "33d30b80-163c-4b18-a745-6faecdb2d98c",
   "metadata": {},
   "outputs": [
    {
     "name": "stdout",
     "output_type": "stream",
     "text": [
      "2022.6.2\n",
      "everything is fine\n"
     ]
    }
   ],
   "source": [
    "from matplotlib import pyplot\n",
    "from cdapython import Q \n",
    "Q.set_host_url(\"http://35.192.60.10:8080/\")\n",
    "print(Q.get_version())\n",
    "print(Q.bigquery_status())\n"
   ]
  },
  {
   "cell_type": "code",
   "execution_count": 18,
   "id": "013b417f-674f-47de-a235-66d84c9f4897",
   "metadata": {},
   "outputs": [
    {
     "data": {
      "text/html": [
       "<pre style=\"white-space:pre;overflow-x:auto;line-height:normal;font-family:Menlo,'DejaVu Sans Mono',consolas,'Courier New',monospace\">Getting results from database\n",
       "\n",
       "</pre>\n"
      ],
      "text/plain": [
       "Getting results from database\n",
       "\n"
      ]
     },
     "metadata": {},
     "output_type": "display_data"
    },
    {
     "name": "stdout",
     "output_type": "stream",
     "text": [
      "Total execution time: 3683 ms\n"
     ]
    },
    {
     "data": {
      "text/html": [
       "<div>\n",
       "<style scoped>\n",
       "    .dataframe tbody tr th:only-of-type {\n",
       "        vertical-align: middle;\n",
       "    }\n",
       "\n",
       "    .dataframe tbody tr th {\n",
       "        vertical-align: top;\n",
       "    }\n",
       "\n",
       "    .dataframe thead th {\n",
       "        text-align: right;\n",
       "    }\n",
       "</style>\n",
       "<table border=\"1\" class=\"dataframe\">\n",
       "  <thead>\n",
       "    <tr style=\"text-align: right;\">\n",
       "      <th></th>\n",
       "      <th>total</th>\n",
       "      <th>files</th>\n",
       "      <th>system</th>\n",
       "      <th>sex</th>\n",
       "      <th>race</th>\n",
       "      <th>ethnicity</th>\n",
       "      <th>cause_of_death</th>\n",
       "    </tr>\n",
       "  </thead>\n",
       "  <tbody>\n",
       "    <tr>\n",
       "      <th>0</th>\n",
       "      <td>3627</td>\n",
       "      <td>475184</td>\n",
       "      <td>[{'system': 'GDC', 'count': 3296}, {'system': ...</td>\n",
       "      <td>[{'sex': 'male', 'count': 2114}, {'sex': 'fema...</td>\n",
       "      <td>[{'race': 'white', 'count': 2217}, {'race': No...</td>\n",
       "      <td>[{'ethnicity': 'not reported', 'count': 961}, ...</td>\n",
       "      <td>[{'cause_of_death': None, 'count': 3508}, {'ca...</td>\n",
       "    </tr>\n",
       "  </tbody>\n",
       "</table>\n",
       "</div>"
      ],
      "text/plain": [
       "   total   files                                             system  \\\n",
       "0   3627  475184  [{'system': 'GDC', 'count': 3296}, {'system': ...   \n",
       "\n",
       "                                                 sex  \\\n",
       "0  [{'sex': 'male', 'count': 2114}, {'sex': 'fema...   \n",
       "\n",
       "                                                race  \\\n",
       "0  [{'race': 'white', 'count': 2217}, {'race': No...   \n",
       "\n",
       "                                           ethnicity  \\\n",
       "0  [{'ethnicity': 'not reported', 'count': 961}, ...   \n",
       "\n",
       "                                      cause_of_death  \n",
       "0  [{'cause_of_death': None, 'count': 3508}, {'ca...  "
      ]
     },
     "execution_count": 18,
     "metadata": {},
     "output_type": "execute_result"
    }
   ],
   "source": [
    "from tests.global_settings import host,localhost\n",
    "from pandas import json_normalize\n",
    "q1 = Q('ResearchSubject.Diagnosis.stage = \"Stage I\"')\n",
    "q2 = Q('ResearchSubject.Diagnosis.stage = \"Stage II\"')\n",
    "q3 = Q(\"ResearchSubject.primary_diagnosis_site = 'Kidney'\")\n",
    "q_diag = q1.Or(q2)\n",
    "q = q_diag.And(q3)\n",
    "# print(q.counts.run())\n",
    "qsub = q.subject.count.run(host=host, show_sql=True)\n",
    "%matplotlib inline\n",
    "qsub.to_dataframe()\n"
   ]
  },
  {
   "cell_type": "code",
   "execution_count": null,
   "id": "b4f5cd0f-b990-4096-a91f-c84997019d39",
   "metadata": {},
   "outputs": [],
   "source": [
    "\n"
   ]
  }
 ],
 "metadata": {
  "interpreter": {
   "hash": "4578c8680ee810f847df558484335f5ffb0f004d38a87276387030f59580c508"
  },
  "kernelspec": {
   "display_name": "Python 3 (ipykernel)",
   "language": "python",
   "name": "python3"
  },
  "language_info": {
   "codemirror_mode": {
    "name": "ipython",
    "version": 3
   },
   "file_extension": ".py",
   "mimetype": "text/x-python",
   "name": "python",
   "nbconvert_exporter": "python",
   "pygments_lexer": "ipython3",
   "version": "3.10.4"
  }
 },
 "nbformat": 4,
 "nbformat_minor": 5
}
