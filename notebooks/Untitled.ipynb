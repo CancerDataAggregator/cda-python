{
 "cells": [
  {
   "cell_type": "code",
   "execution_count": 1,
   "id": "a93a79c9-352f-41cb-9113-6daadaef1d99",
   "metadata": {},
   "outputs": [
    {
     "data": {
      "text/plain": [
       "'2022.11.3'"
      ]
     },
     "execution_count": 1,
     "metadata": {},
     "output_type": "execute_result"
    }
   ],
   "source": [
    "from cdapython import Q,columns,unique_terms\n",
    "Q.get_version()"
   ]
  },
  {
   "cell_type": "code",
   "execution_count": 2,
   "id": "525765be-da36-4349-8ca7-546fc95c15d7",
   "metadata": {},
   "outputs": [
    {
     "data": {
      "text/html": [
       "<pre style=\"white-space:pre;overflow-x:auto;line-height:normal;font-family:Menlo,'DejaVu Sans Mono',consolas,'Courier New',monospace\"><span style=\"color: #0000ff; text-decoration-color: #0000ff; text-decoration: underline\">https://cancerdata.dsde-dev.broadinstitute.org/</span>\n",
       "</pre>\n"
      ],
      "text/plain": [
       "\u001b[4;94mhttps://cancerdata.dsde-dev.broadinstitute.org/\u001b[0m\n"
      ]
     },
     "metadata": {},
     "output_type": "display_data"
    },
    {
     "data": {
      "text/html": [
       "<pre style=\"white-space:pre;overflow-x:auto;line-height:normal;font-family:Menlo,'DejaVu Sans Mono',consolas,'Courier New',monospace\">broad-dsde-dev.cda_dev\n",
       "</pre>\n"
      ],
      "text/plain": [
       "broad-dsde-dev.cda_dev\n"
      ]
     },
     "metadata": {},
     "output_type": "display_data"
    }
   ],
   "source": [
    "Q.set_default_project_dataset(\"broad-dsde-dev.cda_dev\")\n",
    "Q.set_host_url(\"https://cancerdata.dsde-dev.broadinstitute.org/\")\n",
    "\n",
    "print(Q.get_host_url())\n",
    "print(Q.get_default_project_dataset())"
   ]
  },
  {
   "cell_type": "code",
   "execution_count": 3,
   "id": "051e1ff6-e493-4a39-81ad-4459fef8a980",
   "metadata": {},
   "outputs": [
    {
     "data": {
      "text/html": [
       "<pre style=\"white-space:pre;overflow-x:auto;line-height:normal;font-family:Menlo,'DejaVu Sans Mono',consolas,'Courier New',monospace\">Getting results from database\n",
       "\n",
       "</pre>\n"
      ],
      "text/plain": [
       "Getting results from database\n",
       "\n"
      ]
     },
     "metadata": {},
     "output_type": "display_data"
    },
    {
     "data": {
      "text/html": [
       "<pre style=\"white-space:pre;overflow-x:auto;line-height:normal;font-family:Menlo,'DejaVu Sans Mono',consolas,'Courier New',monospace\">\n",
       "                        Total execution time: <span style=\"color: #008080; text-decoration-color: #008080; font-weight: bold\">0</span>\n",
       "                        min <span style=\"color: #008080; text-decoration-color: #008080; font-weight: bold\">8.493</span> sec <span style=\"color: #008080; text-decoration-color: #008080; font-weight: bold\">8493</span> ms\n",
       "                        \n",
       "</pre>\n"
      ],
      "text/plain": [
       "\n",
       "                        Total execution time: \u001b[1;36m0\u001b[0m\n",
       "                        min \u001b[1;36m8.493\u001b[0m sec \u001b[1;36m8493\u001b[0m ms\n",
       "                        \n"
      ]
     },
     "metadata": {},
     "output_type": "display_data"
    },
    {
     "data": {
      "application/vnd.jupyter.widget-view+json": {
       "model_id": "9110309fa3c143f5951a300bf29719f4",
       "version_major": 2,
       "version_minor": 0
      },
      "text/plain": [
       "Output()"
      ]
     },
     "metadata": {},
     "output_type": "display_data"
    },
    {
     "data": {
      "text/html": [
       "<pre style=\"white-space:pre;overflow-x:auto;line-height:normal;font-family:Menlo,'DejaVu Sans Mono',consolas,'Courier New',monospace\">\n",
       "<span style=\"color: #c0c0c0; text-decoration-color: #c0c0c0; background-color: #000000\">            </span>\n",
       "<span style=\"color: #c0c0c0; text-decoration-color: #c0c0c0; background-color: #000000\">            Offset: </span><span style=\"color: #008080; text-decoration-color: #008080; background-color: #000000; font-weight: bold\">0</span>\n",
       "<span style=\"color: #c0c0c0; text-decoration-color: #c0c0c0; background-color: #000000\">            Count: </span><span style=\"color: #008080; text-decoration-color: #008080; background-color: #000000; font-weight: bold\">1000</span>\n",
       "<span style=\"color: #c0c0c0; text-decoration-color: #c0c0c0; background-color: #000000\">            Total Row Count: </span><span style=\"color: #008080; text-decoration-color: #008080; background-color: #000000; font-weight: bold\">40252</span>\n",
       "<span style=\"color: #c0c0c0; text-decoration-color: #c0c0c0; background-color: #000000\">            More pages: </span><span style=\"color: #00ff00; text-decoration-color: #00ff00; background-color: #000000; font-style: italic\">True</span>\n",
       "<span style=\"color: #c0c0c0; text-decoration-color: #c0c0c0; background-color: #000000\">            </span>\n",
       "</pre>\n"
      ],
      "text/plain": [
       "\n",
       "\u001b[37;40m            \u001b[0m\n",
       "\u001b[37;40m            Offset: \u001b[0m\u001b[1;36;40m0\u001b[0m\n",
       "\u001b[37;40m            Count: \u001b[0m\u001b[1;36;40m1000\u001b[0m\n",
       "\u001b[37;40m            Total Row Count: \u001b[0m\u001b[1;36;40m40252\u001b[0m\n",
       "\u001b[37;40m            More pages: \u001b[0m\u001b[3;92;40mTrue\u001b[0m\n",
       "\u001b[37;40m            \u001b[0m\n"
      ]
     },
     "metadata": {},
     "output_type": "display_data"
    },
    {
     "data": {
      "text/html": [
       "<pre style=\"white-space:pre;overflow-x:auto;line-height:normal;font-family:Menlo,'DejaVu Sans Mono',consolas,'Courier New',monospace\">\n",
       "<span style=\"color: #c0c0c0; text-decoration-color: #c0c0c0; background-color: #000000\">            </span>\n",
       "<span style=\"color: #c0c0c0; text-decoration-color: #c0c0c0; background-color: #000000\">            Offset: </span><span style=\"color: #008080; text-decoration-color: #008080; background-color: #000000; font-weight: bold\">1000</span>\n",
       "<span style=\"color: #c0c0c0; text-decoration-color: #c0c0c0; background-color: #000000\">            Count: </span><span style=\"color: #008080; text-decoration-color: #008080; background-color: #000000; font-weight: bold\">1000</span>\n",
       "<span style=\"color: #c0c0c0; text-decoration-color: #c0c0c0; background-color: #000000\">            Total Row Count: </span><span style=\"color: #008080; text-decoration-color: #008080; background-color: #000000; font-weight: bold\">40252</span>\n",
       "<span style=\"color: #c0c0c0; text-decoration-color: #c0c0c0; background-color: #000000\">            More pages: </span><span style=\"color: #00ff00; text-decoration-color: #00ff00; background-color: #000000; font-style: italic\">True</span>\n",
       "<span style=\"color: #c0c0c0; text-decoration-color: #c0c0c0; background-color: #000000\">            </span>\n",
       "</pre>\n"
      ],
      "text/plain": [
       "\n",
       "\u001b[37;40m            \u001b[0m\n",
       "\u001b[37;40m            Offset: \u001b[0m\u001b[1;36;40m1000\u001b[0m\n",
       "\u001b[37;40m            Count: \u001b[0m\u001b[1;36;40m1000\u001b[0m\n",
       "\u001b[37;40m            Total Row Count: \u001b[0m\u001b[1;36;40m40252\u001b[0m\n",
       "\u001b[37;40m            More pages: \u001b[0m\u001b[3;92;40mTrue\u001b[0m\n",
       "\u001b[37;40m            \u001b[0m\n"
      ]
     },
     "metadata": {},
     "output_type": "display_data"
    },
    {
     "data": {
      "text/html": [
       "<pre style=\"white-space:pre;overflow-x:auto;line-height:normal;font-family:Menlo,'DejaVu Sans Mono',consolas,'Courier New',monospace\">\n",
       "<span style=\"color: #c0c0c0; text-decoration-color: #c0c0c0; background-color: #000000\">            </span>\n",
       "<span style=\"color: #c0c0c0; text-decoration-color: #c0c0c0; background-color: #000000\">            Offset: </span><span style=\"color: #008080; text-decoration-color: #008080; background-color: #000000; font-weight: bold\">2000</span>\n",
       "<span style=\"color: #c0c0c0; text-decoration-color: #c0c0c0; background-color: #000000\">            Count: </span><span style=\"color: #008080; text-decoration-color: #008080; background-color: #000000; font-weight: bold\">1000</span>\n",
       "<span style=\"color: #c0c0c0; text-decoration-color: #c0c0c0; background-color: #000000\">            Total Row Count: </span><span style=\"color: #008080; text-decoration-color: #008080; background-color: #000000; font-weight: bold\">40252</span>\n",
       "<span style=\"color: #c0c0c0; text-decoration-color: #c0c0c0; background-color: #000000\">            More pages: </span><span style=\"color: #00ff00; text-decoration-color: #00ff00; background-color: #000000; font-style: italic\">True</span>\n",
       "<span style=\"color: #c0c0c0; text-decoration-color: #c0c0c0; background-color: #000000\">            </span>\n",
       "</pre>\n"
      ],
      "text/plain": [
       "\n",
       "\u001b[37;40m            \u001b[0m\n",
       "\u001b[37;40m            Offset: \u001b[0m\u001b[1;36;40m2000\u001b[0m\n",
       "\u001b[37;40m            Count: \u001b[0m\u001b[1;36;40m1000\u001b[0m\n",
       "\u001b[37;40m            Total Row Count: \u001b[0m\u001b[1;36;40m40252\u001b[0m\n",
       "\u001b[37;40m            More pages: \u001b[0m\u001b[3;92;40mTrue\u001b[0m\n",
       "\u001b[37;40m            \u001b[0m\n"
      ]
     },
     "metadata": {},
     "output_type": "display_data"
    },
    {
     "data": {
      "text/html": [
       "<pre style=\"white-space:pre;overflow-x:auto;line-height:normal;font-family:Menlo,'DejaVu Sans Mono',consolas,'Courier New',monospace\">\n",
       "<span style=\"color: #c0c0c0; text-decoration-color: #c0c0c0; background-color: #000000\">            </span>\n",
       "<span style=\"color: #c0c0c0; text-decoration-color: #c0c0c0; background-color: #000000\">            Offset: </span><span style=\"color: #008080; text-decoration-color: #008080; background-color: #000000; font-weight: bold\">3000</span>\n",
       "<span style=\"color: #c0c0c0; text-decoration-color: #c0c0c0; background-color: #000000\">            Count: </span><span style=\"color: #008080; text-decoration-color: #008080; background-color: #000000; font-weight: bold\">1000</span>\n",
       "<span style=\"color: #c0c0c0; text-decoration-color: #c0c0c0; background-color: #000000\">            Total Row Count: </span><span style=\"color: #008080; text-decoration-color: #008080; background-color: #000000; font-weight: bold\">40252</span>\n",
       "<span style=\"color: #c0c0c0; text-decoration-color: #c0c0c0; background-color: #000000\">            More pages: </span><span style=\"color: #00ff00; text-decoration-color: #00ff00; background-color: #000000; font-style: italic\">True</span>\n",
       "<span style=\"color: #c0c0c0; text-decoration-color: #c0c0c0; background-color: #000000\">            </span>\n",
       "</pre>\n"
      ],
      "text/plain": [
       "\n",
       "\u001b[37;40m            \u001b[0m\n",
       "\u001b[37;40m            Offset: \u001b[0m\u001b[1;36;40m3000\u001b[0m\n",
       "\u001b[37;40m            Count: \u001b[0m\u001b[1;36;40m1000\u001b[0m\n",
       "\u001b[37;40m            Total Row Count: \u001b[0m\u001b[1;36;40m40252\u001b[0m\n",
       "\u001b[37;40m            More pages: \u001b[0m\u001b[3;92;40mTrue\u001b[0m\n",
       "\u001b[37;40m            \u001b[0m\n"
      ]
     },
     "metadata": {},
     "output_type": "display_data"
    },
    {
     "data": {
      "text/html": [
       "<pre style=\"white-space:pre;overflow-x:auto;line-height:normal;font-family:Menlo,'DejaVu Sans Mono',consolas,'Courier New',monospace\">\n",
       "<span style=\"color: #c0c0c0; text-decoration-color: #c0c0c0; background-color: #000000\">            </span>\n",
       "<span style=\"color: #c0c0c0; text-decoration-color: #c0c0c0; background-color: #000000\">            Offset: </span><span style=\"color: #008080; text-decoration-color: #008080; background-color: #000000; font-weight: bold\">4000</span>\n",
       "<span style=\"color: #c0c0c0; text-decoration-color: #c0c0c0; background-color: #000000\">            Count: </span><span style=\"color: #008080; text-decoration-color: #008080; background-color: #000000; font-weight: bold\">1000</span>\n",
       "<span style=\"color: #c0c0c0; text-decoration-color: #c0c0c0; background-color: #000000\">            Total Row Count: </span><span style=\"color: #008080; text-decoration-color: #008080; background-color: #000000; font-weight: bold\">40252</span>\n",
       "<span style=\"color: #c0c0c0; text-decoration-color: #c0c0c0; background-color: #000000\">            More pages: </span><span style=\"color: #00ff00; text-decoration-color: #00ff00; background-color: #000000; font-style: italic\">True</span>\n",
       "<span style=\"color: #c0c0c0; text-decoration-color: #c0c0c0; background-color: #000000\">            </span>\n",
       "</pre>\n"
      ],
      "text/plain": [
       "\n",
       "\u001b[37;40m            \u001b[0m\n",
       "\u001b[37;40m            Offset: \u001b[0m\u001b[1;36;40m4000\u001b[0m\n",
       "\u001b[37;40m            Count: \u001b[0m\u001b[1;36;40m1000\u001b[0m\n",
       "\u001b[37;40m            Total Row Count: \u001b[0m\u001b[1;36;40m40252\u001b[0m\n",
       "\u001b[37;40m            More pages: \u001b[0m\u001b[3;92;40mTrue\u001b[0m\n",
       "\u001b[37;40m            \u001b[0m\n"
      ]
     },
     "metadata": {},
     "output_type": "display_data"
    },
    {
     "data": {
      "text/html": [
       "<pre style=\"white-space:pre;overflow-x:auto;line-height:normal;font-family:Menlo,'DejaVu Sans Mono',consolas,'Courier New',monospace\">\n",
       "<span style=\"color: #c0c0c0; text-decoration-color: #c0c0c0; background-color: #000000\">            </span>\n",
       "<span style=\"color: #c0c0c0; text-decoration-color: #c0c0c0; background-color: #000000\">            Offset: </span><span style=\"color: #008080; text-decoration-color: #008080; background-color: #000000; font-weight: bold\">5000</span>\n",
       "<span style=\"color: #c0c0c0; text-decoration-color: #c0c0c0; background-color: #000000\">            Count: </span><span style=\"color: #008080; text-decoration-color: #008080; background-color: #000000; font-weight: bold\">1000</span>\n",
       "<span style=\"color: #c0c0c0; text-decoration-color: #c0c0c0; background-color: #000000\">            Total Row Count: </span><span style=\"color: #008080; text-decoration-color: #008080; background-color: #000000; font-weight: bold\">40252</span>\n",
       "<span style=\"color: #c0c0c0; text-decoration-color: #c0c0c0; background-color: #000000\">            More pages: </span><span style=\"color: #00ff00; text-decoration-color: #00ff00; background-color: #000000; font-style: italic\">True</span>\n",
       "<span style=\"color: #c0c0c0; text-decoration-color: #c0c0c0; background-color: #000000\">            </span>\n",
       "</pre>\n"
      ],
      "text/plain": [
       "\n",
       "\u001b[37;40m            \u001b[0m\n",
       "\u001b[37;40m            Offset: \u001b[0m\u001b[1;36;40m5000\u001b[0m\n",
       "\u001b[37;40m            Count: \u001b[0m\u001b[1;36;40m1000\u001b[0m\n",
       "\u001b[37;40m            Total Row Count: \u001b[0m\u001b[1;36;40m40252\u001b[0m\n",
       "\u001b[37;40m            More pages: \u001b[0m\u001b[3;92;40mTrue\u001b[0m\n",
       "\u001b[37;40m            \u001b[0m\n"
      ]
     },
     "metadata": {},
     "output_type": "display_data"
    },
    {
     "data": {
      "text/html": [
       "<pre style=\"white-space:pre;overflow-x:auto;line-height:normal;font-family:Menlo,'DejaVu Sans Mono',consolas,'Courier New',monospace\">\n",
       "<span style=\"color: #c0c0c0; text-decoration-color: #c0c0c0; background-color: #000000\">            </span>\n",
       "<span style=\"color: #c0c0c0; text-decoration-color: #c0c0c0; background-color: #000000\">            Offset: </span><span style=\"color: #008080; text-decoration-color: #008080; background-color: #000000; font-weight: bold\">6000</span>\n",
       "<span style=\"color: #c0c0c0; text-decoration-color: #c0c0c0; background-color: #000000\">            Count: </span><span style=\"color: #008080; text-decoration-color: #008080; background-color: #000000; font-weight: bold\">1000</span>\n",
       "<span style=\"color: #c0c0c0; text-decoration-color: #c0c0c0; background-color: #000000\">            Total Row Count: </span><span style=\"color: #008080; text-decoration-color: #008080; background-color: #000000; font-weight: bold\">40252</span>\n",
       "<span style=\"color: #c0c0c0; text-decoration-color: #c0c0c0; background-color: #000000\">            More pages: </span><span style=\"color: #00ff00; text-decoration-color: #00ff00; background-color: #000000; font-style: italic\">True</span>\n",
       "<span style=\"color: #c0c0c0; text-decoration-color: #c0c0c0; background-color: #000000\">            </span>\n",
       "</pre>\n"
      ],
      "text/plain": [
       "\n",
       "\u001b[37;40m            \u001b[0m\n",
       "\u001b[37;40m            Offset: \u001b[0m\u001b[1;36;40m6000\u001b[0m\n",
       "\u001b[37;40m            Count: \u001b[0m\u001b[1;36;40m1000\u001b[0m\n",
       "\u001b[37;40m            Total Row Count: \u001b[0m\u001b[1;36;40m40252\u001b[0m\n",
       "\u001b[37;40m            More pages: \u001b[0m\u001b[3;92;40mTrue\u001b[0m\n",
       "\u001b[37;40m            \u001b[0m\n"
      ]
     },
     "metadata": {},
     "output_type": "display_data"
    },
    {
     "data": {
      "text/html": [
       "<pre style=\"white-space:pre;overflow-x:auto;line-height:normal;font-family:Menlo,'DejaVu Sans Mono',consolas,'Courier New',monospace\">\n",
       "<span style=\"color: #c0c0c0; text-decoration-color: #c0c0c0; background-color: #000000\">            </span>\n",
       "<span style=\"color: #c0c0c0; text-decoration-color: #c0c0c0; background-color: #000000\">            Offset: </span><span style=\"color: #008080; text-decoration-color: #008080; background-color: #000000; font-weight: bold\">7000</span>\n",
       "<span style=\"color: #c0c0c0; text-decoration-color: #c0c0c0; background-color: #000000\">            Count: </span><span style=\"color: #008080; text-decoration-color: #008080; background-color: #000000; font-weight: bold\">1000</span>\n",
       "<span style=\"color: #c0c0c0; text-decoration-color: #c0c0c0; background-color: #000000\">            Total Row Count: </span><span style=\"color: #008080; text-decoration-color: #008080; background-color: #000000; font-weight: bold\">40252</span>\n",
       "<span style=\"color: #c0c0c0; text-decoration-color: #c0c0c0; background-color: #000000\">            More pages: </span><span style=\"color: #00ff00; text-decoration-color: #00ff00; background-color: #000000; font-style: italic\">True</span>\n",
       "<span style=\"color: #c0c0c0; text-decoration-color: #c0c0c0; background-color: #000000\">            </span>\n",
       "</pre>\n"
      ],
      "text/plain": [
       "\n",
       "\u001b[37;40m            \u001b[0m\n",
       "\u001b[37;40m            Offset: \u001b[0m\u001b[1;36;40m7000\u001b[0m\n",
       "\u001b[37;40m            Count: \u001b[0m\u001b[1;36;40m1000\u001b[0m\n",
       "\u001b[37;40m            Total Row Count: \u001b[0m\u001b[1;36;40m40252\u001b[0m\n",
       "\u001b[37;40m            More pages: \u001b[0m\u001b[3;92;40mTrue\u001b[0m\n",
       "\u001b[37;40m            \u001b[0m\n"
      ]
     },
     "metadata": {},
     "output_type": "display_data"
    },
    {
     "data": {
      "text/html": [
       "<pre style=\"white-space:pre;overflow-x:auto;line-height:normal;font-family:Menlo,'DejaVu Sans Mono',consolas,'Courier New',monospace\">\n",
       "<span style=\"color: #c0c0c0; text-decoration-color: #c0c0c0; background-color: #000000\">            </span>\n",
       "<span style=\"color: #c0c0c0; text-decoration-color: #c0c0c0; background-color: #000000\">            Offset: </span><span style=\"color: #008080; text-decoration-color: #008080; background-color: #000000; font-weight: bold\">8000</span>\n",
       "<span style=\"color: #c0c0c0; text-decoration-color: #c0c0c0; background-color: #000000\">            Count: </span><span style=\"color: #008080; text-decoration-color: #008080; background-color: #000000; font-weight: bold\">1000</span>\n",
       "<span style=\"color: #c0c0c0; text-decoration-color: #c0c0c0; background-color: #000000\">            Total Row Count: </span><span style=\"color: #008080; text-decoration-color: #008080; background-color: #000000; font-weight: bold\">40252</span>\n",
       "<span style=\"color: #c0c0c0; text-decoration-color: #c0c0c0; background-color: #000000\">            More pages: </span><span style=\"color: #00ff00; text-decoration-color: #00ff00; background-color: #000000; font-style: italic\">True</span>\n",
       "<span style=\"color: #c0c0c0; text-decoration-color: #c0c0c0; background-color: #000000\">            </span>\n",
       "</pre>\n"
      ],
      "text/plain": [
       "\n",
       "\u001b[37;40m            \u001b[0m\n",
       "\u001b[37;40m            Offset: \u001b[0m\u001b[1;36;40m8000\u001b[0m\n",
       "\u001b[37;40m            Count: \u001b[0m\u001b[1;36;40m1000\u001b[0m\n",
       "\u001b[37;40m            Total Row Count: \u001b[0m\u001b[1;36;40m40252\u001b[0m\n",
       "\u001b[37;40m            More pages: \u001b[0m\u001b[3;92;40mTrue\u001b[0m\n",
       "\u001b[37;40m            \u001b[0m\n"
      ]
     },
     "metadata": {},
     "output_type": "display_data"
    },
    {
     "data": {
      "text/html": [
       "<pre style=\"white-space:pre;overflow-x:auto;line-height:normal;font-family:Menlo,'DejaVu Sans Mono',consolas,'Courier New',monospace\">\n",
       "<span style=\"color: #c0c0c0; text-decoration-color: #c0c0c0; background-color: #000000\">            </span>\n",
       "<span style=\"color: #c0c0c0; text-decoration-color: #c0c0c0; background-color: #000000\">            Offset: </span><span style=\"color: #008080; text-decoration-color: #008080; background-color: #000000; font-weight: bold\">9000</span>\n",
       "<span style=\"color: #c0c0c0; text-decoration-color: #c0c0c0; background-color: #000000\">            Count: </span><span style=\"color: #008080; text-decoration-color: #008080; background-color: #000000; font-weight: bold\">1000</span>\n",
       "<span style=\"color: #c0c0c0; text-decoration-color: #c0c0c0; background-color: #000000\">            Total Row Count: </span><span style=\"color: #008080; text-decoration-color: #008080; background-color: #000000; font-weight: bold\">40252</span>\n",
       "<span style=\"color: #c0c0c0; text-decoration-color: #c0c0c0; background-color: #000000\">            More pages: </span><span style=\"color: #00ff00; text-decoration-color: #00ff00; background-color: #000000; font-style: italic\">True</span>\n",
       "<span style=\"color: #c0c0c0; text-decoration-color: #c0c0c0; background-color: #000000\">            </span>\n",
       "</pre>\n"
      ],
      "text/plain": [
       "\n",
       "\u001b[37;40m            \u001b[0m\n",
       "\u001b[37;40m            Offset: \u001b[0m\u001b[1;36;40m9000\u001b[0m\n",
       "\u001b[37;40m            Count: \u001b[0m\u001b[1;36;40m1000\u001b[0m\n",
       "\u001b[37;40m            Total Row Count: \u001b[0m\u001b[1;36;40m40252\u001b[0m\n",
       "\u001b[37;40m            More pages: \u001b[0m\u001b[3;92;40mTrue\u001b[0m\n",
       "\u001b[37;40m            \u001b[0m\n"
      ]
     },
     "metadata": {},
     "output_type": "display_data"
    },
    {
     "data": {
      "text/html": [
       "<pre style=\"white-space:pre;overflow-x:auto;line-height:normal;font-family:Menlo,'DejaVu Sans Mono',consolas,'Courier New',monospace\">\n",
       "<span style=\"color: #c0c0c0; text-decoration-color: #c0c0c0; background-color: #000000\">            </span>\n",
       "<span style=\"color: #c0c0c0; text-decoration-color: #c0c0c0; background-color: #000000\">            Offset: </span><span style=\"color: #008080; text-decoration-color: #008080; background-color: #000000; font-weight: bold\">10000</span>\n",
       "<span style=\"color: #c0c0c0; text-decoration-color: #c0c0c0; background-color: #000000\">            Count: </span><span style=\"color: #008080; text-decoration-color: #008080; background-color: #000000; font-weight: bold\">1000</span>\n",
       "<span style=\"color: #c0c0c0; text-decoration-color: #c0c0c0; background-color: #000000\">            Total Row Count: </span><span style=\"color: #008080; text-decoration-color: #008080; background-color: #000000; font-weight: bold\">40252</span>\n",
       "<span style=\"color: #c0c0c0; text-decoration-color: #c0c0c0; background-color: #000000\">            More pages: </span><span style=\"color: #00ff00; text-decoration-color: #00ff00; background-color: #000000; font-style: italic\">True</span>\n",
       "<span style=\"color: #c0c0c0; text-decoration-color: #c0c0c0; background-color: #000000\">            </span>\n",
       "</pre>\n"
      ],
      "text/plain": [
       "\n",
       "\u001b[37;40m            \u001b[0m\n",
       "\u001b[37;40m            Offset: \u001b[0m\u001b[1;36;40m10000\u001b[0m\n",
       "\u001b[37;40m            Count: \u001b[0m\u001b[1;36;40m1000\u001b[0m\n",
       "\u001b[37;40m            Total Row Count: \u001b[0m\u001b[1;36;40m40252\u001b[0m\n",
       "\u001b[37;40m            More pages: \u001b[0m\u001b[3;92;40mTrue\u001b[0m\n",
       "\u001b[37;40m            \u001b[0m\n"
      ]
     },
     "metadata": {},
     "output_type": "display_data"
    },
    {
     "data": {
      "text/html": [
       "<pre style=\"white-space:pre;overflow-x:auto;line-height:normal;font-family:Menlo,'DejaVu Sans Mono',consolas,'Courier New',monospace\">\n",
       "<span style=\"color: #c0c0c0; text-decoration-color: #c0c0c0; background-color: #000000\">            </span>\n",
       "<span style=\"color: #c0c0c0; text-decoration-color: #c0c0c0; background-color: #000000\">            Offset: </span><span style=\"color: #008080; text-decoration-color: #008080; background-color: #000000; font-weight: bold\">11000</span>\n",
       "<span style=\"color: #c0c0c0; text-decoration-color: #c0c0c0; background-color: #000000\">            Count: </span><span style=\"color: #008080; text-decoration-color: #008080; background-color: #000000; font-weight: bold\">1000</span>\n",
       "<span style=\"color: #c0c0c0; text-decoration-color: #c0c0c0; background-color: #000000\">            Total Row Count: </span><span style=\"color: #008080; text-decoration-color: #008080; background-color: #000000; font-weight: bold\">40252</span>\n",
       "<span style=\"color: #c0c0c0; text-decoration-color: #c0c0c0; background-color: #000000\">            More pages: </span><span style=\"color: #00ff00; text-decoration-color: #00ff00; background-color: #000000; font-style: italic\">True</span>\n",
       "<span style=\"color: #c0c0c0; text-decoration-color: #c0c0c0; background-color: #000000\">            </span>\n",
       "</pre>\n"
      ],
      "text/plain": [
       "\n",
       "\u001b[37;40m            \u001b[0m\n",
       "\u001b[37;40m            Offset: \u001b[0m\u001b[1;36;40m11000\u001b[0m\n",
       "\u001b[37;40m            Count: \u001b[0m\u001b[1;36;40m1000\u001b[0m\n",
       "\u001b[37;40m            Total Row Count: \u001b[0m\u001b[1;36;40m40252\u001b[0m\n",
       "\u001b[37;40m            More pages: \u001b[0m\u001b[3;92;40mTrue\u001b[0m\n",
       "\u001b[37;40m            \u001b[0m\n"
      ]
     },
     "metadata": {},
     "output_type": "display_data"
    },
    {
     "data": {
      "text/html": [
       "<pre style=\"white-space:pre;overflow-x:auto;line-height:normal;font-family:Menlo,'DejaVu Sans Mono',consolas,'Courier New',monospace\">\n",
       "<span style=\"color: #c0c0c0; text-decoration-color: #c0c0c0; background-color: #000000\">            </span>\n",
       "<span style=\"color: #c0c0c0; text-decoration-color: #c0c0c0; background-color: #000000\">            Offset: </span><span style=\"color: #008080; text-decoration-color: #008080; background-color: #000000; font-weight: bold\">13000</span>\n",
       "<span style=\"color: #c0c0c0; text-decoration-color: #c0c0c0; background-color: #000000\">            Count: </span><span style=\"color: #008080; text-decoration-color: #008080; background-color: #000000; font-weight: bold\">1000</span>\n",
       "<span style=\"color: #c0c0c0; text-decoration-color: #c0c0c0; background-color: #000000\">            Total Row Count: </span><span style=\"color: #008080; text-decoration-color: #008080; background-color: #000000; font-weight: bold\">40252</span>\n",
       "<span style=\"color: #c0c0c0; text-decoration-color: #c0c0c0; background-color: #000000\">            More pages: </span><span style=\"color: #00ff00; text-decoration-color: #00ff00; background-color: #000000; font-style: italic\">True</span>\n",
       "<span style=\"color: #c0c0c0; text-decoration-color: #c0c0c0; background-color: #000000\">            </span>\n",
       "</pre>\n"
      ],
      "text/plain": [
       "\n",
       "\u001b[37;40m            \u001b[0m\n",
       "\u001b[37;40m            Offset: \u001b[0m\u001b[1;36;40m13000\u001b[0m\n",
       "\u001b[37;40m            Count: \u001b[0m\u001b[1;36;40m1000\u001b[0m\n",
       "\u001b[37;40m            Total Row Count: \u001b[0m\u001b[1;36;40m40252\u001b[0m\n",
       "\u001b[37;40m            More pages: \u001b[0m\u001b[3;92;40mTrue\u001b[0m\n",
       "\u001b[37;40m            \u001b[0m\n"
      ]
     },
     "metadata": {},
     "output_type": "display_data"
    },
    {
     "data": {
      "text/html": [
       "<pre style=\"white-space:pre;overflow-x:auto;line-height:normal;font-family:Menlo,'DejaVu Sans Mono',consolas,'Courier New',monospace\">\n",
       "<span style=\"color: #c0c0c0; text-decoration-color: #c0c0c0; background-color: #000000\">            </span>\n",
       "<span style=\"color: #c0c0c0; text-decoration-color: #c0c0c0; background-color: #000000\">            Offset: </span><span style=\"color: #008080; text-decoration-color: #008080; background-color: #000000; font-weight: bold\">14000</span>\n",
       "<span style=\"color: #c0c0c0; text-decoration-color: #c0c0c0; background-color: #000000\">            Count: </span><span style=\"color: #008080; text-decoration-color: #008080; background-color: #000000; font-weight: bold\">1000</span>\n",
       "<span style=\"color: #c0c0c0; text-decoration-color: #c0c0c0; background-color: #000000\">            Total Row Count: </span><span style=\"color: #008080; text-decoration-color: #008080; background-color: #000000; font-weight: bold\">40252</span>\n",
       "<span style=\"color: #c0c0c0; text-decoration-color: #c0c0c0; background-color: #000000\">            More pages: </span><span style=\"color: #00ff00; text-decoration-color: #00ff00; background-color: #000000; font-style: italic\">True</span>\n",
       "<span style=\"color: #c0c0c0; text-decoration-color: #c0c0c0; background-color: #000000\">            </span>\n",
       "</pre>\n"
      ],
      "text/plain": [
       "\n",
       "\u001b[37;40m            \u001b[0m\n",
       "\u001b[37;40m            Offset: \u001b[0m\u001b[1;36;40m14000\u001b[0m\n",
       "\u001b[37;40m            Count: \u001b[0m\u001b[1;36;40m1000\u001b[0m\n",
       "\u001b[37;40m            Total Row Count: \u001b[0m\u001b[1;36;40m40252\u001b[0m\n",
       "\u001b[37;40m            More pages: \u001b[0m\u001b[3;92;40mTrue\u001b[0m\n",
       "\u001b[37;40m            \u001b[0m\n"
      ]
     },
     "metadata": {},
     "output_type": "display_data"
    },
    {
     "data": {
      "text/html": [
       "<pre style=\"white-space:pre;overflow-x:auto;line-height:normal;font-family:Menlo,'DejaVu Sans Mono',consolas,'Courier New',monospace\">\n",
       "<span style=\"color: #c0c0c0; text-decoration-color: #c0c0c0; background-color: #000000\">            </span>\n",
       "<span style=\"color: #c0c0c0; text-decoration-color: #c0c0c0; background-color: #000000\">            Offset: </span><span style=\"color: #008080; text-decoration-color: #008080; background-color: #000000; font-weight: bold\">15000</span>\n",
       "<span style=\"color: #c0c0c0; text-decoration-color: #c0c0c0; background-color: #000000\">            Count: </span><span style=\"color: #008080; text-decoration-color: #008080; background-color: #000000; font-weight: bold\">1000</span>\n",
       "<span style=\"color: #c0c0c0; text-decoration-color: #c0c0c0; background-color: #000000\">            Total Row Count: </span><span style=\"color: #008080; text-decoration-color: #008080; background-color: #000000; font-weight: bold\">40252</span>\n",
       "<span style=\"color: #c0c0c0; text-decoration-color: #c0c0c0; background-color: #000000\">            More pages: </span><span style=\"color: #00ff00; text-decoration-color: #00ff00; background-color: #000000; font-style: italic\">True</span>\n",
       "<span style=\"color: #c0c0c0; text-decoration-color: #c0c0c0; background-color: #000000\">            </span>\n",
       "</pre>\n"
      ],
      "text/plain": [
       "\n",
       "\u001b[37;40m            \u001b[0m\n",
       "\u001b[37;40m            Offset: \u001b[0m\u001b[1;36;40m15000\u001b[0m\n",
       "\u001b[37;40m            Count: \u001b[0m\u001b[1;36;40m1000\u001b[0m\n",
       "\u001b[37;40m            Total Row Count: \u001b[0m\u001b[1;36;40m40252\u001b[0m\n",
       "\u001b[37;40m            More pages: \u001b[0m\u001b[3;92;40mTrue\u001b[0m\n",
       "\u001b[37;40m            \u001b[0m\n"
      ]
     },
     "metadata": {},
     "output_type": "display_data"
    },
    {
     "data": {
      "text/html": [
       "<pre style=\"white-space:pre;overflow-x:auto;line-height:normal;font-family:Menlo,'DejaVu Sans Mono',consolas,'Courier New',monospace\">\n",
       "<span style=\"color: #c0c0c0; text-decoration-color: #c0c0c0; background-color: #000000\">            </span>\n",
       "<span style=\"color: #c0c0c0; text-decoration-color: #c0c0c0; background-color: #000000\">            Offset: </span><span style=\"color: #008080; text-decoration-color: #008080; background-color: #000000; font-weight: bold\">16000</span>\n",
       "<span style=\"color: #c0c0c0; text-decoration-color: #c0c0c0; background-color: #000000\">            Count: </span><span style=\"color: #008080; text-decoration-color: #008080; background-color: #000000; font-weight: bold\">1000</span>\n",
       "<span style=\"color: #c0c0c0; text-decoration-color: #c0c0c0; background-color: #000000\">            Total Row Count: </span><span style=\"color: #008080; text-decoration-color: #008080; background-color: #000000; font-weight: bold\">40252</span>\n",
       "<span style=\"color: #c0c0c0; text-decoration-color: #c0c0c0; background-color: #000000\">            More pages: </span><span style=\"color: #00ff00; text-decoration-color: #00ff00; background-color: #000000; font-style: italic\">True</span>\n",
       "<span style=\"color: #c0c0c0; text-decoration-color: #c0c0c0; background-color: #000000\">            </span>\n",
       "</pre>\n"
      ],
      "text/plain": [
       "\n",
       "\u001b[37;40m            \u001b[0m\n",
       "\u001b[37;40m            Offset: \u001b[0m\u001b[1;36;40m16000\u001b[0m\n",
       "\u001b[37;40m            Count: \u001b[0m\u001b[1;36;40m1000\u001b[0m\n",
       "\u001b[37;40m            Total Row Count: \u001b[0m\u001b[1;36;40m40252\u001b[0m\n",
       "\u001b[37;40m            More pages: \u001b[0m\u001b[3;92;40mTrue\u001b[0m\n",
       "\u001b[37;40m            \u001b[0m\n"
      ]
     },
     "metadata": {},
     "output_type": "display_data"
    },
    {
     "data": {
      "text/html": [
       "<pre style=\"white-space:pre;overflow-x:auto;line-height:normal;font-family:Menlo,'DejaVu Sans Mono',consolas,'Courier New',monospace\">\n",
       "<span style=\"color: #c0c0c0; text-decoration-color: #c0c0c0; background-color: #000000\">            </span>\n",
       "<span style=\"color: #c0c0c0; text-decoration-color: #c0c0c0; background-color: #000000\">            Offset: </span><span style=\"color: #008080; text-decoration-color: #008080; background-color: #000000; font-weight: bold\">17000</span>\n",
       "<span style=\"color: #c0c0c0; text-decoration-color: #c0c0c0; background-color: #000000\">            Count: </span><span style=\"color: #008080; text-decoration-color: #008080; background-color: #000000; font-weight: bold\">1000</span>\n",
       "<span style=\"color: #c0c0c0; text-decoration-color: #c0c0c0; background-color: #000000\">            Total Row Count: </span><span style=\"color: #008080; text-decoration-color: #008080; background-color: #000000; font-weight: bold\">40252</span>\n",
       "<span style=\"color: #c0c0c0; text-decoration-color: #c0c0c0; background-color: #000000\">            More pages: </span><span style=\"color: #00ff00; text-decoration-color: #00ff00; background-color: #000000; font-style: italic\">True</span>\n",
       "<span style=\"color: #c0c0c0; text-decoration-color: #c0c0c0; background-color: #000000\">            </span>\n",
       "</pre>\n"
      ],
      "text/plain": [
       "\n",
       "\u001b[37;40m            \u001b[0m\n",
       "\u001b[37;40m            Offset: \u001b[0m\u001b[1;36;40m17000\u001b[0m\n",
       "\u001b[37;40m            Count: \u001b[0m\u001b[1;36;40m1000\u001b[0m\n",
       "\u001b[37;40m            Total Row Count: \u001b[0m\u001b[1;36;40m40252\u001b[0m\n",
       "\u001b[37;40m            More pages: \u001b[0m\u001b[3;92;40mTrue\u001b[0m\n",
       "\u001b[37;40m            \u001b[0m\n"
      ]
     },
     "metadata": {},
     "output_type": "display_data"
    },
    {
     "data": {
      "text/html": [
       "<pre style=\"white-space:pre;overflow-x:auto;line-height:normal;font-family:Menlo,'DejaVu Sans Mono',consolas,'Courier New',monospace\">\n",
       "<span style=\"color: #c0c0c0; text-decoration-color: #c0c0c0; background-color: #000000\">            </span>\n",
       "<span style=\"color: #c0c0c0; text-decoration-color: #c0c0c0; background-color: #000000\">            Offset: </span><span style=\"color: #008080; text-decoration-color: #008080; background-color: #000000; font-weight: bold\">18000</span>\n",
       "<span style=\"color: #c0c0c0; text-decoration-color: #c0c0c0; background-color: #000000\">            Count: </span><span style=\"color: #008080; text-decoration-color: #008080; background-color: #000000; font-weight: bold\">1000</span>\n",
       "<span style=\"color: #c0c0c0; text-decoration-color: #c0c0c0; background-color: #000000\">            Total Row Count: </span><span style=\"color: #008080; text-decoration-color: #008080; background-color: #000000; font-weight: bold\">40252</span>\n",
       "<span style=\"color: #c0c0c0; text-decoration-color: #c0c0c0; background-color: #000000\">            More pages: </span><span style=\"color: #00ff00; text-decoration-color: #00ff00; background-color: #000000; font-style: italic\">True</span>\n",
       "<span style=\"color: #c0c0c0; text-decoration-color: #c0c0c0; background-color: #000000\">            </span>\n",
       "</pre>\n"
      ],
      "text/plain": [
       "\n",
       "\u001b[37;40m            \u001b[0m\n",
       "\u001b[37;40m            Offset: \u001b[0m\u001b[1;36;40m18000\u001b[0m\n",
       "\u001b[37;40m            Count: \u001b[0m\u001b[1;36;40m1000\u001b[0m\n",
       "\u001b[37;40m            Total Row Count: \u001b[0m\u001b[1;36;40m40252\u001b[0m\n",
       "\u001b[37;40m            More pages: \u001b[0m\u001b[3;92;40mTrue\u001b[0m\n",
       "\u001b[37;40m            \u001b[0m\n"
      ]
     },
     "metadata": {},
     "output_type": "display_data"
    },
    {
     "data": {
      "text/html": [
       "<pre style=\"white-space:pre;overflow-x:auto;line-height:normal;font-family:Menlo,'DejaVu Sans Mono',consolas,'Courier New',monospace\">\n",
       "<span style=\"color: #c0c0c0; text-decoration-color: #c0c0c0; background-color: #000000\">            </span>\n",
       "<span style=\"color: #c0c0c0; text-decoration-color: #c0c0c0; background-color: #000000\">            Offset: </span><span style=\"color: #008080; text-decoration-color: #008080; background-color: #000000; font-weight: bold\">19000</span>\n",
       "<span style=\"color: #c0c0c0; text-decoration-color: #c0c0c0; background-color: #000000\">            Count: </span><span style=\"color: #008080; text-decoration-color: #008080; background-color: #000000; font-weight: bold\">1000</span>\n",
       "<span style=\"color: #c0c0c0; text-decoration-color: #c0c0c0; background-color: #000000\">            Total Row Count: </span><span style=\"color: #008080; text-decoration-color: #008080; background-color: #000000; font-weight: bold\">40252</span>\n",
       "<span style=\"color: #c0c0c0; text-decoration-color: #c0c0c0; background-color: #000000\">            More pages: </span><span style=\"color: #00ff00; text-decoration-color: #00ff00; background-color: #000000; font-style: italic\">True</span>\n",
       "<span style=\"color: #c0c0c0; text-decoration-color: #c0c0c0; background-color: #000000\">            </span>\n",
       "</pre>\n"
      ],
      "text/plain": [
       "\n",
       "\u001b[37;40m            \u001b[0m\n",
       "\u001b[37;40m            Offset: \u001b[0m\u001b[1;36;40m19000\u001b[0m\n",
       "\u001b[37;40m            Count: \u001b[0m\u001b[1;36;40m1000\u001b[0m\n",
       "\u001b[37;40m            Total Row Count: \u001b[0m\u001b[1;36;40m40252\u001b[0m\n",
       "\u001b[37;40m            More pages: \u001b[0m\u001b[3;92;40mTrue\u001b[0m\n",
       "\u001b[37;40m            \u001b[0m\n"
      ]
     },
     "metadata": {},
     "output_type": "display_data"
    },
    {
     "data": {
      "text/html": [
       "<pre style=\"white-space:pre;overflow-x:auto;line-height:normal;font-family:Menlo,'DejaVu Sans Mono',consolas,'Courier New',monospace\">\n",
       "<span style=\"color: #c0c0c0; text-decoration-color: #c0c0c0; background-color: #000000\">            </span>\n",
       "<span style=\"color: #c0c0c0; text-decoration-color: #c0c0c0; background-color: #000000\">            Offset: </span><span style=\"color: #008080; text-decoration-color: #008080; background-color: #000000; font-weight: bold\">20000</span>\n",
       "<span style=\"color: #c0c0c0; text-decoration-color: #c0c0c0; background-color: #000000\">            Count: </span><span style=\"color: #008080; text-decoration-color: #008080; background-color: #000000; font-weight: bold\">1000</span>\n",
       "<span style=\"color: #c0c0c0; text-decoration-color: #c0c0c0; background-color: #000000\">            Total Row Count: </span><span style=\"color: #008080; text-decoration-color: #008080; background-color: #000000; font-weight: bold\">40252</span>\n",
       "<span style=\"color: #c0c0c0; text-decoration-color: #c0c0c0; background-color: #000000\">            More pages: </span><span style=\"color: #00ff00; text-decoration-color: #00ff00; background-color: #000000; font-style: italic\">True</span>\n",
       "<span style=\"color: #c0c0c0; text-decoration-color: #c0c0c0; background-color: #000000\">            </span>\n",
       "</pre>\n"
      ],
      "text/plain": [
       "\n",
       "\u001b[37;40m            \u001b[0m\n",
       "\u001b[37;40m            Offset: \u001b[0m\u001b[1;36;40m20000\u001b[0m\n",
       "\u001b[37;40m            Count: \u001b[0m\u001b[1;36;40m1000\u001b[0m\n",
       "\u001b[37;40m            Total Row Count: \u001b[0m\u001b[1;36;40m40252\u001b[0m\n",
       "\u001b[37;40m            More pages: \u001b[0m\u001b[3;92;40mTrue\u001b[0m\n",
       "\u001b[37;40m            \u001b[0m\n"
      ]
     },
     "metadata": {},
     "output_type": "display_data"
    },
    {
     "data": {
      "text/html": [
       "<pre style=\"white-space:pre;overflow-x:auto;line-height:normal;font-family:Menlo,'DejaVu Sans Mono',consolas,'Courier New',monospace\">\n",
       "<span style=\"color: #c0c0c0; text-decoration-color: #c0c0c0; background-color: #000000\">            </span>\n",
       "<span style=\"color: #c0c0c0; text-decoration-color: #c0c0c0; background-color: #000000\">            Offset: </span><span style=\"color: #008080; text-decoration-color: #008080; background-color: #000000; font-weight: bold\">21000</span>\n",
       "<span style=\"color: #c0c0c0; text-decoration-color: #c0c0c0; background-color: #000000\">            Count: </span><span style=\"color: #008080; text-decoration-color: #008080; background-color: #000000; font-weight: bold\">1000</span>\n",
       "<span style=\"color: #c0c0c0; text-decoration-color: #c0c0c0; background-color: #000000\">            Total Row Count: </span><span style=\"color: #008080; text-decoration-color: #008080; background-color: #000000; font-weight: bold\">40252</span>\n",
       "<span style=\"color: #c0c0c0; text-decoration-color: #c0c0c0; background-color: #000000\">            More pages: </span><span style=\"color: #00ff00; text-decoration-color: #00ff00; background-color: #000000; font-style: italic\">True</span>\n",
       "<span style=\"color: #c0c0c0; text-decoration-color: #c0c0c0; background-color: #000000\">            </span>\n",
       "</pre>\n"
      ],
      "text/plain": [
       "\n",
       "\u001b[37;40m            \u001b[0m\n",
       "\u001b[37;40m            Offset: \u001b[0m\u001b[1;36;40m21000\u001b[0m\n",
       "\u001b[37;40m            Count: \u001b[0m\u001b[1;36;40m1000\u001b[0m\n",
       "\u001b[37;40m            Total Row Count: \u001b[0m\u001b[1;36;40m40252\u001b[0m\n",
       "\u001b[37;40m            More pages: \u001b[0m\u001b[3;92;40mTrue\u001b[0m\n",
       "\u001b[37;40m            \u001b[0m\n"
      ]
     },
     "metadata": {},
     "output_type": "display_data"
    },
    {
     "data": {
      "text/html": [
       "<pre style=\"white-space:pre;overflow-x:auto;line-height:normal;font-family:Menlo,'DejaVu Sans Mono',consolas,'Courier New',monospace\">\n",
       "<span style=\"color: #c0c0c0; text-decoration-color: #c0c0c0; background-color: #000000\">            </span>\n",
       "<span style=\"color: #c0c0c0; text-decoration-color: #c0c0c0; background-color: #000000\">            Offset: </span><span style=\"color: #008080; text-decoration-color: #008080; background-color: #000000; font-weight: bold\">22000</span>\n",
       "<span style=\"color: #c0c0c0; text-decoration-color: #c0c0c0; background-color: #000000\">            Count: </span><span style=\"color: #008080; text-decoration-color: #008080; background-color: #000000; font-weight: bold\">1000</span>\n",
       "<span style=\"color: #c0c0c0; text-decoration-color: #c0c0c0; background-color: #000000\">            Total Row Count: </span><span style=\"color: #008080; text-decoration-color: #008080; background-color: #000000; font-weight: bold\">40252</span>\n",
       "<span style=\"color: #c0c0c0; text-decoration-color: #c0c0c0; background-color: #000000\">            More pages: </span><span style=\"color: #00ff00; text-decoration-color: #00ff00; background-color: #000000; font-style: italic\">True</span>\n",
       "<span style=\"color: #c0c0c0; text-decoration-color: #c0c0c0; background-color: #000000\">            </span>\n",
       "</pre>\n"
      ],
      "text/plain": [
       "\n",
       "\u001b[37;40m            \u001b[0m\n",
       "\u001b[37;40m            Offset: \u001b[0m\u001b[1;36;40m22000\u001b[0m\n",
       "\u001b[37;40m            Count: \u001b[0m\u001b[1;36;40m1000\u001b[0m\n",
       "\u001b[37;40m            Total Row Count: \u001b[0m\u001b[1;36;40m40252\u001b[0m\n",
       "\u001b[37;40m            More pages: \u001b[0m\u001b[3;92;40mTrue\u001b[0m\n",
       "\u001b[37;40m            \u001b[0m\n"
      ]
     },
     "metadata": {},
     "output_type": "display_data"
    },
    {
     "data": {
      "text/html": [
       "<pre style=\"white-space:pre;overflow-x:auto;line-height:normal;font-family:Menlo,'DejaVu Sans Mono',consolas,'Courier New',monospace\">\n",
       "<span style=\"color: #c0c0c0; text-decoration-color: #c0c0c0; background-color: #000000\">            </span>\n",
       "<span style=\"color: #c0c0c0; text-decoration-color: #c0c0c0; background-color: #000000\">            Offset: </span><span style=\"color: #008080; text-decoration-color: #008080; background-color: #000000; font-weight: bold\">23000</span>\n",
       "<span style=\"color: #c0c0c0; text-decoration-color: #c0c0c0; background-color: #000000\">            Count: </span><span style=\"color: #008080; text-decoration-color: #008080; background-color: #000000; font-weight: bold\">1000</span>\n",
       "<span style=\"color: #c0c0c0; text-decoration-color: #c0c0c0; background-color: #000000\">            Total Row Count: </span><span style=\"color: #008080; text-decoration-color: #008080; background-color: #000000; font-weight: bold\">40252</span>\n",
       "<span style=\"color: #c0c0c0; text-decoration-color: #c0c0c0; background-color: #000000\">            More pages: </span><span style=\"color: #00ff00; text-decoration-color: #00ff00; background-color: #000000; font-style: italic\">True</span>\n",
       "<span style=\"color: #c0c0c0; text-decoration-color: #c0c0c0; background-color: #000000\">            </span>\n",
       "</pre>\n"
      ],
      "text/plain": [
       "\n",
       "\u001b[37;40m            \u001b[0m\n",
       "\u001b[37;40m            Offset: \u001b[0m\u001b[1;36;40m23000\u001b[0m\n",
       "\u001b[37;40m            Count: \u001b[0m\u001b[1;36;40m1000\u001b[0m\n",
       "\u001b[37;40m            Total Row Count: \u001b[0m\u001b[1;36;40m40252\u001b[0m\n",
       "\u001b[37;40m            More pages: \u001b[0m\u001b[3;92;40mTrue\u001b[0m\n",
       "\u001b[37;40m            \u001b[0m\n"
      ]
     },
     "metadata": {},
     "output_type": "display_data"
    },
    {
     "data": {
      "text/html": [
       "<pre style=\"white-space:pre;overflow-x:auto;line-height:normal;font-family:Menlo,'DejaVu Sans Mono',consolas,'Courier New',monospace\">\n",
       "<span style=\"color: #c0c0c0; text-decoration-color: #c0c0c0; background-color: #000000\">            </span>\n",
       "<span style=\"color: #c0c0c0; text-decoration-color: #c0c0c0; background-color: #000000\">            Offset: </span><span style=\"color: #008080; text-decoration-color: #008080; background-color: #000000; font-weight: bold\">24000</span>\n",
       "<span style=\"color: #c0c0c0; text-decoration-color: #c0c0c0; background-color: #000000\">            Count: </span><span style=\"color: #008080; text-decoration-color: #008080; background-color: #000000; font-weight: bold\">1000</span>\n",
       "<span style=\"color: #c0c0c0; text-decoration-color: #c0c0c0; background-color: #000000\">            Total Row Count: </span><span style=\"color: #008080; text-decoration-color: #008080; background-color: #000000; font-weight: bold\">40252</span>\n",
       "<span style=\"color: #c0c0c0; text-decoration-color: #c0c0c0; background-color: #000000\">            More pages: </span><span style=\"color: #00ff00; text-decoration-color: #00ff00; background-color: #000000; font-style: italic\">True</span>\n",
       "<span style=\"color: #c0c0c0; text-decoration-color: #c0c0c0; background-color: #000000\">            </span>\n",
       "</pre>\n"
      ],
      "text/plain": [
       "\n",
       "\u001b[37;40m            \u001b[0m\n",
       "\u001b[37;40m            Offset: \u001b[0m\u001b[1;36;40m24000\u001b[0m\n",
       "\u001b[37;40m            Count: \u001b[0m\u001b[1;36;40m1000\u001b[0m\n",
       "\u001b[37;40m            Total Row Count: \u001b[0m\u001b[1;36;40m40252\u001b[0m\n",
       "\u001b[37;40m            More pages: \u001b[0m\u001b[3;92;40mTrue\u001b[0m\n",
       "\u001b[37;40m            \u001b[0m\n"
      ]
     },
     "metadata": {},
     "output_type": "display_data"
    },
    {
     "data": {
      "text/html": [
       "<pre style=\"white-space:pre;overflow-x:auto;line-height:normal;font-family:Menlo,'DejaVu Sans Mono',consolas,'Courier New',monospace\">\n",
       "<span style=\"color: #c0c0c0; text-decoration-color: #c0c0c0; background-color: #000000\">            </span>\n",
       "<span style=\"color: #c0c0c0; text-decoration-color: #c0c0c0; background-color: #000000\">            Offset: </span><span style=\"color: #008080; text-decoration-color: #008080; background-color: #000000; font-weight: bold\">25000</span>\n",
       "<span style=\"color: #c0c0c0; text-decoration-color: #c0c0c0; background-color: #000000\">            Count: </span><span style=\"color: #008080; text-decoration-color: #008080; background-color: #000000; font-weight: bold\">1000</span>\n",
       "<span style=\"color: #c0c0c0; text-decoration-color: #c0c0c0; background-color: #000000\">            Total Row Count: </span><span style=\"color: #008080; text-decoration-color: #008080; background-color: #000000; font-weight: bold\">40252</span>\n",
       "<span style=\"color: #c0c0c0; text-decoration-color: #c0c0c0; background-color: #000000\">            More pages: </span><span style=\"color: #00ff00; text-decoration-color: #00ff00; background-color: #000000; font-style: italic\">True</span>\n",
       "<span style=\"color: #c0c0c0; text-decoration-color: #c0c0c0; background-color: #000000\">            </span>\n",
       "</pre>\n"
      ],
      "text/plain": [
       "\n",
       "\u001b[37;40m            \u001b[0m\n",
       "\u001b[37;40m            Offset: \u001b[0m\u001b[1;36;40m25000\u001b[0m\n",
       "\u001b[37;40m            Count: \u001b[0m\u001b[1;36;40m1000\u001b[0m\n",
       "\u001b[37;40m            Total Row Count: \u001b[0m\u001b[1;36;40m40252\u001b[0m\n",
       "\u001b[37;40m            More pages: \u001b[0m\u001b[3;92;40mTrue\u001b[0m\n",
       "\u001b[37;40m            \u001b[0m\n"
      ]
     },
     "metadata": {},
     "output_type": "display_data"
    },
    {
     "data": {
      "text/html": [
       "<pre style=\"white-space:pre;overflow-x:auto;line-height:normal;font-family:Menlo,'DejaVu Sans Mono',consolas,'Courier New',monospace\">\n",
       "<span style=\"color: #c0c0c0; text-decoration-color: #c0c0c0; background-color: #000000\">            </span>\n",
       "<span style=\"color: #c0c0c0; text-decoration-color: #c0c0c0; background-color: #000000\">            Offset: </span><span style=\"color: #008080; text-decoration-color: #008080; background-color: #000000; font-weight: bold\">26000</span>\n",
       "<span style=\"color: #c0c0c0; text-decoration-color: #c0c0c0; background-color: #000000\">            Count: </span><span style=\"color: #008080; text-decoration-color: #008080; background-color: #000000; font-weight: bold\">1000</span>\n",
       "<span style=\"color: #c0c0c0; text-decoration-color: #c0c0c0; background-color: #000000\">            Total Row Count: </span><span style=\"color: #008080; text-decoration-color: #008080; background-color: #000000; font-weight: bold\">40252</span>\n",
       "<span style=\"color: #c0c0c0; text-decoration-color: #c0c0c0; background-color: #000000\">            More pages: </span><span style=\"color: #00ff00; text-decoration-color: #00ff00; background-color: #000000; font-style: italic\">True</span>\n",
       "<span style=\"color: #c0c0c0; text-decoration-color: #c0c0c0; background-color: #000000\">            </span>\n",
       "</pre>\n"
      ],
      "text/plain": [
       "\n",
       "\u001b[37;40m            \u001b[0m\n",
       "\u001b[37;40m            Offset: \u001b[0m\u001b[1;36;40m26000\u001b[0m\n",
       "\u001b[37;40m            Count: \u001b[0m\u001b[1;36;40m1000\u001b[0m\n",
       "\u001b[37;40m            Total Row Count: \u001b[0m\u001b[1;36;40m40252\u001b[0m\n",
       "\u001b[37;40m            More pages: \u001b[0m\u001b[3;92;40mTrue\u001b[0m\n",
       "\u001b[37;40m            \u001b[0m\n"
      ]
     },
     "metadata": {},
     "output_type": "display_data"
    },
    {
     "data": {
      "text/html": [
       "<pre style=\"white-space:pre;overflow-x:auto;line-height:normal;font-family:Menlo,'DejaVu Sans Mono',consolas,'Courier New',monospace\">\n",
       "<span style=\"color: #c0c0c0; text-decoration-color: #c0c0c0; background-color: #000000\">            </span>\n",
       "<span style=\"color: #c0c0c0; text-decoration-color: #c0c0c0; background-color: #000000\">            Offset: </span><span style=\"color: #008080; text-decoration-color: #008080; background-color: #000000; font-weight: bold\">27000</span>\n",
       "<span style=\"color: #c0c0c0; text-decoration-color: #c0c0c0; background-color: #000000\">            Count: </span><span style=\"color: #008080; text-decoration-color: #008080; background-color: #000000; font-weight: bold\">1000</span>\n",
       "<span style=\"color: #c0c0c0; text-decoration-color: #c0c0c0; background-color: #000000\">            Total Row Count: </span><span style=\"color: #008080; text-decoration-color: #008080; background-color: #000000; font-weight: bold\">40252</span>\n",
       "<span style=\"color: #c0c0c0; text-decoration-color: #c0c0c0; background-color: #000000\">            More pages: </span><span style=\"color: #00ff00; text-decoration-color: #00ff00; background-color: #000000; font-style: italic\">True</span>\n",
       "<span style=\"color: #c0c0c0; text-decoration-color: #c0c0c0; background-color: #000000\">            </span>\n",
       "</pre>\n"
      ],
      "text/plain": [
       "\n",
       "\u001b[37;40m            \u001b[0m\n",
       "\u001b[37;40m            Offset: \u001b[0m\u001b[1;36;40m27000\u001b[0m\n",
       "\u001b[37;40m            Count: \u001b[0m\u001b[1;36;40m1000\u001b[0m\n",
       "\u001b[37;40m            Total Row Count: \u001b[0m\u001b[1;36;40m40252\u001b[0m\n",
       "\u001b[37;40m            More pages: \u001b[0m\u001b[3;92;40mTrue\u001b[0m\n",
       "\u001b[37;40m            \u001b[0m\n"
      ]
     },
     "metadata": {},
     "output_type": "display_data"
    },
    {
     "data": {
      "text/html": [
       "<pre style=\"white-space:pre;overflow-x:auto;line-height:normal;font-family:Menlo,'DejaVu Sans Mono',consolas,'Courier New',monospace\">\n",
       "<span style=\"color: #c0c0c0; text-decoration-color: #c0c0c0; background-color: #000000\">            </span>\n",
       "<span style=\"color: #c0c0c0; text-decoration-color: #c0c0c0; background-color: #000000\">            Offset: </span><span style=\"color: #008080; text-decoration-color: #008080; background-color: #000000; font-weight: bold\">28000</span>\n",
       "<span style=\"color: #c0c0c0; text-decoration-color: #c0c0c0; background-color: #000000\">            Count: </span><span style=\"color: #008080; text-decoration-color: #008080; background-color: #000000; font-weight: bold\">1000</span>\n",
       "<span style=\"color: #c0c0c0; text-decoration-color: #c0c0c0; background-color: #000000\">            Total Row Count: </span><span style=\"color: #008080; text-decoration-color: #008080; background-color: #000000; font-weight: bold\">40252</span>\n",
       "<span style=\"color: #c0c0c0; text-decoration-color: #c0c0c0; background-color: #000000\">            More pages: </span><span style=\"color: #00ff00; text-decoration-color: #00ff00; background-color: #000000; font-style: italic\">True</span>\n",
       "<span style=\"color: #c0c0c0; text-decoration-color: #c0c0c0; background-color: #000000\">            </span>\n",
       "</pre>\n"
      ],
      "text/plain": [
       "\n",
       "\u001b[37;40m            \u001b[0m\n",
       "\u001b[37;40m            Offset: \u001b[0m\u001b[1;36;40m28000\u001b[0m\n",
       "\u001b[37;40m            Count: \u001b[0m\u001b[1;36;40m1000\u001b[0m\n",
       "\u001b[37;40m            Total Row Count: \u001b[0m\u001b[1;36;40m40252\u001b[0m\n",
       "\u001b[37;40m            More pages: \u001b[0m\u001b[3;92;40mTrue\u001b[0m\n",
       "\u001b[37;40m            \u001b[0m\n"
      ]
     },
     "metadata": {},
     "output_type": "display_data"
    },
    {
     "data": {
      "text/html": [
       "<pre style=\"white-space:pre;overflow-x:auto;line-height:normal;font-family:Menlo,'DejaVu Sans Mono',consolas,'Courier New',monospace\">\n",
       "<span style=\"color: #c0c0c0; text-decoration-color: #c0c0c0; background-color: #000000\">            </span>\n",
       "<span style=\"color: #c0c0c0; text-decoration-color: #c0c0c0; background-color: #000000\">            Offset: </span><span style=\"color: #008080; text-decoration-color: #008080; background-color: #000000; font-weight: bold\">29000</span>\n",
       "<span style=\"color: #c0c0c0; text-decoration-color: #c0c0c0; background-color: #000000\">            Count: </span><span style=\"color: #008080; text-decoration-color: #008080; background-color: #000000; font-weight: bold\">1000</span>\n",
       "<span style=\"color: #c0c0c0; text-decoration-color: #c0c0c0; background-color: #000000\">            Total Row Count: </span><span style=\"color: #008080; text-decoration-color: #008080; background-color: #000000; font-weight: bold\">40252</span>\n",
       "<span style=\"color: #c0c0c0; text-decoration-color: #c0c0c0; background-color: #000000\">            More pages: </span><span style=\"color: #00ff00; text-decoration-color: #00ff00; background-color: #000000; font-style: italic\">True</span>\n",
       "<span style=\"color: #c0c0c0; text-decoration-color: #c0c0c0; background-color: #000000\">            </span>\n",
       "</pre>\n"
      ],
      "text/plain": [
       "\n",
       "\u001b[37;40m            \u001b[0m\n",
       "\u001b[37;40m            Offset: \u001b[0m\u001b[1;36;40m29000\u001b[0m\n",
       "\u001b[37;40m            Count: \u001b[0m\u001b[1;36;40m1000\u001b[0m\n",
       "\u001b[37;40m            Total Row Count: \u001b[0m\u001b[1;36;40m40252\u001b[0m\n",
       "\u001b[37;40m            More pages: \u001b[0m\u001b[3;92;40mTrue\u001b[0m\n",
       "\u001b[37;40m            \u001b[0m\n"
      ]
     },
     "metadata": {},
     "output_type": "display_data"
    },
    {
     "data": {
      "text/html": [
       "<pre style=\"white-space:pre;overflow-x:auto;line-height:normal;font-family:Menlo,'DejaVu Sans Mono',consolas,'Courier New',monospace\">\n",
       "<span style=\"color: #c0c0c0; text-decoration-color: #c0c0c0; background-color: #000000\">            </span>\n",
       "<span style=\"color: #c0c0c0; text-decoration-color: #c0c0c0; background-color: #000000\">            Offset: </span><span style=\"color: #008080; text-decoration-color: #008080; background-color: #000000; font-weight: bold\">30000</span>\n",
       "<span style=\"color: #c0c0c0; text-decoration-color: #c0c0c0; background-color: #000000\">            Count: </span><span style=\"color: #008080; text-decoration-color: #008080; background-color: #000000; font-weight: bold\">1000</span>\n",
       "<span style=\"color: #c0c0c0; text-decoration-color: #c0c0c0; background-color: #000000\">            Total Row Count: </span><span style=\"color: #008080; text-decoration-color: #008080; background-color: #000000; font-weight: bold\">40252</span>\n",
       "<span style=\"color: #c0c0c0; text-decoration-color: #c0c0c0; background-color: #000000\">            More pages: </span><span style=\"color: #00ff00; text-decoration-color: #00ff00; background-color: #000000; font-style: italic\">True</span>\n",
       "<span style=\"color: #c0c0c0; text-decoration-color: #c0c0c0; background-color: #000000\">            </span>\n",
       "</pre>\n"
      ],
      "text/plain": [
       "\n",
       "\u001b[37;40m            \u001b[0m\n",
       "\u001b[37;40m            Offset: \u001b[0m\u001b[1;36;40m30000\u001b[0m\n",
       "\u001b[37;40m            Count: \u001b[0m\u001b[1;36;40m1000\u001b[0m\n",
       "\u001b[37;40m            Total Row Count: \u001b[0m\u001b[1;36;40m40252\u001b[0m\n",
       "\u001b[37;40m            More pages: \u001b[0m\u001b[3;92;40mTrue\u001b[0m\n",
       "\u001b[37;40m            \u001b[0m\n"
      ]
     },
     "metadata": {},
     "output_type": "display_data"
    },
    {
     "data": {
      "text/html": [
       "<pre style=\"white-space:pre;overflow-x:auto;line-height:normal;font-family:Menlo,'DejaVu Sans Mono',consolas,'Courier New',monospace\">\n",
       "<span style=\"color: #c0c0c0; text-decoration-color: #c0c0c0; background-color: #000000\">            </span>\n",
       "<span style=\"color: #c0c0c0; text-decoration-color: #c0c0c0; background-color: #000000\">            Offset: </span><span style=\"color: #008080; text-decoration-color: #008080; background-color: #000000; font-weight: bold\">31000</span>\n",
       "<span style=\"color: #c0c0c0; text-decoration-color: #c0c0c0; background-color: #000000\">            Count: </span><span style=\"color: #008080; text-decoration-color: #008080; background-color: #000000; font-weight: bold\">1000</span>\n",
       "<span style=\"color: #c0c0c0; text-decoration-color: #c0c0c0; background-color: #000000\">            Total Row Count: </span><span style=\"color: #008080; text-decoration-color: #008080; background-color: #000000; font-weight: bold\">40252</span>\n",
       "<span style=\"color: #c0c0c0; text-decoration-color: #c0c0c0; background-color: #000000\">            More pages: </span><span style=\"color: #00ff00; text-decoration-color: #00ff00; background-color: #000000; font-style: italic\">True</span>\n",
       "<span style=\"color: #c0c0c0; text-decoration-color: #c0c0c0; background-color: #000000\">            </span>\n",
       "</pre>\n"
      ],
      "text/plain": [
       "\n",
       "\u001b[37;40m            \u001b[0m\n",
       "\u001b[37;40m            Offset: \u001b[0m\u001b[1;36;40m31000\u001b[0m\n",
       "\u001b[37;40m            Count: \u001b[0m\u001b[1;36;40m1000\u001b[0m\n",
       "\u001b[37;40m            Total Row Count: \u001b[0m\u001b[1;36;40m40252\u001b[0m\n",
       "\u001b[37;40m            More pages: \u001b[0m\u001b[3;92;40mTrue\u001b[0m\n",
       "\u001b[37;40m            \u001b[0m\n"
      ]
     },
     "metadata": {},
     "output_type": "display_data"
    },
    {
     "data": {
      "text/html": [
       "<pre style=\"white-space:pre;overflow-x:auto;line-height:normal;font-family:Menlo,'DejaVu Sans Mono',consolas,'Courier New',monospace\">\n",
       "<span style=\"color: #c0c0c0; text-decoration-color: #c0c0c0; background-color: #000000\">            </span>\n",
       "<span style=\"color: #c0c0c0; text-decoration-color: #c0c0c0; background-color: #000000\">            Offset: </span><span style=\"color: #008080; text-decoration-color: #008080; background-color: #000000; font-weight: bold\">32000</span>\n",
       "<span style=\"color: #c0c0c0; text-decoration-color: #c0c0c0; background-color: #000000\">            Count: </span><span style=\"color: #008080; text-decoration-color: #008080; background-color: #000000; font-weight: bold\">1000</span>\n",
       "<span style=\"color: #c0c0c0; text-decoration-color: #c0c0c0; background-color: #000000\">            Total Row Count: </span><span style=\"color: #008080; text-decoration-color: #008080; background-color: #000000; font-weight: bold\">40252</span>\n",
       "<span style=\"color: #c0c0c0; text-decoration-color: #c0c0c0; background-color: #000000\">            More pages: </span><span style=\"color: #00ff00; text-decoration-color: #00ff00; background-color: #000000; font-style: italic\">True</span>\n",
       "<span style=\"color: #c0c0c0; text-decoration-color: #c0c0c0; background-color: #000000\">            </span>\n",
       "</pre>\n"
      ],
      "text/plain": [
       "\n",
       "\u001b[37;40m            \u001b[0m\n",
       "\u001b[37;40m            Offset: \u001b[0m\u001b[1;36;40m32000\u001b[0m\n",
       "\u001b[37;40m            Count: \u001b[0m\u001b[1;36;40m1000\u001b[0m\n",
       "\u001b[37;40m            Total Row Count: \u001b[0m\u001b[1;36;40m40252\u001b[0m\n",
       "\u001b[37;40m            More pages: \u001b[0m\u001b[3;92;40mTrue\u001b[0m\n",
       "\u001b[37;40m            \u001b[0m\n"
      ]
     },
     "metadata": {},
     "output_type": "display_data"
    },
    {
     "data": {
      "text/html": [
       "<pre style=\"white-space:pre;overflow-x:auto;line-height:normal;font-family:Menlo,'DejaVu Sans Mono',consolas,'Courier New',monospace\">\n",
       "<span style=\"color: #c0c0c0; text-decoration-color: #c0c0c0; background-color: #000000\">            </span>\n",
       "<span style=\"color: #c0c0c0; text-decoration-color: #c0c0c0; background-color: #000000\">            Offset: </span><span style=\"color: #008080; text-decoration-color: #008080; background-color: #000000; font-weight: bold\">33000</span>\n",
       "<span style=\"color: #c0c0c0; text-decoration-color: #c0c0c0; background-color: #000000\">            Count: </span><span style=\"color: #008080; text-decoration-color: #008080; background-color: #000000; font-weight: bold\">1000</span>\n",
       "<span style=\"color: #c0c0c0; text-decoration-color: #c0c0c0; background-color: #000000\">            Total Row Count: </span><span style=\"color: #008080; text-decoration-color: #008080; background-color: #000000; font-weight: bold\">40252</span>\n",
       "<span style=\"color: #c0c0c0; text-decoration-color: #c0c0c0; background-color: #000000\">            More pages: </span><span style=\"color: #00ff00; text-decoration-color: #00ff00; background-color: #000000; font-style: italic\">True</span>\n",
       "<span style=\"color: #c0c0c0; text-decoration-color: #c0c0c0; background-color: #000000\">            </span>\n",
       "</pre>\n"
      ],
      "text/plain": [
       "\n",
       "\u001b[37;40m            \u001b[0m\n",
       "\u001b[37;40m            Offset: \u001b[0m\u001b[1;36;40m33000\u001b[0m\n",
       "\u001b[37;40m            Count: \u001b[0m\u001b[1;36;40m1000\u001b[0m\n",
       "\u001b[37;40m            Total Row Count: \u001b[0m\u001b[1;36;40m40252\u001b[0m\n",
       "\u001b[37;40m            More pages: \u001b[0m\u001b[3;92;40mTrue\u001b[0m\n",
       "\u001b[37;40m            \u001b[0m\n"
      ]
     },
     "metadata": {},
     "output_type": "display_data"
    },
    {
     "data": {
      "text/html": [
       "<pre style=\"white-space:pre;overflow-x:auto;line-height:normal;font-family:Menlo,'DejaVu Sans Mono',consolas,'Courier New',monospace\">\n",
       "<span style=\"color: #c0c0c0; text-decoration-color: #c0c0c0; background-color: #000000\">            </span>\n",
       "<span style=\"color: #c0c0c0; text-decoration-color: #c0c0c0; background-color: #000000\">            Offset: </span><span style=\"color: #008080; text-decoration-color: #008080; background-color: #000000; font-weight: bold\">34000</span>\n",
       "<span style=\"color: #c0c0c0; text-decoration-color: #c0c0c0; background-color: #000000\">            Count: </span><span style=\"color: #008080; text-decoration-color: #008080; background-color: #000000; font-weight: bold\">1000</span>\n",
       "<span style=\"color: #c0c0c0; text-decoration-color: #c0c0c0; background-color: #000000\">            Total Row Count: </span><span style=\"color: #008080; text-decoration-color: #008080; background-color: #000000; font-weight: bold\">40252</span>\n",
       "<span style=\"color: #c0c0c0; text-decoration-color: #c0c0c0; background-color: #000000\">            More pages: </span><span style=\"color: #00ff00; text-decoration-color: #00ff00; background-color: #000000; font-style: italic\">True</span>\n",
       "<span style=\"color: #c0c0c0; text-decoration-color: #c0c0c0; background-color: #000000\">            </span>\n",
       "</pre>\n"
      ],
      "text/plain": [
       "\n",
       "\u001b[37;40m            \u001b[0m\n",
       "\u001b[37;40m            Offset: \u001b[0m\u001b[1;36;40m34000\u001b[0m\n",
       "\u001b[37;40m            Count: \u001b[0m\u001b[1;36;40m1000\u001b[0m\n",
       "\u001b[37;40m            Total Row Count: \u001b[0m\u001b[1;36;40m40252\u001b[0m\n",
       "\u001b[37;40m            More pages: \u001b[0m\u001b[3;92;40mTrue\u001b[0m\n",
       "\u001b[37;40m            \u001b[0m\n"
      ]
     },
     "metadata": {},
     "output_type": "display_data"
    },
    {
     "data": {
      "text/html": [
       "<pre style=\"white-space:pre;overflow-x:auto;line-height:normal;font-family:Menlo,'DejaVu Sans Mono',consolas,'Courier New',monospace\">\n",
       "<span style=\"color: #c0c0c0; text-decoration-color: #c0c0c0; background-color: #000000\">            </span>\n",
       "<span style=\"color: #c0c0c0; text-decoration-color: #c0c0c0; background-color: #000000\">            Offset: </span><span style=\"color: #008080; text-decoration-color: #008080; background-color: #000000; font-weight: bold\">35000</span>\n",
       "<span style=\"color: #c0c0c0; text-decoration-color: #c0c0c0; background-color: #000000\">            Count: </span><span style=\"color: #008080; text-decoration-color: #008080; background-color: #000000; font-weight: bold\">1000</span>\n",
       "<span style=\"color: #c0c0c0; text-decoration-color: #c0c0c0; background-color: #000000\">            Total Row Count: </span><span style=\"color: #008080; text-decoration-color: #008080; background-color: #000000; font-weight: bold\">40252</span>\n",
       "<span style=\"color: #c0c0c0; text-decoration-color: #c0c0c0; background-color: #000000\">            More pages: </span><span style=\"color: #00ff00; text-decoration-color: #00ff00; background-color: #000000; font-style: italic\">True</span>\n",
       "<span style=\"color: #c0c0c0; text-decoration-color: #c0c0c0; background-color: #000000\">            </span>\n",
       "</pre>\n"
      ],
      "text/plain": [
       "\n",
       "\u001b[37;40m            \u001b[0m\n",
       "\u001b[37;40m            Offset: \u001b[0m\u001b[1;36;40m35000\u001b[0m\n",
       "\u001b[37;40m            Count: \u001b[0m\u001b[1;36;40m1000\u001b[0m\n",
       "\u001b[37;40m            Total Row Count: \u001b[0m\u001b[1;36;40m40252\u001b[0m\n",
       "\u001b[37;40m            More pages: \u001b[0m\u001b[3;92;40mTrue\u001b[0m\n",
       "\u001b[37;40m            \u001b[0m\n"
      ]
     },
     "metadata": {},
     "output_type": "display_data"
    },
    {
     "data": {
      "text/html": [
       "<pre style=\"white-space:pre;overflow-x:auto;line-height:normal;font-family:Menlo,'DejaVu Sans Mono',consolas,'Courier New',monospace\">\n",
       "<span style=\"color: #c0c0c0; text-decoration-color: #c0c0c0; background-color: #000000\">            </span>\n",
       "<span style=\"color: #c0c0c0; text-decoration-color: #c0c0c0; background-color: #000000\">            Offset: </span><span style=\"color: #008080; text-decoration-color: #008080; background-color: #000000; font-weight: bold\">36000</span>\n",
       "<span style=\"color: #c0c0c0; text-decoration-color: #c0c0c0; background-color: #000000\">            Count: </span><span style=\"color: #008080; text-decoration-color: #008080; background-color: #000000; font-weight: bold\">1000</span>\n",
       "<span style=\"color: #c0c0c0; text-decoration-color: #c0c0c0; background-color: #000000\">            Total Row Count: </span><span style=\"color: #008080; text-decoration-color: #008080; background-color: #000000; font-weight: bold\">40252</span>\n",
       "<span style=\"color: #c0c0c0; text-decoration-color: #c0c0c0; background-color: #000000\">            More pages: </span><span style=\"color: #00ff00; text-decoration-color: #00ff00; background-color: #000000; font-style: italic\">True</span>\n",
       "<span style=\"color: #c0c0c0; text-decoration-color: #c0c0c0; background-color: #000000\">            </span>\n",
       "</pre>\n"
      ],
      "text/plain": [
       "\n",
       "\u001b[37;40m            \u001b[0m\n",
       "\u001b[37;40m            Offset: \u001b[0m\u001b[1;36;40m36000\u001b[0m\n",
       "\u001b[37;40m            Count: \u001b[0m\u001b[1;36;40m1000\u001b[0m\n",
       "\u001b[37;40m            Total Row Count: \u001b[0m\u001b[1;36;40m40252\u001b[0m\n",
       "\u001b[37;40m            More pages: \u001b[0m\u001b[3;92;40mTrue\u001b[0m\n",
       "\u001b[37;40m            \u001b[0m\n"
      ]
     },
     "metadata": {},
     "output_type": "display_data"
    },
    {
     "data": {
      "text/html": [
       "<pre style=\"white-space:pre;overflow-x:auto;line-height:normal;font-family:Menlo,'DejaVu Sans Mono',consolas,'Courier New',monospace\">\n",
       "<span style=\"color: #c0c0c0; text-decoration-color: #c0c0c0; background-color: #000000\">            </span>\n",
       "<span style=\"color: #c0c0c0; text-decoration-color: #c0c0c0; background-color: #000000\">            Offset: </span><span style=\"color: #008080; text-decoration-color: #008080; background-color: #000000; font-weight: bold\">37000</span>\n",
       "<span style=\"color: #c0c0c0; text-decoration-color: #c0c0c0; background-color: #000000\">            Count: </span><span style=\"color: #008080; text-decoration-color: #008080; background-color: #000000; font-weight: bold\">1000</span>\n",
       "<span style=\"color: #c0c0c0; text-decoration-color: #c0c0c0; background-color: #000000\">            Total Row Count: </span><span style=\"color: #008080; text-decoration-color: #008080; background-color: #000000; font-weight: bold\">40252</span>\n",
       "<span style=\"color: #c0c0c0; text-decoration-color: #c0c0c0; background-color: #000000\">            More pages: </span><span style=\"color: #00ff00; text-decoration-color: #00ff00; background-color: #000000; font-style: italic\">True</span>\n",
       "<span style=\"color: #c0c0c0; text-decoration-color: #c0c0c0; background-color: #000000\">            </span>\n",
       "</pre>\n"
      ],
      "text/plain": [
       "\n",
       "\u001b[37;40m            \u001b[0m\n",
       "\u001b[37;40m            Offset: \u001b[0m\u001b[1;36;40m37000\u001b[0m\n",
       "\u001b[37;40m            Count: \u001b[0m\u001b[1;36;40m1000\u001b[0m\n",
       "\u001b[37;40m            Total Row Count: \u001b[0m\u001b[1;36;40m40252\u001b[0m\n",
       "\u001b[37;40m            More pages: \u001b[0m\u001b[3;92;40mTrue\u001b[0m\n",
       "\u001b[37;40m            \u001b[0m\n"
      ]
     },
     "metadata": {},
     "output_type": "display_data"
    },
    {
     "data": {
      "text/html": [
       "<pre style=\"white-space:pre;overflow-x:auto;line-height:normal;font-family:Menlo,'DejaVu Sans Mono',consolas,'Courier New',monospace\">\n",
       "<span style=\"color: #c0c0c0; text-decoration-color: #c0c0c0; background-color: #000000\">            </span>\n",
       "<span style=\"color: #c0c0c0; text-decoration-color: #c0c0c0; background-color: #000000\">            Offset: </span><span style=\"color: #008080; text-decoration-color: #008080; background-color: #000000; font-weight: bold\">38000</span>\n",
       "<span style=\"color: #c0c0c0; text-decoration-color: #c0c0c0; background-color: #000000\">            Count: </span><span style=\"color: #008080; text-decoration-color: #008080; background-color: #000000; font-weight: bold\">1000</span>\n",
       "<span style=\"color: #c0c0c0; text-decoration-color: #c0c0c0; background-color: #000000\">            Total Row Count: </span><span style=\"color: #008080; text-decoration-color: #008080; background-color: #000000; font-weight: bold\">40252</span>\n",
       "<span style=\"color: #c0c0c0; text-decoration-color: #c0c0c0; background-color: #000000\">            More pages: </span><span style=\"color: #00ff00; text-decoration-color: #00ff00; background-color: #000000; font-style: italic\">True</span>\n",
       "<span style=\"color: #c0c0c0; text-decoration-color: #c0c0c0; background-color: #000000\">            </span>\n",
       "</pre>\n"
      ],
      "text/plain": [
       "\n",
       "\u001b[37;40m            \u001b[0m\n",
       "\u001b[37;40m            Offset: \u001b[0m\u001b[1;36;40m38000\u001b[0m\n",
       "\u001b[37;40m            Count: \u001b[0m\u001b[1;36;40m1000\u001b[0m\n",
       "\u001b[37;40m            Total Row Count: \u001b[0m\u001b[1;36;40m40252\u001b[0m\n",
       "\u001b[37;40m            More pages: \u001b[0m\u001b[3;92;40mTrue\u001b[0m\n",
       "\u001b[37;40m            \u001b[0m\n"
      ]
     },
     "metadata": {},
     "output_type": "display_data"
    },
    {
     "data": {
      "text/html": [
       "<pre style=\"white-space:pre;overflow-x:auto;line-height:normal;font-family:Menlo,'DejaVu Sans Mono',consolas,'Courier New',monospace\">\n",
       "<span style=\"color: #c0c0c0; text-decoration-color: #c0c0c0; background-color: #000000\">            </span>\n",
       "<span style=\"color: #c0c0c0; text-decoration-color: #c0c0c0; background-color: #000000\">            Offset: </span><span style=\"color: #008080; text-decoration-color: #008080; background-color: #000000; font-weight: bold\">39000</span>\n",
       "<span style=\"color: #c0c0c0; text-decoration-color: #c0c0c0; background-color: #000000\">            Count: </span><span style=\"color: #008080; text-decoration-color: #008080; background-color: #000000; font-weight: bold\">1000</span>\n",
       "<span style=\"color: #c0c0c0; text-decoration-color: #c0c0c0; background-color: #000000\">            Total Row Count: </span><span style=\"color: #008080; text-decoration-color: #008080; background-color: #000000; font-weight: bold\">40252</span>\n",
       "<span style=\"color: #c0c0c0; text-decoration-color: #c0c0c0; background-color: #000000\">            More pages: </span><span style=\"color: #00ff00; text-decoration-color: #00ff00; background-color: #000000; font-style: italic\">True</span>\n",
       "<span style=\"color: #c0c0c0; text-decoration-color: #c0c0c0; background-color: #000000\">            </span>\n",
       "</pre>\n"
      ],
      "text/plain": [
       "\n",
       "\u001b[37;40m            \u001b[0m\n",
       "\u001b[37;40m            Offset: \u001b[0m\u001b[1;36;40m39000\u001b[0m\n",
       "\u001b[37;40m            Count: \u001b[0m\u001b[1;36;40m1000\u001b[0m\n",
       "\u001b[37;40m            Total Row Count: \u001b[0m\u001b[1;36;40m40252\u001b[0m\n",
       "\u001b[37;40m            More pages: \u001b[0m\u001b[3;92;40mTrue\u001b[0m\n",
       "\u001b[37;40m            \u001b[0m\n"
      ]
     },
     "metadata": {},
     "output_type": "display_data"
    },
    {
     "data": {
      "text/html": [
       "<pre style=\"white-space:pre;overflow-x:auto;line-height:normal;font-family:Menlo,'DejaVu Sans Mono',consolas,'Courier New',monospace\">\n",
       "<span style=\"color: #c0c0c0; text-decoration-color: #c0c0c0; background-color: #000000\">            </span>\n",
       "<span style=\"color: #c0c0c0; text-decoration-color: #c0c0c0; background-color: #000000\">            Offset: </span><span style=\"color: #008080; text-decoration-color: #008080; background-color: #000000; font-weight: bold\">40000</span>\n",
       "<span style=\"color: #c0c0c0; text-decoration-color: #c0c0c0; background-color: #000000\">            Count: </span><span style=\"color: #008080; text-decoration-color: #008080; background-color: #000000; font-weight: bold\">252</span>\n",
       "<span style=\"color: #c0c0c0; text-decoration-color: #c0c0c0; background-color: #000000\">            Total Row Count: </span><span style=\"color: #008080; text-decoration-color: #008080; background-color: #000000; font-weight: bold\">40252</span>\n",
       "<span style=\"color: #c0c0c0; text-decoration-color: #c0c0c0; background-color: #000000\">            More pages: </span><span style=\"color: #ff0000; text-decoration-color: #ff0000; background-color: #000000; font-style: italic\">False</span>\n",
       "<span style=\"color: #c0c0c0; text-decoration-color: #c0c0c0; background-color: #000000\">            </span>\n",
       "</pre>\n"
      ],
      "text/plain": [
       "\n",
       "\u001b[37;40m            \u001b[0m\n",
       "\u001b[37;40m            Offset: \u001b[0m\u001b[1;36;40m40000\u001b[0m\n",
       "\u001b[37;40m            Count: \u001b[0m\u001b[1;36;40m252\u001b[0m\n",
       "\u001b[37;40m            Total Row Count: \u001b[0m\u001b[1;36;40m40252\u001b[0m\n",
       "\u001b[37;40m            More pages: \u001b[0m\u001b[3;91;40mFalse\u001b[0m\n",
       "\u001b[37;40m            \u001b[0m\n"
      ]
     },
     "metadata": {},
     "output_type": "display_data"
    },
    {
     "data": {
      "text/html": [
       "<pre style=\"white-space:pre;overflow-x:auto;line-height:normal;font-family:Menlo,'DejaVu Sans Mono',consolas,'Courier New',monospace\"></pre>\n"
      ],
      "text/plain": []
     },
     "metadata": {},
     "output_type": "display_data"
    },
    {
     "data": {
      "text/html": [
       "<pre style=\"white-space:pre;overflow-x:auto;line-height:normal;font-family:Menlo,'DejaVu Sans Mono',consolas,'Courier New',monospace\">\n",
       "</pre>\n"
      ],
      "text/plain": [
       "\n"
      ]
     },
     "metadata": {},
     "output_type": "display_data"
    },
    {
     "data": {
      "text/html": [
       "<pre style=\"white-space:pre;overflow-x:auto;line-height:normal;font-family:Menlo,'DejaVu Sans Mono',consolas,'Courier New',monospace\">\n",
       "</pre>\n"
      ],
      "text/plain": [
       "\n"
      ]
     },
     "metadata": {},
     "output_type": "display_data"
    },
    {
     "data": {
      "text/html": [
       "<pre style=\"white-space:pre;overflow-x:auto;line-height:normal;font-family:Menlo,'DejaVu Sans Mono',consolas,'Courier New',monospace\"><span style=\"color: #008080; text-decoration-color: #008080; font-weight: bold\">40252</span>\n",
       "</pre>\n"
      ],
      "text/plain": [
       "\u001b[1;36m40252\u001b[0m\n"
      ]
     },
     "metadata": {},
     "output_type": "display_data"
    }
   ],
   "source": [
    "n = Q(\"sex = 'male' AND sex != 'null'\").run(limit=1000)\n",
    "box = []\n",
    "for i in n.paginator():\n",
    "    print(i, style=\"white on black\")\n",
    "    box.extend(i)\n",
    "\n",
    "print(len(box))\n"
   ]
  },
  {
   "cell_type": "code",
   "execution_count": 4,
   "id": "75d36ce1-b772-4120-a695-68eb39f6e3dd",
   "metadata": {},
   "outputs": [
    {
     "data": {
      "text/html": [
       "<pre style=\"white-space:pre;overflow-x:auto;line-height:normal;font-family:Menlo,'DejaVu Sans Mono',consolas,'Courier New',monospace\"><span style=\"color: #c0c0c0; text-decoration-color: #c0c0c0; background-color: #000080\">                    subject_id  \\</span>\n",
       "<span style=\"color: #008080; text-decoration-color: #008080; background-color: #000080; font-weight: bold\">0</span><span style=\"color: #c0c0c0; text-decoration-color: #c0c0c0; background-color: #000080\">                          </span><span style=\"color: #008080; text-decoration-color: #008080; background-color: #000080; font-weight: bold\">103</span><span style=\"color: #c0c0c0; text-decoration-color: #c0c0c0; background-color: #000080\">   </span>\n",
       "<span style=\"color: #008080; text-decoration-color: #008080; background-color: #000080; font-weight: bold\">1</span><span style=\"color: #c0c0c0; text-decoration-color: #c0c0c0; background-color: #000080\">                      11CO042   </span>\n",
       "<span style=\"color: #008080; text-decoration-color: #008080; background-color: #000080; font-weight: bold\">2</span><span style=\"color: #c0c0c0; text-decoration-color: #c0c0c0; background-color: #000080\">                      11CO057   </span>\n",
       "<span style=\"color: #008080; text-decoration-color: #008080; background-color: #000080; font-weight: bold\">3</span><span style=\"color: #c0c0c0; text-decoration-color: #c0c0c0; background-color: #000080\">                          </span><span style=\"color: #008080; text-decoration-color: #008080; background-color: #000080; font-weight: bold\">121</span><span style=\"color: #c0c0c0; text-decoration-color: #c0c0c0; background-color: #000080\">   </span>\n",
       "<span style=\"color: #008080; text-decoration-color: #008080; background-color: #000080; font-weight: bold\">4</span><span style=\"color: #c0c0c0; text-decoration-color: #c0c0c0; background-color: #000080\">                         </span><span style=\"color: #008080; text-decoration-color: #008080; background-color: #000080; font-weight: bold\">2201</span><span style=\"color: #c0c0c0; text-decoration-color: #c0c0c0; background-color: #000080\">   </span>\n",
       "<span style=\"color: #808000; text-decoration-color: #808000; background-color: #000080\">...</span><span style=\"color: #c0c0c0; text-decoration-color: #c0c0c0; background-color: #000080\">                        </span><span style=\"color: #808000; text-decoration-color: #808000; background-color: #000080\">...</span><span style=\"color: #c0c0c0; text-decoration-color: #c0c0c0; background-color: #000080\">   </span>\n",
       "<span style=\"color: #008080; text-decoration-color: #008080; background-color: #000080; font-weight: bold\">40247</span><span style=\"color: #c0c0c0; text-decoration-color: #c0c0c0; background-color: #000080\">             TCGA-YL-A8S8   </span>\n",
       "<span style=\"color: #008080; text-decoration-color: #008080; background-color: #000080; font-weight: bold\">40248</span><span style=\"color: #c0c0c0; text-decoration-color: #c0c0c0; background-color: #000080\">             TCGA-YL-A8SL   </span>\n",
       "<span style=\"color: #008080; text-decoration-color: #008080; background-color: #000080; font-weight: bold\">40249</span><span style=\"color: #c0c0c0; text-decoration-color: #c0c0c0; background-color: #000080\">  UTRI_SUBJECT_001_000086   </span>\n",
       "<span style=\"color: #008080; text-decoration-color: #008080; background-color: #000080; font-weight: bold\">40250</span><span style=\"color: #c0c0c0; text-decoration-color: #c0c0c0; background-color: #000080\">  UTRI_SUBJECT_001_000241   </span>\n",
       "<span style=\"color: #008080; text-decoration-color: #008080; background-color: #000080; font-weight: bold\">40251</span><span style=\"color: #c0c0c0; text-decoration-color: #c0c0c0; background-color: #000080\">  UTRI_SUBJECT_001_000323   </span>\n",
       "\n",
       "<span style=\"color: #c0c0c0; text-decoration-color: #c0c0c0; background-color: #000080\">                                      subject_identifier       species   sex  \\</span>\n",
       "<span style=\"color: #008080; text-decoration-color: #008080; background-color: #000080; font-weight: bold\">0</span><span style=\"color: #c0c0c0; text-decoration-color: #c0c0c0; background-color: #000080\">                    </span><span style=\"color: #c0c0c0; text-decoration-color: #c0c0c0; background-color: #000080; font-weight: bold\">[{</span><span style=\"color: #008000; text-decoration-color: #008000; background-color: #000080\">'system'</span><span style=\"color: #c0c0c0; text-decoration-color: #c0c0c0; background-color: #000080\">: </span><span style=\"color: #008000; text-decoration-color: #008000; background-color: #000080\">'PDC'</span><span style=\"color: #c0c0c0; text-decoration-color: #c0c0c0; background-color: #000080\">, </span><span style=\"color: #008000; text-decoration-color: #008000; background-color: #000080\">'value'</span><span style=\"color: #c0c0c0; text-decoration-color: #c0c0c0; background-color: #000080\">: </span><span style=\"color: #008000; text-decoration-color: #008000; background-color: #000080\">'103'</span><span style=\"color: #c0c0c0; text-decoration-color: #c0c0c0; background-color: #000080; font-weight: bold\">}]</span><span style=\"color: #c0c0c0; text-decoration-color: #c0c0c0; background-color: #000080\">  homo sapiens  male   </span>\n",
       "<span style=\"color: #008080; text-decoration-color: #008080; background-color: #000080; font-weight: bold\">1</span><span style=\"color: #c0c0c0; text-decoration-color: #c0c0c0; background-color: #000080\">      </span><span style=\"color: #c0c0c0; text-decoration-color: #c0c0c0; background-color: #000080; font-weight: bold\">[{</span><span style=\"color: #008000; text-decoration-color: #008000; background-color: #000080\">'system'</span><span style=\"color: #c0c0c0; text-decoration-color: #c0c0c0; background-color: #000080\">: </span><span style=\"color: #008000; text-decoration-color: #008000; background-color: #000080\">'GDC'</span><span style=\"color: #c0c0c0; text-decoration-color: #c0c0c0; background-color: #000080\">, </span><span style=\"color: #008000; text-decoration-color: #008000; background-color: #000080\">'value'</span><span style=\"color: #c0c0c0; text-decoration-color: #c0c0c0; background-color: #000080\">: </span><span style=\"color: #008000; text-decoration-color: #008000; background-color: #000080\">'11CO042'</span><span style=\"color: #c0c0c0; text-decoration-color: #c0c0c0; background-color: #000080; font-weight: bold\">}</span><span style=\"color: #c0c0c0; text-decoration-color: #c0c0c0; background-color: #000080\">, </span><span style=\"color: #c0c0c0; text-decoration-color: #c0c0c0; background-color: #000080; font-weight: bold\">{</span><span style=\"color: #c0c0c0; text-decoration-color: #c0c0c0; background-color: #000080\">'syst</span><span style=\"color: #808000; text-decoration-color: #808000; background-color: #000080\">...</span><span style=\"color: #c0c0c0; text-decoration-color: #c0c0c0; background-color: #000080\">  homo sapiens  male   </span>\n",
       "<span style=\"color: #008080; text-decoration-color: #008080; background-color: #000080; font-weight: bold\">2</span><span style=\"color: #c0c0c0; text-decoration-color: #c0c0c0; background-color: #000080\">      </span><span style=\"color: #c0c0c0; text-decoration-color: #c0c0c0; background-color: #000080; font-weight: bold\">[{</span><span style=\"color: #008000; text-decoration-color: #008000; background-color: #000080\">'system'</span><span style=\"color: #c0c0c0; text-decoration-color: #c0c0c0; background-color: #000080\">: </span><span style=\"color: #008000; text-decoration-color: #008000; background-color: #000080\">'GDC'</span><span style=\"color: #c0c0c0; text-decoration-color: #c0c0c0; background-color: #000080\">, </span><span style=\"color: #008000; text-decoration-color: #008000; background-color: #000080\">'value'</span><span style=\"color: #c0c0c0; text-decoration-color: #c0c0c0; background-color: #000080\">: </span><span style=\"color: #008000; text-decoration-color: #008000; background-color: #000080\">'11CO057'</span><span style=\"color: #c0c0c0; text-decoration-color: #c0c0c0; background-color: #000080; font-weight: bold\">}</span><span style=\"color: #c0c0c0; text-decoration-color: #c0c0c0; background-color: #000080\">, </span><span style=\"color: #c0c0c0; text-decoration-color: #c0c0c0; background-color: #000080; font-weight: bold\">{</span><span style=\"color: #c0c0c0; text-decoration-color: #c0c0c0; background-color: #000080\">'syst</span><span style=\"color: #808000; text-decoration-color: #808000; background-color: #000080\">...</span><span style=\"color: #c0c0c0; text-decoration-color: #c0c0c0; background-color: #000080\">  homo sapiens  male   </span>\n",
       "<span style=\"color: #008080; text-decoration-color: #008080; background-color: #000080; font-weight: bold\">3</span><span style=\"color: #c0c0c0; text-decoration-color: #c0c0c0; background-color: #000080\">                    </span><span style=\"color: #c0c0c0; text-decoration-color: #c0c0c0; background-color: #000080; font-weight: bold\">[{</span><span style=\"color: #008000; text-decoration-color: #008000; background-color: #000080\">'system'</span><span style=\"color: #c0c0c0; text-decoration-color: #c0c0c0; background-color: #000080\">: </span><span style=\"color: #008000; text-decoration-color: #008000; background-color: #000080\">'PDC'</span><span style=\"color: #c0c0c0; text-decoration-color: #c0c0c0; background-color: #000080\">, </span><span style=\"color: #008000; text-decoration-color: #008000; background-color: #000080\">'value'</span><span style=\"color: #c0c0c0; text-decoration-color: #c0c0c0; background-color: #000080\">: </span><span style=\"color: #008000; text-decoration-color: #008000; background-color: #000080\">'121'</span><span style=\"color: #c0c0c0; text-decoration-color: #c0c0c0; background-color: #000080; font-weight: bold\">}]</span><span style=\"color: #c0c0c0; text-decoration-color: #c0c0c0; background-color: #000080\">  homo sapiens  male   </span>\n",
       "<span style=\"color: #008080; text-decoration-color: #008080; background-color: #000080; font-weight: bold\">4</span><span style=\"color: #c0c0c0; text-decoration-color: #c0c0c0; background-color: #000080\">                   </span><span style=\"color: #c0c0c0; text-decoration-color: #c0c0c0; background-color: #000080; font-weight: bold\">[{</span><span style=\"color: #008000; text-decoration-color: #008000; background-color: #000080\">'system'</span><span style=\"color: #c0c0c0; text-decoration-color: #c0c0c0; background-color: #000080\">: </span><span style=\"color: #008000; text-decoration-color: #008000; background-color: #000080\">'GDC'</span><span style=\"color: #c0c0c0; text-decoration-color: #c0c0c0; background-color: #000080\">, </span><span style=\"color: #008000; text-decoration-color: #008000; background-color: #000080\">'value'</span><span style=\"color: #c0c0c0; text-decoration-color: #c0c0c0; background-color: #000080\">: </span><span style=\"color: #008000; text-decoration-color: #008000; background-color: #000080\">'2201'</span><span style=\"color: #c0c0c0; text-decoration-color: #c0c0c0; background-color: #000080; font-weight: bold\">}]</span><span style=\"color: #c0c0c0; text-decoration-color: #c0c0c0; background-color: #000080\">  homo sapiens  male   </span>\n",
       "<span style=\"color: #808000; text-decoration-color: #808000; background-color: #000080\">...</span><span style=\"color: #c0c0c0; text-decoration-color: #c0c0c0; background-color: #000080\">                                                  </span><span style=\"color: #808000; text-decoration-color: #808000; background-color: #000080\">...</span><span style=\"color: #c0c0c0; text-decoration-color: #c0c0c0; background-color: #000080\">           </span><span style=\"color: #808000; text-decoration-color: #808000; background-color: #000080\">...</span><span style=\"color: #c0c0c0; text-decoration-color: #c0c0c0; background-color: #000080\">   </span><span style=\"color: #808000; text-decoration-color: #808000; background-color: #000080\">...</span><span style=\"color: #c0c0c0; text-decoration-color: #c0c0c0; background-color: #000080\">   </span>\n",
       "<span style=\"color: #008080; text-decoration-color: #008080; background-color: #000080; font-weight: bold\">40247</span><span style=\"color: #c0c0c0; text-decoration-color: #c0c0c0; background-color: #000080\">  </span><span style=\"color: #c0c0c0; text-decoration-color: #c0c0c0; background-color: #000080; font-weight: bold\">[{</span><span style=\"color: #008000; text-decoration-color: #008000; background-color: #000080\">'system'</span><span style=\"color: #c0c0c0; text-decoration-color: #c0c0c0; background-color: #000080\">: </span><span style=\"color: #008000; text-decoration-color: #008000; background-color: #000080\">'GDC'</span><span style=\"color: #c0c0c0; text-decoration-color: #c0c0c0; background-color: #000080\">, </span><span style=\"color: #008000; text-decoration-color: #008000; background-color: #000080\">'value'</span><span style=\"color: #c0c0c0; text-decoration-color: #c0c0c0; background-color: #000080\">: </span><span style=\"color: #008000; text-decoration-color: #008000; background-color: #000080\">'TCGA-YL-A8S8'</span><span style=\"color: #c0c0c0; text-decoration-color: #c0c0c0; background-color: #000080; font-weight: bold\">}</span><span style=\"color: #c0c0c0; text-decoration-color: #c0c0c0; background-color: #000080\">, </span><span style=\"color: #c0c0c0; text-decoration-color: #c0c0c0; background-color: #000080; font-weight: bold\">{</span><span style=\"color: #808000; text-decoration-color: #808000; background-color: #000080\">...</span><span style=\"color: #c0c0c0; text-decoration-color: #c0c0c0; background-color: #000080\">  homo sapiens  male   </span>\n",
       "<span style=\"color: #008080; text-decoration-color: #008080; background-color: #000080; font-weight: bold\">40248</span><span style=\"color: #c0c0c0; text-decoration-color: #c0c0c0; background-color: #000080\">  </span><span style=\"color: #c0c0c0; text-decoration-color: #c0c0c0; background-color: #000080; font-weight: bold\">[{</span><span style=\"color: #008000; text-decoration-color: #008000; background-color: #000080\">'system'</span><span style=\"color: #c0c0c0; text-decoration-color: #c0c0c0; background-color: #000080\">: </span><span style=\"color: #008000; text-decoration-color: #008000; background-color: #000080\">'GDC'</span><span style=\"color: #c0c0c0; text-decoration-color: #c0c0c0; background-color: #000080\">, </span><span style=\"color: #008000; text-decoration-color: #008000; background-color: #000080\">'value'</span><span style=\"color: #c0c0c0; text-decoration-color: #c0c0c0; background-color: #000080\">: </span><span style=\"color: #008000; text-decoration-color: #008000; background-color: #000080\">'TCGA-YL-A8SL'</span><span style=\"color: #c0c0c0; text-decoration-color: #c0c0c0; background-color: #000080; font-weight: bold\">}</span><span style=\"color: #c0c0c0; text-decoration-color: #c0c0c0; background-color: #000080\">, </span><span style=\"color: #c0c0c0; text-decoration-color: #c0c0c0; background-color: #000080; font-weight: bold\">{</span><span style=\"color: #808000; text-decoration-color: #808000; background-color: #000080\">...</span><span style=\"color: #c0c0c0; text-decoration-color: #c0c0c0; background-color: #000080\">  homo sapiens  male   </span>\n",
       "<span style=\"color: #008080; text-decoration-color: #008080; background-color: #000080; font-weight: bold\">40249</span><span style=\"color: #c0c0c0; text-decoration-color: #c0c0c0; background-color: #000080\">  </span><span style=\"color: #c0c0c0; text-decoration-color: #c0c0c0; background-color: #000080; font-weight: bold\">[{</span><span style=\"color: #008000; text-decoration-color: #008000; background-color: #000080\">'system'</span><span style=\"color: #c0c0c0; text-decoration-color: #c0c0c0; background-color: #000080\">: </span><span style=\"color: #008000; text-decoration-color: #008000; background-color: #000080\">'GDC'</span><span style=\"color: #c0c0c0; text-decoration-color: #c0c0c0; background-color: #000080\">, </span><span style=\"color: #008000; text-decoration-color: #008000; background-color: #000080\">'value'</span><span style=\"color: #c0c0c0; text-decoration-color: #c0c0c0; background-color: #000080\">: 'UTRI_SUBJECT_001_</span><span style=\"color: #808000; text-decoration-color: #808000; background-color: #000080\">...</span><span style=\"color: #c0c0c0; text-decoration-color: #c0c0c0; background-color: #000080\">  homo sapiens  male   </span>\n",
       "<span style=\"color: #008080; text-decoration-color: #008080; background-color: #000080; font-weight: bold\">40250</span><span style=\"color: #c0c0c0; text-decoration-color: #c0c0c0; background-color: #000080\">  </span><span style=\"color: #c0c0c0; text-decoration-color: #c0c0c0; background-color: #000080; font-weight: bold\">[{</span><span style=\"color: #008000; text-decoration-color: #008000; background-color: #000080\">'system'</span><span style=\"color: #c0c0c0; text-decoration-color: #c0c0c0; background-color: #000080\">: </span><span style=\"color: #008000; text-decoration-color: #008000; background-color: #000080\">'GDC'</span><span style=\"color: #c0c0c0; text-decoration-color: #c0c0c0; background-color: #000080\">, </span><span style=\"color: #008000; text-decoration-color: #008000; background-color: #000080\">'value'</span><span style=\"color: #c0c0c0; text-decoration-color: #c0c0c0; background-color: #000080\">: 'UTRI_SUBJECT_001_</span><span style=\"color: #808000; text-decoration-color: #808000; background-color: #000080\">...</span><span style=\"color: #c0c0c0; text-decoration-color: #c0c0c0; background-color: #000080\">  homo sapiens  male   </span>\n",
       "<span style=\"color: #008080; text-decoration-color: #008080; background-color: #000080; font-weight: bold\">40251</span><span style=\"color: #c0c0c0; text-decoration-color: #c0c0c0; background-color: #000080\">  </span><span style=\"color: #c0c0c0; text-decoration-color: #c0c0c0; background-color: #000080; font-weight: bold\">[{</span><span style=\"color: #008000; text-decoration-color: #008000; background-color: #000080\">'system'</span><span style=\"color: #c0c0c0; text-decoration-color: #c0c0c0; background-color: #000080\">: </span><span style=\"color: #008000; text-decoration-color: #008000; background-color: #000080\">'GDC'</span><span style=\"color: #c0c0c0; text-decoration-color: #c0c0c0; background-color: #000080\">, </span><span style=\"color: #008000; text-decoration-color: #008000; background-color: #000080\">'value'</span><span style=\"color: #c0c0c0; text-decoration-color: #c0c0c0; background-color: #000080\">: 'UTRI_SUBJECT_001_</span><span style=\"color: #808000; text-decoration-color: #808000; background-color: #000080\">...</span><span style=\"color: #c0c0c0; text-decoration-color: #c0c0c0; background-color: #000080\">  homo sapiens  male   </span>\n",
       "\n",
       "<span style=\"color: #c0c0c0; text-decoration-color: #c0c0c0; background-color: #000080\">               race               ethnicity  days_to_birth  \\</span>\n",
       "<span style=\"color: #008080; text-decoration-color: #008080; background-color: #000080; font-weight: bold\">0</span><span style=\"color: #c0c0c0; text-decoration-color: #c0c0c0; background-color: #000080\">           chinese            not reported            NaN   </span>\n",
       "<span style=\"color: #008080; text-decoration-color: #008080; background-color: #000080; font-weight: bold\">1</span><span style=\"color: #c0c0c0; text-decoration-color: #c0c0c0; background-color: #000080\">             white  not hispanic or latino            NaN   </span>\n",
       "<span style=\"color: #008080; text-decoration-color: #008080; background-color: #000080; font-weight: bold\">2</span><span style=\"color: #c0c0c0; text-decoration-color: #c0c0c0; background-color: #000080\">             white  not hispanic or latino            NaN   </span>\n",
       "<span style=\"color: #008080; text-decoration-color: #008080; background-color: #000080; font-weight: bold\">3</span><span style=\"color: #c0c0c0; text-decoration-color: #c0c0c0; background-color: #000080\">           chinese            not reported            NaN   </span>\n",
       "<span style=\"color: #008080; text-decoration-color: #008080; background-color: #000080; font-weight: bold\">4</span><span style=\"color: #c0c0c0; text-decoration-color: #c0c0c0; background-color: #000080\">             white                 Unknown            NaN   </span>\n",
       "<span style=\"color: #808000; text-decoration-color: #808000; background-color: #000080\">...</span><span style=\"color: #c0c0c0; text-decoration-color: #c0c0c0; background-color: #000080\">             </span><span style=\"color: #808000; text-decoration-color: #808000; background-color: #000080\">...</span><span style=\"color: #c0c0c0; text-decoration-color: #c0c0c0; background-color: #000080\">                     </span><span style=\"color: #808000; text-decoration-color: #808000; background-color: #000080\">...</span><span style=\"color: #c0c0c0; text-decoration-color: #c0c0c0; background-color: #000080\">            </span><span style=\"color: #808000; text-decoration-color: #808000; background-color: #000080\">...</span><span style=\"color: #c0c0c0; text-decoration-color: #c0c0c0; background-color: #000080\">   </span>\n",
       "<span style=\"color: #008080; text-decoration-color: #008080; background-color: #000080; font-weight: bold\">40247</span><span style=\"color: #c0c0c0; text-decoration-color: #c0c0c0; background-color: #000080\">         white  not hispanic or latino            NaN   </span>\n",
       "<span style=\"color: #008080; text-decoration-color: #008080; background-color: #000080; font-weight: bold\">40248</span><span style=\"color: #c0c0c0; text-decoration-color: #c0c0c0; background-color: #000080\">         white  not hispanic or latino            NaN   </span>\n",
       "<span style=\"color: #008080; text-decoration-color: #008080; background-color: #000080; font-weight: bold\">40249</span><span style=\"color: #c0c0c0; text-decoration-color: #c0c0c0; background-color: #000080\">  not reported            not reported            NaN   </span>\n",
       "<span style=\"color: #008080; text-decoration-color: #008080; background-color: #000080; font-weight: bold\">40250</span><span style=\"color: #c0c0c0; text-decoration-color: #c0c0c0; background-color: #000080\">  not reported            not reported            NaN   </span>\n",
       "<span style=\"color: #008080; text-decoration-color: #008080; background-color: #000080; font-weight: bold\">40251</span><span style=\"color: #c0c0c0; text-decoration-color: #c0c0c0; background-color: #000080\">  not reported            not reported            NaN   </span>\n",
       "\n",
       "<span style=\"color: #c0c0c0; text-decoration-color: #c0c0c0; background-color: #000080\">                              subject_associated_project  vital_status  \\</span>\n",
       "<span style=\"color: #008080; text-decoration-color: #008080; background-color: #000080; font-weight: bold\">0</span><span style=\"color: #c0c0c0; text-decoration-color: #c0c0c0; background-color: #000080\">      </span><span style=\"color: #c0c0c0; text-decoration-color: #c0c0c0; background-color: #000080; font-weight: bold\">[</span><span style=\"color: #c0c0c0; text-decoration-color: #c0c0c0; background-color: #000080\">Integrated Proteogenomic Characterization of </span><span style=\"color: #808000; text-decoration-color: #808000; background-color: #000080\">...</span><span style=\"color: #c0c0c0; text-decoration-color: #c0c0c0; background-color: #000080\">          Dead   </span>\n",
       "<span style=\"color: #008080; text-decoration-color: #008080; background-color: #000080; font-weight: bold\">1</span><span style=\"color: #c0c0c0; text-decoration-color: #c0c0c0; background-color: #000080\">                                  </span><span style=\"color: #c0c0c0; text-decoration-color: #c0c0c0; background-color: #000080; font-weight: bold\">[</span><span style=\"color: #c0c0c0; text-decoration-color: #c0c0c0; background-color: #000080\">CPTAC-</span><span style=\"color: #008080; text-decoration-color: #008080; background-color: #000080; font-weight: bold\">2</span><span style=\"color: #c0c0c0; text-decoration-color: #c0c0c0; background-color: #000080\">, cptac_coad</span><span style=\"color: #c0c0c0; text-decoration-color: #c0c0c0; background-color: #000080; font-weight: bold\">]</span><span style=\"color: #c0c0c0; text-decoration-color: #c0c0c0; background-color: #000080\">  Not Reported   </span>\n",
       "<span style=\"color: #008080; text-decoration-color: #008080; background-color: #000080; font-weight: bold\">2</span><span style=\"color: #c0c0c0; text-decoration-color: #c0c0c0; background-color: #000080\">                                  </span><span style=\"color: #c0c0c0; text-decoration-color: #c0c0c0; background-color: #000080; font-weight: bold\">[</span><span style=\"color: #c0c0c0; text-decoration-color: #c0c0c0; background-color: #000080\">CPTAC-</span><span style=\"color: #008080; text-decoration-color: #008080; background-color: #000080; font-weight: bold\">2</span><span style=\"color: #c0c0c0; text-decoration-color: #c0c0c0; background-color: #000080\">, cptac_coad</span><span style=\"color: #c0c0c0; text-decoration-color: #c0c0c0; background-color: #000080; font-weight: bold\">]</span><span style=\"color: #c0c0c0; text-decoration-color: #c0c0c0; background-color: #000080\">  Not Reported   </span>\n",
       "<span style=\"color: #008080; text-decoration-color: #008080; background-color: #000080; font-weight: bold\">3</span><span style=\"color: #c0c0c0; text-decoration-color: #c0c0c0; background-color: #000080\">      </span><span style=\"color: #c0c0c0; text-decoration-color: #c0c0c0; background-color: #000080; font-weight: bold\">[</span><span style=\"color: #c0c0c0; text-decoration-color: #c0c0c0; background-color: #000080\">Integrated Proteogenomic Characterization of </span><span style=\"color: #808000; text-decoration-color: #808000; background-color: #000080\">...</span><span style=\"color: #c0c0c0; text-decoration-color: #c0c0c0; background-color: #000080\">         Alive   </span>\n",
       "<span style=\"color: #008080; text-decoration-color: #008080; background-color: #000080; font-weight: bold\">4</span><span style=\"color: #c0c0c0; text-decoration-color: #c0c0c0; background-color: #000080\">                                    </span><span style=\"color: #c0c0c0; text-decoration-color: #c0c0c0; background-color: #000080; font-weight: bold\">[</span><span style=\"color: #c0c0c0; text-decoration-color: #c0c0c0; background-color: #000080\">BEATAML1.</span><span style=\"color: #008080; text-decoration-color: #008080; background-color: #000080; font-weight: bold\">0</span><span style=\"color: #c0c0c0; text-decoration-color: #c0c0c0; background-color: #000080\">-COHORT</span><span style=\"color: #c0c0c0; text-decoration-color: #c0c0c0; background-color: #000080; font-weight: bold\">]</span><span style=\"color: #c0c0c0; text-decoration-color: #c0c0c0; background-color: #000080\">         Alive   </span>\n",
       "<span style=\"color: #808000; text-decoration-color: #808000; background-color: #000080\">...</span><span style=\"color: #c0c0c0; text-decoration-color: #c0c0c0; background-color: #000080\">                                                  </span><span style=\"color: #808000; text-decoration-color: #808000; background-color: #000080\">...</span><span style=\"color: #c0c0c0; text-decoration-color: #c0c0c0; background-color: #000080\">           </span><span style=\"color: #808000; text-decoration-color: #808000; background-color: #000080\">...</span><span style=\"color: #c0c0c0; text-decoration-color: #c0c0c0; background-color: #000080\">   </span>\n",
       "<span style=\"color: #008080; text-decoration-color: #008080; background-color: #000080; font-weight: bold\">40247</span><span style=\"color: #c0c0c0; text-decoration-color: #c0c0c0; background-color: #000080\">                             </span><span style=\"color: #c0c0c0; text-decoration-color: #c0c0c0; background-color: #000080; font-weight: bold\">[</span><span style=\"color: #c0c0c0; text-decoration-color: #c0c0c0; background-color: #000080\">tcga_prad, TCGA-PRAD</span><span style=\"color: #c0c0c0; text-decoration-color: #c0c0c0; background-color: #000080; font-weight: bold\">]</span><span style=\"color: #c0c0c0; text-decoration-color: #c0c0c0; background-color: #000080\">         Alive   </span>\n",
       "<span style=\"color: #008080; text-decoration-color: #008080; background-color: #000080; font-weight: bold\">40248</span><span style=\"color: #c0c0c0; text-decoration-color: #c0c0c0; background-color: #000080\">                             </span><span style=\"color: #c0c0c0; text-decoration-color: #c0c0c0; background-color: #000080; font-weight: bold\">[</span><span style=\"color: #c0c0c0; text-decoration-color: #c0c0c0; background-color: #000080\">tcga_prad, TCGA-PRAD</span><span style=\"color: #c0c0c0; text-decoration-color: #c0c0c0; background-color: #000080; font-weight: bold\">]</span><span style=\"color: #c0c0c0; text-decoration-color: #c0c0c0; background-color: #000080\">         Alive   </span>\n",
       "<span style=\"color: #008080; text-decoration-color: #008080; background-color: #000080; font-weight: bold\">40249</span><span style=\"color: #c0c0c0; text-decoration-color: #c0c0c0; background-color: #000080\">                                         </span><span style=\"color: #c0c0c0; text-decoration-color: #c0c0c0; background-color: #000080; font-weight: bold\">[</span><span style=\"color: #c0c0c0; text-decoration-color: #c0c0c0; background-color: #000080\">TRIO-CRU</span><span style=\"color: #c0c0c0; text-decoration-color: #c0c0c0; background-color: #000080; font-weight: bold\">]</span><span style=\"color: #c0c0c0; text-decoration-color: #c0c0c0; background-color: #000080\">  Not Reported   </span>\n",
       "<span style=\"color: #008080; text-decoration-color: #008080; background-color: #000080; font-weight: bold\">40250</span><span style=\"color: #c0c0c0; text-decoration-color: #c0c0c0; background-color: #000080\">                                         </span><span style=\"color: #c0c0c0; text-decoration-color: #c0c0c0; background-color: #000080; font-weight: bold\">[</span><span style=\"color: #c0c0c0; text-decoration-color: #c0c0c0; background-color: #000080\">TRIO-CRU</span><span style=\"color: #c0c0c0; text-decoration-color: #c0c0c0; background-color: #000080; font-weight: bold\">]</span><span style=\"color: #c0c0c0; text-decoration-color: #c0c0c0; background-color: #000080\">  Not Reported   </span>\n",
       "<span style=\"color: #008080; text-decoration-color: #008080; background-color: #000080; font-weight: bold\">40251</span><span style=\"color: #c0c0c0; text-decoration-color: #c0c0c0; background-color: #000080\">                                         </span><span style=\"color: #c0c0c0; text-decoration-color: #c0c0c0; background-color: #000080; font-weight: bold\">[</span><span style=\"color: #c0c0c0; text-decoration-color: #c0c0c0; background-color: #000080\">TRIO-CRU</span><span style=\"color: #c0c0c0; text-decoration-color: #c0c0c0; background-color: #000080; font-weight: bold\">]</span><span style=\"color: #c0c0c0; text-decoration-color: #c0c0c0; background-color: #000080\">  Not Reported   </span>\n",
       "\n",
       "<span style=\"color: #c0c0c0; text-decoration-color: #c0c0c0; background-color: #000080\">       days_to_death cause_of_death  </span>\n",
       "<span style=\"color: #008080; text-decoration-color: #008080; background-color: #000080; font-weight: bold\">0</span><span style=\"color: #c0c0c0; text-decoration-color: #c0c0c0; background-color: #000080\">                NaN     Metastasis  </span>\n",
       "<span style=\"color: #008080; text-decoration-color: #008080; background-color: #000080; font-weight: bold\">1</span><span style=\"color: #c0c0c0; text-decoration-color: #c0c0c0; background-color: #000080\">                NaN           </span><span style=\"color: #800080; text-decoration-color: #800080; background-color: #000080; font-style: italic\">None</span><span style=\"color: #c0c0c0; text-decoration-color: #c0c0c0; background-color: #000080\">  </span>\n",
       "<span style=\"color: #008080; text-decoration-color: #008080; background-color: #000080; font-weight: bold\">2</span><span style=\"color: #c0c0c0; text-decoration-color: #c0c0c0; background-color: #000080\">                NaN           </span><span style=\"color: #800080; text-decoration-color: #800080; background-color: #000080; font-style: italic\">None</span><span style=\"color: #c0c0c0; text-decoration-color: #c0c0c0; background-color: #000080\">  </span>\n",
       "<span style=\"color: #008080; text-decoration-color: #008080; background-color: #000080; font-weight: bold\">3</span><span style=\"color: #c0c0c0; text-decoration-color: #c0c0c0; background-color: #000080\">                NaN           </span><span style=\"color: #800080; text-decoration-color: #800080; background-color: #000080; font-style: italic\">None</span><span style=\"color: #c0c0c0; text-decoration-color: #c0c0c0; background-color: #000080\">  </span>\n",
       "<span style=\"color: #008080; text-decoration-color: #008080; background-color: #000080; font-weight: bold\">4</span><span style=\"color: #c0c0c0; text-decoration-color: #c0c0c0; background-color: #000080\">                NaN           </span><span style=\"color: #800080; text-decoration-color: #800080; background-color: #000080; font-style: italic\">None</span><span style=\"color: #c0c0c0; text-decoration-color: #c0c0c0; background-color: #000080\">  </span>\n",
       "<span style=\"color: #808000; text-decoration-color: #808000; background-color: #000080\">...</span><span style=\"color: #c0c0c0; text-decoration-color: #c0c0c0; background-color: #000080\">              </span><span style=\"color: #808000; text-decoration-color: #808000; background-color: #000080\">...</span><span style=\"color: #c0c0c0; text-decoration-color: #c0c0c0; background-color: #000080\">            </span><span style=\"color: #808000; text-decoration-color: #808000; background-color: #000080\">...</span><span style=\"color: #c0c0c0; text-decoration-color: #c0c0c0; background-color: #000080\">  </span>\n",
       "<span style=\"color: #008080; text-decoration-color: #008080; background-color: #000080; font-weight: bold\">40247</span><span style=\"color: #c0c0c0; text-decoration-color: #c0c0c0; background-color: #000080\">            NaN           </span><span style=\"color: #800080; text-decoration-color: #800080; background-color: #000080; font-style: italic\">None</span><span style=\"color: #c0c0c0; text-decoration-color: #c0c0c0; background-color: #000080\">  </span>\n",
       "<span style=\"color: #008080; text-decoration-color: #008080; background-color: #000080; font-weight: bold\">40248</span><span style=\"color: #c0c0c0; text-decoration-color: #c0c0c0; background-color: #000080\">            NaN           </span><span style=\"color: #800080; text-decoration-color: #800080; background-color: #000080; font-style: italic\">None</span><span style=\"color: #c0c0c0; text-decoration-color: #c0c0c0; background-color: #000080\">  </span>\n",
       "<span style=\"color: #008080; text-decoration-color: #008080; background-color: #000080; font-weight: bold\">40249</span><span style=\"color: #c0c0c0; text-decoration-color: #c0c0c0; background-color: #000080\">            NaN           </span><span style=\"color: #800080; text-decoration-color: #800080; background-color: #000080; font-style: italic\">None</span><span style=\"color: #c0c0c0; text-decoration-color: #c0c0c0; background-color: #000080\">  </span>\n",
       "<span style=\"color: #008080; text-decoration-color: #008080; background-color: #000080; font-weight: bold\">40250</span><span style=\"color: #c0c0c0; text-decoration-color: #c0c0c0; background-color: #000080\">            NaN           </span><span style=\"color: #800080; text-decoration-color: #800080; background-color: #000080; font-style: italic\">None</span><span style=\"color: #c0c0c0; text-decoration-color: #c0c0c0; background-color: #000080\">  </span>\n",
       "<span style=\"color: #008080; text-decoration-color: #008080; background-color: #000080; font-weight: bold\">40251</span><span style=\"color: #c0c0c0; text-decoration-color: #c0c0c0; background-color: #000080\">            NaN           </span><span style=\"color: #800080; text-decoration-color: #800080; background-color: #000080; font-style: italic\">None</span><span style=\"color: #c0c0c0; text-decoration-color: #c0c0c0; background-color: #000080\">  </span>\n",
       "\n",
       "<span style=\"color: #c0c0c0; text-decoration-color: #c0c0c0; background-color: #000080; font-weight: bold\">[</span><span style=\"color: #008080; text-decoration-color: #008080; background-color: #000080; font-weight: bold\">40252</span><span style=\"color: #c0c0c0; text-decoration-color: #c0c0c0; background-color: #000080\"> rows x </span><span style=\"color: #008080; text-decoration-color: #008080; background-color: #000080; font-weight: bold\">11</span><span style=\"color: #c0c0c0; text-decoration-color: #c0c0c0; background-color: #000080\"> columns</span><span style=\"color: #c0c0c0; text-decoration-color: #c0c0c0; background-color: #000080; font-weight: bold\">]</span>\n",
       "</pre>\n"
      ],
      "text/plain": [
       "\u001b[37;44m                    subject_id  \\\u001b[0m\n",
       "\u001b[1;36;44m0\u001b[0m\u001b[37;44m                          \u001b[0m\u001b[1;36;44m103\u001b[0m\u001b[37;44m   \u001b[0m\n",
       "\u001b[1;36;44m1\u001b[0m\u001b[37;44m                      11CO042   \u001b[0m\n",
       "\u001b[1;36;44m2\u001b[0m\u001b[37;44m                      11CO057   \u001b[0m\n",
       "\u001b[1;36;44m3\u001b[0m\u001b[37;44m                          \u001b[0m\u001b[1;36;44m121\u001b[0m\u001b[37;44m   \u001b[0m\n",
       "\u001b[1;36;44m4\u001b[0m\u001b[37;44m                         \u001b[0m\u001b[1;36;44m2201\u001b[0m\u001b[37;44m   \u001b[0m\n",
       "\u001b[33;44m...\u001b[0m\u001b[37;44m                        \u001b[0m\u001b[33;44m...\u001b[0m\u001b[37;44m   \u001b[0m\n",
       "\u001b[1;36;44m40247\u001b[0m\u001b[37;44m             TCGA-YL-A8S8   \u001b[0m\n",
       "\u001b[1;36;44m40248\u001b[0m\u001b[37;44m             TCGA-YL-A8SL   \u001b[0m\n",
       "\u001b[1;36;44m40249\u001b[0m\u001b[37;44m  UTRI_SUBJECT_001_000086   \u001b[0m\n",
       "\u001b[1;36;44m40250\u001b[0m\u001b[37;44m  UTRI_SUBJECT_001_000241   \u001b[0m\n",
       "\u001b[1;36;44m40251\u001b[0m\u001b[37;44m  UTRI_SUBJECT_001_000323   \u001b[0m\n",
       "\n",
       "\u001b[37;44m                                      subject_identifier       species   sex  \\\u001b[0m\n",
       "\u001b[1;36;44m0\u001b[0m\u001b[37;44m                    \u001b[0m\u001b[1;37;44m[\u001b[0m\u001b[1;37;44m{\u001b[0m\u001b[32;44m'system'\u001b[0m\u001b[37;44m: \u001b[0m\u001b[32;44m'PDC'\u001b[0m\u001b[37;44m, \u001b[0m\u001b[32;44m'value'\u001b[0m\u001b[37;44m: \u001b[0m\u001b[32;44m'103'\u001b[0m\u001b[1;37;44m}\u001b[0m\u001b[1;37;44m]\u001b[0m\u001b[37;44m  homo sapiens  male   \u001b[0m\n",
       "\u001b[1;36;44m1\u001b[0m\u001b[37;44m      \u001b[0m\u001b[1;37;44m[\u001b[0m\u001b[1;37;44m{\u001b[0m\u001b[32;44m'system'\u001b[0m\u001b[37;44m: \u001b[0m\u001b[32;44m'GDC'\u001b[0m\u001b[37;44m, \u001b[0m\u001b[32;44m'value'\u001b[0m\u001b[37;44m: \u001b[0m\u001b[32;44m'11CO042'\u001b[0m\u001b[1;37;44m}\u001b[0m\u001b[37;44m, \u001b[0m\u001b[1;37;44m{\u001b[0m\u001b[37;44m'syst\u001b[0m\u001b[33;44m...\u001b[0m\u001b[37;44m  homo sapiens  male   \u001b[0m\n",
       "\u001b[1;36;44m2\u001b[0m\u001b[37;44m      \u001b[0m\u001b[1;37;44m[\u001b[0m\u001b[1;37;44m{\u001b[0m\u001b[32;44m'system'\u001b[0m\u001b[37;44m: \u001b[0m\u001b[32;44m'GDC'\u001b[0m\u001b[37;44m, \u001b[0m\u001b[32;44m'value'\u001b[0m\u001b[37;44m: \u001b[0m\u001b[32;44m'11CO057'\u001b[0m\u001b[1;37;44m}\u001b[0m\u001b[37;44m, \u001b[0m\u001b[1;37;44m{\u001b[0m\u001b[37;44m'syst\u001b[0m\u001b[33;44m...\u001b[0m\u001b[37;44m  homo sapiens  male   \u001b[0m\n",
       "\u001b[1;36;44m3\u001b[0m\u001b[37;44m                    \u001b[0m\u001b[1;37;44m[\u001b[0m\u001b[1;37;44m{\u001b[0m\u001b[32;44m'system'\u001b[0m\u001b[37;44m: \u001b[0m\u001b[32;44m'PDC'\u001b[0m\u001b[37;44m, \u001b[0m\u001b[32;44m'value'\u001b[0m\u001b[37;44m: \u001b[0m\u001b[32;44m'121'\u001b[0m\u001b[1;37;44m}\u001b[0m\u001b[1;37;44m]\u001b[0m\u001b[37;44m  homo sapiens  male   \u001b[0m\n",
       "\u001b[1;36;44m4\u001b[0m\u001b[37;44m                   \u001b[0m\u001b[1;37;44m[\u001b[0m\u001b[1;37;44m{\u001b[0m\u001b[32;44m'system'\u001b[0m\u001b[37;44m: \u001b[0m\u001b[32;44m'GDC'\u001b[0m\u001b[37;44m, \u001b[0m\u001b[32;44m'value'\u001b[0m\u001b[37;44m: \u001b[0m\u001b[32;44m'2201'\u001b[0m\u001b[1;37;44m}\u001b[0m\u001b[1;37;44m]\u001b[0m\u001b[37;44m  homo sapiens  male   \u001b[0m\n",
       "\u001b[33;44m...\u001b[0m\u001b[37;44m                                                  \u001b[0m\u001b[33;44m...\u001b[0m\u001b[37;44m           \u001b[0m\u001b[33;44m...\u001b[0m\u001b[37;44m   \u001b[0m\u001b[33;44m...\u001b[0m\u001b[37;44m   \u001b[0m\n",
       "\u001b[1;36;44m40247\u001b[0m\u001b[37;44m  \u001b[0m\u001b[1;37;44m[\u001b[0m\u001b[1;37;44m{\u001b[0m\u001b[32;44m'system'\u001b[0m\u001b[37;44m: \u001b[0m\u001b[32;44m'GDC'\u001b[0m\u001b[37;44m, \u001b[0m\u001b[32;44m'value'\u001b[0m\u001b[37;44m: \u001b[0m\u001b[32;44m'TCGA-YL-A8S8'\u001b[0m\u001b[1;37;44m}\u001b[0m\u001b[37;44m, \u001b[0m\u001b[1;37;44m{\u001b[0m\u001b[33;44m...\u001b[0m\u001b[37;44m  homo sapiens  male   \u001b[0m\n",
       "\u001b[1;36;44m40248\u001b[0m\u001b[37;44m  \u001b[0m\u001b[1;37;44m[\u001b[0m\u001b[1;37;44m{\u001b[0m\u001b[32;44m'system'\u001b[0m\u001b[37;44m: \u001b[0m\u001b[32;44m'GDC'\u001b[0m\u001b[37;44m, \u001b[0m\u001b[32;44m'value'\u001b[0m\u001b[37;44m: \u001b[0m\u001b[32;44m'TCGA-YL-A8SL'\u001b[0m\u001b[1;37;44m}\u001b[0m\u001b[37;44m, \u001b[0m\u001b[1;37;44m{\u001b[0m\u001b[33;44m...\u001b[0m\u001b[37;44m  homo sapiens  male   \u001b[0m\n",
       "\u001b[1;36;44m40249\u001b[0m\u001b[37;44m  \u001b[0m\u001b[1;37;44m[\u001b[0m\u001b[1;37;44m{\u001b[0m\u001b[32;44m'system'\u001b[0m\u001b[37;44m: \u001b[0m\u001b[32;44m'GDC'\u001b[0m\u001b[37;44m, \u001b[0m\u001b[32;44m'value'\u001b[0m\u001b[37;44m: 'UTRI_SUBJECT_001_\u001b[0m\u001b[33;44m...\u001b[0m\u001b[37;44m  homo sapiens  male   \u001b[0m\n",
       "\u001b[1;36;44m40250\u001b[0m\u001b[37;44m  \u001b[0m\u001b[1;37;44m[\u001b[0m\u001b[1;37;44m{\u001b[0m\u001b[32;44m'system'\u001b[0m\u001b[37;44m: \u001b[0m\u001b[32;44m'GDC'\u001b[0m\u001b[37;44m, \u001b[0m\u001b[32;44m'value'\u001b[0m\u001b[37;44m: 'UTRI_SUBJECT_001_\u001b[0m\u001b[33;44m...\u001b[0m\u001b[37;44m  homo sapiens  male   \u001b[0m\n",
       "\u001b[1;36;44m40251\u001b[0m\u001b[37;44m  \u001b[0m\u001b[1;37;44m[\u001b[0m\u001b[1;37;44m{\u001b[0m\u001b[32;44m'system'\u001b[0m\u001b[37;44m: \u001b[0m\u001b[32;44m'GDC'\u001b[0m\u001b[37;44m, \u001b[0m\u001b[32;44m'value'\u001b[0m\u001b[37;44m: 'UTRI_SUBJECT_001_\u001b[0m\u001b[33;44m...\u001b[0m\u001b[37;44m  homo sapiens  male   \u001b[0m\n",
       "\n",
       "\u001b[37;44m               race               ethnicity  days_to_birth  \\\u001b[0m\n",
       "\u001b[1;36;44m0\u001b[0m\u001b[37;44m           chinese            not reported            NaN   \u001b[0m\n",
       "\u001b[1;36;44m1\u001b[0m\u001b[37;44m             white  not hispanic or latino            NaN   \u001b[0m\n",
       "\u001b[1;36;44m2\u001b[0m\u001b[37;44m             white  not hispanic or latino            NaN   \u001b[0m\n",
       "\u001b[1;36;44m3\u001b[0m\u001b[37;44m           chinese            not reported            NaN   \u001b[0m\n",
       "\u001b[1;36;44m4\u001b[0m\u001b[37;44m             white                 Unknown            NaN   \u001b[0m\n",
       "\u001b[33;44m...\u001b[0m\u001b[37;44m             \u001b[0m\u001b[33;44m...\u001b[0m\u001b[37;44m                     \u001b[0m\u001b[33;44m...\u001b[0m\u001b[37;44m            \u001b[0m\u001b[33;44m...\u001b[0m\u001b[37;44m   \u001b[0m\n",
       "\u001b[1;36;44m40247\u001b[0m\u001b[37;44m         white  not hispanic or latino            NaN   \u001b[0m\n",
       "\u001b[1;36;44m40248\u001b[0m\u001b[37;44m         white  not hispanic or latino            NaN   \u001b[0m\n",
       "\u001b[1;36;44m40249\u001b[0m\u001b[37;44m  not reported            not reported            NaN   \u001b[0m\n",
       "\u001b[1;36;44m40250\u001b[0m\u001b[37;44m  not reported            not reported            NaN   \u001b[0m\n",
       "\u001b[1;36;44m40251\u001b[0m\u001b[37;44m  not reported            not reported            NaN   \u001b[0m\n",
       "\n",
       "\u001b[37;44m                              subject_associated_project  vital_status  \\\u001b[0m\n",
       "\u001b[1;36;44m0\u001b[0m\u001b[37;44m      \u001b[0m\u001b[1;37;44m[\u001b[0m\u001b[37;44mIntegrated Proteogenomic Characterization of \u001b[0m\u001b[33;44m...\u001b[0m\u001b[37;44m          Dead   \u001b[0m\n",
       "\u001b[1;36;44m1\u001b[0m\u001b[37;44m                                  \u001b[0m\u001b[1;37;44m[\u001b[0m\u001b[37;44mCPTAC-\u001b[0m\u001b[1;36;44m2\u001b[0m\u001b[37;44m, cptac_coad\u001b[0m\u001b[1;37;44m]\u001b[0m\u001b[37;44m  Not Reported   \u001b[0m\n",
       "\u001b[1;36;44m2\u001b[0m\u001b[37;44m                                  \u001b[0m\u001b[1;37;44m[\u001b[0m\u001b[37;44mCPTAC-\u001b[0m\u001b[1;36;44m2\u001b[0m\u001b[37;44m, cptac_coad\u001b[0m\u001b[1;37;44m]\u001b[0m\u001b[37;44m  Not Reported   \u001b[0m\n",
       "\u001b[1;36;44m3\u001b[0m\u001b[37;44m      \u001b[0m\u001b[1;37;44m[\u001b[0m\u001b[37;44mIntegrated Proteogenomic Characterization of \u001b[0m\u001b[33;44m...\u001b[0m\u001b[37;44m         Alive   \u001b[0m\n",
       "\u001b[1;36;44m4\u001b[0m\u001b[37;44m                                    \u001b[0m\u001b[1;37;44m[\u001b[0m\u001b[37;44mBEATAML1.\u001b[0m\u001b[1;36;44m0\u001b[0m\u001b[37;44m-COHORT\u001b[0m\u001b[1;37;44m]\u001b[0m\u001b[37;44m         Alive   \u001b[0m\n",
       "\u001b[33;44m...\u001b[0m\u001b[37;44m                                                  \u001b[0m\u001b[33;44m...\u001b[0m\u001b[37;44m           \u001b[0m\u001b[33;44m...\u001b[0m\u001b[37;44m   \u001b[0m\n",
       "\u001b[1;36;44m40247\u001b[0m\u001b[37;44m                             \u001b[0m\u001b[1;37;44m[\u001b[0m\u001b[37;44mtcga_prad, TCGA-PRAD\u001b[0m\u001b[1;37;44m]\u001b[0m\u001b[37;44m         Alive   \u001b[0m\n",
       "\u001b[1;36;44m40248\u001b[0m\u001b[37;44m                             \u001b[0m\u001b[1;37;44m[\u001b[0m\u001b[37;44mtcga_prad, TCGA-PRAD\u001b[0m\u001b[1;37;44m]\u001b[0m\u001b[37;44m         Alive   \u001b[0m\n",
       "\u001b[1;36;44m40249\u001b[0m\u001b[37;44m                                         \u001b[0m\u001b[1;37;44m[\u001b[0m\u001b[37;44mTRIO-CRU\u001b[0m\u001b[1;37;44m]\u001b[0m\u001b[37;44m  Not Reported   \u001b[0m\n",
       "\u001b[1;36;44m40250\u001b[0m\u001b[37;44m                                         \u001b[0m\u001b[1;37;44m[\u001b[0m\u001b[37;44mTRIO-CRU\u001b[0m\u001b[1;37;44m]\u001b[0m\u001b[37;44m  Not Reported   \u001b[0m\n",
       "\u001b[1;36;44m40251\u001b[0m\u001b[37;44m                                         \u001b[0m\u001b[1;37;44m[\u001b[0m\u001b[37;44mTRIO-CRU\u001b[0m\u001b[1;37;44m]\u001b[0m\u001b[37;44m  Not Reported   \u001b[0m\n",
       "\n",
       "\u001b[37;44m       days_to_death cause_of_death  \u001b[0m\n",
       "\u001b[1;36;44m0\u001b[0m\u001b[37;44m                NaN     Metastasis  \u001b[0m\n",
       "\u001b[1;36;44m1\u001b[0m\u001b[37;44m                NaN           \u001b[0m\u001b[3;35;44mNone\u001b[0m\u001b[37;44m  \u001b[0m\n",
       "\u001b[1;36;44m2\u001b[0m\u001b[37;44m                NaN           \u001b[0m\u001b[3;35;44mNone\u001b[0m\u001b[37;44m  \u001b[0m\n",
       "\u001b[1;36;44m3\u001b[0m\u001b[37;44m                NaN           \u001b[0m\u001b[3;35;44mNone\u001b[0m\u001b[37;44m  \u001b[0m\n",
       "\u001b[1;36;44m4\u001b[0m\u001b[37;44m                NaN           \u001b[0m\u001b[3;35;44mNone\u001b[0m\u001b[37;44m  \u001b[0m\n",
       "\u001b[33;44m...\u001b[0m\u001b[37;44m              \u001b[0m\u001b[33;44m...\u001b[0m\u001b[37;44m            \u001b[0m\u001b[33;44m...\u001b[0m\u001b[37;44m  \u001b[0m\n",
       "\u001b[1;36;44m40247\u001b[0m\u001b[37;44m            NaN           \u001b[0m\u001b[3;35;44mNone\u001b[0m\u001b[37;44m  \u001b[0m\n",
       "\u001b[1;36;44m40248\u001b[0m\u001b[37;44m            NaN           \u001b[0m\u001b[3;35;44mNone\u001b[0m\u001b[37;44m  \u001b[0m\n",
       "\u001b[1;36;44m40249\u001b[0m\u001b[37;44m            NaN           \u001b[0m\u001b[3;35;44mNone\u001b[0m\u001b[37;44m  \u001b[0m\n",
       "\u001b[1;36;44m40250\u001b[0m\u001b[37;44m            NaN           \u001b[0m\u001b[3;35;44mNone\u001b[0m\u001b[37;44m  \u001b[0m\n",
       "\u001b[1;36;44m40251\u001b[0m\u001b[37;44m            NaN           \u001b[0m\u001b[3;35;44mNone\u001b[0m\u001b[37;44m  \u001b[0m\n",
       "\n",
       "\u001b[1;37;44m[\u001b[0m\u001b[1;36;44m40252\u001b[0m\u001b[37;44m rows x \u001b[0m\u001b[1;36;44m11\u001b[0m\u001b[37;44m columns\u001b[0m\u001b[1;37;44m]\u001b[0m\n"
      ]
     },
     "metadata": {},
     "output_type": "display_data"
    }
   ],
   "source": [
    "import pandas as pd\n",
    "df = pd.DataFrame(box)\n",
    "print(df, style=\"white on blue\")"
   ]
  },
  {
   "cell_type": "code",
   "execution_count": null,
   "id": "284ab4e3-8c39-452c-bcae-2a6d08b9b29e",
   "metadata": {},
   "outputs": [],
   "source": []
  }
 ],
 "metadata": {
  "kernelspec": {
   "display_name": "Python 3 (ipykernel)",
   "language": "python",
   "name": "python3"
  },
  "language_info": {
   "codemirror_mode": {
    "name": "ipython",
    "version": 3
   },
   "file_extension": ".py",
   "mimetype": "text/x-python",
   "name": "python",
   "nbconvert_exporter": "python",
   "pygments_lexer": "ipython3",
   "version": "3.9.6"
  },
  "vscode": {
   "interpreter": {
    "hash": "4578c8680ee810f847df558484335f5ffb0f004d38a87276387030f59580c508"
   }
  }
 },
 "nbformat": 4,
 "nbformat_minor": 5
}
