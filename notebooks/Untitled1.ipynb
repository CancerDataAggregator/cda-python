{
 "cells": [
  {
   "cell_type": "code",
   "execution_count": 1,
   "id": "b974248c-48b3-4233-8211-4677aa63d377",
   "metadata": {},
   "outputs": [],
   "source": [
    "from cdapython import Q,unique_terms"
   ]
  },
  {
   "cell_type": "code",
   "execution_count": 2,
   "id": "1764bcf2-8ecf-45c8-b617-fe239ceb7b95",
   "metadata": {},
   "outputs": [
    {
     "data": {
      "text/html": [
       "<pre style=\"white-space:pre;overflow-x:auto;line-height:normal;font-family:Menlo,'DejaVu Sans Mono',consolas,'Courier New',monospace\"><span style=\"color: #0000ff; text-decoration-color: #0000ff; text-decoration: underline\">https://cancerdata.dsde-dev.broadinstitute.org/</span>\n",
       "</pre>\n"
      ],
      "text/plain": [
       "\u001b[4;94mhttps://cancerdata.dsde-dev.broadinstitute.org/\u001b[0m\n"
      ]
     },
     "metadata": {},
     "output_type": "display_data"
    },
    {
     "data": {
      "text/html": [
       "<pre style=\"white-space:pre;overflow-x:auto;line-height:normal;font-family:Menlo,'DejaVu Sans Mono',consolas,'Courier New',monospace\">broad-dsde-dev.cda_dev\n",
       "</pre>\n"
      ],
      "text/plain": [
       "broad-dsde-dev.cda_dev\n"
      ]
     },
     "metadata": {},
     "output_type": "display_data"
    }
   ],
   "source": [
    "Q.set_default_project_dataset(\"broad-dsde-dev.cda_dev\")\n",
    "Q.set_host_url(\"https://cancerdata.dsde-dev.broadinstitute.org/\")\n",
    "\n",
    "print(Q.get_host_url())\n",
    "print(Q.get_default_project_dataset())"
   ]
  },
  {
   "cell_type": "code",
   "execution_count": 3,
   "id": "81058c54-afe6-4592-b5e7-46c61e646ff1",
   "metadata": {},
   "outputs": [
    {
     "data": {
      "text/html": [
       "<pre style=\"white-space:pre;overflow-x:auto;line-height:normal;font-family:Menlo,'DejaVu Sans Mono',consolas,'Courier New',monospace\">Getting results from database\n",
       "\n",
       "</pre>\n"
      ],
      "text/plain": [
       "Getting results from database\n",
       "\n"
      ]
     },
     "metadata": {},
     "output_type": "display_data"
    },
    {
     "data": {
      "text/html": [
       "<pre style=\"white-space:pre;overflow-x:auto;line-height:normal;font-family:Menlo,'DejaVu Sans Mono',consolas,'Courier New',monospace\">Total execution time: <span style=\"color: #008080; text-decoration-color: #008080; font-weight: bold\">7374</span> ms <span style=\"color: #008080; text-decoration-color: #008080; font-weight: bold\">7.374</span> sec <span style=\"color: #008080; text-decoration-color: #008080; font-weight: bold\">0</span> min\n",
       "</pre>\n"
      ],
      "text/plain": [
       "Total execution time: \u001b[1;36m7374\u001b[0m ms \u001b[1;36m7.374\u001b[0m sec \u001b[1;36m0\u001b[0m min\n"
      ]
     },
     "metadata": {},
     "output_type": "display_data"
    },
    {
     "data": {
      "text/plain": [
       "\n",
       "            Query:SELECT results.* EXCEPT(rn) FROM (SELECT ROW_NUMBER() OVER (PARTITION BY all_Files_v3_0_final.id) as rn, all_Subjects_v3_0_final.id AS id FROM broad-dsde-dev.cda_dev.all_Subjects_v3_0_final AS all_Subjects_v3_0_final INNER JOIN UNNEST(all_Subjects_v3_0_final.ResearchSubject) AS _ResearchSubject INNER JOIN UNNEST(_ResearchSubject.Specimen) AS _ResearchSubject_Specimen INNER JOIN UNNEST(_ResearchSubject_Specimen.Files) AS _ResearchSubject_Specimen_Files INNER JOIN broad-dsde-dev.cda_dev.all_Files_v3_0_final AS all_Files_v3_0_final ON all_Files_v3_0_final.id = _ResearchSubject_Specimen_Files WHERE ((IFNULL(UPPER(_ResearchSubject_Specimen.specimen_type), '') = UPPER('slide')) OR (IFNULL(UPPER(all_Files_v3_0_final.data_type), '') = UPPER('Slide Image')))) as results WHERE rn = 1\n",
       "            Offset: 0\n",
       "            Count: 100\n",
       "            Total Row Count: 496454\n",
       "            More pages: True\n",
       "            "
      ]
     },
     "execution_count": 3,
     "metadata": {},
     "output_type": "execute_result"
    }
   ],
   "source": [
    "mylist = Q('ResearchSubject.Specimen.specimen_type= \"slide\" OR file.data_type = \"Slide Image\"').specimen.file.run(filter=\"id\"\n",
    ", show_sql=True)\n",
    "mylist"
   ]
  },
  {
   "cell_type": "code",
   "execution_count": 4,
   "id": "658895d4-6a85-4224-a610-3cdd53b450d3",
   "metadata": {},
   "outputs": [
    {
     "data": {
      "application/vnd.jupyter.widget-view+json": {
       "model_id": "4a5327089fdc40699a88fd043a569a01",
       "version_major": 2,
       "version_minor": 0
      },
      "text/plain": [
       "Output()"
      ]
     },
     "metadata": {},
     "output_type": "display_data"
    },
    {
     "data": {
      "text/html": [
       "<pre style=\"white-space:pre;overflow-x:auto;line-height:normal;font-family:Menlo,'DejaVu Sans Mono',consolas,'Courier New',monospace\"></pre>\n"
      ],
      "text/plain": []
     },
     "metadata": {},
     "output_type": "display_data"
    },
    {
     "data": {
      "text/html": [
       "<pre style=\"white-space:pre;overflow-x:auto;line-height:normal;font-family:Menlo,'DejaVu Sans Mono',consolas,'Courier New',monospace\">\n",
       "</pre>\n"
      ],
      "text/plain": [
       "\n"
      ]
     },
     "metadata": {},
     "output_type": "display_data"
    },
    {
     "data": {
      "text/html": [
       "<pre style=\"white-space:pre;overflow-x:auto;line-height:normal;font-family:Menlo,'DejaVu Sans Mono',consolas,'Courier New',monospace\">\n",
       "</pre>\n"
      ],
      "text/plain": [
       "\n"
      ]
     },
     "metadata": {},
     "output_type": "display_data"
    }
   ],
   "source": [
    "p = mylist.auto_paginator(to_df=True,limit=20000)"
   ]
  },
  {
   "cell_type": "code",
   "execution_count": 6,
   "id": "b1b65a54-92aa-4d76-ab06-d9d8dd18ce33",
   "metadata": {},
   "outputs": [
    {
     "name": "stdout",
     "output_type": "stream",
     "text": [
      "<class 'pandas.core.frame.DataFrame'>\n",
      "Int64Index: 496454 entries, 0 to 99\n",
      "Data columns (total 1 columns):\n",
      " #   Column  Non-Null Count   Dtype \n",
      "---  ------  --------------   ----- \n",
      " 0   id      496454 non-null  object\n",
      "dtypes: object(1)\n",
      "memory usage: 7.6+ MB\n"
     ]
    }
   ],
   "source": [
    "p.info()"
   ]
  },
  {
   "cell_type": "code",
   "execution_count": null,
   "id": "c5182c3c-1338-445e-922c-40080f784254",
   "metadata": {},
   "outputs": [],
   "source": [
    "localhost = \"http://localhost:8080\"\n",
    "d = unique_terms(\n",
    "        \"species\", host=localhost, table=\"gdc-bq-sample.dev\", show_sql=True\n",
    "    )"
   ]
  },
  {
   "cell_type": "code",
   "execution_count": 30,
   "id": "20d0de23-1a78-4bdc-bd28-0af00b6b44c0",
   "metadata": {},
   "outputs": [
    {
     "data": {
      "text/html": [
       "<div>\n",
       "<style scoped>\n",
       "    .dataframe tbody tr th:only-of-type {\n",
       "        vertical-align: middle;\n",
       "    }\n",
       "\n",
       "    .dataframe tbody tr th {\n",
       "        vertical-align: top;\n",
       "    }\n",
       "\n",
       "    .dataframe thead th {\n",
       "        text-align: right;\n",
       "    }\n",
       "</style>\n",
       "<table border=\"1\" class=\"dataframe\">\n",
       "  <thead>\n",
       "    <tr style=\"text-align: right;\">\n",
       "      <th></th>\n",
       "      <th>species</th>\n",
       "      <th>Count</th>\n",
       "    </tr>\n",
       "  </thead>\n",
       "  <tbody>\n",
       "    <tr>\n",
       "      <th>0</th>\n",
       "      <td>canis familiaris</td>\n",
       "      <td>57</td>\n",
       "    </tr>\n",
       "    <tr>\n",
       "      <th>1</th>\n",
       "      <td>home sapiens</td>\n",
       "      <td>1</td>\n",
       "    </tr>\n",
       "    <tr>\n",
       "      <th>2</th>\n",
       "      <td>homo sapiens</td>\n",
       "      <td>138023</td>\n",
       "    </tr>\n",
       "    <tr>\n",
       "      <th>3</th>\n",
       "      <td>homo sapiens; mus musculus</td>\n",
       "      <td>41</td>\n",
       "    </tr>\n",
       "    <tr>\n",
       "      <th>4</th>\n",
       "      <td>internal reference - pooled sample</td>\n",
       "      <td>1</td>\n",
       "    </tr>\n",
       "    <tr>\n",
       "      <th>5</th>\n",
       "      <td>jhu qc</td>\n",
       "      <td>1</td>\n",
       "    </tr>\n",
       "    <tr>\n",
       "      <th>6</th>\n",
       "      <td>mus musculus</td>\n",
       "      <td>183</td>\n",
       "    </tr>\n",
       "    <tr>\n",
       "      <th>7</th>\n",
       "      <td>normal only ir</td>\n",
       "      <td>1</td>\n",
       "    </tr>\n",
       "    <tr>\n",
       "      <th>8</th>\n",
       "      <td>not reported</td>\n",
       "      <td>19</td>\n",
       "    </tr>\n",
       "    <tr>\n",
       "      <th>9</th>\n",
       "      <td>pnnl-jhu ref</td>\n",
       "      <td>1</td>\n",
       "    </tr>\n",
       "    <tr>\n",
       "      <th>10</th>\n",
       "      <td>ref</td>\n",
       "      <td>1</td>\n",
       "    </tr>\n",
       "    <tr>\n",
       "      <th>11</th>\n",
       "      <td>taiwanese ir</td>\n",
       "      <td>1</td>\n",
       "    </tr>\n",
       "    <tr>\n",
       "      <th>12</th>\n",
       "      <td>tumor only ir</td>\n",
       "      <td>1</td>\n",
       "    </tr>\n",
       "  </tbody>\n",
       "</table>\n",
       "</div>"
      ],
      "text/plain": [
       "                               species   Count\n",
       "0                     canis familiaris      57\n",
       "1                         home sapiens       1\n",
       "2                         homo sapiens  138023\n",
       "3           homo sapiens; mus musculus      41\n",
       "4   internal reference - pooled sample       1\n",
       "5                               jhu qc       1\n",
       "6                         mus musculus     183\n",
       "7                       normal only ir       1\n",
       "8                         not reported      19\n",
       "9                         pnnl-jhu ref       1\n",
       "10                                 ref       1\n",
       "11                        taiwanese ir       1\n",
       "12                       tumor only ir       1"
      ]
     },
     "execution_count": 30,
     "metadata": {},
     "output_type": "execute_result"
    }
   ],
   "source": [
    "d.to_dataframe()"
   ]
  },
  {
   "cell_type": "code",
   "execution_count": null,
   "id": "81f0a38a-3cdf-4330-82bd-850cf2c094d6",
   "metadata": {},
   "outputs": [
    {
     "data": {
      "text/html": [
       "<pre style=\"white-space:pre;overflow-x:auto;line-height:normal;font-family:Menlo,'DejaVu Sans Mono',consolas,'Courier New',monospace\">Getting results from database\n",
       "\n",
       "</pre>\n"
      ],
      "text/plain": [
       "Getting results from database\n",
       "\n"
      ]
     },
     "metadata": {},
     "output_type": "display_data"
    },
    {
     "data": {
      "text/html": [
       "<pre style=\"white-space:pre;overflow-x:auto;line-height:normal;font-family:Menlo,'DejaVu Sans Mono',consolas,'Courier New',monospace\">Waiting for results\n",
       "</pre>\n"
      ],
      "text/plain": [
       "Waiting for results\n"
      ]
     },
     "metadata": {},
     "output_type": "display_data"
    }
   ],
   "source": [
    "d = Q('File.associated_project = \"%cptac%\"').file.run(limit=2000,async_call=True)"
   ]
  },
  {
   "cell_type": "code",
   "execution_count": null,
   "id": "9a081b6a-1f56-44a8-98de-7fc322092cbc",
   "metadata": {},
   "outputs": [],
   "source": []
  }
 ],
 "metadata": {
  "kernelspec": {
   "display_name": "Python 3 (ipykernel)",
   "language": "python",
   "name": "python3"
  },
  "language_info": {
   "codemirror_mode": {
    "name": "ipython",
    "version": 3
   },
   "file_extension": ".py",
   "mimetype": "text/x-python",
   "name": "python",
   "nbconvert_exporter": "python",
   "pygments_lexer": "ipython3",
   "version": "3.7.13"
  },
  "vscode": {
   "interpreter": {
    "hash": "4578c8680ee810f847df558484335f5ffb0f004d38a87276387030f59580c508"
   }
  }
 },
 "nbformat": 4,
 "nbformat_minor": 5
}
