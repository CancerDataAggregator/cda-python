{
 "cells": [
  {
   "cell_type": "code",
   "execution_count": 2,
   "id": "a93a79c9-352f-41cb-9113-6daadaef1d99",
   "metadata": {},
   "outputs": [
    {
     "data": {
      "text/plain": [
       "'2022.7.13'"
      ]
     },
     "execution_count": 2,
     "metadata": {},
     "output_type": "execute_result"
    }
   ],
   "source": [
    "from cdapython import Q,columns,unique_terms\n",
    "Q.get_version()"
   ]
  },
  {
   "cell_type": "code",
   "execution_count": 3,
   "id": "525765be-da36-4349-8ca7-546fc95c15d7",
   "metadata": {},
   "outputs": [
    {
     "data": {
      "text/html": [
       "<pre style=\"white-space:pre;overflow-x:auto;line-height:normal;font-family:Menlo,'DejaVu Sans Mono',consolas,'Courier New',monospace\"><span style=\"color: #0000ff; text-decoration-color: #0000ff; text-decoration: underline\">https://cancerdata.dsde-dev.broadinstitute.org/</span>\n",
       "</pre>\n"
      ],
      "text/plain": [
       "\u001b[4;94mhttps://cancerdata.dsde-dev.broadinstitute.org/\u001b[0m\n"
      ]
     },
     "metadata": {},
     "output_type": "display_data"
    },
    {
     "data": {
      "text/html": [
       "<pre style=\"white-space:pre;overflow-x:auto;line-height:normal;font-family:Menlo,'DejaVu Sans Mono',consolas,'Courier New',monospace\">broad-dsde-dev.cda_dev\n",
       "</pre>\n"
      ],
      "text/plain": [
       "broad-dsde-dev.cda_dev\n"
      ]
     },
     "metadata": {},
     "output_type": "display_data"
    }
   ],
   "source": [
    "Q.set_default_project_dataset(\"broad-dsde-dev.cda_dev\")\n",
    "Q.set_host_url(\"https://cancerdata.dsde-dev.broadinstitute.org/\")\n",
    "\n",
    "print(Q.get_host_url())\n",
    "print(Q.get_default_project_dataset())"
   ]
  },
  {
   "cell_type": "code",
   "execution_count": 8,
   "id": "31a2d29e",
   "metadata": {},
   "outputs": [
    {
     "data": {
      "text/html": [
       "<pre style=\"white-space:pre;overflow-x:auto;line-height:normal;font-family:Menlo,'DejaVu Sans Mono',consolas,'Courier New',monospace\">Getting results from database\n",
       "\n",
       "</pre>\n"
      ],
      "text/plain": [
       "Getting results from database\n",
       "\n"
      ]
     },
     "metadata": {},
     "output_type": "display_data"
    },
    {
     "data": {
      "text/html": [
       "<pre style=\"white-space:pre;overflow-x:auto;line-height:normal;font-family:Menlo,'DejaVu Sans Mono',consolas,'Courier New',monospace\">Total execution time: <span style=\"color: #008080; text-decoration-color: #008080; font-weight: bold\">4309</span> ms <span style=\"color: #008080; text-decoration-color: #008080; font-weight: bold\">4.309</span> sec <span style=\"color: #008080; text-decoration-color: #008080; font-weight: bold\">0</span> min\n",
       "</pre>\n"
      ],
      "text/plain": [
       "Total execution time: \u001b[1;36m4309\u001b[0m ms \u001b[1;36m4.309\u001b[0m sec \u001b[1;36m0\u001b[0m min\n"
      ]
     },
     "metadata": {},
     "output_type": "display_data"
    }
   ],
   "source": [
    " mylist = Q('ResearchSubject.Specimen.specimen_type= \"slide\" OR file.data_type= \"Slide Image\"').specimen.file.run().to_comma_str(\"identifier\")"
   ]
  },
  {
   "cell_type": "code",
   "execution_count": 4,
   "id": "051e1ff6-e493-4a39-81ad-4459fef8a980",
   "metadata": {},
   "outputs": [
    {
     "data": {
      "text/html": [
       "<pre style=\"white-space:pre;overflow-x:auto;line-height:normal;font-family:Menlo,'DejaVu Sans Mono',consolas,'Courier New',monospace\">Getting results from database\n",
       "\n",
       "</pre>\n"
      ],
      "text/plain": [
       "Getting results from database\n",
       "\n"
      ]
     },
     "metadata": {},
     "output_type": "display_data"
    },
    {
     "data": {
      "text/html": [
       "<pre style=\"white-space:pre;overflow-x:auto;line-height:normal;font-family:Menlo,'DejaVu Sans Mono',consolas,'Courier New',monospace\">Waiting for results\n",
       "</pre>\n"
      ],
      "text/plain": [
       "Waiting for results\n"
      ]
     },
     "metadata": {},
     "output_type": "display_data"
    },
    {
     "data": {
      "text/html": [
       "<pre style=\"white-space:pre;overflow-x:auto;line-height:normal;font-family:Menlo,'DejaVu Sans Mono',consolas,'Courier New',monospace\">Total execution time: <span style=\"color: #008080; text-decoration-color: #008080; font-weight: bold\">0</span> min <span style=\"color: #008080; text-decoration-color: #008080; font-weight: bold\">4.989</span> sec <span style=\"color: #008080; text-decoration-color: #008080; font-weight: bold\">4989</span> ms \n",
       "</pre>\n"
      ],
      "text/plain": [
       "Total execution time: \u001b[1;36m0\u001b[0m min \u001b[1;36m4.989\u001b[0m sec \u001b[1;36m4989\u001b[0m ms \n"
      ]
     },
     "metadata": {},
     "output_type": "display_data"
    },
    {
     "data": {
      "application/vnd.jupyter.widget-view+json": {
       "model_id": "2c67b57005d34d93b3a2b5380d6776d9",
       "version_major": 2,
       "version_minor": 0
      },
      "text/plain": [
       "Output()"
      ]
     },
     "metadata": {},
     "output_type": "display_data"
    },
    {
     "data": {
      "text/html": [
       "<pre style=\"white-space:pre;overflow-x:auto;line-height:normal;font-family:Menlo,'DejaVu Sans Mono',consolas,'Courier New',monospace\"></pre>\n"
      ],
      "text/plain": []
     },
     "metadata": {},
     "output_type": "display_data"
    },
    {
     "data": {
      "text/html": [
       "<pre style=\"white-space:pre;overflow-x:auto;line-height:normal;font-family:Menlo,'DejaVu Sans Mono',consolas,'Courier New',monospace\">\n",
       "</pre>\n"
      ],
      "text/plain": [
       "\n"
      ]
     },
     "metadata": {},
     "output_type": "display_data"
    },
    {
     "data": {
      "text/html": [
       "<pre style=\"white-space:pre;overflow-x:auto;line-height:normal;font-family:Menlo,'DejaVu Sans Mono',consolas,'Courier New',monospace\">\n",
       "</pre>\n"
      ],
      "text/plain": [
       "\n"
      ]
     },
     "metadata": {},
     "output_type": "display_data"
    },
    {
     "data": {
      "text/html": [
       "<pre style=\"white-space:pre;overflow-x:auto;line-height:normal;font-family:Menlo,'DejaVu Sans Mono',consolas,'Courier New',monospace\"><span style=\"color: #008080; text-decoration-color: #008080; font-weight: bold\">39864</span>\n",
       "</pre>\n"
      ],
      "text/plain": [
       "\u001b[1;36m39864\u001b[0m\n"
      ]
     },
     "metadata": {},
     "output_type": "display_data"
    }
   ],
   "source": [
    "n = Q(\"sex = 'male' AND sex != 'null'\").run(limit=1000,async_call=True)\n",
    "box = []\n",
    "for i in n.paginator(limit=2000):\n",
    "    box.extend(i)\n",
    "print(len(box))\n"
   ]
  },
  {
   "cell_type": "code",
   "execution_count": 13,
   "id": "75d36ce1-b772-4120-a695-68eb39f6e3dd",
   "metadata": {},
   "outputs": [
    {
     "data": {
      "text/html": [
       "<pre style=\"white-space:pre;overflow-x:auto;line-height:normal;font-family:Menlo,'DejaVu Sans Mono',consolas,'Courier New',monospace\"><span style=\"color: #c0c0c0; text-decoration-color: #c0c0c0; background-color: #000080\">                            id  \\</span>\n",
       "<span style=\"color: #008080; text-decoration-color: #008080; background-color: #000080; font-weight: bold\">0</span><span style=\"color: #c0c0c0; text-decoration-color: #c0c0c0; background-color: #000080\">                         </span><span style=\"color: #008080; text-decoration-color: #008080; background-color: #000080; font-weight: bold\">2004</span><span style=\"color: #c0c0c0; text-decoration-color: #c0c0c0; background-color: #000080\">   </span>\n",
       "<span style=\"color: #008080; text-decoration-color: #008080; background-color: #000080; font-weight: bold\">1</span><span style=\"color: #c0c0c0; text-decoration-color: #c0c0c0; background-color: #000080\">                         </span><span style=\"color: #008080; text-decoration-color: #008080; background-color: #000080; font-weight: bold\">2235</span><span style=\"color: #c0c0c0; text-decoration-color: #c0c0c0; background-color: #000080\">   </span>\n",
       "<span style=\"color: #008080; text-decoration-color: #008080; background-color: #000080; font-weight: bold\">2</span><span style=\"color: #c0c0c0; text-decoration-color: #c0c0c0; background-color: #000080\">                         </span><span style=\"color: #008080; text-decoration-color: #008080; background-color: #000080; font-weight: bold\">2377</span><span style=\"color: #c0c0c0; text-decoration-color: #c0c0c0; background-color: #000080\">   </span>\n",
       "<span style=\"color: #008080; text-decoration-color: #008080; background-color: #000080; font-weight: bold\">3</span><span style=\"color: #c0c0c0; text-decoration-color: #c0c0c0; background-color: #000080\">                         </span><span style=\"color: #008080; text-decoration-color: #008080; background-color: #000080; font-weight: bold\">2458</span><span style=\"color: #c0c0c0; text-decoration-color: #c0c0c0; background-color: #000080\">   </span>\n",
       "<span style=\"color: #008080; text-decoration-color: #008080; background-color: #000080; font-weight: bold\">4</span><span style=\"color: #c0c0c0; text-decoration-color: #c0c0c0; background-color: #000080\">                         </span><span style=\"color: #008080; text-decoration-color: #008080; background-color: #000080; font-weight: bold\">3566</span><span style=\"color: #c0c0c0; text-decoration-color: #c0c0c0; background-color: #000080\">   </span>\n",
       "<span style=\"color: #808000; text-decoration-color: #808000; background-color: #000080\">...</span><span style=\"color: #c0c0c0; text-decoration-color: #c0c0c0; background-color: #000080\">                        </span><span style=\"color: #808000; text-decoration-color: #808000; background-color: #000080\">...</span><span style=\"color: #c0c0c0; text-decoration-color: #c0c0c0; background-color: #000080\">   </span>\n",
       "<span style=\"color: #008080; text-decoration-color: #008080; background-color: #000080; font-weight: bold\">39859</span><span style=\"color: #c0c0c0; text-decoration-color: #c0c0c0; background-color: #000080\">             TCGA-XK-AAJU   </span>\n",
       "<span style=\"color: #008080; text-decoration-color: #008080; background-color: #000080; font-weight: bold\">39860</span><span style=\"color: #c0c0c0; text-decoration-color: #c0c0c0; background-color: #000080\">             TCGA-XP-A8T6   </span>\n",
       "<span style=\"color: #008080; text-decoration-color: #008080; background-color: #000080; font-weight: bold\">39861</span><span style=\"color: #c0c0c0; text-decoration-color: #c0c0c0; background-color: #000080\">             TCGA-ZF-A9R5   </span>\n",
       "<span style=\"color: #008080; text-decoration-color: #008080; background-color: #000080; font-weight: bold\">39862</span><span style=\"color: #c0c0c0; text-decoration-color: #c0c0c0; background-color: #000080\">  UTRI_SUBJECT_001_000573   </span>\n",
       "<span style=\"color: #008080; text-decoration-color: #008080; background-color: #000080; font-weight: bold\">39863</span><span style=\"color: #c0c0c0; text-decoration-color: #c0c0c0; background-color: #000080\">  UTRI_SUBJECT_001_000588   </span>\n",
       "\n",
       "<span style=\"color: #c0c0c0; text-decoration-color: #c0c0c0; background-color: #000080\">                                              identifier       species   sex  \\</span>\n",
       "<span style=\"color: #008080; text-decoration-color: #008080; background-color: #000080; font-weight: bold\">0</span><span style=\"color: #c0c0c0; text-decoration-color: #c0c0c0; background-color: #000080\">                   </span><span style=\"color: #c0c0c0; text-decoration-color: #c0c0c0; background-color: #000080; font-weight: bold\">[{</span><span style=\"color: #008000; text-decoration-color: #008000; background-color: #000080\">'system'</span><span style=\"color: #c0c0c0; text-decoration-color: #c0c0c0; background-color: #000080\">: </span><span style=\"color: #008000; text-decoration-color: #008000; background-color: #000080\">'GDC'</span><span style=\"color: #c0c0c0; text-decoration-color: #c0c0c0; background-color: #000080\">, </span><span style=\"color: #008000; text-decoration-color: #008000; background-color: #000080\">'value'</span><span style=\"color: #c0c0c0; text-decoration-color: #c0c0c0; background-color: #000080\">: </span><span style=\"color: #008000; text-decoration-color: #008000; background-color: #000080\">'2004'</span><span style=\"color: #c0c0c0; text-decoration-color: #c0c0c0; background-color: #000080; font-weight: bold\">}]</span><span style=\"color: #c0c0c0; text-decoration-color: #c0c0c0; background-color: #000080\">  homo sapiens  male   </span>\n",
       "<span style=\"color: #008080; text-decoration-color: #008080; background-color: #000080; font-weight: bold\">1</span><span style=\"color: #c0c0c0; text-decoration-color: #c0c0c0; background-color: #000080\">                   </span><span style=\"color: #c0c0c0; text-decoration-color: #c0c0c0; background-color: #000080; font-weight: bold\">[{</span><span style=\"color: #008000; text-decoration-color: #008000; background-color: #000080\">'system'</span><span style=\"color: #c0c0c0; text-decoration-color: #c0c0c0; background-color: #000080\">: </span><span style=\"color: #008000; text-decoration-color: #008000; background-color: #000080\">'GDC'</span><span style=\"color: #c0c0c0; text-decoration-color: #c0c0c0; background-color: #000080\">, </span><span style=\"color: #008000; text-decoration-color: #008000; background-color: #000080\">'value'</span><span style=\"color: #c0c0c0; text-decoration-color: #c0c0c0; background-color: #000080\">: </span><span style=\"color: #008000; text-decoration-color: #008000; background-color: #000080\">'2235'</span><span style=\"color: #c0c0c0; text-decoration-color: #c0c0c0; background-color: #000080; font-weight: bold\">}]</span><span style=\"color: #c0c0c0; text-decoration-color: #c0c0c0; background-color: #000080\">  homo sapiens  male   </span>\n",
       "<span style=\"color: #008080; text-decoration-color: #008080; background-color: #000080; font-weight: bold\">2</span><span style=\"color: #c0c0c0; text-decoration-color: #c0c0c0; background-color: #000080\">                   </span><span style=\"color: #c0c0c0; text-decoration-color: #c0c0c0; background-color: #000080; font-weight: bold\">[{</span><span style=\"color: #008000; text-decoration-color: #008000; background-color: #000080\">'system'</span><span style=\"color: #c0c0c0; text-decoration-color: #c0c0c0; background-color: #000080\">: </span><span style=\"color: #008000; text-decoration-color: #008000; background-color: #000080\">'GDC'</span><span style=\"color: #c0c0c0; text-decoration-color: #c0c0c0; background-color: #000080\">, </span><span style=\"color: #008000; text-decoration-color: #008000; background-color: #000080\">'value'</span><span style=\"color: #c0c0c0; text-decoration-color: #c0c0c0; background-color: #000080\">: </span><span style=\"color: #008000; text-decoration-color: #008000; background-color: #000080\">'2377'</span><span style=\"color: #c0c0c0; text-decoration-color: #c0c0c0; background-color: #000080; font-weight: bold\">}]</span><span style=\"color: #c0c0c0; text-decoration-color: #c0c0c0; background-color: #000080\">  homo sapiens  male   </span>\n",
       "<span style=\"color: #008080; text-decoration-color: #008080; background-color: #000080; font-weight: bold\">3</span><span style=\"color: #c0c0c0; text-decoration-color: #c0c0c0; background-color: #000080\">                   </span><span style=\"color: #c0c0c0; text-decoration-color: #c0c0c0; background-color: #000080; font-weight: bold\">[{</span><span style=\"color: #008000; text-decoration-color: #008000; background-color: #000080\">'system'</span><span style=\"color: #c0c0c0; text-decoration-color: #c0c0c0; background-color: #000080\">: </span><span style=\"color: #008000; text-decoration-color: #008000; background-color: #000080\">'GDC'</span><span style=\"color: #c0c0c0; text-decoration-color: #c0c0c0; background-color: #000080\">, </span><span style=\"color: #008000; text-decoration-color: #008000; background-color: #000080\">'value'</span><span style=\"color: #c0c0c0; text-decoration-color: #c0c0c0; background-color: #000080\">: </span><span style=\"color: #008000; text-decoration-color: #008000; background-color: #000080\">'2458'</span><span style=\"color: #c0c0c0; text-decoration-color: #c0c0c0; background-color: #000080; font-weight: bold\">}]</span><span style=\"color: #c0c0c0; text-decoration-color: #c0c0c0; background-color: #000080\">  homo sapiens  male   </span>\n",
       "<span style=\"color: #008080; text-decoration-color: #008080; background-color: #000080; font-weight: bold\">4</span><span style=\"color: #c0c0c0; text-decoration-color: #c0c0c0; background-color: #000080\">                   </span><span style=\"color: #c0c0c0; text-decoration-color: #c0c0c0; background-color: #000080; font-weight: bold\">[{</span><span style=\"color: #008000; text-decoration-color: #008000; background-color: #000080\">'system'</span><span style=\"color: #c0c0c0; text-decoration-color: #c0c0c0; background-color: #000080\">: </span><span style=\"color: #008000; text-decoration-color: #008000; background-color: #000080\">'GDC'</span><span style=\"color: #c0c0c0; text-decoration-color: #c0c0c0; background-color: #000080\">, </span><span style=\"color: #008000; text-decoration-color: #008000; background-color: #000080\">'value'</span><span style=\"color: #c0c0c0; text-decoration-color: #c0c0c0; background-color: #000080\">: </span><span style=\"color: #008000; text-decoration-color: #008000; background-color: #000080\">'3566'</span><span style=\"color: #c0c0c0; text-decoration-color: #c0c0c0; background-color: #000080; font-weight: bold\">}]</span><span style=\"color: #c0c0c0; text-decoration-color: #c0c0c0; background-color: #000080\">  homo sapiens  male   </span>\n",
       "<span style=\"color: #808000; text-decoration-color: #808000; background-color: #000080\">...</span><span style=\"color: #c0c0c0; text-decoration-color: #c0c0c0; background-color: #000080\">                                                  </span><span style=\"color: #808000; text-decoration-color: #808000; background-color: #000080\">...</span><span style=\"color: #c0c0c0; text-decoration-color: #c0c0c0; background-color: #000080\">           </span><span style=\"color: #808000; text-decoration-color: #808000; background-color: #000080\">...</span><span style=\"color: #c0c0c0; text-decoration-color: #c0c0c0; background-color: #000080\">   </span><span style=\"color: #808000; text-decoration-color: #808000; background-color: #000080\">...</span><span style=\"color: #c0c0c0; text-decoration-color: #c0c0c0; background-color: #000080\">   </span>\n",
       "<span style=\"color: #008080; text-decoration-color: #008080; background-color: #000080; font-weight: bold\">39859</span><span style=\"color: #c0c0c0; text-decoration-color: #c0c0c0; background-color: #000080\">  </span><span style=\"color: #c0c0c0; text-decoration-color: #c0c0c0; background-color: #000080; font-weight: bold\">[{</span><span style=\"color: #008000; text-decoration-color: #008000; background-color: #000080\">'system'</span><span style=\"color: #c0c0c0; text-decoration-color: #c0c0c0; background-color: #000080\">: </span><span style=\"color: #008000; text-decoration-color: #008000; background-color: #000080\">'GDC'</span><span style=\"color: #c0c0c0; text-decoration-color: #c0c0c0; background-color: #000080\">, </span><span style=\"color: #008000; text-decoration-color: #008000; background-color: #000080\">'value'</span><span style=\"color: #c0c0c0; text-decoration-color: #c0c0c0; background-color: #000080\">: </span><span style=\"color: #008000; text-decoration-color: #008000; background-color: #000080\">'TCGA-XK-AAJU'</span><span style=\"color: #c0c0c0; text-decoration-color: #c0c0c0; background-color: #000080; font-weight: bold\">}</span><span style=\"color: #c0c0c0; text-decoration-color: #c0c0c0; background-color: #000080\">, </span><span style=\"color: #c0c0c0; text-decoration-color: #c0c0c0; background-color: #000080; font-weight: bold\">{</span><span style=\"color: #808000; text-decoration-color: #808000; background-color: #000080\">...</span><span style=\"color: #c0c0c0; text-decoration-color: #c0c0c0; background-color: #000080\">  homo sapiens  male   </span>\n",
       "<span style=\"color: #008080; text-decoration-color: #008080; background-color: #000080; font-weight: bold\">39860</span><span style=\"color: #c0c0c0; text-decoration-color: #c0c0c0; background-color: #000080\">  </span><span style=\"color: #c0c0c0; text-decoration-color: #c0c0c0; background-color: #000080; font-weight: bold\">[{</span><span style=\"color: #008000; text-decoration-color: #008000; background-color: #000080\">'system'</span><span style=\"color: #c0c0c0; text-decoration-color: #c0c0c0; background-color: #000080\">: </span><span style=\"color: #008000; text-decoration-color: #008000; background-color: #000080\">'GDC'</span><span style=\"color: #c0c0c0; text-decoration-color: #c0c0c0; background-color: #000080\">, </span><span style=\"color: #008000; text-decoration-color: #008000; background-color: #000080\">'value'</span><span style=\"color: #c0c0c0; text-decoration-color: #c0c0c0; background-color: #000080\">: </span><span style=\"color: #008000; text-decoration-color: #008000; background-color: #000080\">'TCGA-XP-A8T6'</span><span style=\"color: #c0c0c0; text-decoration-color: #c0c0c0; background-color: #000080; font-weight: bold\">}</span><span style=\"color: #c0c0c0; text-decoration-color: #c0c0c0; background-color: #000080\">, </span><span style=\"color: #c0c0c0; text-decoration-color: #c0c0c0; background-color: #000080; font-weight: bold\">{</span><span style=\"color: #808000; text-decoration-color: #808000; background-color: #000080\">...</span><span style=\"color: #c0c0c0; text-decoration-color: #c0c0c0; background-color: #000080\">  homo sapiens  male   </span>\n",
       "<span style=\"color: #008080; text-decoration-color: #008080; background-color: #000080; font-weight: bold\">39861</span><span style=\"color: #c0c0c0; text-decoration-color: #c0c0c0; background-color: #000080\">  </span><span style=\"color: #c0c0c0; text-decoration-color: #c0c0c0; background-color: #000080; font-weight: bold\">[{</span><span style=\"color: #008000; text-decoration-color: #008000; background-color: #000080\">'system'</span><span style=\"color: #c0c0c0; text-decoration-color: #c0c0c0; background-color: #000080\">: </span><span style=\"color: #008000; text-decoration-color: #008000; background-color: #000080\">'GDC'</span><span style=\"color: #c0c0c0; text-decoration-color: #c0c0c0; background-color: #000080\">, </span><span style=\"color: #008000; text-decoration-color: #008000; background-color: #000080\">'value'</span><span style=\"color: #c0c0c0; text-decoration-color: #c0c0c0; background-color: #000080\">: </span><span style=\"color: #008000; text-decoration-color: #008000; background-color: #000080\">'TCGA-ZF-A9R5'</span><span style=\"color: #c0c0c0; text-decoration-color: #c0c0c0; background-color: #000080; font-weight: bold\">}</span><span style=\"color: #c0c0c0; text-decoration-color: #c0c0c0; background-color: #000080\">, </span><span style=\"color: #c0c0c0; text-decoration-color: #c0c0c0; background-color: #000080; font-weight: bold\">{</span><span style=\"color: #808000; text-decoration-color: #808000; background-color: #000080\">...</span><span style=\"color: #c0c0c0; text-decoration-color: #c0c0c0; background-color: #000080\">  homo sapiens  male   </span>\n",
       "<span style=\"color: #008080; text-decoration-color: #008080; background-color: #000080; font-weight: bold\">39862</span><span style=\"color: #c0c0c0; text-decoration-color: #c0c0c0; background-color: #000080\">  </span><span style=\"color: #c0c0c0; text-decoration-color: #c0c0c0; background-color: #000080; font-weight: bold\">[{</span><span style=\"color: #008000; text-decoration-color: #008000; background-color: #000080\">'system'</span><span style=\"color: #c0c0c0; text-decoration-color: #c0c0c0; background-color: #000080\">: </span><span style=\"color: #008000; text-decoration-color: #008000; background-color: #000080\">'GDC'</span><span style=\"color: #c0c0c0; text-decoration-color: #c0c0c0; background-color: #000080\">, </span><span style=\"color: #008000; text-decoration-color: #008000; background-color: #000080\">'value'</span><span style=\"color: #c0c0c0; text-decoration-color: #c0c0c0; background-color: #000080\">: 'UTRI_SUBJECT_001_</span><span style=\"color: #808000; text-decoration-color: #808000; background-color: #000080\">...</span><span style=\"color: #c0c0c0; text-decoration-color: #c0c0c0; background-color: #000080\">  homo sapiens  male   </span>\n",
       "<span style=\"color: #008080; text-decoration-color: #008080; background-color: #000080; font-weight: bold\">39863</span><span style=\"color: #c0c0c0; text-decoration-color: #c0c0c0; background-color: #000080\">  </span><span style=\"color: #c0c0c0; text-decoration-color: #c0c0c0; background-color: #000080; font-weight: bold\">[{</span><span style=\"color: #008000; text-decoration-color: #008000; background-color: #000080\">'system'</span><span style=\"color: #c0c0c0; text-decoration-color: #c0c0c0; background-color: #000080\">: </span><span style=\"color: #008000; text-decoration-color: #008000; background-color: #000080\">'GDC'</span><span style=\"color: #c0c0c0; text-decoration-color: #c0c0c0; background-color: #000080\">, </span><span style=\"color: #008000; text-decoration-color: #008000; background-color: #000080\">'value'</span><span style=\"color: #c0c0c0; text-decoration-color: #c0c0c0; background-color: #000080\">: 'UTRI_SUBJECT_001_</span><span style=\"color: #808000; text-decoration-color: #808000; background-color: #000080\">...</span><span style=\"color: #c0c0c0; text-decoration-color: #c0c0c0; background-color: #000080\">  homo sapiens  male   </span>\n",
       "\n",
       "<span style=\"color: #c0c0c0; text-decoration-color: #c0c0c0; background-color: #000080\">                            race               ethnicity  days_to_birth  \\</span>\n",
       "<span style=\"color: #008080; text-decoration-color: #008080; background-color: #000080; font-weight: bold\">0</span><span style=\"color: #c0c0c0; text-decoration-color: #c0c0c0; background-color: #000080\">                          white  not hispanic or latino            NaN   </span>\n",
       "<span style=\"color: #008080; text-decoration-color: #008080; background-color: #000080; font-weight: bold\">1</span><span style=\"color: #c0c0c0; text-decoration-color: #c0c0c0; background-color: #000080\">                        Unknown                 Unknown            NaN   </span>\n",
       "<span style=\"color: #008080; text-decoration-color: #008080; background-color: #000080; font-weight: bold\">2</span><span style=\"color: #c0c0c0; text-decoration-color: #c0c0c0; background-color: #000080\">      black or african american                 Unknown            NaN   </span>\n",
       "<span style=\"color: #008080; text-decoration-color: #008080; background-color: #000080; font-weight: bold\">3</span><span style=\"color: #c0c0c0; text-decoration-color: #c0c0c0; background-color: #000080\">                        Unknown                 Unknown            NaN   </span>\n",
       "<span style=\"color: #008080; text-decoration-color: #008080; background-color: #000080; font-weight: bold\">4</span><span style=\"color: #c0c0c0; text-decoration-color: #c0c0c0; background-color: #000080\">                   not reported            not reported            NaN   </span>\n",
       "<span style=\"color: #808000; text-decoration-color: #808000; background-color: #000080\">...</span><span style=\"color: #c0c0c0; text-decoration-color: #c0c0c0; background-color: #000080\">                          </span><span style=\"color: #808000; text-decoration-color: #808000; background-color: #000080\">...</span><span style=\"color: #c0c0c0; text-decoration-color: #c0c0c0; background-color: #000080\">                     </span><span style=\"color: #808000; text-decoration-color: #808000; background-color: #000080\">...</span><span style=\"color: #c0c0c0; text-decoration-color: #c0c0c0; background-color: #000080\">            </span><span style=\"color: #808000; text-decoration-color: #808000; background-color: #000080\">...</span><span style=\"color: #c0c0c0; text-decoration-color: #c0c0c0; background-color: #000080\">   </span>\n",
       "<span style=\"color: #008080; text-decoration-color: #008080; background-color: #000080; font-weight: bold\">39859</span><span style=\"color: #c0c0c0; text-decoration-color: #c0c0c0; background-color: #000080\">                      white            not reported       </span><span style=\"color: #008080; text-decoration-color: #008080; background-color: #000080; font-weight: bold\">-23958.0</span><span style=\"color: #c0c0c0; text-decoration-color: #c0c0c0; background-color: #000080\">   </span>\n",
       "<span style=\"color: #008080; text-decoration-color: #008080; background-color: #000080; font-weight: bold\">39860</span><span style=\"color: #c0c0c0; text-decoration-color: #c0c0c0; background-color: #000080\">  black or african american      hispanic or latino       </span><span style=\"color: #008080; text-decoration-color: #008080; background-color: #000080; font-weight: bold\">-19886.0</span><span style=\"color: #c0c0c0; text-decoration-color: #c0c0c0; background-color: #000080\">   </span>\n",
       "<span style=\"color: #008080; text-decoration-color: #008080; background-color: #000080; font-weight: bold\">39861</span><span style=\"color: #c0c0c0; text-decoration-color: #c0c0c0; background-color: #000080\">                      white  not hispanic or latino       </span><span style=\"color: #008080; text-decoration-color: #008080; background-color: #000080; font-weight: bold\">-21811.0</span><span style=\"color: #c0c0c0; text-decoration-color: #c0c0c0; background-color: #000080\">   </span>\n",
       "<span style=\"color: #008080; text-decoration-color: #008080; background-color: #000080; font-weight: bold\">39862</span><span style=\"color: #c0c0c0; text-decoration-color: #c0c0c0; background-color: #000080\">               not reported            not reported            NaN   </span>\n",
       "<span style=\"color: #008080; text-decoration-color: #008080; background-color: #000080; font-weight: bold\">39863</span><span style=\"color: #c0c0c0; text-decoration-color: #c0c0c0; background-color: #000080\">               not reported            not reported            NaN   </span>\n",
       "\n",
       "<span style=\"color: #c0c0c0; text-decoration-color: #c0c0c0; background-color: #000080\">      subject_associated_project  vital_status  days_to_death cause_of_death  </span>\n",
       "<span style=\"color: #008080; text-decoration-color: #008080; background-color: #000080; font-weight: bold\">0</span><span style=\"color: #c0c0c0; text-decoration-color: #c0c0c0; background-color: #000080\">            </span><span style=\"color: #c0c0c0; text-decoration-color: #c0c0c0; background-color: #000080; font-weight: bold\">[</span><span style=\"color: #c0c0c0; text-decoration-color: #c0c0c0; background-color: #000080\">BEATAML1.</span><span style=\"color: #008080; text-decoration-color: #008080; background-color: #000080; font-weight: bold\">0</span><span style=\"color: #c0c0c0; text-decoration-color: #c0c0c0; background-color: #000080\">-COHORT</span><span style=\"color: #c0c0c0; text-decoration-color: #c0c0c0; background-color: #000080; font-weight: bold\">]</span><span style=\"color: #c0c0c0; text-decoration-color: #c0c0c0; background-color: #000080\">          Dead            NaN           </span><span style=\"color: #800080; text-decoration-color: #800080; background-color: #000080; font-style: italic\">None</span><span style=\"color: #c0c0c0; text-decoration-color: #c0c0c0; background-color: #000080\">  </span>\n",
       "<span style=\"color: #008080; text-decoration-color: #008080; background-color: #000080; font-weight: bold\">1</span><span style=\"color: #c0c0c0; text-decoration-color: #c0c0c0; background-color: #000080\">            </span><span style=\"color: #c0c0c0; text-decoration-color: #c0c0c0; background-color: #000080; font-weight: bold\">[</span><span style=\"color: #c0c0c0; text-decoration-color: #c0c0c0; background-color: #000080\">BEATAML1.</span><span style=\"color: #008080; text-decoration-color: #008080; background-color: #000080; font-weight: bold\">0</span><span style=\"color: #c0c0c0; text-decoration-color: #c0c0c0; background-color: #000080\">-COHORT</span><span style=\"color: #c0c0c0; text-decoration-color: #c0c0c0; background-color: #000080; font-weight: bold\">]</span><span style=\"color: #c0c0c0; text-decoration-color: #c0c0c0; background-color: #000080\">          Dead            NaN           </span><span style=\"color: #800080; text-decoration-color: #800080; background-color: #000080; font-style: italic\">None</span><span style=\"color: #c0c0c0; text-decoration-color: #c0c0c0; background-color: #000080\">  </span>\n",
       "<span style=\"color: #008080; text-decoration-color: #008080; background-color: #000080; font-weight: bold\">2</span><span style=\"color: #c0c0c0; text-decoration-color: #c0c0c0; background-color: #000080\">            </span><span style=\"color: #c0c0c0; text-decoration-color: #c0c0c0; background-color: #000080; font-weight: bold\">[</span><span style=\"color: #c0c0c0; text-decoration-color: #c0c0c0; background-color: #000080\">BEATAML1.</span><span style=\"color: #008080; text-decoration-color: #008080; background-color: #000080; font-weight: bold\">0</span><span style=\"color: #c0c0c0; text-decoration-color: #c0c0c0; background-color: #000080\">-COHORT</span><span style=\"color: #c0c0c0; text-decoration-color: #c0c0c0; background-color: #000080; font-weight: bold\">]</span><span style=\"color: #c0c0c0; text-decoration-color: #c0c0c0; background-color: #000080\">         Alive            NaN           </span><span style=\"color: #800080; text-decoration-color: #800080; background-color: #000080; font-style: italic\">None</span><span style=\"color: #c0c0c0; text-decoration-color: #c0c0c0; background-color: #000080\">  </span>\n",
       "<span style=\"color: #008080; text-decoration-color: #008080; background-color: #000080; font-weight: bold\">3</span><span style=\"color: #c0c0c0; text-decoration-color: #c0c0c0; background-color: #000080\">            </span><span style=\"color: #c0c0c0; text-decoration-color: #c0c0c0; background-color: #000080; font-weight: bold\">[</span><span style=\"color: #c0c0c0; text-decoration-color: #c0c0c0; background-color: #000080\">BEATAML1.</span><span style=\"color: #008080; text-decoration-color: #008080; background-color: #000080; font-weight: bold\">0</span><span style=\"color: #c0c0c0; text-decoration-color: #c0c0c0; background-color: #000080\">-COHORT</span><span style=\"color: #c0c0c0; text-decoration-color: #c0c0c0; background-color: #000080; font-weight: bold\">]</span><span style=\"color: #c0c0c0; text-decoration-color: #c0c0c0; background-color: #000080\">          Dead            NaN           </span><span style=\"color: #800080; text-decoration-color: #800080; background-color: #000080; font-style: italic\">None</span><span style=\"color: #c0c0c0; text-decoration-color: #c0c0c0; background-color: #000080\">  </span>\n",
       "<span style=\"color: #008080; text-decoration-color: #008080; background-color: #000080; font-weight: bold\">4</span><span style=\"color: #c0c0c0; text-decoration-color: #c0c0c0; background-color: #000080\">                     </span><span style=\"color: #c0c0c0; text-decoration-color: #c0c0c0; background-color: #000080; font-weight: bold\">[</span><span style=\"color: #c0c0c0; text-decoration-color: #c0c0c0; background-color: #000080\">OHSU-CNL</span><span style=\"color: #c0c0c0; text-decoration-color: #c0c0c0; background-color: #000080; font-weight: bold\">]</span><span style=\"color: #c0c0c0; text-decoration-color: #c0c0c0; background-color: #000080\">          Dead            NaN           </span><span style=\"color: #800080; text-decoration-color: #800080; background-color: #000080; font-style: italic\">None</span><span style=\"color: #c0c0c0; text-decoration-color: #c0c0c0; background-color: #000080\">  </span>\n",
       "<span style=\"color: #808000; text-decoration-color: #808000; background-color: #000080\">...</span><span style=\"color: #c0c0c0; text-decoration-color: #c0c0c0; background-color: #000080\">                          </span><span style=\"color: #808000; text-decoration-color: #808000; background-color: #000080\">...</span><span style=\"color: #c0c0c0; text-decoration-color: #c0c0c0; background-color: #000080\">           </span><span style=\"color: #808000; text-decoration-color: #808000; background-color: #000080\">...</span><span style=\"color: #c0c0c0; text-decoration-color: #c0c0c0; background-color: #000080\">            </span><span style=\"color: #808000; text-decoration-color: #808000; background-color: #000080\">...</span><span style=\"color: #c0c0c0; text-decoration-color: #c0c0c0; background-color: #000080\">            </span><span style=\"color: #808000; text-decoration-color: #808000; background-color: #000080\">...</span><span style=\"color: #c0c0c0; text-decoration-color: #c0c0c0; background-color: #000080\">  </span>\n",
       "<span style=\"color: #008080; text-decoration-color: #008080; background-color: #000080; font-weight: bold\">39859</span><span style=\"color: #c0c0c0; text-decoration-color: #c0c0c0; background-color: #000080\">     </span><span style=\"color: #c0c0c0; text-decoration-color: #c0c0c0; background-color: #000080; font-weight: bold\">[</span><span style=\"color: #c0c0c0; text-decoration-color: #c0c0c0; background-color: #000080\">TCGA-PRAD, tcga_prad</span><span style=\"color: #c0c0c0; text-decoration-color: #c0c0c0; background-color: #000080; font-weight: bold\">]</span><span style=\"color: #c0c0c0; text-decoration-color: #c0c0c0; background-color: #000080\">         Alive            NaN           </span><span style=\"color: #800080; text-decoration-color: #800080; background-color: #000080; font-style: italic\">None</span><span style=\"color: #c0c0c0; text-decoration-color: #c0c0c0; background-color: #000080\">  </span>\n",
       "<span style=\"color: #008080; text-decoration-color: #008080; background-color: #000080; font-weight: bold\">39860</span><span style=\"color: #c0c0c0; text-decoration-color: #c0c0c0; background-color: #000080\">     </span><span style=\"color: #c0c0c0; text-decoration-color: #c0c0c0; background-color: #000080; font-weight: bold\">[</span><span style=\"color: #c0c0c0; text-decoration-color: #c0c0c0; background-color: #000080\">tcga_esca, TCGA-ESCA</span><span style=\"color: #c0c0c0; text-decoration-color: #c0c0c0; background-color: #000080; font-weight: bold\">]</span><span style=\"color: #c0c0c0; text-decoration-color: #c0c0c0; background-color: #000080\">          Dead          </span><span style=\"color: #008080; text-decoration-color: #008080; background-color: #000080; font-weight: bold\">763.0</span><span style=\"color: #c0c0c0; text-decoration-color: #c0c0c0; background-color: #000080\">           </span><span style=\"color: #800080; text-decoration-color: #800080; background-color: #000080; font-style: italic\">None</span><span style=\"color: #c0c0c0; text-decoration-color: #c0c0c0; background-color: #000080\">  </span>\n",
       "<span style=\"color: #008080; text-decoration-color: #008080; background-color: #000080; font-weight: bold\">39861</span><span style=\"color: #c0c0c0; text-decoration-color: #c0c0c0; background-color: #000080\">     </span><span style=\"color: #c0c0c0; text-decoration-color: #c0c0c0; background-color: #000080; font-weight: bold\">[</span><span style=\"color: #c0c0c0; text-decoration-color: #c0c0c0; background-color: #000080\">TCGA-BLCA, tcga_blca</span><span style=\"color: #c0c0c0; text-decoration-color: #c0c0c0; background-color: #000080; font-weight: bold\">]</span><span style=\"color: #c0c0c0; text-decoration-color: #c0c0c0; background-color: #000080\">         Alive            NaN           </span><span style=\"color: #800080; text-decoration-color: #800080; background-color: #000080; font-style: italic\">None</span><span style=\"color: #c0c0c0; text-decoration-color: #c0c0c0; background-color: #000080\">  </span>\n",
       "<span style=\"color: #008080; text-decoration-color: #008080; background-color: #000080; font-weight: bold\">39862</span><span style=\"color: #c0c0c0; text-decoration-color: #c0c0c0; background-color: #000080\">                 </span><span style=\"color: #c0c0c0; text-decoration-color: #c0c0c0; background-color: #000080; font-weight: bold\">[</span><span style=\"color: #c0c0c0; text-decoration-color: #c0c0c0; background-color: #000080\">TRIO-CRU</span><span style=\"color: #c0c0c0; text-decoration-color: #c0c0c0; background-color: #000080; font-weight: bold\">]</span><span style=\"color: #c0c0c0; text-decoration-color: #c0c0c0; background-color: #000080\">  Not Reported            NaN           </span><span style=\"color: #800080; text-decoration-color: #800080; background-color: #000080; font-style: italic\">None</span><span style=\"color: #c0c0c0; text-decoration-color: #c0c0c0; background-color: #000080\">  </span>\n",
       "<span style=\"color: #008080; text-decoration-color: #008080; background-color: #000080; font-weight: bold\">39863</span><span style=\"color: #c0c0c0; text-decoration-color: #c0c0c0; background-color: #000080\">                 </span><span style=\"color: #c0c0c0; text-decoration-color: #c0c0c0; background-color: #000080; font-weight: bold\">[</span><span style=\"color: #c0c0c0; text-decoration-color: #c0c0c0; background-color: #000080\">TRIO-CRU</span><span style=\"color: #c0c0c0; text-decoration-color: #c0c0c0; background-color: #000080; font-weight: bold\">]</span><span style=\"color: #c0c0c0; text-decoration-color: #c0c0c0; background-color: #000080\">  Not Reported            NaN           </span><span style=\"color: #800080; text-decoration-color: #800080; background-color: #000080; font-style: italic\">None</span><span style=\"color: #c0c0c0; text-decoration-color: #c0c0c0; background-color: #000080\">  </span>\n",
       "\n",
       "<span style=\"color: #c0c0c0; text-decoration-color: #c0c0c0; background-color: #000080; font-weight: bold\">[</span><span style=\"color: #008080; text-decoration-color: #008080; background-color: #000080; font-weight: bold\">39864</span><span style=\"color: #c0c0c0; text-decoration-color: #c0c0c0; background-color: #000080\"> rows x </span><span style=\"color: #008080; text-decoration-color: #008080; background-color: #000080; font-weight: bold\">11</span><span style=\"color: #c0c0c0; text-decoration-color: #c0c0c0; background-color: #000080\"> columns</span><span style=\"color: #c0c0c0; text-decoration-color: #c0c0c0; background-color: #000080; font-weight: bold\">]</span>\n",
       "</pre>\n"
      ],
      "text/plain": [
       "\u001b[37;44m                            id  \\\u001b[0m\n",
       "\u001b[1;36;44m0\u001b[0m\u001b[37;44m                         \u001b[0m\u001b[1;36;44m2004\u001b[0m\u001b[37;44m   \u001b[0m\n",
       "\u001b[1;36;44m1\u001b[0m\u001b[37;44m                         \u001b[0m\u001b[1;36;44m2235\u001b[0m\u001b[37;44m   \u001b[0m\n",
       "\u001b[1;36;44m2\u001b[0m\u001b[37;44m                         \u001b[0m\u001b[1;36;44m2377\u001b[0m\u001b[37;44m   \u001b[0m\n",
       "\u001b[1;36;44m3\u001b[0m\u001b[37;44m                         \u001b[0m\u001b[1;36;44m2458\u001b[0m\u001b[37;44m   \u001b[0m\n",
       "\u001b[1;36;44m4\u001b[0m\u001b[37;44m                         \u001b[0m\u001b[1;36;44m3566\u001b[0m\u001b[37;44m   \u001b[0m\n",
       "\u001b[33;44m...\u001b[0m\u001b[37;44m                        \u001b[0m\u001b[33;44m...\u001b[0m\u001b[37;44m   \u001b[0m\n",
       "\u001b[1;36;44m39859\u001b[0m\u001b[37;44m             TCGA-XK-AAJU   \u001b[0m\n",
       "\u001b[1;36;44m39860\u001b[0m\u001b[37;44m             TCGA-XP-A8T6   \u001b[0m\n",
       "\u001b[1;36;44m39861\u001b[0m\u001b[37;44m             TCGA-ZF-A9R5   \u001b[0m\n",
       "\u001b[1;36;44m39862\u001b[0m\u001b[37;44m  UTRI_SUBJECT_001_000573   \u001b[0m\n",
       "\u001b[1;36;44m39863\u001b[0m\u001b[37;44m  UTRI_SUBJECT_001_000588   \u001b[0m\n",
       "\n",
       "\u001b[37;44m                                              identifier       species   sex  \\\u001b[0m\n",
       "\u001b[1;36;44m0\u001b[0m\u001b[37;44m                   \u001b[0m\u001b[1;37;44m[\u001b[0m\u001b[1;37;44m{\u001b[0m\u001b[32;44m'system'\u001b[0m\u001b[37;44m: \u001b[0m\u001b[32;44m'GDC'\u001b[0m\u001b[37;44m, \u001b[0m\u001b[32;44m'value'\u001b[0m\u001b[37;44m: \u001b[0m\u001b[32;44m'2004'\u001b[0m\u001b[1;37;44m}\u001b[0m\u001b[1;37;44m]\u001b[0m\u001b[37;44m  homo sapiens  male   \u001b[0m\n",
       "\u001b[1;36;44m1\u001b[0m\u001b[37;44m                   \u001b[0m\u001b[1;37;44m[\u001b[0m\u001b[1;37;44m{\u001b[0m\u001b[32;44m'system'\u001b[0m\u001b[37;44m: \u001b[0m\u001b[32;44m'GDC'\u001b[0m\u001b[37;44m, \u001b[0m\u001b[32;44m'value'\u001b[0m\u001b[37;44m: \u001b[0m\u001b[32;44m'2235'\u001b[0m\u001b[1;37;44m}\u001b[0m\u001b[1;37;44m]\u001b[0m\u001b[37;44m  homo sapiens  male   \u001b[0m\n",
       "\u001b[1;36;44m2\u001b[0m\u001b[37;44m                   \u001b[0m\u001b[1;37;44m[\u001b[0m\u001b[1;37;44m{\u001b[0m\u001b[32;44m'system'\u001b[0m\u001b[37;44m: \u001b[0m\u001b[32;44m'GDC'\u001b[0m\u001b[37;44m, \u001b[0m\u001b[32;44m'value'\u001b[0m\u001b[37;44m: \u001b[0m\u001b[32;44m'2377'\u001b[0m\u001b[1;37;44m}\u001b[0m\u001b[1;37;44m]\u001b[0m\u001b[37;44m  homo sapiens  male   \u001b[0m\n",
       "\u001b[1;36;44m3\u001b[0m\u001b[37;44m                   \u001b[0m\u001b[1;37;44m[\u001b[0m\u001b[1;37;44m{\u001b[0m\u001b[32;44m'system'\u001b[0m\u001b[37;44m: \u001b[0m\u001b[32;44m'GDC'\u001b[0m\u001b[37;44m, \u001b[0m\u001b[32;44m'value'\u001b[0m\u001b[37;44m: \u001b[0m\u001b[32;44m'2458'\u001b[0m\u001b[1;37;44m}\u001b[0m\u001b[1;37;44m]\u001b[0m\u001b[37;44m  homo sapiens  male   \u001b[0m\n",
       "\u001b[1;36;44m4\u001b[0m\u001b[37;44m                   \u001b[0m\u001b[1;37;44m[\u001b[0m\u001b[1;37;44m{\u001b[0m\u001b[32;44m'system'\u001b[0m\u001b[37;44m: \u001b[0m\u001b[32;44m'GDC'\u001b[0m\u001b[37;44m, \u001b[0m\u001b[32;44m'value'\u001b[0m\u001b[37;44m: \u001b[0m\u001b[32;44m'3566'\u001b[0m\u001b[1;37;44m}\u001b[0m\u001b[1;37;44m]\u001b[0m\u001b[37;44m  homo sapiens  male   \u001b[0m\n",
       "\u001b[33;44m...\u001b[0m\u001b[37;44m                                                  \u001b[0m\u001b[33;44m...\u001b[0m\u001b[37;44m           \u001b[0m\u001b[33;44m...\u001b[0m\u001b[37;44m   \u001b[0m\u001b[33;44m...\u001b[0m\u001b[37;44m   \u001b[0m\n",
       "\u001b[1;36;44m39859\u001b[0m\u001b[37;44m  \u001b[0m\u001b[1;37;44m[\u001b[0m\u001b[1;37;44m{\u001b[0m\u001b[32;44m'system'\u001b[0m\u001b[37;44m: \u001b[0m\u001b[32;44m'GDC'\u001b[0m\u001b[37;44m, \u001b[0m\u001b[32;44m'value'\u001b[0m\u001b[37;44m: \u001b[0m\u001b[32;44m'TCGA-XK-AAJU'\u001b[0m\u001b[1;37;44m}\u001b[0m\u001b[37;44m, \u001b[0m\u001b[1;37;44m{\u001b[0m\u001b[33;44m...\u001b[0m\u001b[37;44m  homo sapiens  male   \u001b[0m\n",
       "\u001b[1;36;44m39860\u001b[0m\u001b[37;44m  \u001b[0m\u001b[1;37;44m[\u001b[0m\u001b[1;37;44m{\u001b[0m\u001b[32;44m'system'\u001b[0m\u001b[37;44m: \u001b[0m\u001b[32;44m'GDC'\u001b[0m\u001b[37;44m, \u001b[0m\u001b[32;44m'value'\u001b[0m\u001b[37;44m: \u001b[0m\u001b[32;44m'TCGA-XP-A8T6'\u001b[0m\u001b[1;37;44m}\u001b[0m\u001b[37;44m, \u001b[0m\u001b[1;37;44m{\u001b[0m\u001b[33;44m...\u001b[0m\u001b[37;44m  homo sapiens  male   \u001b[0m\n",
       "\u001b[1;36;44m39861\u001b[0m\u001b[37;44m  \u001b[0m\u001b[1;37;44m[\u001b[0m\u001b[1;37;44m{\u001b[0m\u001b[32;44m'system'\u001b[0m\u001b[37;44m: \u001b[0m\u001b[32;44m'GDC'\u001b[0m\u001b[37;44m, \u001b[0m\u001b[32;44m'value'\u001b[0m\u001b[37;44m: \u001b[0m\u001b[32;44m'TCGA-ZF-A9R5'\u001b[0m\u001b[1;37;44m}\u001b[0m\u001b[37;44m, \u001b[0m\u001b[1;37;44m{\u001b[0m\u001b[33;44m...\u001b[0m\u001b[37;44m  homo sapiens  male   \u001b[0m\n",
       "\u001b[1;36;44m39862\u001b[0m\u001b[37;44m  \u001b[0m\u001b[1;37;44m[\u001b[0m\u001b[1;37;44m{\u001b[0m\u001b[32;44m'system'\u001b[0m\u001b[37;44m: \u001b[0m\u001b[32;44m'GDC'\u001b[0m\u001b[37;44m, \u001b[0m\u001b[32;44m'value'\u001b[0m\u001b[37;44m: 'UTRI_SUBJECT_001_\u001b[0m\u001b[33;44m...\u001b[0m\u001b[37;44m  homo sapiens  male   \u001b[0m\n",
       "\u001b[1;36;44m39863\u001b[0m\u001b[37;44m  \u001b[0m\u001b[1;37;44m[\u001b[0m\u001b[1;37;44m{\u001b[0m\u001b[32;44m'system'\u001b[0m\u001b[37;44m: \u001b[0m\u001b[32;44m'GDC'\u001b[0m\u001b[37;44m, \u001b[0m\u001b[32;44m'value'\u001b[0m\u001b[37;44m: 'UTRI_SUBJECT_001_\u001b[0m\u001b[33;44m...\u001b[0m\u001b[37;44m  homo sapiens  male   \u001b[0m\n",
       "\n",
       "\u001b[37;44m                            race               ethnicity  days_to_birth  \\\u001b[0m\n",
       "\u001b[1;36;44m0\u001b[0m\u001b[37;44m                          white  not hispanic or latino            NaN   \u001b[0m\n",
       "\u001b[1;36;44m1\u001b[0m\u001b[37;44m                        Unknown                 Unknown            NaN   \u001b[0m\n",
       "\u001b[1;36;44m2\u001b[0m\u001b[37;44m      black or african american                 Unknown            NaN   \u001b[0m\n",
       "\u001b[1;36;44m3\u001b[0m\u001b[37;44m                        Unknown                 Unknown            NaN   \u001b[0m\n",
       "\u001b[1;36;44m4\u001b[0m\u001b[37;44m                   not reported            not reported            NaN   \u001b[0m\n",
       "\u001b[33;44m...\u001b[0m\u001b[37;44m                          \u001b[0m\u001b[33;44m...\u001b[0m\u001b[37;44m                     \u001b[0m\u001b[33;44m...\u001b[0m\u001b[37;44m            \u001b[0m\u001b[33;44m...\u001b[0m\u001b[37;44m   \u001b[0m\n",
       "\u001b[1;36;44m39859\u001b[0m\u001b[37;44m                      white            not reported       \u001b[0m\u001b[1;36;44m-23958.0\u001b[0m\u001b[37;44m   \u001b[0m\n",
       "\u001b[1;36;44m39860\u001b[0m\u001b[37;44m  black or african american      hispanic or latino       \u001b[0m\u001b[1;36;44m-19886.0\u001b[0m\u001b[37;44m   \u001b[0m\n",
       "\u001b[1;36;44m39861\u001b[0m\u001b[37;44m                      white  not hispanic or latino       \u001b[0m\u001b[1;36;44m-21811.0\u001b[0m\u001b[37;44m   \u001b[0m\n",
       "\u001b[1;36;44m39862\u001b[0m\u001b[37;44m               not reported            not reported            NaN   \u001b[0m\n",
       "\u001b[1;36;44m39863\u001b[0m\u001b[37;44m               not reported            not reported            NaN   \u001b[0m\n",
       "\n",
       "\u001b[37;44m      subject_associated_project  vital_status  days_to_death cause_of_death  \u001b[0m\n",
       "\u001b[1;36;44m0\u001b[0m\u001b[37;44m            \u001b[0m\u001b[1;37;44m[\u001b[0m\u001b[37;44mBEATAML1.\u001b[0m\u001b[1;36;44m0\u001b[0m\u001b[37;44m-COHORT\u001b[0m\u001b[1;37;44m]\u001b[0m\u001b[37;44m          Dead            NaN           \u001b[0m\u001b[3;35;44mNone\u001b[0m\u001b[37;44m  \u001b[0m\n",
       "\u001b[1;36;44m1\u001b[0m\u001b[37;44m            \u001b[0m\u001b[1;37;44m[\u001b[0m\u001b[37;44mBEATAML1.\u001b[0m\u001b[1;36;44m0\u001b[0m\u001b[37;44m-COHORT\u001b[0m\u001b[1;37;44m]\u001b[0m\u001b[37;44m          Dead            NaN           \u001b[0m\u001b[3;35;44mNone\u001b[0m\u001b[37;44m  \u001b[0m\n",
       "\u001b[1;36;44m2\u001b[0m\u001b[37;44m            \u001b[0m\u001b[1;37;44m[\u001b[0m\u001b[37;44mBEATAML1.\u001b[0m\u001b[1;36;44m0\u001b[0m\u001b[37;44m-COHORT\u001b[0m\u001b[1;37;44m]\u001b[0m\u001b[37;44m         Alive            NaN           \u001b[0m\u001b[3;35;44mNone\u001b[0m\u001b[37;44m  \u001b[0m\n",
       "\u001b[1;36;44m3\u001b[0m\u001b[37;44m            \u001b[0m\u001b[1;37;44m[\u001b[0m\u001b[37;44mBEATAML1.\u001b[0m\u001b[1;36;44m0\u001b[0m\u001b[37;44m-COHORT\u001b[0m\u001b[1;37;44m]\u001b[0m\u001b[37;44m          Dead            NaN           \u001b[0m\u001b[3;35;44mNone\u001b[0m\u001b[37;44m  \u001b[0m\n",
       "\u001b[1;36;44m4\u001b[0m\u001b[37;44m                     \u001b[0m\u001b[1;37;44m[\u001b[0m\u001b[37;44mOHSU-CNL\u001b[0m\u001b[1;37;44m]\u001b[0m\u001b[37;44m          Dead            NaN           \u001b[0m\u001b[3;35;44mNone\u001b[0m\u001b[37;44m  \u001b[0m\n",
       "\u001b[33;44m...\u001b[0m\u001b[37;44m                          \u001b[0m\u001b[33;44m...\u001b[0m\u001b[37;44m           \u001b[0m\u001b[33;44m...\u001b[0m\u001b[37;44m            \u001b[0m\u001b[33;44m...\u001b[0m\u001b[37;44m            \u001b[0m\u001b[33;44m...\u001b[0m\u001b[37;44m  \u001b[0m\n",
       "\u001b[1;36;44m39859\u001b[0m\u001b[37;44m     \u001b[0m\u001b[1;37;44m[\u001b[0m\u001b[37;44mTCGA-PRAD, tcga_prad\u001b[0m\u001b[1;37;44m]\u001b[0m\u001b[37;44m         Alive            NaN           \u001b[0m\u001b[3;35;44mNone\u001b[0m\u001b[37;44m  \u001b[0m\n",
       "\u001b[1;36;44m39860\u001b[0m\u001b[37;44m     \u001b[0m\u001b[1;37;44m[\u001b[0m\u001b[37;44mtcga_esca, TCGA-ESCA\u001b[0m\u001b[1;37;44m]\u001b[0m\u001b[37;44m          Dead          \u001b[0m\u001b[1;36;44m763.0\u001b[0m\u001b[37;44m           \u001b[0m\u001b[3;35;44mNone\u001b[0m\u001b[37;44m  \u001b[0m\n",
       "\u001b[1;36;44m39861\u001b[0m\u001b[37;44m     \u001b[0m\u001b[1;37;44m[\u001b[0m\u001b[37;44mTCGA-BLCA, tcga_blca\u001b[0m\u001b[1;37;44m]\u001b[0m\u001b[37;44m         Alive            NaN           \u001b[0m\u001b[3;35;44mNone\u001b[0m\u001b[37;44m  \u001b[0m\n",
       "\u001b[1;36;44m39862\u001b[0m\u001b[37;44m                 \u001b[0m\u001b[1;37;44m[\u001b[0m\u001b[37;44mTRIO-CRU\u001b[0m\u001b[1;37;44m]\u001b[0m\u001b[37;44m  Not Reported            NaN           \u001b[0m\u001b[3;35;44mNone\u001b[0m\u001b[37;44m  \u001b[0m\n",
       "\u001b[1;36;44m39863\u001b[0m\u001b[37;44m                 \u001b[0m\u001b[1;37;44m[\u001b[0m\u001b[37;44mTRIO-CRU\u001b[0m\u001b[1;37;44m]\u001b[0m\u001b[37;44m  Not Reported            NaN           \u001b[0m\u001b[3;35;44mNone\u001b[0m\u001b[37;44m  \u001b[0m\n",
       "\n",
       "\u001b[1;37;44m[\u001b[0m\u001b[1;36;44m39864\u001b[0m\u001b[37;44m rows x \u001b[0m\u001b[1;36;44m11\u001b[0m\u001b[37;44m columns\u001b[0m\u001b[1;37;44m]\u001b[0m\n"
      ]
     },
     "metadata": {},
     "output_type": "display_data"
    }
   ],
   "source": [
    "import pandas as pd\n",
    "df = pd.DataFrame(box)\n",
    "print(df, style=\"white on blue\")"
   ]
  },
  {
   "cell_type": "code",
   "execution_count": null,
   "id": "284ab4e3-8c39-452c-bcae-2a6d08b9b29e",
   "metadata": {},
   "outputs": [],
   "source": []
  }
 ],
 "metadata": {
  "kernelspec": {
   "display_name": "Python 3 (ipykernel)",
   "language": "python",
   "name": "python3"
  },
  "language_info": {
   "codemirror_mode": {
    "name": "ipython",
    "version": 3
   },
   "file_extension": ".py",
   "mimetype": "text/x-python",
   "name": "python",
   "nbconvert_exporter": "python",
   "pygments_lexer": "ipython3",
   "version": "3.7.15"
  },
  "vscode": {
   "interpreter": {
    "hash": "4578c8680ee810f847df558484335f5ffb0f004d38a87276387030f59580c508"
   }
  }
 },
 "nbformat": 4,
 "nbformat_minor": 5
}
