{
 "cells": [
  {
   "cell_type": "code",
   "execution_count": 6,
   "metadata": {},
   "outputs": [],
   "source": [
    "from cdapython import Q,unique_terms\n"
   ]
  },
  {
   "cell_type": "code",
   "execution_count": 7,
   "metadata": {},
   "outputs": [
    {
     "data": {
      "text/html": [
       "<pre style=\"white-space:pre;overflow-x:auto;line-height:normal;font-family:Menlo,'DejaVu Sans Mono',consolas,'Courier New',monospace\">Getting <span style=\"color: #008080; text-decoration-color: #008080; font-weight: bold\">100</span> results from database \n",
       "\n",
       "</pre>\n"
      ],
      "text/plain": [
       "Getting \u001b[1;36m100\u001b[0m results from database \n",
       "\n"
      ]
     },
     "metadata": {},
     "output_type": "display_data"
    },
    {
     "data": {
      "text/html": [
       "<pre style=\"white-space:pre;overflow-x:auto;line-height:normal;font-family:Menlo,'DejaVu Sans Mono',consolas,'Courier New',monospace\">\n",
       "                            Total execution time: <span style=\"color: #008080; text-decoration-color: #008080; font-weight: bold\">0</span>\n",
       "                            min <span style=\"color: #008080; text-decoration-color: #008080; font-weight: bold\">3.802</span> sec <span style=\"color: #008080; text-decoration-color: #008080; font-weight: bold\">3802</span> ms\n",
       "                            \n",
       "</pre>\n"
      ],
      "text/plain": [
       "\n",
       "                            Total execution time: \u001b[1;36m0\u001b[0m\n",
       "                            min \u001b[1;36m3.802\u001b[0m sec \u001b[1;36m3802\u001b[0m ms\n",
       "                            \n"
      ]
     },
     "metadata": {},
     "output_type": "display_data"
    },
    {
     "data": {
      "text/html": [
       "<pre style=\"white-space:pre;overflow-x:auto;line-height:normal;font-family:Menlo,'DejaVu Sans Mono',consolas,'Courier New',monospace\">  files : <span style=\"color: #008080; text-decoration-color: #008080; font-weight: bold\">2977624</span>   \n",
       "</pre>\n"
      ],
      "text/plain": [
       "  files : \u001b[1;36m2977624\u001b[0m   \n"
      ]
     },
     "metadata": {},
     "output_type": "display_data"
    },
    {
     "data": {
      "text/html": [
       "<pre style=\"white-space:pre;overflow-x:auto;line-height:normal;font-family:Menlo,'DejaVu Sans Mono',consolas,'Courier New',monospace\">   total : <span style=\"color: #008080; text-decoration-color: #008080; font-weight: bold\">88934</span>    \n",
       "</pre>\n"
      ],
      "text/plain": [
       "   total : \u001b[1;36m88934\u001b[0m    \n"
      ]
     },
     "metadata": {},
     "output_type": "display_data"
    },
    {
     "data": {
      "text/html": [
       "<style type=\"text/css\">\n",
       "#T_bcb0c th {\n",
       "  background-color: #000066;\n",
       "  color: white;\n",
       "  text-align: left;\n",
       "}\n",
       "#T_bcb0c td {\n",
       "  text-align: left;\n",
       "  border-bottom: 1px solid black;\n",
       "}\n",
       "</style>\n",
       "<table id=\"T_bcb0c\" style='display:inline'>\n",
       "  <thead>\n",
       "    <tr>\n",
       "      <th id=\"T_bcb0c_level0_col0\" class=\"col_heading level0 col0\" >sex</th>\n",
       "      <th id=\"T_bcb0c_level0_col1\" class=\"col_heading level0 col1\" >count</th>\n",
       "    </tr>\n",
       "  </thead>\n",
       "  <tbody>\n",
       "    <tr>\n",
       "      <td id=\"T_bcb0c_row0_col0\" class=\"data row0 col0\" >female</td>\n",
       "      <td id=\"T_bcb0c_row0_col1\" class=\"data row0 col1\" >46733</td>\n",
       "    </tr>\n",
       "    <tr>\n",
       "      <td id=\"T_bcb0c_row1_col0\" class=\"data row1 col0\" >male</td>\n",
       "      <td id=\"T_bcb0c_row1_col1\" class=\"data row1 col1\" >41384</td>\n",
       "    </tr>\n",
       "    <tr>\n",
       "      <td id=\"T_bcb0c_row2_col0\" class=\"data row2 col0\" >unknown</td>\n",
       "      <td id=\"T_bcb0c_row2_col1\" class=\"data row2 col1\" >63</td>\n",
       "    </tr>\n",
       "    <tr>\n",
       "      <td id=\"T_bcb0c_row3_col0\" class=\"data row3 col0\" >not reported</td>\n",
       "      <td id=\"T_bcb0c_row3_col1\" class=\"data row3 col1\" >106</td>\n",
       "    </tr>\n",
       "    <tr>\n",
       "      <td id=\"T_bcb0c_row4_col0\" class=\"data row4 col0\" >None</td>\n",
       "      <td id=\"T_bcb0c_row4_col1\" class=\"data row4 col1\" >609</td>\n",
       "    </tr>\n",
       "    <tr>\n",
       "      <td id=\"T_bcb0c_row5_col0\" class=\"data row5 col0\" >F</td>\n",
       "      <td id=\"T_bcb0c_row5_col1\" class=\"data row5 col1\" >19</td>\n",
       "    </tr>\n",
       "    <tr>\n",
       "      <td id=\"T_bcb0c_row6_col0\" class=\"data row6 col0\" >M</td>\n",
       "      <td id=\"T_bcb0c_row6_col1\" class=\"data row6 col1\" >19</td>\n",
       "    </tr>\n",
       "    <tr>\n",
       "      <td id=\"T_bcb0c_row7_col0\" class=\"data row7 col0\" >unspecified</td>\n",
       "      <td id=\"T_bcb0c_row7_col1\" class=\"data row7 col1\" >1</td>\n",
       "    </tr>\n",
       "  </tbody>\n",
       "</table>\n",
       "<style type=\"text/css\">\n",
       "#T_ab035 th {\n",
       "  background-color: #000066;\n",
       "  color: white;\n",
       "  text-align: left;\n",
       "}\n",
       "#T_ab035 td {\n",
       "  text-align: left;\n",
       "  border-bottom: 1px solid black;\n",
       "}\n",
       "</style>\n",
       "<table id=\"T_ab035\" style='display:inline'>\n",
       "  <thead>\n",
       "    <tr>\n",
       "      <th id=\"T_ab035_level0_col0\" class=\"col_heading level0 col0\" >race</th>\n",
       "      <th id=\"T_ab035_level0_col1\" class=\"col_heading level0 col1\" >count</th>\n",
       "    </tr>\n",
       "  </thead>\n",
       "  <tbody>\n",
       "    <tr>\n",
       "      <td id=\"T_ab035_row0_col0\" class=\"data row0 col0\" >white</td>\n",
       "      <td id=\"T_ab035_row0_col1\" class=\"data row0 col1\" >51355</td>\n",
       "    </tr>\n",
       "    <tr>\n",
       "      <td id=\"T_ab035_row1_col0\" class=\"data row1 col0\" >Unknown</td>\n",
       "      <td id=\"T_ab035_row1_col1\" class=\"data row1 col1\" >4129</td>\n",
       "    </tr>\n",
       "    <tr>\n",
       "      <td id=\"T_ab035_row2_col0\" class=\"data row2 col0\" >american indian or alaska native</td>\n",
       "      <td id=\"T_ab035_row2_col1\" class=\"data row2 col1\" >123</td>\n",
       "    </tr>\n",
       "    <tr>\n",
       "      <td id=\"T_ab035_row3_col0\" class=\"data row3 col0\" >black or african american</td>\n",
       "      <td id=\"T_ab035_row3_col1\" class=\"data row3 col1\" >4773</td>\n",
       "    </tr>\n",
       "    <tr>\n",
       "      <td id=\"T_ab035_row4_col0\" class=\"data row4 col0\" >asian</td>\n",
       "      <td id=\"T_ab035_row4_col1\" class=\"data row4 col1\" >3232</td>\n",
       "    </tr>\n",
       "    <tr>\n",
       "      <td id=\"T_ab035_row5_col0\" class=\"data row5 col0\" >not reported</td>\n",
       "      <td id=\"T_ab035_row5_col1\" class=\"data row5 col1\" >21213</td>\n",
       "    </tr>\n",
       "    <tr>\n",
       "      <td id=\"T_ab035_row6_col0\" class=\"data row6 col0\" >other</td>\n",
       "      <td id=\"T_ab035_row6_col1\" class=\"data row6 col1\" >1155</td>\n",
       "    </tr>\n",
       "    <tr>\n",
       "      <td id=\"T_ab035_row7_col0\" class=\"data row7 col0\" >not allowed to collect</td>\n",
       "      <td id=\"T_ab035_row7_col1\" class=\"data row7 col1\" >2058</td>\n",
       "    </tr>\n",
       "    <tr>\n",
       "      <td id=\"T_ab035_row8_col0\" class=\"data row8 col0\" >unknown</td>\n",
       "      <td id=\"T_ab035_row8_col1\" class=\"data row8 col1\" >193</td>\n",
       "    </tr>\n",
       "    <tr>\n",
       "      <td id=\"T_ab035_row9_col0\" class=\"data row9 col0\" >None</td>\n",
       "      <td id=\"T_ab035_row9_col1\" class=\"data row9 col1\" >647</td>\n",
       "    </tr>\n",
       "    <tr>\n",
       "      <td id=\"T_ab035_row10_col0\" class=\"data row10 col0\" >native hawaiian or other pacific islander</td>\n",
       "      <td id=\"T_ab035_row10_col1\" class=\"data row10 col1\" >56</td>\n",
       "    </tr>\n",
       "  </tbody>\n",
       "</table>\n",
       "<style type=\"text/css\">\n",
       "#T_30045 th {\n",
       "  background-color: #000066;\n",
       "  color: white;\n",
       "  text-align: left;\n",
       "}\n",
       "#T_30045 td {\n",
       "  text-align: left;\n",
       "  border-bottom: 1px solid black;\n",
       "}\n",
       "</style>\n",
       "<table id=\"T_30045\" style='display:inline'>\n",
       "  <thead>\n",
       "    <tr>\n",
       "      <th id=\"T_30045_level0_col0\" class=\"col_heading level0 col0\" >ethnicity</th>\n",
       "      <th id=\"T_30045_level0_col1\" class=\"col_heading level0 col1\" >count</th>\n",
       "    </tr>\n",
       "  </thead>\n",
       "  <tbody>\n",
       "    <tr>\n",
       "      <td id=\"T_30045_row0_col0\" class=\"data row0 col0\" >Unknown</td>\n",
       "      <td id=\"T_30045_row0_col1\" class=\"data row0 col1\" >4550</td>\n",
       "    </tr>\n",
       "    <tr>\n",
       "      <td id=\"T_30045_row1_col0\" class=\"data row1 col0\" >not hispanic or latino</td>\n",
       "      <td id=\"T_30045_row1_col1\" class=\"data row1 col1\" >50108</td>\n",
       "    </tr>\n",
       "    <tr>\n",
       "      <td id=\"T_30045_row2_col0\" class=\"data row2 col0\" >not reported</td>\n",
       "      <td id=\"T_30045_row2_col1\" class=\"data row2 col1\" >26359</td>\n",
       "    </tr>\n",
       "    <tr>\n",
       "      <td id=\"T_30045_row3_col0\" class=\"data row3 col0\" >hispanic or latino</td>\n",
       "      <td id=\"T_30045_row3_col1\" class=\"data row3 col1\" >3567</td>\n",
       "    </tr>\n",
       "    <tr>\n",
       "      <td id=\"T_30045_row4_col0\" class=\"data row4 col0\" >not allowed to collect</td>\n",
       "      <td id=\"T_30045_row4_col1\" class=\"data row4 col1\" >3652</td>\n",
       "    </tr>\n",
       "    <tr>\n",
       "      <td id=\"T_30045_row5_col0\" class=\"data row5 col0\" >unknown</td>\n",
       "      <td id=\"T_30045_row5_col1\" class=\"data row5 col1\" >51</td>\n",
       "    </tr>\n",
       "    <tr>\n",
       "      <td id=\"T_30045_row6_col0\" class=\"data row6 col0\" >None</td>\n",
       "      <td id=\"T_30045_row6_col1\" class=\"data row6 col1\" >647</td>\n",
       "    </tr>\n",
       "  </tbody>\n",
       "</table>\n",
       "<style type=\"text/css\">\n",
       "#T_e3a5b th {\n",
       "  background-color: #000066;\n",
       "  color: white;\n",
       "  text-align: left;\n",
       "}\n",
       "#T_e3a5b td {\n",
       "  text-align: left;\n",
       "  border-bottom: 1px solid black;\n",
       "}\n",
       "</style>\n",
       "<table id=\"T_e3a5b\" style='display:inline'>\n",
       "  <thead>\n",
       "    <tr>\n",
       "      <th id=\"T_e3a5b_level0_col0\" class=\"col_heading level0 col0\" >cause_of_death</th>\n",
       "      <th id=\"T_e3a5b_level0_col1\" class=\"col_heading level0 col1\" >count</th>\n",
       "    </tr>\n",
       "  </thead>\n",
       "  <tbody>\n",
       "    <tr>\n",
       "      <td id=\"T_e3a5b_row0_col0\" class=\"data row0 col0\" >None</td>\n",
       "      <td id=\"T_e3a5b_row0_col1\" class=\"data row0 col1\" >87664</td>\n",
       "    </tr>\n",
       "    <tr>\n",
       "      <td id=\"T_e3a5b_row1_col0\" class=\"data row1 col0\" >Cancer Related</td>\n",
       "      <td id=\"T_e3a5b_row1_col1\" class=\"data row1 col1\" >632</td>\n",
       "    </tr>\n",
       "    <tr>\n",
       "      <td id=\"T_e3a5b_row2_col0\" class=\"data row2 col0\" >Not Reported</td>\n",
       "      <td id=\"T_e3a5b_row2_col1\" class=\"data row2 col1\" >289</td>\n",
       "    </tr>\n",
       "    <tr>\n",
       "      <td id=\"T_e3a5b_row3_col0\" class=\"data row3 col0\" >Unknown</td>\n",
       "      <td id=\"T_e3a5b_row3_col1\" class=\"data row3 col1\" >197</td>\n",
       "    </tr>\n",
       "    <tr>\n",
       "      <td id=\"T_e3a5b_row4_col0\" class=\"data row4 col0\" >Infection</td>\n",
       "      <td id=\"T_e3a5b_row4_col1\" class=\"data row4 col1\" >18</td>\n",
       "    </tr>\n",
       "    <tr>\n",
       "      <td id=\"T_e3a5b_row5_col0\" class=\"data row5 col0\" >Surgical Complications</td>\n",
       "      <td id=\"T_e3a5b_row5_col1\" class=\"data row5 col1\" >8</td>\n",
       "    </tr>\n",
       "    <tr>\n",
       "      <td id=\"T_e3a5b_row6_col0\" class=\"data row6 col0\" >Not Cancer Related</td>\n",
       "      <td id=\"T_e3a5b_row6_col1\" class=\"data row6 col1\" >113</td>\n",
       "    </tr>\n",
       "    <tr>\n",
       "      <td id=\"T_e3a5b_row7_col0\" class=\"data row7 col0\" >Cardiovascular Disorder, NOS</td>\n",
       "      <td id=\"T_e3a5b_row7_col1\" class=\"data row7 col1\" >6</td>\n",
       "    </tr>\n",
       "    <tr>\n",
       "      <td id=\"T_e3a5b_row8_col0\" class=\"data row8 col0\" >Toxicity</td>\n",
       "      <td id=\"T_e3a5b_row8_col1\" class=\"data row8 col1\" >7</td>\n",
       "    </tr>\n",
       "  </tbody>\n",
       "</table>\n",
       "<style type=\"text/css\">\n",
       "#T_23c58 th {\n",
       "  background-color: #000066;\n",
       "  color: white;\n",
       "  text-align: left;\n",
       "}\n",
       "#T_23c58 td {\n",
       "  text-align: left;\n",
       "  border-bottom: 1px solid black;\n",
       "}\n",
       "</style>\n",
       "<table id=\"T_23c58\" style='display:inline'>\n",
       "  <thead>\n",
       "    <tr>\n",
       "      <th id=\"T_23c58_level0_col0\" class=\"col_heading level0 col0\" >subject_identifier_system</th>\n",
       "      <th id=\"T_23c58_level0_col1\" class=\"col_heading level0 col1\" >count</th>\n",
       "    </tr>\n",
       "  </thead>\n",
       "  <tbody>\n",
       "    <tr>\n",
       "      <td id=\"T_23c58_row0_col0\" class=\"data row0 col0\" >PDC</td>\n",
       "      <td id=\"T_23c58_row0_col1\" class=\"data row0 col1\" >1826</td>\n",
       "    </tr>\n",
       "    <tr>\n",
       "      <td id=\"T_23c58_row1_col0\" class=\"data row1 col0\" >GDC</td>\n",
       "      <td id=\"T_23c58_row1_col1\" class=\"data row1 col1\" >88934</td>\n",
       "    </tr>\n",
       "    <tr>\n",
       "      <td id=\"T_23c58_row2_col0\" class=\"data row2 col0\" >IDC</td>\n",
       "      <td id=\"T_23c58_row2_col1\" class=\"data row2 col1\" >12495</td>\n",
       "    </tr>\n",
       "  </tbody>\n",
       "</table>\n"
      ]
     },
     "metadata": {},
     "output_type": "display_data"
    },
    {
     "data": {
      "text/plain": []
     },
     "execution_count": 7,
     "metadata": {},
     "output_type": "execute_result"
    }
   ],
   "source": [
    "Q('researchsubject_identifier_system IN (\"GDC\")').subject.count.run()"
   ]
  },
  {
   "cell_type": "code",
   "execution_count": 8,
   "metadata": {},
   "outputs": [
    {
     "data": {
      "text/html": [
       "<pre style=\"white-space:pre;overflow-x:auto;line-height:normal;font-family:Menlo,'DejaVu Sans Mono',consolas,'Courier New',monospace\"></pre>\n"
      ],
      "text/plain": [
       "\u001b[?1049h\u001b[H"
      ]
     },
     "metadata": {},
     "output_type": "display_data"
    },
    {
     "data": {
      "text/html": [
       "<pre style=\"white-space:pre;overflow-x:auto;line-height:normal;font-family:Menlo,'DejaVu Sans Mono',consolas,'Courier New',monospace\"></pre>\n"
      ],
      "text/plain": [
       "\u001b[?25l"
      ]
     },
     "metadata": {},
     "output_type": "display_data"
    },
    {
     "data": {
      "application/vnd.jupyter.widget-view+json": {
       "model_id": "baf848e8c25144d09015b2d40342ceb1",
       "version_major": 2,
       "version_minor": 0
      },
      "text/plain": [
       "Output()"
      ]
     },
     "metadata": {},
     "output_type": "display_data"
    },
    {
     "data": {
      "text/html": [
       "<pre style=\"white-space:pre;overflow-x:auto;line-height:normal;font-family:Menlo,'DejaVu Sans Mono',consolas,'Courier New',monospace\"></pre>\n"
      ],
      "text/plain": [
       "\u001b[?25h\u001b[?1049l"
      ]
     },
     "metadata": {},
     "output_type": "display_data"
    },
    {
     "data": {
      "text/html": [
       "<pre style=\"white-space:pre;overflow-x:auto;line-height:normal;font-family:Menlo,'DejaVu Sans Mono',consolas,'Courier New',monospace\">                   id\n",
       "<span style=\"color: #008080; text-decoration-color: #008080; font-weight: bold\">0</span>      APOLLO.AP-27JZ\n",
       "<span style=\"color: #008080; text-decoration-color: #008080; font-weight: bold\">1</span>      APOLLO.AP-2E8Q\n",
       "<span style=\"color: #008080; text-decoration-color: #008080; font-weight: bold\">2</span>      APOLLO.AP-2XNK\n",
       "<span style=\"color: #008080; text-decoration-color: #008080; font-weight: bold\">3</span>      APOLLO.AP-<span style=\"color: #008080; text-decoration-color: #008080; font-weight: bold\">3336</span>\n",
       "<span style=\"color: #008080; text-decoration-color: #008080; font-weight: bold\">4</span>      APOLLO.AP-352Q\n",
       "<span style=\"color: #808000; text-decoration-color: #808000\">...</span>               <span style=\"color: #808000; text-decoration-color: #808000\">...</span>\n",
       "<span style=\"color: #008080; text-decoration-color: #008080; font-weight: bold\">88929</span>             NaN\n",
       "<span style=\"color: #008080; text-decoration-color: #008080; font-weight: bold\">88930</span>             NaN\n",
       "<span style=\"color: #008080; text-decoration-color: #008080; font-weight: bold\">88931</span>             NaN\n",
       "<span style=\"color: #008080; text-decoration-color: #008080; font-weight: bold\">88932</span>             NaN\n",
       "<span style=\"color: #008080; text-decoration-color: #008080; font-weight: bold\">88933</span>             NaN\n",
       "\n",
       "<span style=\"font-weight: bold\">[</span><span style=\"color: #008080; text-decoration-color: #008080; font-weight: bold\">88934</span> rows x <span style=\"color: #008080; text-decoration-color: #008080; font-weight: bold\">1</span> columns<span style=\"font-weight: bold\">]</span>\n",
       "</pre>\n"
      ],
      "text/plain": [
       "                   id\n",
       "\u001b[1;36m0\u001b[0m      APOLLO.AP-27JZ\n",
       "\u001b[1;36m1\u001b[0m      APOLLO.AP-2E8Q\n",
       "\u001b[1;36m2\u001b[0m      APOLLO.AP-2XNK\n",
       "\u001b[1;36m3\u001b[0m      APOLLO.AP-\u001b[1;36m3336\u001b[0m\n",
       "\u001b[1;36m4\u001b[0m      APOLLO.AP-352Q\n",
       "\u001b[33m...\u001b[0m               \u001b[33m...\u001b[0m\n",
       "\u001b[1;36m88929\u001b[0m             NaN\n",
       "\u001b[1;36m88930\u001b[0m             NaN\n",
       "\u001b[1;36m88931\u001b[0m             NaN\n",
       "\u001b[1;36m88932\u001b[0m             NaN\n",
       "\u001b[1;36m88933\u001b[0m             NaN\n",
       "\n",
       "\u001b[1m[\u001b[0m\u001b[1;36m88934\u001b[0m rows x \u001b[1;36m1\u001b[0m columns\u001b[1m]\u001b[0m\n"
      ]
     },
     "metadata": {},
     "output_type": "display_data"
    }
   ],
   "source": [
    "df = unique_terms(\"subject_id\", system=\"GDC\", page_size=10000).get_all().to_dataframe()\n",
    "\n",
    "print(df)"
   ]
  },
  {
   "cell_type": "code",
   "execution_count": 10,
   "metadata": {},
   "outputs": [
    {
     "data": {
      "text/plain": [
       "nan"
      ]
     },
     "execution_count": 10,
     "metadata": {},
     "output_type": "execute_result"
    }
   ],
   "source": [
    "\n",
    "df[\"id\"][10000]\n"
   ]
  }
 ],
 "metadata": {
  "kernelspec": {
   "display_name": "ven3",
   "language": "python",
   "name": "python3"
  },
  "language_info": {
   "codemirror_mode": {
    "name": "ipython",
    "version": 3
   },
   "file_extension": ".py",
   "mimetype": "text/x-python",
   "name": "python",
   "nbconvert_exporter": "python",
   "pygments_lexer": "ipython3",
   "version": "3.8.16"
  },
  "orig_nbformat": 4
 },
 "nbformat": 4,
 "nbformat_minor": 2
}
